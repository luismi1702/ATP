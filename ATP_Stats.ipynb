{
 "cells":[
  {
   "cell_type":"markdown",
   "source":[
    "# Proyecto ATP-Analisis-Ranking\n",
    "## Descripción\n",
    "Este proyecto tiene como objetivo analizar diversas estadísticas de la base de datos de la ATP (Asociación de Tenistas Profesionales) y construir un modelo personalizado de\n",
    "ranking basado en el rendimiento de los jugadores. Posteriormente, compararemos nuestro ranking con el ranking actual de la ATP para determinar la efectividad de nuestro modelo."
   ],
   "attachments":{
    
   },
   "metadata":{
    "datalore":{
     "node_id":"9sxvFzjCr7xt56QOzBAQ8m",
     "type":"MD",
     "hide_input_from_viewers":false,
     "hide_output_from_viewers":false,
     "report_properties":{
      "rowId":"DFflCFQtXb7ay7TV179h8A"
     }
    }
   }
  },
  {
   "cell_type":"code",
   "source":[
    "# IMPORT LIBRARIES\n",
    "\n",
    "import pandas as pd\n",
    "import numpy as np\n",
    "import plotly.express as px\n",
    "import plotly.graph_objects as go\n",
    "from jupyter_dash import JupyterDash\n",
    "from dash import dcc, html\n",
    "import dash\n",
    "import os"
   ],
   "execution_count":1,
   "outputs":[
    
   ],
   "metadata":{
    "datalore":{
     "node_id":"g5ZQ1Tl4hk4zoMVyNxVNYk",
     "type":"CODE",
     "hide_input_from_viewers":false,
     "hide_output_from_viewers":false,
     "report_properties":{
      "rowId":"K4eRAYu7YYvO860BS0soXJ"
     }
    }
   }
  },
  {
   "cell_type":"markdown",
   "source":[
    "## Read Data"
   ],
   "attachments":{
    
   },
   "metadata":{
    "datalore":{
     "node_id":"kts0hG8PZGjNU8RXfBKHVj",
     "type":"MD",
     "hide_input_from_viewers":false,
     "hide_output_from_viewers":false,
     "report_properties":{
      "rowId":"caYZDtezvz9OzzVoCAd1BK"
     }
    }
   }
  },
  {
   "cell_type":"code",
   "source":[
    "df_serve = pd.read_csv('Serve_ATP.csv')\n",
    "df_return = pd.read_csv('return_ATP.csv')\n",
    "df_underpressure = pd.read_csv('Underpressure_ATP.csv')\n",
    "df_win_loss = pd.read_csv('WinLoss_ATP.csv')\n",
    "df_ranking = pd.read_csv('ATP_Ranking.csv')"
   ],
   "execution_count":2,
   "outputs":[
    
   ],
   "metadata":{
    "datalore":{
     "node_id":"usldCWe9Y2idvvOiIoCIV6",
     "type":"CODE",
     "hide_input_from_viewers":false,
     "hide_output_from_viewers":false,
     "report_properties":{
      "rowId":"OyrWR8qznoxvNvKlIDoOLF"
     }
    }
   }
  },
  {
   "cell_type":"markdown",
   "source":[
    "## Data Preprocessing"
   ],
   "attachments":{
    
   },
   "metadata":{
    "datalore":{
     "node_id":"3Y2MogXR8C3mR4uRmdHXj0",
     "type":"MD",
     "hide_input_from_viewers":false,
     "hide_output_from_viewers":false,
     "report_properties":{
      "rowId":"D0T21rw2NHNa5c0pFrUuw4"
     }
    }
   }
  },
  {
   "cell_type":"code",
   "source":[
    "## DATA PREPROCESSING - df_serve\n",
    "\n",
    "### Nos quedamos solo con las columnas que nos interesan.\n",
    "\n",
    "df_serve = df_serve[[\"ServeRating©2\", \"_1stServe\", \"_1stServePointsWon\", \"_2ndServePointsWon\", \"_ServiceGamesWon\", \"Avg\\.Aces_Match\", \"Avg\\.DoubleFaults_Match\", \"Field\"]]\n",
    "df_serve.head()"
   ],
   "execution_count":3,
   "outputs":[
    {
     "data":{
      "text\/html":[
       "<div>\n",
       "<style scoped>\n",
       "    .dataframe tbody tr th:only-of-type {\n",
       "        vertical-align: middle;\n",
       "    }\n",
       "\n",
       "    .dataframe tbody tr th {\n",
       "        vertical-align: top;\n",
       "    }\n",
       "\n",
       "    .dataframe thead th {\n",
       "        text-align: right;\n",
       "    }\n",
       "<\/style>\n",
       "<table border=\"1\" class=\"dataframe\">\n",
       "  <thead>\n",
       "    <tr style=\"text-align: right;\">\n",
       "      <th><\/th>\n",
       "      <th>ServeRating©2<\/th>\n",
       "      <th>_1stServe<\/th>\n",
       "      <th>_1stServePointsWon<\/th>\n",
       "      <th>_2ndServePointsWon<\/th>\n",
       "      <th>_ServiceGamesWon<\/th>\n",
       "      <th>Avg\\.Aces_Match<\/th>\n",
       "      <th>Avg\\.DoubleFaults_Match<\/th>\n",
       "      <th>Field<\/th>\n",
       "    <\/tr>\n",
       "  <\/thead>\n",
       "  <tbody>\n",
       "    <tr>\n",
       "      <th>0<\/th>\n",
       "      <td>Nick Kyrgios<\/td>\n",
       "      <td>308.6<\/td>\n",
       "      <td>67.4%<\/td>\n",
       "      <td>79.4%<\/td>\n",
       "      <td>57.6%<\/td>\n",
       "      <td>92.9%<\/td>\n",
       "      <td>14.8<\/td>\n",
       "      <td>3.5<\/td>\n",
       "    <\/tr>\n",
       "    <tr>\n",
       "      <th>1<\/th>\n",
       "      <td>John Isner<\/td>\n",
       "      <td>308.5<\/td>\n",
       "      <td>67.7%<\/td>\n",
       "      <td>79.8%<\/td>\n",
       "      <td>52.7%<\/td>\n",
       "      <td>90.2%<\/td>\n",
       "      <td>21.1<\/td>\n",
       "      <td>3.0<\/td>\n",
       "    <\/tr>\n",
       "    <tr>\n",
       "      <th>2<\/th>\n",
       "      <td>Hubert Hurkacz<\/td>\n",
       "      <td>299.7<\/td>\n",
       "      <td>63.4%<\/td>\n",
       "      <td>79.2%<\/td>\n",
       "      <td>54.9%<\/td>\n",
       "      <td>89.9%<\/td>\n",
       "      <td>14.0<\/td>\n",
       "      <td>1.7<\/td>\n",
       "    <\/tr>\n",
       "    <tr>\n",
       "      <th>3<\/th>\n",
       "      <td>Matteo Berrettini<\/td>\n",
       "      <td>292.2<\/td>\n",
       "      <td>62.5%<\/td>\n",
       "      <td>79.6%<\/td>\n",
       "      <td>52.0%<\/td>\n",
       "      <td>88.5%<\/td>\n",
       "      <td>11.5<\/td>\n",
       "      <td>1.9<\/td>\n",
       "    <\/tr>\n",
       "    <tr>\n",
       "      <th>4<\/th>\n",
       "      <td>Novak Djokovic<\/td>\n",
       "      <td>292.1<\/td>\n",
       "      <td>65.3%<\/td>\n",
       "      <td>77.2%<\/td>\n",
       "      <td>57.0%<\/td>\n",
       "      <td>88.7%<\/td>\n",
       "      <td>6.0<\/td>\n",
       "      <td>2.1<\/td>\n",
       "    <\/tr>\n",
       "  <\/tbody>\n",
       "<\/table>\n",
       "<\/div>"
      ]
     },
     "metadata":{
      
     },
     "output_type":"display_data"
    }
   ],
   "metadata":{
    "datalore":{
     "node_id":"d1EW3RAdQHhuzuA1ZykYHM",
     "type":"CODE",
     "hide_input_from_viewers":false,
     "hide_output_from_viewers":false,
     "report_properties":{
      "rowId":"t3oNNTYo7byINUPi4ags1u"
     }
    }
   }
  },
  {
   "cell_type":"code",
   "source":[
    "### Hacemos un rename en el nombre de las columnas para que sean más intuitivas.\n",
    "\n",
    "df_serve.rename(columns={\"ServeRating©2\": \"Player\", \"_1stServe\": \"Serve Rating\", \"_1stServePointsWon\": \"%1stServe\", \"_2ndServePointsWon\": \"%1stServePointsWon\", \"_ServiceGamesWon\": \"%2ndServePointsWon\", \"Avg\\.Aces_Match\": \"%ServiceGamesWon\", \"Avg\\.DoubleFaults_Match\": \"AvgACESMatch\", \"Field\": \"AvgDoubleFaultsMatch\"}, inplace=True)\n",
    "df_serve.head()"
   ],
   "execution_count":4,
   "outputs":[
    {
     "data":{
      "text\/html":[
       "<div>\n",
       "<style scoped>\n",
       "    .dataframe tbody tr th:only-of-type {\n",
       "        vertical-align: middle;\n",
       "    }\n",
       "\n",
       "    .dataframe tbody tr th {\n",
       "        vertical-align: top;\n",
       "    }\n",
       "\n",
       "    .dataframe thead th {\n",
       "        text-align: right;\n",
       "    }\n",
       "<\/style>\n",
       "<table border=\"1\" class=\"dataframe\">\n",
       "  <thead>\n",
       "    <tr style=\"text-align: right;\">\n",
       "      <th><\/th>\n",
       "      <th>Player<\/th>\n",
       "      <th>Serve Rating<\/th>\n",
       "      <th>%1stServe<\/th>\n",
       "      <th>%1stServePointsWon<\/th>\n",
       "      <th>%2ndServePointsWon<\/th>\n",
       "      <th>%ServiceGamesWon<\/th>\n",
       "      <th>AvgACESMatch<\/th>\n",
       "      <th>AvgDoubleFaultsMatch<\/th>\n",
       "    <\/tr>\n",
       "  <\/thead>\n",
       "  <tbody>\n",
       "    <tr>\n",
       "      <th>0<\/th>\n",
       "      <td>Nick Kyrgios<\/td>\n",
       "      <td>308.6<\/td>\n",
       "      <td>67.4%<\/td>\n",
       "      <td>79.4%<\/td>\n",
       "      <td>57.6%<\/td>\n",
       "      <td>92.9%<\/td>\n",
       "      <td>14.8<\/td>\n",
       "      <td>3.5<\/td>\n",
       "    <\/tr>\n",
       "    <tr>\n",
       "      <th>1<\/th>\n",
       "      <td>John Isner<\/td>\n",
       "      <td>308.5<\/td>\n",
       "      <td>67.7%<\/td>\n",
       "      <td>79.8%<\/td>\n",
       "      <td>52.7%<\/td>\n",
       "      <td>90.2%<\/td>\n",
       "      <td>21.1<\/td>\n",
       "      <td>3.0<\/td>\n",
       "    <\/tr>\n",
       "    <tr>\n",
       "      <th>2<\/th>\n",
       "      <td>Hubert Hurkacz<\/td>\n",
       "      <td>299.7<\/td>\n",
       "      <td>63.4%<\/td>\n",
       "      <td>79.2%<\/td>\n",
       "      <td>54.9%<\/td>\n",
       "      <td>89.9%<\/td>\n",
       "      <td>14.0<\/td>\n",
       "      <td>1.7<\/td>\n",
       "    <\/tr>\n",
       "    <tr>\n",
       "      <th>3<\/th>\n",
       "      <td>Matteo Berrettini<\/td>\n",
       "      <td>292.2<\/td>\n",
       "      <td>62.5%<\/td>\n",
       "      <td>79.6%<\/td>\n",
       "      <td>52.0%<\/td>\n",
       "      <td>88.5%<\/td>\n",
       "      <td>11.5<\/td>\n",
       "      <td>1.9<\/td>\n",
       "    <\/tr>\n",
       "    <tr>\n",
       "      <th>4<\/th>\n",
       "      <td>Novak Djokovic<\/td>\n",
       "      <td>292.1<\/td>\n",
       "      <td>65.3%<\/td>\n",
       "      <td>77.2%<\/td>\n",
       "      <td>57.0%<\/td>\n",
       "      <td>88.7%<\/td>\n",
       "      <td>6.0<\/td>\n",
       "      <td>2.1<\/td>\n",
       "    <\/tr>\n",
       "  <\/tbody>\n",
       "<\/table>\n",
       "<\/div>"
      ]
     },
     "metadata":{
      
     },
     "output_type":"display_data"
    }
   ],
   "metadata":{
    "datalore":{
     "node_id":"CAJfafpk5bUdjLHilheTPb",
     "type":"CODE",
     "hide_input_from_viewers":false,
     "hide_output_from_viewers":false,
     "report_properties":{
      "rowId":"S6VpapV4dEIrT7tYkKHJut"
     }
    }
   }
  },
  {
   "cell_type":"code",
   "source":[
    "### Vamos a ver que tipo de datos tenemos en cada columna y si hay valores nulos.\n",
    "\n",
    "df_serve.info()"
   ],
   "execution_count":5,
   "outputs":[
    {
     "name":"stdout",
     "text":[
      "<class 'pandas.core.frame.DataFrame'>\n",
      "RangeIndex: 77 entries, 0 to 76\n",
      "Data columns (total 8 columns):\n",
      " #   Column                Non-Null Count  Dtype  \n",
      "---  ------                --------------  -----  \n",
      " 0   Player                77 non-null     object \n",
      " 1   Serve Rating          77 non-null     float64\n",
      " 2   %1stServe             77 non-null     object \n",
      " 3   %1stServePointsWon    77 non-null     object \n",
      " 4   %2ndServePointsWon    77 non-null     object \n",
      " 5   %ServiceGamesWon      77 non-null     object \n",
      " 6   AvgACESMatch          77 non-null     float64\n",
      " 7   AvgDoubleFaultsMatch  77 non-null     float64\n",
      "dtypes: float64(3), object(5)\n",
      "memory usage: 4.9+ KB\n"
     ],
     "output_type":"stream"
    }
   ],
   "metadata":{
    "datalore":{
     "node_id":"7Q3EmWNPQ4GxQsDNE1MHm2",
     "type":"CODE",
     "hide_input_from_viewers":false,
     "hide_output_from_viewers":false,
     "report_properties":{
      "rowId":"L2qtSERZOGODqvpOhA5ndy"
     }
    }
   }
  },
  {
   "cell_type":"markdown",
   "source":[
    "Como podemos ver, tenemos 5 columnas con datos object y 3 columnas con datos Float64. Además, no tenemos valores nulos en ninguna columna.\n",
    "Lo que vamos a hacer es cambiar todas las columnas con datos object a tipo float, excepto la primera columna que contiene el nombre del jugador."
   ],
   "attachments":{
    
   },
   "metadata":{
    "datalore":{
     "node_id":"D4TlFsqxgjgNAf9lMgvGl3",
     "type":"MD",
     "hide_input_from_viewers":false,
     "hide_output_from_viewers":false,
     "report_properties":{
      "rowId":"n5hkjzslL9l1gaSG17syZP"
     }
    }
   }
  },
  {
   "cell_type":"code",
   "source":[
    "# Creamos una funcion que nos sirva para todos los dataframes.\n",
    "\n",
    "def convert_to_float(df):\n",
    "    \"\"\"\n",
    "    Esta función elimina el símbolo de porcentaje y convierte todos los valores en un DataFrame a tipo 'float',\n",
    "    dividiendo por 100, excepto la primera columna.\n",
    "\n",
    "    :param df: DataFrame de entrada\n",
    "    :return: DataFrame con los valores modificados\n",
    "    \"\"\"\n",
    "    for column in df.columns[1:]:\n",
    "        df[column] = df[column].apply(lambda x: str(x).replace(\"%\", \"\") if isinstance(x, str) else x)\n",
    "        df[column] = pd.to_numeric(df[column], errors='coerce', downcast='float')\n",
    "\n",
    "    return df\n"
   ],
   "execution_count":6,
   "outputs":[
    
   ],
   "metadata":{
    "datalore":{
     "node_id":"0BEPJ7oZn3BfK43xoPk5lW",
     "type":"CODE",
     "hide_input_from_viewers":false,
     "hide_output_from_viewers":false,
     "report_properties":{
      "rowId":"GHVW55oaKux9gL3c7aN3AY"
     }
    }
   }
  },
  {
   "cell_type":"code",
   "source":[
    "# convertimos todas las columnas a float\n",
    "\n",
    "df_serve = convert_to_float(df_serve)\n",
    "df_serve.head()"
   ],
   "execution_count":7,
   "outputs":[
    {
     "data":{
      "text\/html":[
       "<div>\n",
       "<style scoped>\n",
       "    .dataframe tbody tr th:only-of-type {\n",
       "        vertical-align: middle;\n",
       "    }\n",
       "\n",
       "    .dataframe tbody tr th {\n",
       "        vertical-align: top;\n",
       "    }\n",
       "\n",
       "    .dataframe thead th {\n",
       "        text-align: right;\n",
       "    }\n",
       "<\/style>\n",
       "<table border=\"1\" class=\"dataframe\">\n",
       "  <thead>\n",
       "    <tr style=\"text-align: right;\">\n",
       "      <th><\/th>\n",
       "      <th>Player<\/th>\n",
       "      <th>Serve Rating<\/th>\n",
       "      <th>%1stServe<\/th>\n",
       "      <th>%1stServePointsWon<\/th>\n",
       "      <th>%2ndServePointsWon<\/th>\n",
       "      <th>%ServiceGamesWon<\/th>\n",
       "      <th>AvgACESMatch<\/th>\n",
       "      <th>AvgDoubleFaultsMatch<\/th>\n",
       "    <\/tr>\n",
       "  <\/thead>\n",
       "  <tbody>\n",
       "    <tr>\n",
       "      <th>0<\/th>\n",
       "      <td>Nick Kyrgios<\/td>\n",
       "      <td>308.600006<\/td>\n",
       "      <td>67.400002<\/td>\n",
       "      <td>79.400002<\/td>\n",
       "      <td>57.599998<\/td>\n",
       "      <td>92.900002<\/td>\n",
       "      <td>14.8<\/td>\n",
       "      <td>3.5<\/td>\n",
       "    <\/tr>\n",
       "    <tr>\n",
       "      <th>1<\/th>\n",
       "      <td>John Isner<\/td>\n",
       "      <td>308.500000<\/td>\n",
       "      <td>67.699997<\/td>\n",
       "      <td>79.800003<\/td>\n",
       "      <td>52.700001<\/td>\n",
       "      <td>90.199997<\/td>\n",
       "      <td>21.1<\/td>\n",
       "      <td>3.0<\/td>\n",
       "    <\/tr>\n",
       "    <tr>\n",
       "      <th>2<\/th>\n",
       "      <td>Hubert Hurkacz<\/td>\n",
       "      <td>299.700012<\/td>\n",
       "      <td>63.400002<\/td>\n",
       "      <td>79.199997<\/td>\n",
       "      <td>54.900002<\/td>\n",
       "      <td>89.900002<\/td>\n",
       "      <td>14.0<\/td>\n",
       "      <td>1.7<\/td>\n",
       "    <\/tr>\n",
       "    <tr>\n",
       "      <th>3<\/th>\n",
       "      <td>Matteo Berrettini<\/td>\n",
       "      <td>292.200012<\/td>\n",
       "      <td>62.500000<\/td>\n",
       "      <td>79.599998<\/td>\n",
       "      <td>52.000000<\/td>\n",
       "      <td>88.500000<\/td>\n",
       "      <td>11.5<\/td>\n",
       "      <td>1.9<\/td>\n",
       "    <\/tr>\n",
       "    <tr>\n",
       "      <th>4<\/th>\n",
       "      <td>Novak Djokovic<\/td>\n",
       "      <td>292.100006<\/td>\n",
       "      <td>65.300003<\/td>\n",
       "      <td>77.199997<\/td>\n",
       "      <td>57.000000<\/td>\n",
       "      <td>88.699997<\/td>\n",
       "      <td>6.0<\/td>\n",
       "      <td>2.1<\/td>\n",
       "    <\/tr>\n",
       "  <\/tbody>\n",
       "<\/table>\n",
       "<\/div>"
      ]
     },
     "metadata":{
      
     },
     "output_type":"display_data"
    }
   ],
   "metadata":{
    "datalore":{
     "node_id":"rPgjeR5hlBWSdrcnFcVNx9",
     "type":"CODE",
     "hide_input_from_viewers":false,
     "hide_output_from_viewers":false,
     "report_properties":{
      "rowId":"N8muKZzdxXuGTwt69UZhOB"
     }
    }
   }
  },
  {
   "cell_type":"code",
   "source":[
    "# Comprobamos que los datos se han convertido correctamente.\n",
    "\n",
    "df_serve.info()"
   ],
   "execution_count":8,
   "outputs":[
    {
     "name":"stdout",
     "text":[
      "<class 'pandas.core.frame.DataFrame'>\n",
      "RangeIndex: 77 entries, 0 to 76\n",
      "Data columns (total 8 columns):\n",
      " #   Column                Non-Null Count  Dtype  \n",
      "---  ------                --------------  -----  \n",
      " 0   Player                77 non-null     object \n",
      " 1   Serve Rating          77 non-null     float32\n",
      " 2   %1stServe             77 non-null     float32\n",
      " 3   %1stServePointsWon    77 non-null     float32\n",
      " 4   %2ndServePointsWon    77 non-null     float32\n",
      " 5   %ServiceGamesWon      77 non-null     float32\n",
      " 6   AvgACESMatch          77 non-null     float32\n",
      " 7   AvgDoubleFaultsMatch  77 non-null     float32\n",
      "dtypes: float32(7), object(1)\n",
      "memory usage: 2.8+ KB\n"
     ],
     "output_type":"stream"
    }
   ],
   "metadata":{
    "datalore":{
     "node_id":"6Km4CwwtTmbqerxanhe0n9",
     "type":"CODE",
     "hide_input_from_viewers":false,
     "hide_output_from_viewers":false,
     "report_properties":{
      "rowId":"nBFuoUH0Ud6ES0DxSmfzFz"
     }
    }
   }
  },
  {
   "cell_type":"code",
   "source":[
    "# DATA PREPROCESSING - df_return\n",
    "\n",
    "### Nos quedamos solo con las columnas que nos interesan.\n",
    "\n",
    "df_return = df_return[[\"ReturnRating©2\", \"_1stServeReturnPointsWon\", \"_2ndServeReturnPointsWon\",  \"_ReturnGamesWon\", \"_BreakPointsConverted\", \"Field\"]]\n",
    "df_return.head()"
   ],
   "execution_count":9,
   "outputs":[
    {
     "data":{
      "text\/html":[
       "<div>\n",
       "<style scoped>\n",
       "    .dataframe tbody tr th:only-of-type {\n",
       "        vertical-align: middle;\n",
       "    }\n",
       "\n",
       "    .dataframe tbody tr th {\n",
       "        vertical-align: top;\n",
       "    }\n",
       "\n",
       "    .dataframe thead th {\n",
       "        text-align: right;\n",
       "    }\n",
       "<\/style>\n",
       "<table border=\"1\" class=\"dataframe\">\n",
       "  <thead>\n",
       "    <tr style=\"text-align: right;\">\n",
       "      <th><\/th>\n",
       "      <th>ReturnRating©2<\/th>\n",
       "      <th>_1stServeReturnPointsWon<\/th>\n",
       "      <th>_2ndServeReturnPointsWon<\/th>\n",
       "      <th>_ReturnGamesWon<\/th>\n",
       "      <th>_BreakPointsConverted<\/th>\n",
       "      <th>Field<\/th>\n",
       "    <\/tr>\n",
       "  <\/thead>\n",
       "  <tbody>\n",
       "    <tr>\n",
       "      <th>0<\/th>\n",
       "      <td>Bernabe Zapata Miralles<\/td>\n",
       "      <td>165.3<\/td>\n",
       "      <td>34.2%<\/td>\n",
       "      <td>52.3%<\/td>\n",
       "      <td>31.0%<\/td>\n",
       "      <td>47.8%<\/td>\n",
       "    <\/tr>\n",
       "    <tr>\n",
       "      <th>1<\/th>\n",
       "      <td>Daniil Medvedev<\/td>\n",
       "      <td>164.6<\/td>\n",
       "      <td>32.8%<\/td>\n",
       "      <td>55.2%<\/td>\n",
       "      <td>30.6%<\/td>\n",
       "      <td>46.0%<\/td>\n",
       "    <\/tr>\n",
       "    <tr>\n",
       "      <th>2<\/th>\n",
       "      <td>Rafael Nadal<\/td>\n",
       "      <td>160.8<\/td>\n",
       "      <td>34.4%<\/td>\n",
       "      <td>51.7%<\/td>\n",
       "      <td>30.0%<\/td>\n",
       "      <td>44.7%<\/td>\n",
       "    <\/tr>\n",
       "    <tr>\n",
       "      <th>3<\/th>\n",
       "      <td>Carlos Alcaraz<\/td>\n",
       "      <td>160.6<\/td>\n",
       "      <td>34.4%<\/td>\n",
       "      <td>53.5%<\/td>\n",
       "      <td>31.4%<\/td>\n",
       "      <td>41.3%<\/td>\n",
       "    <\/tr>\n",
       "    <tr>\n",
       "      <th>4<\/th>\n",
       "      <td>Novak Djokovic<\/td>\n",
       "      <td>160.5<\/td>\n",
       "      <td>33.5%<\/td>\n",
       "      <td>55.9%<\/td>\n",
       "      <td>29.3%<\/td>\n",
       "      <td>41.8%<\/td>\n",
       "    <\/tr>\n",
       "  <\/tbody>\n",
       "<\/table>\n",
       "<\/div>"
      ]
     },
     "metadata":{
      
     },
     "output_type":"display_data"
    }
   ],
   "metadata":{
    "datalore":{
     "node_id":"6IJVEvVa7Pt185TtexYNgg",
     "type":"CODE",
     "hide_input_from_viewers":false,
     "hide_output_from_viewers":false,
     "report_properties":{
      "rowId":"IoUNqV9VOmx8Zam6SzrvxS"
     }
    }
   }
  },
  {
   "cell_type":"code",
   "source":[
    "### Hacemos un rename en el nombre de las columnas para que sean más intuitivas.\n",
    "\n",
    "df_return.rename(columns={\"ReturnRating©2\": \"Player\", \"_1stServeReturnPointsWon\": \"Return Rating\", \"_2ndServeReturnPointsWon\": \"%1st Serve Return Points Won\", \"_ReturnGamesWon\": \"%2nd Serve Return Points Won\", \"_BreakPointsConverted\": \"%Return Games Won\", \"Field\": \"%Breaks Points Converted\"}, inplace=True)\n",
    "df_return.head()"
   ],
   "execution_count":10,
   "outputs":[
    {
     "data":{
      "text\/html":[
       "<div>\n",
       "<style scoped>\n",
       "    .dataframe tbody tr th:only-of-type {\n",
       "        vertical-align: middle;\n",
       "    }\n",
       "\n",
       "    .dataframe tbody tr th {\n",
       "        vertical-align: top;\n",
       "    }\n",
       "\n",
       "    .dataframe thead th {\n",
       "        text-align: right;\n",
       "    }\n",
       "<\/style>\n",
       "<table border=\"1\" class=\"dataframe\">\n",
       "  <thead>\n",
       "    <tr style=\"text-align: right;\">\n",
       "      <th><\/th>\n",
       "      <th>Player<\/th>\n",
       "      <th>Return Rating<\/th>\n",
       "      <th>%1st Serve Return Points Won<\/th>\n",
       "      <th>%2nd Serve Return Points Won<\/th>\n",
       "      <th>%Return Games Won<\/th>\n",
       "      <th>%Breaks Points Converted<\/th>\n",
       "    <\/tr>\n",
       "  <\/thead>\n",
       "  <tbody>\n",
       "    <tr>\n",
       "      <th>0<\/th>\n",
       "      <td>Bernabe Zapata Miralles<\/td>\n",
       "      <td>165.3<\/td>\n",
       "      <td>34.2%<\/td>\n",
       "      <td>52.3%<\/td>\n",
       "      <td>31.0%<\/td>\n",
       "      <td>47.8%<\/td>\n",
       "    <\/tr>\n",
       "    <tr>\n",
       "      <th>1<\/th>\n",
       "      <td>Daniil Medvedev<\/td>\n",
       "      <td>164.6<\/td>\n",
       "      <td>32.8%<\/td>\n",
       "      <td>55.2%<\/td>\n",
       "      <td>30.6%<\/td>\n",
       "      <td>46.0%<\/td>\n",
       "    <\/tr>\n",
       "    <tr>\n",
       "      <th>2<\/th>\n",
       "      <td>Rafael Nadal<\/td>\n",
       "      <td>160.8<\/td>\n",
       "      <td>34.4%<\/td>\n",
       "      <td>51.7%<\/td>\n",
       "      <td>30.0%<\/td>\n",
       "      <td>44.7%<\/td>\n",
       "    <\/tr>\n",
       "    <tr>\n",
       "      <th>3<\/th>\n",
       "      <td>Carlos Alcaraz<\/td>\n",
       "      <td>160.6<\/td>\n",
       "      <td>34.4%<\/td>\n",
       "      <td>53.5%<\/td>\n",
       "      <td>31.4%<\/td>\n",
       "      <td>41.3%<\/td>\n",
       "    <\/tr>\n",
       "    <tr>\n",
       "      <th>4<\/th>\n",
       "      <td>Novak Djokovic<\/td>\n",
       "      <td>160.5<\/td>\n",
       "      <td>33.5%<\/td>\n",
       "      <td>55.9%<\/td>\n",
       "      <td>29.3%<\/td>\n",
       "      <td>41.8%<\/td>\n",
       "    <\/tr>\n",
       "  <\/tbody>\n",
       "<\/table>\n",
       "<\/div>"
      ]
     },
     "metadata":{
      
     },
     "output_type":"display_data"
    }
   ],
   "metadata":{
    "datalore":{
     "node_id":"Qa6IMl4gFth7NaYM2WI2YE",
     "type":"CODE",
     "hide_input_from_viewers":false,
     "hide_output_from_viewers":false,
     "report_properties":{
      "rowId":"XZPR3233FuGNRv4gPr9ILt"
     }
    }
   }
  },
  {
   "cell_type":"code",
   "source":[
    "### Vamos a ver que tipo de datos tenemos en cada columna y si hay valores nulos.\n",
    "\n",
    "df_return.info()"
   ],
   "execution_count":11,
   "outputs":[
    {
     "name":"stdout",
     "text":[
      "<class 'pandas.core.frame.DataFrame'>\n",
      "RangeIndex: 77 entries, 0 to 76\n",
      "Data columns (total 6 columns):\n",
      " #   Column                        Non-Null Count  Dtype  \n",
      "---  ------                        --------------  -----  \n",
      " 0   Player                        77 non-null     object \n",
      " 1   Return Rating                 77 non-null     float64\n",
      " 2   %1st Serve Return Points Won  77 non-null     object \n",
      " 3   %2nd Serve Return Points Won  77 non-null     object \n",
      " 4   %Return Games Won             77 non-null     object \n",
      " 5   %Breaks Points Converted      77 non-null     object \n",
      "dtypes: float64(1), object(5)\n",
      "memory usage: 3.7+ KB\n"
     ],
     "output_type":"stream"
    }
   ],
   "metadata":{
    "datalore":{
     "node_id":"t1x0CyQPp7vQec575JHdT1",
     "type":"CODE",
     "hide_input_from_viewers":false,
     "hide_output_from_viewers":false,
     "report_properties":{
      "rowId":"wNJnpm0cQ3KhzyK1demfKM"
     }
    }
   }
  },
  {
   "cell_type":"code",
   "source":[
    "# convertimos todas las columnas a float\n",
    "\n",
    "df_return = convert_to_float(df_return)\n",
    "df_return.head()"
   ],
   "execution_count":12,
   "outputs":[
    {
     "data":{
      "text\/html":[
       "<div>\n",
       "<style scoped>\n",
       "    .dataframe tbody tr th:only-of-type {\n",
       "        vertical-align: middle;\n",
       "    }\n",
       "\n",
       "    .dataframe tbody tr th {\n",
       "        vertical-align: top;\n",
       "    }\n",
       "\n",
       "    .dataframe thead th {\n",
       "        text-align: right;\n",
       "    }\n",
       "<\/style>\n",
       "<table border=\"1\" class=\"dataframe\">\n",
       "  <thead>\n",
       "    <tr style=\"text-align: right;\">\n",
       "      <th><\/th>\n",
       "      <th>Player<\/th>\n",
       "      <th>Return Rating<\/th>\n",
       "      <th>%1st Serve Return Points Won<\/th>\n",
       "      <th>%2nd Serve Return Points Won<\/th>\n",
       "      <th>%Return Games Won<\/th>\n",
       "      <th>%Breaks Points Converted<\/th>\n",
       "    <\/tr>\n",
       "  <\/thead>\n",
       "  <tbody>\n",
       "    <tr>\n",
       "      <th>0<\/th>\n",
       "      <td>Bernabe Zapata Miralles<\/td>\n",
       "      <td>165.300003<\/td>\n",
       "      <td>34.200001<\/td>\n",
       "      <td>52.299999<\/td>\n",
       "      <td>31.000000<\/td>\n",
       "      <td>47.799999<\/td>\n",
       "    <\/tr>\n",
       "    <tr>\n",
       "      <th>1<\/th>\n",
       "      <td>Daniil Medvedev<\/td>\n",
       "      <td>164.600006<\/td>\n",
       "      <td>32.799999<\/td>\n",
       "      <td>55.200001<\/td>\n",
       "      <td>30.600000<\/td>\n",
       "      <td>46.000000<\/td>\n",
       "    <\/tr>\n",
       "    <tr>\n",
       "      <th>2<\/th>\n",
       "      <td>Rafael Nadal<\/td>\n",
       "      <td>160.800003<\/td>\n",
       "      <td>34.400002<\/td>\n",
       "      <td>51.700001<\/td>\n",
       "      <td>30.000000<\/td>\n",
       "      <td>44.700001<\/td>\n",
       "    <\/tr>\n",
       "    <tr>\n",
       "      <th>3<\/th>\n",
       "      <td>Carlos Alcaraz<\/td>\n",
       "      <td>160.600006<\/td>\n",
       "      <td>34.400002<\/td>\n",
       "      <td>53.500000<\/td>\n",
       "      <td>31.400000<\/td>\n",
       "      <td>41.299999<\/td>\n",
       "    <\/tr>\n",
       "    <tr>\n",
       "      <th>4<\/th>\n",
       "      <td>Novak Djokovic<\/td>\n",
       "      <td>160.500000<\/td>\n",
       "      <td>33.500000<\/td>\n",
       "      <td>55.900002<\/td>\n",
       "      <td>29.299999<\/td>\n",
       "      <td>41.799999<\/td>\n",
       "    <\/tr>\n",
       "  <\/tbody>\n",
       "<\/table>\n",
       "<\/div>"
      ]
     },
     "metadata":{
      
     },
     "output_type":"display_data"
    }
   ],
   "metadata":{
    "datalore":{
     "node_id":"2qW2GgldQcK7HvrEYTZZwh",
     "type":"CODE",
     "hide_input_from_viewers":false,
     "hide_output_from_viewers":false,
     "report_properties":{
      "rowId":"Uk1WDQREUZZtFNBtnLns57"
     }
    }
   }
  },
  {
   "cell_type":"code",
   "source":[
    "# Comprobamos que los datos se han convertido correctamente.\n",
    "\n",
    "df_return.info()"
   ],
   "execution_count":13,
   "outputs":[
    {
     "name":"stdout",
     "text":[
      "<class 'pandas.core.frame.DataFrame'>\n",
      "RangeIndex: 77 entries, 0 to 76\n",
      "Data columns (total 6 columns):\n",
      " #   Column                        Non-Null Count  Dtype  \n",
      "---  ------                        --------------  -----  \n",
      " 0   Player                        77 non-null     object \n",
      " 1   Return Rating                 77 non-null     float32\n",
      " 2   %1st Serve Return Points Won  77 non-null     float32\n",
      " 3   %2nd Serve Return Points Won  77 non-null     float32\n",
      " 4   %Return Games Won             77 non-null     float32\n",
      " 5   %Breaks Points Converted      77 non-null     float32\n",
      "dtypes: float32(5), object(1)\n",
      "memory usage: 2.2+ KB\n"
     ],
     "output_type":"stream"
    }
   ],
   "metadata":{
    "datalore":{
     "node_id":"25zLMZyLKe03UF1WkNzDMm",
     "type":"CODE",
     "hide_input_from_viewers":false,
     "hide_output_from_viewers":false,
     "report_properties":{
      "rowId":"z4K02Cb9oYayr3jac8RCKh"
     }
    }
   }
  },
  {
   "cell_type":"code",
   "source":[
    "# DATA PREPROCESSING - df_underpressure\n",
    "\n",
    "### Nos quedamos solo con las columnas que nos interesan.\n",
    "\n",
    "df_underpressure = df_underpressure[[\"UnderPressureRating©2\", \"_BreakPointsConverted\", \"_BreakPointsSaved\", \"_TieBreaksWon\", \"_DecidingSetsWon\", \"Field\"]]\n",
    "df_underpressure.head()"
   ],
   "execution_count":14,
   "outputs":[
    {
     "data":{
      "text\/html":[
       "<div>\n",
       "<style scoped>\n",
       "    .dataframe tbody tr th:only-of-type {\n",
       "        vertical-align: middle;\n",
       "    }\n",
       "\n",
       "    .dataframe tbody tr th {\n",
       "        vertical-align: top;\n",
       "    }\n",
       "\n",
       "    .dataframe thead th {\n",
       "        text-align: right;\n",
       "    }\n",
       "<\/style>\n",
       "<table border=\"1\" class=\"dataframe\">\n",
       "  <thead>\n",
       "    <tr style=\"text-align: right;\">\n",
       "      <th><\/th>\n",
       "      <th>UnderPressureRating©2<\/th>\n",
       "      <th>_BreakPointsConverted<\/th>\n",
       "      <th>_BreakPointsSaved<\/th>\n",
       "      <th>_TieBreaksWon<\/th>\n",
       "      <th>_DecidingSetsWon<\/th>\n",
       "      <th>Field<\/th>\n",
       "    <\/tr>\n",
       "  <\/thead>\n",
       "  <tbody>\n",
       "    <tr>\n",
       "      <th>0<\/th>\n",
       "      <td>Novak Djokovic<\/td>\n",
       "      <td>249.7<\/td>\n",
       "      <td>41.8%<\/td>\n",
       "      <td>64.3%<\/td>\n",
       "      <td>80.0%<\/td>\n",
       "      <td>63.6%<\/td>\n",
       "    <\/tr>\n",
       "    <tr>\n",
       "      <th>1<\/th>\n",
       "      <td>Nick Kyrgios<\/td>\n",
       "      <td>249.7<\/td>\n",
       "      <td>43.4%<\/td>\n",
       "      <td>74.4%<\/td>\n",
       "      <td>61.9%<\/td>\n",
       "      <td>70.0%<\/td>\n",
       "    <\/tr>\n",
       "    <tr>\n",
       "      <th>2<\/th>\n",
       "      <td>Jenson Brooksby<\/td>\n",
       "      <td>246.9<\/td>\n",
       "      <td>46.3%<\/td>\n",
       "      <td>58.9%<\/td>\n",
       "      <td>75.0%<\/td>\n",
       "      <td>66.7%<\/td>\n",
       "    <\/tr>\n",
       "    <tr>\n",
       "      <th>3<\/th>\n",
       "      <td>Jannik Sinner<\/td>\n",
       "      <td>238.6<\/td>\n",
       "      <td>43.3%<\/td>\n",
       "      <td>63.5%<\/td>\n",
       "      <td>68.2%<\/td>\n",
       "      <td>63.6%<\/td>\n",
       "    <\/tr>\n",
       "    <tr>\n",
       "      <th>4<\/th>\n",
       "      <td>Stefanos Tsitsipas<\/td>\n",
       "      <td>237.7<\/td>\n",
       "      <td>41.8%<\/td>\n",
       "      <td>66.0%<\/td>\n",
       "      <td>56.8%<\/td>\n",
       "      <td>73.1%<\/td>\n",
       "    <\/tr>\n",
       "  <\/tbody>\n",
       "<\/table>\n",
       "<\/div>"
      ]
     },
     "metadata":{
      
     },
     "output_type":"display_data"
    }
   ],
   "metadata":{
    "datalore":{
     "node_id":"h8C1dowVDjStSt1KSw4Bdm",
     "type":"CODE",
     "hide_input_from_viewers":false,
     "hide_output_from_viewers":false,
     "report_properties":{
      "rowId":"X3kYuKoc54B5yH71zODeAa"
     }
    }
   }
  },
  {
   "cell_type":"code",
   "source":[
    "### Hacemos un rename en el nombre de las columnas para que sean más intuitivas.\n",
    "\n",
    "df_underpressure.rename(columns={\"UnderPressureRating©2\": \"Player\", \"_BreakPointsConverted\": \"Underpressure Rating\", \"_BreakPointsSaved\": \"%BreakPointsConverted\", \"_TieBreaksWon\": \"%BreaksPointsSaved\", \"_DecidingSetsWon\": \"%TieBreaks Won\", \"Field\": \"%Deciding Sets Won\"}, inplace=True)\n",
    "df_underpressure.head()"
   ],
   "execution_count":15,
   "outputs":[
    {
     "data":{
      "text\/html":[
       "<div>\n",
       "<style scoped>\n",
       "    .dataframe tbody tr th:only-of-type {\n",
       "        vertical-align: middle;\n",
       "    }\n",
       "\n",
       "    .dataframe tbody tr th {\n",
       "        vertical-align: top;\n",
       "    }\n",
       "\n",
       "    .dataframe thead th {\n",
       "        text-align: right;\n",
       "    }\n",
       "<\/style>\n",
       "<table border=\"1\" class=\"dataframe\">\n",
       "  <thead>\n",
       "    <tr style=\"text-align: right;\">\n",
       "      <th><\/th>\n",
       "      <th>Player<\/th>\n",
       "      <th>Underpressure Rating<\/th>\n",
       "      <th>%BreakPointsConverted<\/th>\n",
       "      <th>%BreaksPointsSaved<\/th>\n",
       "      <th>%TieBreaks Won<\/th>\n",
       "      <th>%Deciding Sets Won<\/th>\n",
       "    <\/tr>\n",
       "  <\/thead>\n",
       "  <tbody>\n",
       "    <tr>\n",
       "      <th>0<\/th>\n",
       "      <td>Novak Djokovic<\/td>\n",
       "      <td>249.7<\/td>\n",
       "      <td>41.8%<\/td>\n",
       "      <td>64.3%<\/td>\n",
       "      <td>80.0%<\/td>\n",
       "      <td>63.6%<\/td>\n",
       "    <\/tr>\n",
       "    <tr>\n",
       "      <th>1<\/th>\n",
       "      <td>Nick Kyrgios<\/td>\n",
       "      <td>249.7<\/td>\n",
       "      <td>43.4%<\/td>\n",
       "      <td>74.4%<\/td>\n",
       "      <td>61.9%<\/td>\n",
       "      <td>70.0%<\/td>\n",
       "    <\/tr>\n",
       "    <tr>\n",
       "      <th>2<\/th>\n",
       "      <td>Jenson Brooksby<\/td>\n",
       "      <td>246.9<\/td>\n",
       "      <td>46.3%<\/td>\n",
       "      <td>58.9%<\/td>\n",
       "      <td>75.0%<\/td>\n",
       "      <td>66.7%<\/td>\n",
       "    <\/tr>\n",
       "    <tr>\n",
       "      <th>3<\/th>\n",
       "      <td>Jannik Sinner<\/td>\n",
       "      <td>238.6<\/td>\n",
       "      <td>43.3%<\/td>\n",
       "      <td>63.5%<\/td>\n",
       "      <td>68.2%<\/td>\n",
       "      <td>63.6%<\/td>\n",
       "    <\/tr>\n",
       "    <tr>\n",
       "      <th>4<\/th>\n",
       "      <td>Stefanos Tsitsipas<\/td>\n",
       "      <td>237.7<\/td>\n",
       "      <td>41.8%<\/td>\n",
       "      <td>66.0%<\/td>\n",
       "      <td>56.8%<\/td>\n",
       "      <td>73.1%<\/td>\n",
       "    <\/tr>\n",
       "  <\/tbody>\n",
       "<\/table>\n",
       "<\/div>"
      ]
     },
     "metadata":{
      
     },
     "output_type":"display_data"
    }
   ],
   "metadata":{
    "datalore":{
     "node_id":"bPF25OF85Ylq5VkgSVrxHK",
     "type":"CODE",
     "hide_input_from_viewers":false,
     "hide_output_from_viewers":false,
     "report_properties":{
      "rowId":"HaW2co9gZ8MlIIH6ElA9tU"
     }
    }
   }
  },
  {
   "cell_type":"code",
   "source":[
    "# Vamos a ver que tipo de datos tenemos en cada columna y si hay valores nulos.\n",
    "\n",
    "df_underpressure.info()"
   ],
   "execution_count":16,
   "outputs":[
    {
     "name":"stdout",
     "text":[
      "<class 'pandas.core.frame.DataFrame'>\n",
      "RangeIndex: 77 entries, 0 to 76\n",
      "Data columns (total 6 columns):\n",
      " #   Column                 Non-Null Count  Dtype  \n",
      "---  ------                 --------------  -----  \n",
      " 0   Player                 77 non-null     object \n",
      " 1   Underpressure Rating   77 non-null     float64\n",
      " 2   %BreakPointsConverted  77 non-null     object \n",
      " 3   %BreaksPointsSaved     77 non-null     object \n",
      " 4   %TieBreaks Won         77 non-null     object \n",
      " 5   %Deciding Sets Won     77 non-null     object \n",
      "dtypes: float64(1), object(5)\n",
      "memory usage: 3.7+ KB\n"
     ],
     "output_type":"stream"
    }
   ],
   "metadata":{
    "datalore":{
     "node_id":"pPwr1vdv01B4fhIwFnUM6t",
     "type":"CODE",
     "hide_input_from_viewers":false,
     "hide_output_from_viewers":false,
     "report_properties":{
      "rowId":"rFMv0cdoC7Htbvlbf01clk"
     }
    }
   }
  },
  {
   "cell_type":"code",
   "source":[
    "# convertimos todas las columnas a float\n",
    "\n",
    "df_underpressure = convert_to_float(df_underpressure)\n",
    "df_underpressure.head()"
   ],
   "execution_count":17,
   "outputs":[
    {
     "data":{
      "text\/html":[
       "<div>\n",
       "<style scoped>\n",
       "    .dataframe tbody tr th:only-of-type {\n",
       "        vertical-align: middle;\n",
       "    }\n",
       "\n",
       "    .dataframe tbody tr th {\n",
       "        vertical-align: top;\n",
       "    }\n",
       "\n",
       "    .dataframe thead th {\n",
       "        text-align: right;\n",
       "    }\n",
       "<\/style>\n",
       "<table border=\"1\" class=\"dataframe\">\n",
       "  <thead>\n",
       "    <tr style=\"text-align: right;\">\n",
       "      <th><\/th>\n",
       "      <th>Player<\/th>\n",
       "      <th>Underpressure Rating<\/th>\n",
       "      <th>%BreakPointsConverted<\/th>\n",
       "      <th>%BreaksPointsSaved<\/th>\n",
       "      <th>%TieBreaks Won<\/th>\n",
       "      <th>%Deciding Sets Won<\/th>\n",
       "    <\/tr>\n",
       "  <\/thead>\n",
       "  <tbody>\n",
       "    <tr>\n",
       "      <th>0<\/th>\n",
       "      <td>Novak Djokovic<\/td>\n",
       "      <td>249.699997<\/td>\n",
       "      <td>41.799999<\/td>\n",
       "      <td>64.300003<\/td>\n",
       "      <td>80.000000<\/td>\n",
       "      <td>63.599998<\/td>\n",
       "    <\/tr>\n",
       "    <tr>\n",
       "      <th>1<\/th>\n",
       "      <td>Nick Kyrgios<\/td>\n",
       "      <td>249.699997<\/td>\n",
       "      <td>43.400002<\/td>\n",
       "      <td>74.400002<\/td>\n",
       "      <td>61.900002<\/td>\n",
       "      <td>70.000000<\/td>\n",
       "    <\/tr>\n",
       "    <tr>\n",
       "      <th>2<\/th>\n",
       "      <td>Jenson Brooksby<\/td>\n",
       "      <td>246.899994<\/td>\n",
       "      <td>46.299999<\/td>\n",
       "      <td>58.900002<\/td>\n",
       "      <td>75.000000<\/td>\n",
       "      <td>66.699997<\/td>\n",
       "    <\/tr>\n",
       "    <tr>\n",
       "      <th>3<\/th>\n",
       "      <td>Jannik Sinner<\/td>\n",
       "      <td>238.600006<\/td>\n",
       "      <td>43.299999<\/td>\n",
       "      <td>63.500000<\/td>\n",
       "      <td>68.199997<\/td>\n",
       "      <td>63.599998<\/td>\n",
       "    <\/tr>\n",
       "    <tr>\n",
       "      <th>4<\/th>\n",
       "      <td>Stefanos Tsitsipas<\/td>\n",
       "      <td>237.699997<\/td>\n",
       "      <td>41.799999<\/td>\n",
       "      <td>66.000000<\/td>\n",
       "      <td>56.799999<\/td>\n",
       "      <td>73.099998<\/td>\n",
       "    <\/tr>\n",
       "  <\/tbody>\n",
       "<\/table>\n",
       "<\/div>"
      ]
     },
     "metadata":{
      
     },
     "output_type":"display_data"
    }
   ],
   "metadata":{
    "datalore":{
     "node_id":"vnhz3wc5u30xuigD9HakKg",
     "type":"CODE",
     "hide_input_from_viewers":false,
     "hide_output_from_viewers":false,
     "report_properties":{
      "rowId":"fCbZa6HepdcUScsycFtlfx"
     }
    }
   }
  },
  {
   "cell_type":"code",
   "source":[
    "# Comprobamos que los datos se han convertido correctamente.\n",
    "\n",
    "df_underpressure.info()"
   ],
   "execution_count":18,
   "outputs":[
    {
     "name":"stdout",
     "text":[
      "<class 'pandas.core.frame.DataFrame'>\n",
      "RangeIndex: 77 entries, 0 to 76\n",
      "Data columns (total 6 columns):\n",
      " #   Column                 Non-Null Count  Dtype  \n",
      "---  ------                 --------------  -----  \n",
      " 0   Player                 77 non-null     object \n",
      " 1   Underpressure Rating   77 non-null     float32\n",
      " 2   %BreakPointsConverted  77 non-null     float32\n",
      " 3   %BreaksPointsSaved     77 non-null     float32\n",
      " 4   %TieBreaks Won         77 non-null     float32\n",
      " 5   %Deciding Sets Won     77 non-null     float32\n",
      "dtypes: float32(5), object(1)\n",
      "memory usage: 2.2+ KB\n"
     ],
     "output_type":"stream"
    }
   ],
   "metadata":{
    "datalore":{
     "node_id":"BS0HlakZjwJyDjyKgW9HU2",
     "type":"CODE",
     "hide_input_from_viewers":false,
     "hide_output_from_viewers":false,
     "report_properties":{
      "rowId":"rBUUkvk8irKxP8aRwamsUD"
     }
    }
   }
  },
  {
   "cell_type":"code",
   "source":[
    "# DATA PREPROCESSING - df_win_loss\n",
    "\n",
    "### Nos quedamos solo con las columnas que nos interesan.\n",
    "\n",
    "df_win_loss = df_win_loss[[\"YTDWin_Loss\", \"Field\"]]\n",
    "df_win_loss.head()"
   ],
   "execution_count":19,
   "outputs":[
    {
     "data":{
      "text\/html":[
       "<div>\n",
       "<style scoped>\n",
       "    .dataframe tbody tr th:only-of-type {\n",
       "        vertical-align: middle;\n",
       "    }\n",
       "\n",
       "    .dataframe tbody tr th {\n",
       "        vertical-align: top;\n",
       "    }\n",
       "\n",
       "    .dataframe thead th {\n",
       "        text-align: right;\n",
       "    }\n",
       "<\/style>\n",
       "<table border=\"1\" class=\"dataframe\">\n",
       "  <thead>\n",
       "    <tr style=\"text-align: right;\">\n",
       "      <th><\/th>\n",
       "      <th>YTDWin_Loss<\/th>\n",
       "      <th>Field<\/th>\n",
       "    <\/tr>\n",
       "  <\/thead>\n",
       "  <tbody>\n",
       "    <tr>\n",
       "      <th>0<\/th>\n",
       "      <td>Novak Djokovic<\/td>\n",
       "      <td>0.938<\/td>\n",
       "    <\/tr>\n",
       "    <tr>\n",
       "      <th>1<\/th>\n",
       "      <td>Carlos Alcaraz<\/td>\n",
       "      <td>0.933<\/td>\n",
       "    <\/tr>\n",
       "    <tr>\n",
       "      <th>2<\/th>\n",
       "      <td>Daniil Medvedev<\/td>\n",
       "      <td>0.889<\/td>\n",
       "    <\/tr>\n",
       "    <tr>\n",
       "      <th>3<\/th>\n",
       "      <td>Cameron Norrie<\/td>\n",
       "      <td>0.840<\/td>\n",
       "    <\/tr>\n",
       "    <tr>\n",
       "      <th>4<\/th>\n",
       "      <td>Nicolas Jarry<\/td>\n",
       "      <td>0.833<\/td>\n",
       "    <\/tr>\n",
       "  <\/tbody>\n",
       "<\/table>\n",
       "<\/div>"
      ]
     },
     "metadata":{
      
     },
     "output_type":"display_data"
    }
   ],
   "metadata":{
    "datalore":{
     "node_id":"C5HqwTzaxgNn9kySu24GD0",
     "type":"CODE",
     "hide_input_from_viewers":false,
     "hide_output_from_viewers":false,
     "report_properties":{
      "rowId":"Saaag6LfO6lJASrdpHJU7X"
     }
    }
   }
  },
  {
   "cell_type":"code",
   "source":[
    "### Hacemos un rename en el nombre de las columnas para que sean más intuitivas.\n",
    "\n",
    "df_win_loss.rename(columns={\"YTDWin_Loss\": \"Player\", \"Field\": \"%AvgWinLoss\"}, inplace=True)\n",
    "df_win_loss.head()"
   ],
   "execution_count":20,
   "outputs":[
    {
     "data":{
      "text\/html":[
       "<div>\n",
       "<style scoped>\n",
       "    .dataframe tbody tr th:only-of-type {\n",
       "        vertical-align: middle;\n",
       "    }\n",
       "\n",
       "    .dataframe tbody tr th {\n",
       "        vertical-align: top;\n",
       "    }\n",
       "\n",
       "    .dataframe thead th {\n",
       "        text-align: right;\n",
       "    }\n",
       "<\/style>\n",
       "<table border=\"1\" class=\"dataframe\">\n",
       "  <thead>\n",
       "    <tr style=\"text-align: right;\">\n",
       "      <th><\/th>\n",
       "      <th>Player<\/th>\n",
       "      <th>%AvgWinLoss<\/th>\n",
       "    <\/tr>\n",
       "  <\/thead>\n",
       "  <tbody>\n",
       "    <tr>\n",
       "      <th>0<\/th>\n",
       "      <td>Novak Djokovic<\/td>\n",
       "      <td>0.938<\/td>\n",
       "    <\/tr>\n",
       "    <tr>\n",
       "      <th>1<\/th>\n",
       "      <td>Carlos Alcaraz<\/td>\n",
       "      <td>0.933<\/td>\n",
       "    <\/tr>\n",
       "    <tr>\n",
       "      <th>2<\/th>\n",
       "      <td>Daniil Medvedev<\/td>\n",
       "      <td>0.889<\/td>\n",
       "    <\/tr>\n",
       "    <tr>\n",
       "      <th>3<\/th>\n",
       "      <td>Cameron Norrie<\/td>\n",
       "      <td>0.840<\/td>\n",
       "    <\/tr>\n",
       "    <tr>\n",
       "      <th>4<\/th>\n",
       "      <td>Nicolas Jarry<\/td>\n",
       "      <td>0.833<\/td>\n",
       "    <\/tr>\n",
       "  <\/tbody>\n",
       "<\/table>\n",
       "<\/div>"
      ]
     },
     "metadata":{
      
     },
     "output_type":"display_data"
    }
   ],
   "metadata":{
    "datalore":{
     "node_id":"7ijztn2vhvholeaaPFeZ2n",
     "type":"CODE",
     "hide_input_from_viewers":false,
     "hide_output_from_viewers":false,
     "report_properties":{
      "rowId":"HKQhcLdQ6kz7hoOIBcsOGN"
     }
    }
   }
  },
  {
   "cell_type":"code",
   "source":[
    "# Vamos a ver que tipo de datos tenemos en cada columna y si hay valores nulos.\n",
    "\n",
    "df_win_loss.info()"
   ],
   "execution_count":21,
   "outputs":[
    {
     "name":"stdout",
     "text":[
      "<class 'pandas.core.frame.DataFrame'>\n",
      "RangeIndex: 90 entries, 0 to 89\n",
      "Data columns (total 2 columns):\n",
      " #   Column       Non-Null Count  Dtype  \n",
      "---  ------       --------------  -----  \n",
      " 0   Player       90 non-null     object \n",
      " 1   %AvgWinLoss  90 non-null     float64\n",
      "dtypes: float64(1), object(1)\n",
      "memory usage: 1.5+ KB\n"
     ],
     "output_type":"stream"
    }
   ],
   "metadata":{
    "datalore":{
     "node_id":"rPrO9Axb2XEKM1gCauIQKw",
     "type":"CODE",
     "hide_input_from_viewers":false,
     "hide_output_from_viewers":false,
     "report_properties":{
      "rowId":"Nxncmbh36LaY9IoFdOl0du"
     }
    }
   }
  },
  {
   "cell_type":"code",
   "source":[
    "# convertimos todas las columnas a float\n",
    "\n",
    "df_win_loss = convert_to_float(df_win_loss)\n",
    "df_win_loss.head()"
   ],
   "execution_count":22,
   "outputs":[
    {
     "data":{
      "text\/html":[
       "<div>\n",
       "<style scoped>\n",
       "    .dataframe tbody tr th:only-of-type {\n",
       "        vertical-align: middle;\n",
       "    }\n",
       "\n",
       "    .dataframe tbody tr th {\n",
       "        vertical-align: top;\n",
       "    }\n",
       "\n",
       "    .dataframe thead th {\n",
       "        text-align: right;\n",
       "    }\n",
       "<\/style>\n",
       "<table border=\"1\" class=\"dataframe\">\n",
       "  <thead>\n",
       "    <tr style=\"text-align: right;\">\n",
       "      <th><\/th>\n",
       "      <th>Player<\/th>\n",
       "      <th>%AvgWinLoss<\/th>\n",
       "    <\/tr>\n",
       "  <\/thead>\n",
       "  <tbody>\n",
       "    <tr>\n",
       "      <th>0<\/th>\n",
       "      <td>Novak Djokovic<\/td>\n",
       "      <td>0.938<\/td>\n",
       "    <\/tr>\n",
       "    <tr>\n",
       "      <th>1<\/th>\n",
       "      <td>Carlos Alcaraz<\/td>\n",
       "      <td>0.933<\/td>\n",
       "    <\/tr>\n",
       "    <tr>\n",
       "      <th>2<\/th>\n",
       "      <td>Daniil Medvedev<\/td>\n",
       "      <td>0.889<\/td>\n",
       "    <\/tr>\n",
       "    <tr>\n",
       "      <th>3<\/th>\n",
       "      <td>Cameron Norrie<\/td>\n",
       "      <td>0.840<\/td>\n",
       "    <\/tr>\n",
       "    <tr>\n",
       "      <th>4<\/th>\n",
       "      <td>Nicolas Jarry<\/td>\n",
       "      <td>0.833<\/td>\n",
       "    <\/tr>\n",
       "  <\/tbody>\n",
       "<\/table>\n",
       "<\/div>"
      ]
     },
     "metadata":{
      
     },
     "output_type":"display_data"
    }
   ],
   "metadata":{
    "datalore":{
     "node_id":"AfyLApUhDXBD6Ir0FsPE0R",
     "type":"CODE",
     "hide_input_from_viewers":false,
     "hide_output_from_viewers":false,
     "report_properties":{
      "rowId":"qySXcRGhw2ft1LT2QvokgD"
     }
    }
   }
  },
  {
   "cell_type":"code",
   "source":[
    "# Comprobamos que los datos se han convertido correctamente.\n",
    "\n",
    "df_win_loss.info()"
   ],
   "execution_count":23,
   "outputs":[
    {
     "name":"stdout",
     "text":[
      "<class 'pandas.core.frame.DataFrame'>\n",
      "RangeIndex: 90 entries, 0 to 89\n",
      "Data columns (total 2 columns):\n",
      " #   Column       Non-Null Count  Dtype  \n",
      "---  ------       --------------  -----  \n",
      " 0   Player       90 non-null     object \n",
      " 1   %AvgWinLoss  90 non-null     float32\n",
      "dtypes: float32(1), object(1)\n",
      "memory usage: 1.2+ KB\n"
     ],
     "output_type":"stream"
    }
   ],
   "metadata":{
    "datalore":{
     "node_id":"cXRiBkDYBygtIqbJsTIGka",
     "type":"CODE",
     "hide_input_from_viewers":false,
     "hide_output_from_viewers":false,
     "report_properties":{
      "rowId":"jHYWUl0eXQL3D6PCUjxlLM"
     }
    }
   }
  },
  {
   "cell_type":"code",
   "source":[
    "# DATA PREPROCESSING - df_ranking\n",
    "\n",
    "### Nos quedamos solo con las columnas que nos interesan.\n",
    "\n",
    "df_ranking = df_ranking[[\"Rank\", \"Player\", \"Age\"]]\n",
    "\n",
    "df_ranking.head()"
   ],
   "execution_count":24,
   "outputs":[
    {
     "data":{
      "text\/html":[
       "<div>\n",
       "<style scoped>\n",
       "    .dataframe tbody tr th:only-of-type {\n",
       "        vertical-align: middle;\n",
       "    }\n",
       "\n",
       "    .dataframe tbody tr th {\n",
       "        vertical-align: top;\n",
       "    }\n",
       "\n",
       "    .dataframe thead th {\n",
       "        text-align: right;\n",
       "    }\n",
       "<\/style>\n",
       "<table border=\"1\" class=\"dataframe\">\n",
       "  <thead>\n",
       "    <tr style=\"text-align: right;\">\n",
       "      <th><\/th>\n",
       "      <th>Rank<\/th>\n",
       "      <th>Player<\/th>\n",
       "      <th>Age<\/th>\n",
       "    <\/tr>\n",
       "  <\/thead>\n",
       "  <tbody>\n",
       "    <tr>\n",
       "      <th>0<\/th>\n",
       "      <td>\\n                1\\n<\/td>\n",
       "      <td>\\n                            Carlos Alcaraz\\n...<\/td>\n",
       "      <td>\\n19<\/td>\n",
       "    <\/tr>\n",
       "    <tr>\n",
       "      <th>1<\/th>\n",
       "      <td>\\n                2\\n<\/td>\n",
       "      <td>\\n                            Novak Djokovic\\n...<\/td>\n",
       "      <td>\\n35<\/td>\n",
       "    <\/tr>\n",
       "    <tr>\n",
       "      <th>2<\/th>\n",
       "      <td>\\n                3\\n<\/td>\n",
       "      <td>\\n                            Stefanos Tsitsip...<\/td>\n",
       "      <td>\\n24<\/td>\n",
       "    <\/tr>\n",
       "    <tr>\n",
       "      <th>3<\/th>\n",
       "      <td>\\n                4\\n<\/td>\n",
       "      <td>\\n                            Casper Ruud\\n   ...<\/td>\n",
       "      <td>\\n24<\/td>\n",
       "    <\/tr>\n",
       "    <tr>\n",
       "      <th>4<\/th>\n",
       "      <td>\\n                5\\n<\/td>\n",
       "      <td>\\n                            Daniil Medvedev\\...<\/td>\n",
       "      <td>\\n27<\/td>\n",
       "    <\/tr>\n",
       "  <\/tbody>\n",
       "<\/table>\n",
       "<\/div>"
      ]
     },
     "metadata":{
      
     },
     "output_type":"display_data"
    }
   ],
   "metadata":{
    "datalore":{
     "node_id":"9oIjUdLovQuaAXjgVQ1QTq",
     "type":"CODE",
     "hide_input_from_viewers":false,
     "hide_output_from_viewers":false,
     "report_properties":{
      "rowId":"pmcUI0rMo9peocwLU0l5Qh"
     }
    }
   }
  },
  {
   "cell_type":"code",
   "source":[
    "# Vamos a ver que tipo de datos tenemos en cada columna y si hay valores nulos.\n",
    "\n",
    "df_ranking.info()"
   ],
   "execution_count":25,
   "outputs":[
    {
     "name":"stdout",
     "text":[
      "<class 'pandas.core.frame.DataFrame'>\n",
      "RangeIndex: 1998 entries, 0 to 1997\n",
      "Data columns (total 3 columns):\n",
      " #   Column  Non-Null Count  Dtype \n",
      "---  ------  --------------  ----- \n",
      " 0   Rank    1998 non-null   object\n",
      " 1   Player  1992 non-null   object\n",
      " 2   Age     1992 non-null   object\n",
      "dtypes: object(3)\n",
      "memory usage: 47.0+ KB\n"
     ],
     "output_type":"stream"
    }
   ],
   "metadata":{
    "datalore":{
     "node_id":"1c4w8VQv677mdiojM6lu7Z",
     "type":"CODE",
     "hide_input_from_viewers":false,
     "hide_output_from_viewers":false,
     "report_properties":{
      "rowId":"8KIik5A0wIowobWdBC5ZGI"
     }
    }
   }
  },
  {
   "cell_type":"code",
   "source":[
    "# Vamos a cambiar el orden de las columnas para que sea más intuitivo.\n",
    "\n",
    "df_ranking = df_ranking[[\"Player\", \"Age\", \"Rank\"]]\n",
    "df_ranking.head()"
   ],
   "execution_count":26,
   "outputs":[
    {
     "data":{
      "text\/html":[
       "<div>\n",
       "<style scoped>\n",
       "    .dataframe tbody tr th:only-of-type {\n",
       "        vertical-align: middle;\n",
       "    }\n",
       "\n",
       "    .dataframe tbody tr th {\n",
       "        vertical-align: top;\n",
       "    }\n",
       "\n",
       "    .dataframe thead th {\n",
       "        text-align: right;\n",
       "    }\n",
       "<\/style>\n",
       "<table border=\"1\" class=\"dataframe\">\n",
       "  <thead>\n",
       "    <tr style=\"text-align: right;\">\n",
       "      <th><\/th>\n",
       "      <th>Player<\/th>\n",
       "      <th>Age<\/th>\n",
       "      <th>Rank<\/th>\n",
       "    <\/tr>\n",
       "  <\/thead>\n",
       "  <tbody>\n",
       "    <tr>\n",
       "      <th>0<\/th>\n",
       "      <td>\\n                            Carlos Alcaraz\\n...<\/td>\n",
       "      <td>\\n19<\/td>\n",
       "      <td>\\n                1\\n<\/td>\n",
       "    <\/tr>\n",
       "    <tr>\n",
       "      <th>1<\/th>\n",
       "      <td>\\n                            Novak Djokovic\\n...<\/td>\n",
       "      <td>\\n35<\/td>\n",
       "      <td>\\n                2\\n<\/td>\n",
       "    <\/tr>\n",
       "    <tr>\n",
       "      <th>2<\/th>\n",
       "      <td>\\n                            Stefanos Tsitsip...<\/td>\n",
       "      <td>\\n24<\/td>\n",
       "      <td>\\n                3\\n<\/td>\n",
       "    <\/tr>\n",
       "    <tr>\n",
       "      <th>3<\/th>\n",
       "      <td>\\n                            Casper Ruud\\n   ...<\/td>\n",
       "      <td>\\n24<\/td>\n",
       "      <td>\\n                4\\n<\/td>\n",
       "    <\/tr>\n",
       "    <tr>\n",
       "      <th>4<\/th>\n",
       "      <td>\\n                            Daniil Medvedev\\...<\/td>\n",
       "      <td>\\n27<\/td>\n",
       "      <td>\\n                5\\n<\/td>\n",
       "    <\/tr>\n",
       "  <\/tbody>\n",
       "<\/table>\n",
       "<\/div>"
      ]
     },
     "metadata":{
      
     },
     "output_type":"display_data"
    }
   ],
   "metadata":{
    "datalore":{
     "node_id":"ILzx5xnzndVeITxmcVObSD",
     "type":"CODE",
     "hide_input_from_viewers":false,
     "hide_output_from_viewers":false,
     "report_properties":{
      "rowId":"32wffgPXMVuM4vdpN3StCq"
     }
    }
   }
  },
  {
   "cell_type":"code",
   "source":[
    "# convertimos todas las columnas a float\n",
    "\n",
    "df_ranking = convert_to_float(df_ranking)\n",
    "df_ranking.head()"
   ],
   "execution_count":27,
   "outputs":[
    {
     "data":{
      "text\/html":[
       "<div>\n",
       "<style scoped>\n",
       "    .dataframe tbody tr th:only-of-type {\n",
       "        vertical-align: middle;\n",
       "    }\n",
       "\n",
       "    .dataframe tbody tr th {\n",
       "        vertical-align: top;\n",
       "    }\n",
       "\n",
       "    .dataframe thead th {\n",
       "        text-align: right;\n",
       "    }\n",
       "<\/style>\n",
       "<table border=\"1\" class=\"dataframe\">\n",
       "  <thead>\n",
       "    <tr style=\"text-align: right;\">\n",
       "      <th><\/th>\n",
       "      <th>Player<\/th>\n",
       "      <th>Age<\/th>\n",
       "      <th>Rank<\/th>\n",
       "    <\/tr>\n",
       "  <\/thead>\n",
       "  <tbody>\n",
       "    <tr>\n",
       "      <th>0<\/th>\n",
       "      <td>\\n                            Carlos Alcaraz\\n...<\/td>\n",
       "      <td>19.0<\/td>\n",
       "      <td>1.0<\/td>\n",
       "    <\/tr>\n",
       "    <tr>\n",
       "      <th>1<\/th>\n",
       "      <td>\\n                            Novak Djokovic\\n...<\/td>\n",
       "      <td>35.0<\/td>\n",
       "      <td>2.0<\/td>\n",
       "    <\/tr>\n",
       "    <tr>\n",
       "      <th>2<\/th>\n",
       "      <td>\\n                            Stefanos Tsitsip...<\/td>\n",
       "      <td>24.0<\/td>\n",
       "      <td>3.0<\/td>\n",
       "    <\/tr>\n",
       "    <tr>\n",
       "      <th>3<\/th>\n",
       "      <td>\\n                            Casper Ruud\\n   ...<\/td>\n",
       "      <td>24.0<\/td>\n",
       "      <td>4.0<\/td>\n",
       "    <\/tr>\n",
       "    <tr>\n",
       "      <th>4<\/th>\n",
       "      <td>\\n                            Daniil Medvedev\\...<\/td>\n",
       "      <td>27.0<\/td>\n",
       "      <td>5.0<\/td>\n",
       "    <\/tr>\n",
       "  <\/tbody>\n",
       "<\/table>\n",
       "<\/div>"
      ]
     },
     "metadata":{
      
     },
     "output_type":"display_data"
    }
   ],
   "metadata":{
    "datalore":{
     "node_id":"FpMlz1389PNrg4iFP38kW5",
     "type":"CODE",
     "hide_input_from_viewers":false,
     "hide_output_from_viewers":false,
     "report_properties":{
      "rowId":"RubKzexScxmAVWoGGZI8da"
     }
    }
   }
  },
  {
   "cell_type":"code",
   "source":[
    "# Por ultimo vamos a quitar todas las \\n que hay en la columna Player.\n",
    "\n",
    "df_ranking['Player'] = df_ranking['Player'].apply(lambda x: x.replace('\\n', '') if isinstance(x, str) else x)\n",
    "df_ranking.head()"
   ],
   "execution_count":28,
   "outputs":[
    {
     "data":{
      "text\/html":[
       "<div>\n",
       "<style scoped>\n",
       "    .dataframe tbody tr th:only-of-type {\n",
       "        vertical-align: middle;\n",
       "    }\n",
       "\n",
       "    .dataframe tbody tr th {\n",
       "        vertical-align: top;\n",
       "    }\n",
       "\n",
       "    .dataframe thead th {\n",
       "        text-align: right;\n",
       "    }\n",
       "<\/style>\n",
       "<table border=\"1\" class=\"dataframe\">\n",
       "  <thead>\n",
       "    <tr style=\"text-align: right;\">\n",
       "      <th><\/th>\n",
       "      <th>Player<\/th>\n",
       "      <th>Age<\/th>\n",
       "      <th>Rank<\/th>\n",
       "    <\/tr>\n",
       "  <\/thead>\n",
       "  <tbody>\n",
       "    <tr>\n",
       "      <th>0<\/th>\n",
       "      <td>Carlos Alcaraz    ...<\/td>\n",
       "      <td>19.0<\/td>\n",
       "      <td>1.0<\/td>\n",
       "    <\/tr>\n",
       "    <tr>\n",
       "      <th>1<\/th>\n",
       "      <td>Novak Djokovic    ...<\/td>\n",
       "      <td>35.0<\/td>\n",
       "      <td>2.0<\/td>\n",
       "    <\/tr>\n",
       "    <tr>\n",
       "      <th>2<\/th>\n",
       "      <td>Stefanos Tsitsipas...<\/td>\n",
       "      <td>24.0<\/td>\n",
       "      <td>3.0<\/td>\n",
       "    <\/tr>\n",
       "    <tr>\n",
       "      <th>3<\/th>\n",
       "      <td>Casper Ruud       ...<\/td>\n",
       "      <td>24.0<\/td>\n",
       "      <td>4.0<\/td>\n",
       "    <\/tr>\n",
       "    <tr>\n",
       "      <th>4<\/th>\n",
       "      <td>Daniil Medvedev   ...<\/td>\n",
       "      <td>27.0<\/td>\n",
       "      <td>5.0<\/td>\n",
       "    <\/tr>\n",
       "  <\/tbody>\n",
       "<\/table>\n",
       "<\/div>"
      ]
     },
     "metadata":{
      
     },
     "output_type":"display_data"
    }
   ],
   "metadata":{
    "datalore":{
     "node_id":"1IVTkJwRi4yWMLWWnMGAmI",
     "type":"CODE",
     "hide_input_from_viewers":false,
     "hide_output_from_viewers":false,
     "report_properties":{
      "rowId":"798SJfomKnnSAKDBwzyOQo"
     }
    }
   }
  },
  {
   "cell_type":"code",
   "source":[
    "# Comprobamos que los datos se han convertido correctamente.\n",
    "\n",
    "df_ranking.info()"
   ],
   "execution_count":29,
   "outputs":[
    {
     "name":"stdout",
     "text":[
      "<class 'pandas.core.frame.DataFrame'>\n",
      "RangeIndex: 1998 entries, 0 to 1997\n",
      "Data columns (total 3 columns):\n",
      " #   Column  Non-Null Count  Dtype  \n",
      "---  ------  --------------  -----  \n",
      " 0   Player  1992 non-null   object \n",
      " 1   Age     1980 non-null   float32\n",
      " 2   Rank    1188 non-null   float32\n",
      "dtypes: float32(2), object(1)\n",
      "memory usage: 31.3+ KB\n"
     ],
     "output_type":"stream"
    }
   ],
   "metadata":{
    "datalore":{
     "node_id":"WHm6OzPMvnYhNRLBuaWgnQ",
     "type":"CODE",
     "hide_input_from_viewers":false,
     "hide_output_from_viewers":false,
     "report_properties":{
      "rowId":"FaDGIvqKrEwfWMtkrsWnTg"
     }
    }
   }
  },
  {
   "cell_type":"markdown",
   "source":[
    "# MERGE DATAFRAMES\n",
    "\n",
    "## Comenzamos uniendo los 4 dataframes que contienen las estadísticas de los jugadores para crear un único dataframe."
   ],
   "attachments":{
    
   },
   "metadata":{
    "datalore":{
     "node_id":"cd29grfnWQk66Bh4npaqgx",
     "type":"MD",
     "hide_input_from_viewers":false,
     "hide_output_from_viewers":false,
     "report_properties":{
      "rowId":"S6zJ70PaAwAZ7bDbSMWYz0"
     }
    }
   }
  },
  {
   "cell_type":"code",
   "source":[
    "# Vamos a hacer un merge de los 4 dataframes que contienen las estadísticas de los jugadores.\n",
    "# Usamos la columna Player como clave para hacer el merge.\n",
    "\n",
    "# Primero la columna Player la pasamos a formato Title para que coincida con el formato de los otros dataframes.\n",
    "# Eliminamos si tiene espacios al principio o al final.\n",
    "\n",
    "df_ranking['Player'] = df_ranking['Player'].apply(lambda x: x.title().strip() if isinstance(x, str) else x)\n",
    "df_ranking.head()"
   ],
   "execution_count":30,
   "outputs":[
    {
     "data":{
      "text\/html":[
       "<div>\n",
       "<style scoped>\n",
       "    .dataframe tbody tr th:only-of-type {\n",
       "        vertical-align: middle;\n",
       "    }\n",
       "\n",
       "    .dataframe tbody tr th {\n",
       "        vertical-align: top;\n",
       "    }\n",
       "\n",
       "    .dataframe thead th {\n",
       "        text-align: right;\n",
       "    }\n",
       "<\/style>\n",
       "<table border=\"1\" class=\"dataframe\">\n",
       "  <thead>\n",
       "    <tr style=\"text-align: right;\">\n",
       "      <th><\/th>\n",
       "      <th>Player<\/th>\n",
       "      <th>Age<\/th>\n",
       "      <th>Rank<\/th>\n",
       "    <\/tr>\n",
       "  <\/thead>\n",
       "  <tbody>\n",
       "    <tr>\n",
       "      <th>0<\/th>\n",
       "      <td>Carlos Alcaraz<\/td>\n",
       "      <td>19.0<\/td>\n",
       "      <td>1.0<\/td>\n",
       "    <\/tr>\n",
       "    <tr>\n",
       "      <th>1<\/th>\n",
       "      <td>Novak Djokovic<\/td>\n",
       "      <td>35.0<\/td>\n",
       "      <td>2.0<\/td>\n",
       "    <\/tr>\n",
       "    <tr>\n",
       "      <th>2<\/th>\n",
       "      <td>Stefanos Tsitsipas<\/td>\n",
       "      <td>24.0<\/td>\n",
       "      <td>3.0<\/td>\n",
       "    <\/tr>\n",
       "    <tr>\n",
       "      <th>3<\/th>\n",
       "      <td>Casper Ruud<\/td>\n",
       "      <td>24.0<\/td>\n",
       "      <td>4.0<\/td>\n",
       "    <\/tr>\n",
       "    <tr>\n",
       "      <th>4<\/th>\n",
       "      <td>Daniil Medvedev<\/td>\n",
       "      <td>27.0<\/td>\n",
       "      <td>5.0<\/td>\n",
       "    <\/tr>\n",
       "  <\/tbody>\n",
       "<\/table>\n",
       "<\/div>"
      ]
     },
     "metadata":{
      
     },
     "output_type":"display_data"
    }
   ],
   "metadata":{
    "datalore":{
     "node_id":"G8Xa59a2edh6hHQnGhsjBK",
     "type":"CODE",
     "hide_input_from_viewers":false,
     "hide_output_from_viewers":false,
     "report_properties":{
      "rowId":"CViMfPuLtNRCngAaJRtuam"
     }
    }
   }
  },
  {
   "cell_type":"code",
   "source":[
    "# Hacemos el merge de los 4 dataframes.\n",
    "\n",
    "df_stats = pd.merge(df_serve, df_return, on='Player')\n",
    "df_stats = pd.merge(df_stats, df_underpressure, on='Player')\n",
    "df_stats = pd.merge(df_stats, df_win_loss, on='Player')\n",
    "df_stats.head()"
   ],
   "execution_count":31,
   "outputs":[
    {
     "data":{
      "text\/html":[
       "<div>\n",
       "<style scoped>\n",
       "    .dataframe tbody tr th:only-of-type {\n",
       "        vertical-align: middle;\n",
       "    }\n",
       "\n",
       "    .dataframe tbody tr th {\n",
       "        vertical-align: top;\n",
       "    }\n",
       "\n",
       "    .dataframe thead th {\n",
       "        text-align: right;\n",
       "    }\n",
       "<\/style>\n",
       "<table border=\"1\" class=\"dataframe\">\n",
       "  <thead>\n",
       "    <tr style=\"text-align: right;\">\n",
       "      <th><\/th>\n",
       "      <th>Player<\/th>\n",
       "      <th>Serve Rating<\/th>\n",
       "      <th>%1stServe<\/th>\n",
       "      <th>%1stServePointsWon<\/th>\n",
       "      <th>%2ndServePointsWon<\/th>\n",
       "      <th>%ServiceGamesWon<\/th>\n",
       "      <th>AvgACESMatch<\/th>\n",
       "      <th>AvgDoubleFaultsMatch<\/th>\n",
       "      <th>Return Rating<\/th>\n",
       "      <th>%1st Serve Return Points Won<\/th>\n",
       "      <th>%2nd Serve Return Points Won<\/th>\n",
       "      <th>%Return Games Won<\/th>\n",
       "      <th>%Breaks Points Converted<\/th>\n",
       "      <th>Underpressure Rating<\/th>\n",
       "      <th>%BreakPointsConverted<\/th>\n",
       "      <th>%BreaksPointsSaved<\/th>\n",
       "      <th>%TieBreaks Won<\/th>\n",
       "      <th>%Deciding Sets Won<\/th>\n",
       "      <th>%AvgWinLoss<\/th>\n",
       "    <\/tr>\n",
       "  <\/thead>\n",
       "  <tbody>\n",
       "    <tr>\n",
       "      <th>0<\/th>\n",
       "      <td>John Isner<\/td>\n",
       "      <td>308.500000<\/td>\n",
       "      <td>67.699997<\/td>\n",
       "      <td>79.800003<\/td>\n",
       "      <td>52.700001<\/td>\n",
       "      <td>90.199997<\/td>\n",
       "      <td>21.1<\/td>\n",
       "      <td>3.0<\/td>\n",
       "      <td>93.800003<\/td>\n",
       "      <td>20.900000<\/td>\n",
       "      <td>40.000000<\/td>\n",
       "      <td>7.100000<\/td>\n",
       "      <td>25.799999<\/td>\n",
       "      <td>219.100006<\/td>\n",
       "      <td>25.799999<\/td>\n",
       "      <td>69.300003<\/td>\n",
       "      <td>71.099998<\/td>\n",
       "      <td>52.900002<\/td>\n",
       "      <td>0.444<\/td>\n",
       "    <\/tr>\n",
       "    <tr>\n",
       "      <th>1<\/th>\n",
       "      <td>Hubert Hurkacz<\/td>\n",
       "      <td>299.700012<\/td>\n",
       "      <td>63.400002<\/td>\n",
       "      <td>79.199997<\/td>\n",
       "      <td>54.900002<\/td>\n",
       "      <td>89.900002<\/td>\n",
       "      <td>14.0<\/td>\n",
       "      <td>1.7<\/td>\n",
       "      <td>125.300003<\/td>\n",
       "      <td>27.200001<\/td>\n",
       "      <td>46.599998<\/td>\n",
       "      <td>16.500000<\/td>\n",
       "      <td>35.000000<\/td>\n",
       "      <td>226.399994<\/td>\n",
       "      <td>35.000000<\/td>\n",
       "      <td>67.699997<\/td>\n",
       "      <td>54.700001<\/td>\n",
       "      <td>69.000000<\/td>\n",
       "      <td>0.684<\/td>\n",
       "    <\/tr>\n",
       "    <tr>\n",
       "      <th>2<\/th>\n",
       "      <td>Matteo Berrettini<\/td>\n",
       "      <td>292.200012<\/td>\n",
       "      <td>62.500000<\/td>\n",
       "      <td>79.599998<\/td>\n",
       "      <td>52.000000<\/td>\n",
       "      <td>88.500000<\/td>\n",
       "      <td>11.5<\/td>\n",
       "      <td>1.9<\/td>\n",
       "      <td>129.800003<\/td>\n",
       "      <td>29.500000<\/td>\n",
       "      <td>45.700001<\/td>\n",
       "      <td>18.799999<\/td>\n",
       "      <td>35.799999<\/td>\n",
       "      <td>210.000000<\/td>\n",
       "      <td>35.799999<\/td>\n",
       "      <td>67.099998<\/td>\n",
       "      <td>50.000000<\/td>\n",
       "      <td>57.099998<\/td>\n",
       "      <td>0.500<\/td>\n",
       "    <\/tr>\n",
       "    <tr>\n",
       "      <th>3<\/th>\n",
       "      <td>Novak Djokovic<\/td>\n",
       "      <td>292.100006<\/td>\n",
       "      <td>65.300003<\/td>\n",
       "      <td>77.199997<\/td>\n",
       "      <td>57.000000<\/td>\n",
       "      <td>88.699997<\/td>\n",
       "      <td>6.0<\/td>\n",
       "      <td>2.1<\/td>\n",
       "      <td>160.500000<\/td>\n",
       "      <td>33.500000<\/td>\n",
       "      <td>55.900002<\/td>\n",
       "      <td>29.299999<\/td>\n",
       "      <td>41.799999<\/td>\n",
       "      <td>249.699997<\/td>\n",
       "      <td>41.799999<\/td>\n",
       "      <td>64.300003<\/td>\n",
       "      <td>80.000000<\/td>\n",
       "      <td>63.599998<\/td>\n",
       "      <td>0.938<\/td>\n",
       "    <\/tr>\n",
       "    <tr>\n",
       "      <th>4<\/th>\n",
       "      <td>Ben Shelton<\/td>\n",
       "      <td>292.000000<\/td>\n",
       "      <td>60.700001<\/td>\n",
       "      <td>79.300003<\/td>\n",
       "      <td>55.900002<\/td>\n",
       "      <td>89.400002<\/td>\n",
       "      <td>11.3<\/td>\n",
       "      <td>4.6<\/td>\n",
       "      <td>118.500000<\/td>\n",
       "      <td>23.799999<\/td>\n",
       "      <td>42.099998<\/td>\n",
       "      <td>13.300000<\/td>\n",
       "      <td>39.299999<\/td>\n",
       "      <td>209.000000<\/td>\n",
       "      <td>39.299999<\/td>\n",
       "      <td>70.500000<\/td>\n",
       "      <td>56.299999<\/td>\n",
       "      <td>42.900002<\/td>\n",
       "      <td>0.545<\/td>\n",
       "    <\/tr>\n",
       "  <\/tbody>\n",
       "<\/table>\n",
       "<\/div>"
      ]
     },
     "metadata":{
      
     },
     "output_type":"display_data"
    }
   ],
   "metadata":{
    "datalore":{
     "node_id":"qgqbgot4t02pgjzJovlbRB",
     "type":"CODE",
     "hide_input_from_viewers":false,
     "hide_output_from_viewers":false,
     "report_properties":{
      "rowId":"0tpfjHZMcgKOTRYzB3GU3i"
     }
    }
   }
  },
  {
   "cell_type":"code",
   "source":[
    "# hacemos lo mismo con el dataframe de ranking.\n",
    "\n",
    "df_stats['Player'] = df_stats['Player'].apply(lambda x: x.title().strip() if isinstance(x, str) else x)\n",
    "df_stats.head()"
   ],
   "execution_count":32,
   "outputs":[
    {
     "data":{
      "text\/html":[
       "<div>\n",
       "<style scoped>\n",
       "    .dataframe tbody tr th:only-of-type {\n",
       "        vertical-align: middle;\n",
       "    }\n",
       "\n",
       "    .dataframe tbody tr th {\n",
       "        vertical-align: top;\n",
       "    }\n",
       "\n",
       "    .dataframe thead th {\n",
       "        text-align: right;\n",
       "    }\n",
       "<\/style>\n",
       "<table border=\"1\" class=\"dataframe\">\n",
       "  <thead>\n",
       "    <tr style=\"text-align: right;\">\n",
       "      <th><\/th>\n",
       "      <th>Player<\/th>\n",
       "      <th>Serve Rating<\/th>\n",
       "      <th>%1stServe<\/th>\n",
       "      <th>%1stServePointsWon<\/th>\n",
       "      <th>%2ndServePointsWon<\/th>\n",
       "      <th>%ServiceGamesWon<\/th>\n",
       "      <th>AvgACESMatch<\/th>\n",
       "      <th>AvgDoubleFaultsMatch<\/th>\n",
       "      <th>Return Rating<\/th>\n",
       "      <th>%1st Serve Return Points Won<\/th>\n",
       "      <th>%2nd Serve Return Points Won<\/th>\n",
       "      <th>%Return Games Won<\/th>\n",
       "      <th>%Breaks Points Converted<\/th>\n",
       "      <th>Underpressure Rating<\/th>\n",
       "      <th>%BreakPointsConverted<\/th>\n",
       "      <th>%BreaksPointsSaved<\/th>\n",
       "      <th>%TieBreaks Won<\/th>\n",
       "      <th>%Deciding Sets Won<\/th>\n",
       "      <th>%AvgWinLoss<\/th>\n",
       "    <\/tr>\n",
       "  <\/thead>\n",
       "  <tbody>\n",
       "    <tr>\n",
       "      <th>0<\/th>\n",
       "      <td>John Isner<\/td>\n",
       "      <td>308.500000<\/td>\n",
       "      <td>67.699997<\/td>\n",
       "      <td>79.800003<\/td>\n",
       "      <td>52.700001<\/td>\n",
       "      <td>90.199997<\/td>\n",
       "      <td>21.1<\/td>\n",
       "      <td>3.0<\/td>\n",
       "      <td>93.800003<\/td>\n",
       "      <td>20.900000<\/td>\n",
       "      <td>40.000000<\/td>\n",
       "      <td>7.100000<\/td>\n",
       "      <td>25.799999<\/td>\n",
       "      <td>219.100006<\/td>\n",
       "      <td>25.799999<\/td>\n",
       "      <td>69.300003<\/td>\n",
       "      <td>71.099998<\/td>\n",
       "      <td>52.900002<\/td>\n",
       "      <td>0.444<\/td>\n",
       "    <\/tr>\n",
       "    <tr>\n",
       "      <th>1<\/th>\n",
       "      <td>Hubert Hurkacz<\/td>\n",
       "      <td>299.700012<\/td>\n",
       "      <td>63.400002<\/td>\n",
       "      <td>79.199997<\/td>\n",
       "      <td>54.900002<\/td>\n",
       "      <td>89.900002<\/td>\n",
       "      <td>14.0<\/td>\n",
       "      <td>1.7<\/td>\n",
       "      <td>125.300003<\/td>\n",
       "      <td>27.200001<\/td>\n",
       "      <td>46.599998<\/td>\n",
       "      <td>16.500000<\/td>\n",
       "      <td>35.000000<\/td>\n",
       "      <td>226.399994<\/td>\n",
       "      <td>35.000000<\/td>\n",
       "      <td>67.699997<\/td>\n",
       "      <td>54.700001<\/td>\n",
       "      <td>69.000000<\/td>\n",
       "      <td>0.684<\/td>\n",
       "    <\/tr>\n",
       "    <tr>\n",
       "      <th>2<\/th>\n",
       "      <td>Matteo Berrettini<\/td>\n",
       "      <td>292.200012<\/td>\n",
       "      <td>62.500000<\/td>\n",
       "      <td>79.599998<\/td>\n",
       "      <td>52.000000<\/td>\n",
       "      <td>88.500000<\/td>\n",
       "      <td>11.5<\/td>\n",
       "      <td>1.9<\/td>\n",
       "      <td>129.800003<\/td>\n",
       "      <td>29.500000<\/td>\n",
       "      <td>45.700001<\/td>\n",
       "      <td>18.799999<\/td>\n",
       "      <td>35.799999<\/td>\n",
       "      <td>210.000000<\/td>\n",
       "      <td>35.799999<\/td>\n",
       "      <td>67.099998<\/td>\n",
       "      <td>50.000000<\/td>\n",
       "      <td>57.099998<\/td>\n",
       "      <td>0.500<\/td>\n",
       "    <\/tr>\n",
       "    <tr>\n",
       "      <th>3<\/th>\n",
       "      <td>Novak Djokovic<\/td>\n",
       "      <td>292.100006<\/td>\n",
       "      <td>65.300003<\/td>\n",
       "      <td>77.199997<\/td>\n",
       "      <td>57.000000<\/td>\n",
       "      <td>88.699997<\/td>\n",
       "      <td>6.0<\/td>\n",
       "      <td>2.1<\/td>\n",
       "      <td>160.500000<\/td>\n",
       "      <td>33.500000<\/td>\n",
       "      <td>55.900002<\/td>\n",
       "      <td>29.299999<\/td>\n",
       "      <td>41.799999<\/td>\n",
       "      <td>249.699997<\/td>\n",
       "      <td>41.799999<\/td>\n",
       "      <td>64.300003<\/td>\n",
       "      <td>80.000000<\/td>\n",
       "      <td>63.599998<\/td>\n",
       "      <td>0.938<\/td>\n",
       "    <\/tr>\n",
       "    <tr>\n",
       "      <th>4<\/th>\n",
       "      <td>Ben Shelton<\/td>\n",
       "      <td>292.000000<\/td>\n",
       "      <td>60.700001<\/td>\n",
       "      <td>79.300003<\/td>\n",
       "      <td>55.900002<\/td>\n",
       "      <td>89.400002<\/td>\n",
       "      <td>11.3<\/td>\n",
       "      <td>4.6<\/td>\n",
       "      <td>118.500000<\/td>\n",
       "      <td>23.799999<\/td>\n",
       "      <td>42.099998<\/td>\n",
       "      <td>13.300000<\/td>\n",
       "      <td>39.299999<\/td>\n",
       "      <td>209.000000<\/td>\n",
       "      <td>39.299999<\/td>\n",
       "      <td>70.500000<\/td>\n",
       "      <td>56.299999<\/td>\n",
       "      <td>42.900002<\/td>\n",
       "      <td>0.545<\/td>\n",
       "    <\/tr>\n",
       "  <\/tbody>\n",
       "<\/table>\n",
       "<\/div>"
      ]
     },
     "metadata":{
      
     },
     "output_type":"display_data"
    }
   ],
   "metadata":{
    "datalore":{
     "node_id":"Ci8QEtT2VqxkB1oIjSDVT4",
     "type":"CODE",
     "hide_input_from_viewers":false,
     "hide_output_from_viewers":false,
     "report_properties":{
      "rowId":"gJdTjHjS64gCzFaVrv99UF"
     }
    }
   }
  },
  {
   "cell_type":"code",
   "source":[
    "# Hacemos el merge de los 2 dataframes.\n",
    "\n",
    "df = pd.merge(df_stats, df_ranking, on='Player')\n",
    "df.head()"
   ],
   "execution_count":33,
   "outputs":[
    {
     "data":{
      "text\/html":[
       "<div>\n",
       "<style scoped>\n",
       "    .dataframe tbody tr th:only-of-type {\n",
       "        vertical-align: middle;\n",
       "    }\n",
       "\n",
       "    .dataframe tbody tr th {\n",
       "        vertical-align: top;\n",
       "    }\n",
       "\n",
       "    .dataframe thead th {\n",
       "        text-align: right;\n",
       "    }\n",
       "<\/style>\n",
       "<table border=\"1\" class=\"dataframe\">\n",
       "  <thead>\n",
       "    <tr style=\"text-align: right;\">\n",
       "      <th><\/th>\n",
       "      <th>Player<\/th>\n",
       "      <th>Serve Rating<\/th>\n",
       "      <th>%1stServe<\/th>\n",
       "      <th>%1stServePointsWon<\/th>\n",
       "      <th>%2ndServePointsWon<\/th>\n",
       "      <th>%ServiceGamesWon<\/th>\n",
       "      <th>AvgACESMatch<\/th>\n",
       "      <th>AvgDoubleFaultsMatch<\/th>\n",
       "      <th>Return Rating<\/th>\n",
       "      <th>%1st Serve Return Points Won<\/th>\n",
       "      <th>...<\/th>\n",
       "      <th>%Return Games Won<\/th>\n",
       "      <th>%Breaks Points Converted<\/th>\n",
       "      <th>Underpressure Rating<\/th>\n",
       "      <th>%BreakPointsConverted<\/th>\n",
       "      <th>%BreaksPointsSaved<\/th>\n",
       "      <th>%TieBreaks Won<\/th>\n",
       "      <th>%Deciding Sets Won<\/th>\n",
       "      <th>%AvgWinLoss<\/th>\n",
       "      <th>Age<\/th>\n",
       "      <th>Rank<\/th>\n",
       "    <\/tr>\n",
       "  <\/thead>\n",
       "  <tbody>\n",
       "    <tr>\n",
       "      <th>0<\/th>\n",
       "      <td>John Isner<\/td>\n",
       "      <td>308.500000<\/td>\n",
       "      <td>67.699997<\/td>\n",
       "      <td>79.800003<\/td>\n",
       "      <td>52.700001<\/td>\n",
       "      <td>90.199997<\/td>\n",
       "      <td>21.1<\/td>\n",
       "      <td>3.0<\/td>\n",
       "      <td>93.800003<\/td>\n",
       "      <td>20.900000<\/td>\n",
       "      <td>...<\/td>\n",
       "      <td>7.100000<\/td>\n",
       "      <td>25.799999<\/td>\n",
       "      <td>219.100006<\/td>\n",
       "      <td>25.799999<\/td>\n",
       "      <td>69.300003<\/td>\n",
       "      <td>71.099998<\/td>\n",
       "      <td>52.900002<\/td>\n",
       "      <td>0.444<\/td>\n",
       "      <td>37.0<\/td>\n",
       "      <td>46.0<\/td>\n",
       "    <\/tr>\n",
       "    <tr>\n",
       "      <th>1<\/th>\n",
       "      <td>Hubert Hurkacz<\/td>\n",
       "      <td>299.700012<\/td>\n",
       "      <td>63.400002<\/td>\n",
       "      <td>79.199997<\/td>\n",
       "      <td>54.900002<\/td>\n",
       "      <td>89.900002<\/td>\n",
       "      <td>14.0<\/td>\n",
       "      <td>1.7<\/td>\n",
       "      <td>125.300003<\/td>\n",
       "      <td>27.200001<\/td>\n",
       "      <td>...<\/td>\n",
       "      <td>16.500000<\/td>\n",
       "      <td>35.000000<\/td>\n",
       "      <td>226.399994<\/td>\n",
       "      <td>35.000000<\/td>\n",
       "      <td>67.699997<\/td>\n",
       "      <td>54.700001<\/td>\n",
       "      <td>69.000000<\/td>\n",
       "      <td>0.684<\/td>\n",
       "      <td>26.0<\/td>\n",
       "      <td>9.0<\/td>\n",
       "    <\/tr>\n",
       "    <tr>\n",
       "      <th>2<\/th>\n",
       "      <td>Matteo Berrettini<\/td>\n",
       "      <td>292.200012<\/td>\n",
       "      <td>62.500000<\/td>\n",
       "      <td>79.599998<\/td>\n",
       "      <td>52.000000<\/td>\n",
       "      <td>88.500000<\/td>\n",
       "      <td>11.5<\/td>\n",
       "      <td>1.9<\/td>\n",
       "      <td>129.800003<\/td>\n",
       "      <td>29.500000<\/td>\n",
       "      <td>...<\/td>\n",
       "      <td>18.799999<\/td>\n",
       "      <td>35.799999<\/td>\n",
       "      <td>210.000000<\/td>\n",
       "      <td>35.799999<\/td>\n",
       "      <td>67.099998<\/td>\n",
       "      <td>50.000000<\/td>\n",
       "      <td>57.099998<\/td>\n",
       "      <td>0.500<\/td>\n",
       "      <td>26.0<\/td>\n",
       "      <td>23.0<\/td>\n",
       "    <\/tr>\n",
       "    <tr>\n",
       "      <th>3<\/th>\n",
       "      <td>Novak Djokovic<\/td>\n",
       "      <td>292.100006<\/td>\n",
       "      <td>65.300003<\/td>\n",
       "      <td>77.199997<\/td>\n",
       "      <td>57.000000<\/td>\n",
       "      <td>88.699997<\/td>\n",
       "      <td>6.0<\/td>\n",
       "      <td>2.1<\/td>\n",
       "      <td>160.500000<\/td>\n",
       "      <td>33.500000<\/td>\n",
       "      <td>...<\/td>\n",
       "      <td>29.299999<\/td>\n",
       "      <td>41.799999<\/td>\n",
       "      <td>249.699997<\/td>\n",
       "      <td>41.799999<\/td>\n",
       "      <td>64.300003<\/td>\n",
       "      <td>80.000000<\/td>\n",
       "      <td>63.599998<\/td>\n",
       "      <td>0.938<\/td>\n",
       "      <td>35.0<\/td>\n",
       "      <td>2.0<\/td>\n",
       "    <\/tr>\n",
       "    <tr>\n",
       "      <th>4<\/th>\n",
       "      <td>Ben Shelton<\/td>\n",
       "      <td>292.000000<\/td>\n",
       "      <td>60.700001<\/td>\n",
       "      <td>79.300003<\/td>\n",
       "      <td>55.900002<\/td>\n",
       "      <td>89.400002<\/td>\n",
       "      <td>11.3<\/td>\n",
       "      <td>4.6<\/td>\n",
       "      <td>118.500000<\/td>\n",
       "      <td>23.799999<\/td>\n",
       "      <td>...<\/td>\n",
       "      <td>13.300000<\/td>\n",
       "      <td>39.299999<\/td>\n",
       "      <td>209.000000<\/td>\n",
       "      <td>39.299999<\/td>\n",
       "      <td>70.500000<\/td>\n",
       "      <td>56.299999<\/td>\n",
       "      <td>42.900002<\/td>\n",
       "      <td>0.545<\/td>\n",
       "      <td>20.0<\/td>\n",
       "      <td>39.0<\/td>\n",
       "    <\/tr>\n",
       "  <\/tbody>\n",
       "<\/table>\n",
       "<p>5 rows × 21 columns<\/p>\n",
       "<\/div>"
      ]
     },
     "metadata":{
      
     },
     "output_type":"display_data"
    }
   ],
   "metadata":{
    "datalore":{
     "node_id":"5QBMNgQazSJGxo37T5Amna",
     "type":"CODE",
     "hide_input_from_viewers":false,
     "hide_output_from_viewers":false,
     "report_properties":{
      "rowId":"FTGpdXox9r0qY0HA4FqeN4"
     }
    }
   }
  },
  {
   "cell_type":"code",
   "source":[
    "# Hacemos un diccionario del dataframe.\n",
    "\n",
    "df_dict = df.to_dict('records')\n",
    "df_dict"
   ],
   "execution_count":34,
   "outputs":[
    {
     "data":{
      "text\/plain":[
       "[{'Player': 'John Isner',\n",
       "  'Serve Rating': 308.5,\n",
       "  '%1stServe': 67.69999694824219,\n",
       "  '%1stServePointsWon': 79.80000305175781,\n",
       "  '%2ndServePointsWon': 52.70000076293945,\n",
       "  '%ServiceGamesWon': 90.19999694824219,\n",
       "  'AvgACESMatch': 21.100000381469727,\n",
       "  'AvgDoubleFaultsMatch': 3.0,\n",
       "  'Return Rating': 93.80000305175781,\n",
       "  '%1st Serve Return Points Won': 20.899999618530273,\n",
       "  '%2nd Serve Return Points Won': 40.0,\n",
       "  '%Return Games Won': 7.099999904632568,\n",
       "  '%Breaks Points Converted': 25.799999237060547,\n",
       "  'Underpressure Rating': 219.10000610351562,\n",
       "  '%BreakPointsConverted': 25.799999237060547,\n",
       "  '%BreaksPointsSaved': 69.30000305175781,\n",
       "  '%TieBreaks Won': 71.0999984741211,\n",
       "  '%Deciding Sets Won': 52.900001525878906,\n",
       "  '%AvgWinLoss': 0.4440000057220459,\n",
       "  'Age': 37.0,\n",
       "  'Rank': 46.0},\n",
       " {'Player': 'Hubert Hurkacz',\n",
       "  'Serve Rating': 299.70001220703125,\n",
       "  '%1stServe': 63.400001525878906,\n",
       "  '%1stServePointsWon': 79.19999694824219,\n",
       "  '%2ndServePointsWon': 54.900001525878906,\n",
       "  '%ServiceGamesWon': 89.9000015258789,\n",
       "  'AvgACESMatch': 14.0,\n",
       "  'AvgDoubleFaultsMatch': 1.7000000476837158,\n",
       "  'Return Rating': 125.30000305175781,\n",
       "  '%1st Serve Return Points Won': 27.200000762939453,\n",
       "  '%2nd Serve Return Points Won': 46.599998474121094,\n",
       "  '%Return Games Won': 16.5,\n",
       "  '%Breaks Points Converted': 35.0,\n",
       "  'Underpressure Rating': 226.39999389648438,\n",
       "  '%BreakPointsConverted': 35.0,\n",
       "  '%BreaksPointsSaved': 67.69999694824219,\n",
       "  '%TieBreaks Won': 54.70000076293945,\n",
       "  '%Deciding Sets Won': 69.0,\n",
       "  '%AvgWinLoss': 0.6840000152587891,\n",
       "  'Age': 26.0,\n",
       "  'Rank': 9.0},\n",
       " {'Player': 'Matteo Berrettini',\n",
       "  'Serve Rating': 292.20001220703125,\n",
       "  '%1stServe': 62.5,\n",
       "  '%1stServePointsWon': 79.5999984741211,\n",
       "  '%2ndServePointsWon': 52.0,\n",
       "  '%ServiceGamesWon': 88.5,\n",
       "  'AvgACESMatch': 11.5,\n",
       "  'AvgDoubleFaultsMatch': 1.899999976158142,\n",
       "  'Return Rating': 129.8000030517578,\n",
       "  '%1st Serve Return Points Won': 29.5,\n",
       "  '%2nd Serve Return Points Won': 45.70000076293945,\n",
       "  '%Return Games Won': 18.799999237060547,\n",
       "  '%Breaks Points Converted': 35.79999923706055,\n",
       "  'Underpressure Rating': 210.0,\n",
       "  '%BreakPointsConverted': 35.79999923706055,\n",
       "  '%BreaksPointsSaved': 67.0999984741211,\n",
       "  '%TieBreaks Won': 50.0,\n",
       "  '%Deciding Sets Won': 57.099998474121094,\n",
       "  '%AvgWinLoss': 0.5,\n",
       "  'Age': 26.0,\n",
       "  'Rank': 23.0},\n",
       " {'Player': 'Novak Djokovic',\n",
       "  'Serve Rating': 292.1000061035156,\n",
       "  '%1stServe': 65.30000305175781,\n",
       "  '%1stServePointsWon': 77.19999694824219,\n",
       "  '%2ndServePointsWon': 57.0,\n",
       "  '%ServiceGamesWon': 88.69999694824219,\n",
       "  'AvgACESMatch': 6.0,\n",
       "  'AvgDoubleFaultsMatch': 2.0999999046325684,\n",
       "  'Return Rating': 160.5,\n",
       "  '%1st Serve Return Points Won': 33.5,\n",
       "  '%2nd Serve Return Points Won': 55.900001525878906,\n",
       "  '%Return Games Won': 29.299999237060547,\n",
       "  '%Breaks Points Converted': 41.79999923706055,\n",
       "  'Underpressure Rating': 249.6999969482422,\n",
       "  '%BreakPointsConverted': 41.79999923706055,\n",
       "  '%BreaksPointsSaved': 64.30000305175781,\n",
       "  '%TieBreaks Won': 80.0,\n",
       "  '%Deciding Sets Won': 63.599998474121094,\n",
       "  '%AvgWinLoss': 0.9380000233650208,\n",
       "  'Age': 35.0,\n",
       "  'Rank': 2.0},\n",
       " {'Player': 'Ben Shelton',\n",
       "  'Serve Rating': 292.0,\n",
       "  '%1stServe': 60.70000076293945,\n",
       "  '%1stServePointsWon': 79.30000305175781,\n",
       "  '%2ndServePointsWon': 55.900001525878906,\n",
       "  '%ServiceGamesWon': 89.4000015258789,\n",
       "  'AvgACESMatch': 11.300000190734863,\n",
       "  'AvgDoubleFaultsMatch': 4.599999904632568,\n",
       "  'Return Rating': 118.5,\n",
       "  '%1st Serve Return Points Won': 23.799999237060547,\n",
       "  '%2nd Serve Return Points Won': 42.099998474121094,\n",
       "  '%Return Games Won': 13.300000190734863,\n",
       "  '%Breaks Points Converted': 39.29999923706055,\n",
       "  'Underpressure Rating': 209.0,\n",
       "  '%BreakPointsConverted': 39.29999923706055,\n",
       "  '%BreaksPointsSaved': 70.5,\n",
       "  '%TieBreaks Won': 56.29999923706055,\n",
       "  '%Deciding Sets Won': 42.900001525878906,\n",
       "  '%AvgWinLoss': 0.5450000166893005,\n",
       "  'Age': 20.0,\n",
       "  'Rank': 39.0},\n",
       " {'Player': 'Stefanos Tsitsipas',\n",
       "  'Serve Rating': 287.8999938964844,\n",
       "  '%1stServe': 63.79999923706055,\n",
       "  '%1stServePointsWon': 76.5,\n",
       "  '%2ndServePointsWon': 55.099998474121094,\n",
       "  '%ServiceGamesWon': 86.80000305175781,\n",
       "  'AvgACESMatch': 7.800000190734863,\n",
       "  'AvgDoubleFaultsMatch': 2.0999999046325684,\n",
       "  'Return Rating': 141.6999969482422,\n",
       "  '%1st Serve Return Points Won': 28.299999237060547,\n",
       "  '%2nd Serve Return Points Won': 50.20000076293945,\n",
       "  '%Return Games Won': 21.399999618530273,\n",
       "  '%Breaks Points Converted': 41.79999923706055,\n",
       "  'Underpressure Rating': 237.6999969482422,\n",
       "  '%BreakPointsConverted': 41.79999923706055,\n",
       "  '%BreaksPointsSaved': 66.0,\n",
       "  '%TieBreaks Won': 56.79999923706055,\n",
       "  '%Deciding Sets Won': 73.0999984741211,\n",
       "  '%AvgWinLoss': 0.8130000233650208,\n",
       "  'Age': 24.0,\n",
       "  'Rank': 3.0},\n",
       " {'Player': 'Maxime Cressy',\n",
       "  'Serve Rating': 287.79998779296875,\n",
       "  '%1stServe': 60.099998474121094,\n",
       "  '%1stServePointsWon': 79.80000305175781,\n",
       "  '%2ndServePointsWon': 53.099998474121094,\n",
       "  '%ServiceGamesWon': 88.5999984741211,\n",
       "  'AvgACESMatch': 15.199999809265137,\n",
       "  'AvgDoubleFaultsMatch': 9.0,\n",
       "  'Return Rating': 115.4000015258789,\n",
       "  '%1st Serve Return Points Won': 23.0,\n",
       "  '%2nd Serve Return Points Won': 40.900001525878906,\n",
       "  '%Return Games Won': 12.199999809265137,\n",
       "  '%Breaks Points Converted': 39.29999923706055,\n",
       "  'Underpressure Rating': 186.89999389648438,\n",
       "  '%BreakPointsConverted': 39.29999923706055,\n",
       "  '%BreaksPointsSaved': 64.30000305175781,\n",
       "  '%TieBreaks Won': 35.70000076293945,\n",
       "  '%Deciding Sets Won': 47.599998474121094,\n",
       "  '%AvgWinLoss': 0.5,\n",
       "  'Age': 25.0,\n",
       "  'Rank': 37.0},\n",
       " {'Player': 'Felix Auger-Aliassime',\n",
       "  'Serve Rating': 285.8999938964844,\n",
       "  '%1stServe': 64.0999984741211,\n",
       "  '%1stServePointsWon': 77.5,\n",
       "  '%2ndServePointsWon': 50.599998474121094,\n",
       "  '%ServiceGamesWon': 86.5,\n",
       "  'AvgACESMatch': 10.5,\n",
       "  'AvgDoubleFaultsMatch': 3.299999952316284,\n",
       "  'Return Rating': 136.60000610351562,\n",
       "  '%1st Serve Return Points Won': 30.700000762939453,\n",
       "  '%2nd Serve Return Points Won': 47.599998474121094,\n",
       "  '%Return Games Won': 20.799999237060547,\n",
       "  '%Breaks Points Converted': 37.5,\n",
       "  'Underpressure Rating': 223.1999969482422,\n",
       "  '%BreakPointsConverted': 37.5,\n",
       "  '%BreaksPointsSaved': 66.5999984741211,\n",
       "  '%TieBreaks Won': 52.400001525878906,\n",
       "  '%Deciding Sets Won': 66.69999694824219,\n",
       "  '%AvgWinLoss': 0.6470000147819519,\n",
       "  'Age': 22.0,\n",
       "  'Rank': 6.0},\n",
       " {'Player': 'Taylor Fritz',\n",
       "  'Serve Rating': 284.3999938964844,\n",
       "  '%1stServe': 61.5,\n",
       "  '%1stServePointsWon': 77.0999984741211,\n",
       "  '%2ndServePointsWon': 53.0,\n",
       "  '%ServiceGamesWon': 85.5,\n",
       "  'AvgACESMatch': 9.199999809265137,\n",
       "  'AvgDoubleFaultsMatch': 1.899999976158142,\n",
       "  'Return Rating': 142.1999969482422,\n",
       "  '%1st Serve Return Points Won': 27.899999618530273,\n",
       "  '%2nd Serve Return Points Won': 52.20000076293945,\n",
       "  '%Return Games Won': 21.899999618530273,\n",
       "  '%Breaks Points Converted': 40.20000076293945,\n",
       "  'Underpressure Rating': 215.0,\n",
       "  '%BreakPointsConverted': 40.20000076293945,\n",
       "  '%BreaksPointsSaved': 63.0,\n",
       "  '%TieBreaks Won': 58.5,\n",
       "  '%Deciding Sets Won': 53.29999923706055,\n",
       "  '%AvgWinLoss': 0.7730000019073486,\n",
       "  'Age': 25.0,\n",
       "  'Rank': 10.0},\n",
       " {'Player': 'Casper Ruud',\n",
       "  'Serve Rating': 283.0,\n",
       "  '%1stServe': 65.19999694824219,\n",
       "  '%1stServePointsWon': 74.0,\n",
       "  '%2ndServePointsWon': 55.20000076293945,\n",
       "  '%ServiceGamesWon': 84.5999984741211,\n",
       "  'AvgACESMatch': 6.0,\n",
       "  'AvgDoubleFaultsMatch': 2.0,\n",
       "  'Return Rating': 138.6999969482422,\n",
       "  '%1st Serve Return Points Won': 28.700000762939453,\n",
       "  '%2nd Serve Return Points Won': 50.0,\n",
       "  '%Return Games Won': 22.100000381469727,\n",
       "  '%Breaks Points Converted': 37.900001525878906,\n",
       "  'Underpressure Rating': 219.0,\n",
       "  '%BreakPointsConverted': 37.900001525878906,\n",
       "  '%BreaksPointsSaved': 62.20000076293945,\n",
       "  '%TieBreaks Won': 61.0,\n",
       "  '%Deciding Sets Won': 57.900001525878906,\n",
       "  '%AvgWinLoss': 0.4440000057220459,\n",
       "  'Age': 24.0,\n",
       "  'Rank': 4.0},\n",
       " {'Player': 'Marc-Andrea Huesler',\n",
       "  'Serve Rating': 282.8999938964844,\n",
       "  '%1stServe': 62.0,\n",
       "  '%1stServePointsWon': 76.0,\n",
       "  '%2ndServePointsWon': 53.0,\n",
       "  '%ServiceGamesWon': 85.0,\n",
       "  'AvgACESMatch': 8.800000190734863,\n",
       "  'AvgDoubleFaultsMatch': 1.899999976158142,\n",
       "  'Return Rating': 123.9000015258789,\n",
       "  '%1st Serve Return Points Won': 23.299999237060547,\n",
       "  '%2nd Serve Return Points Won': 44.900001525878906,\n",
       "  '%Return Games Won': 12.800000190734863,\n",
       "  '%Breaks Points Converted': 42.900001525878906,\n",
       "  'Underpressure Rating': 205.10000610351562,\n",
       "  '%BreakPointsConverted': 42.900001525878906,\n",
       "  '%BreaksPointsSaved': 60.400001525878906,\n",
       "  '%TieBreaks Won': 55.599998474121094,\n",
       "  '%Deciding Sets Won': 46.20000076293945,\n",
       "  '%AvgWinLoss': 0.4620000123977661,\n",
       "  'Age': 26.0,\n",
       "  'Rank': 47.0},\n",
       " {'Player': 'Daniil Medvedev',\n",
       "  'Serve Rating': 281.5,\n",
       "  '%1stServe': 64.30000305175781,\n",
       "  '%1stServePointsWon': 75.4000015258789,\n",
       "  '%2ndServePointsWon': 51.400001525878906,\n",
       "  '%ServiceGamesWon': 86.0,\n",
       "  'AvgACESMatch': 7.699999809265137,\n",
       "  'AvgDoubleFaultsMatch': 3.299999952316284,\n",
       "  'Return Rating': 164.60000610351562,\n",
       "  '%1st Serve Return Points Won': 32.79999923706055,\n",
       "  '%2nd Serve Return Points Won': 55.20000076293945,\n",
       "  '%Return Games Won': 30.600000381469727,\n",
       "  '%Breaks Points Converted': 46.0,\n",
       "  'Underpressure Rating': 220.5,\n",
       "  '%BreakPointsConverted': 46.0,\n",
       "  '%BreaksPointsSaved': 68.5,\n",
       "  '%TieBreaks Won': 56.0,\n",
       "  '%Deciding Sets Won': 50.0,\n",
       "  '%AvgWinLoss': 0.8889999985694885,\n",
       "  'Age': 27.0,\n",
       "  'Rank': 5.0},\n",
       " {'Player': 'Borna Coric',\n",
       "  'Serve Rating': 279.29998779296875,\n",
       "  '%1stServe': 62.400001525878906,\n",
       "  '%1stServePointsWon': 74.30000305175781,\n",
       "  '%2ndServePointsWon': 54.5,\n",
       "  '%ServiceGamesWon': 83.30000305175781,\n",
       "  'AvgACESMatch': 6.400000095367432,\n",
       "  'AvgDoubleFaultsMatch': 1.600000023841858,\n",
       "  'Return Rating': 122.4000015258789,\n",
       "  '%1st Serve Return Points Won': 25.799999237060547,\n",
       "  '%2nd Serve Return Points Won': 48.900001525878906,\n",
       "  '%Return Games Won': 15.600000381469727,\n",
       "  '%Breaks Points Converted': 32.099998474121094,\n",
       "  'Underpressure Rating': 212.10000610351562,\n",
       "  '%BreakPointsConverted': 32.099998474121094,\n",
       "  '%BreaksPointsSaved': 59.5,\n",
       "  '%TieBreaks Won': 66.69999694824219,\n",
       "  '%Deciding Sets Won': 53.79999923706055,\n",
       "  '%AvgWinLoss': 0.5830000042915344,\n",
       "  'Age': 26.0,\n",
       "  'Rank': 20.0},\n",
       " {'Player': 'Lorenzo Sonego',\n",
       "  'Serve Rating': 279.1000061035156,\n",
       "  '%1stServe': 67.69999694824219,\n",
       "  '%1stServePointsWon': 73.5,\n",
       "  '%2ndServePointsWon': 51.0,\n",
       "  '%ServiceGamesWon': 82.9000015258789,\n",
       "  'AvgACESMatch': 5.699999809265137,\n",
       "  'AvgDoubleFaultsMatch': 1.7000000476837158,\n",
       "  'Return Rating': 132.8000030517578,\n",
       "  '%1st Serve Return Points Won': 27.399999618530273,\n",
       "  '%2nd Serve Return Points Won': 45.5,\n",
       "  '%Return Games Won': 17.200000762939453,\n",
       "  '%Breaks Points Converted': 42.70000076293945,\n",
       "  'Underpressure Rating': 158.89999389648438,\n",
       "  '%BreakPointsConverted': 42.70000076293945,\n",
       "  '%BreaksPointsSaved': 59.5,\n",
       "  '%TieBreaks Won': 50.0,\n",
       "  '%Deciding Sets Won': 6.699999809265137,\n",
       "  '%AvgWinLoss': 0.38499999046325684,\n",
       "  'Age': 27.0,\n",
       "  'Rank': 59.0},\n",
       " {'Player': 'Holger Rune',\n",
       "  'Serve Rating': 278.79998779296875,\n",
       "  '%1stServe': 64.30000305175781,\n",
       "  '%1stServePointsWon': 72.5999984741211,\n",
       "  '%2ndServePointsWon': 55.099998474121094,\n",
       "  '%ServiceGamesWon': 85.0999984741211,\n",
       "  'AvgACESMatch': 5.099999904632568,\n",
       "  'AvgDoubleFaultsMatch': 3.4000000953674316,\n",
       "  'Return Rating': 144.3000030517578,\n",
       "  '%1st Serve Return Points Won': 29.600000381469727,\n",
       "  '%2nd Serve Return Points Won': 50.70000076293945,\n",
       "  '%Return Games Won': 23.100000381469727,\n",
       "  '%Breaks Points Converted': 40.900001525878906,\n",
       "  'Underpressure Rating': 215.89999389648438,\n",
       "  '%BreakPointsConverted': 40.900001525878906,\n",
       "  '%BreaksPointsSaved': 65.9000015258789,\n",
       "  '%TieBreaks Won': 63.599998474121094,\n",
       "  '%Deciding Sets Won': 45.5,\n",
       "  '%AvgWinLoss': 0.6669999957084656,\n",
       "  'Age': 19.0,\n",
       "  'Rank': 8.0},\n",
       " {'Player': 'Carlos Alcaraz',\n",
       "  'Serve Rating': 278.79998779296875,\n",
       "  '%1stServe': 66.30000305175781,\n",
       "  '%1stServePointsWon': 71.9000015258789,\n",
       "  '%2ndServePointsWon': 55.29999923706055,\n",
       "  '%ServiceGamesWon': 84.4000015258789,\n",
       "  'AvgACESMatch': 3.0999999046325684,\n",
       "  'AvgDoubleFaultsMatch': 2.200000047683716,\n",
       "  'Return Rating': 160.60000610351562,\n",
       "  '%1st Serve Return Points Won': 34.400001525878906,\n",
       "  '%2nd Serve Return Points Won': 53.5,\n",
       "  '%Return Games Won': 31.399999618530273,\n",
       "  '%Breaks Points Converted': 41.29999923706055,\n",
       "  'Underpressure Rating': 235.8000030517578,\n",
       "  '%BreakPointsConverted': 41.29999923706055,\n",
       "  '%BreaksPointsSaved': 64.69999694824219,\n",
       "  '%TieBreaks Won': 55.900001525878906,\n",
       "  '%Deciding Sets Won': 73.9000015258789,\n",
       "  '%AvgWinLoss': 0.9330000281333923,\n",
       "  'Age': 19.0,\n",
       "  'Rank': 1.0},\n",
       " {'Player': 'Alexander Zverev',\n",
       "  'Serve Rating': 277.79998779296875,\n",
       "  '%1stServe': 70.0999984741211,\n",
       "  '%1stServePointsWon': 73.80000305175781,\n",
       "  '%2ndServePointsWon': 47.599998474121094,\n",
       "  '%ServiceGamesWon': 82.0,\n",
       "  'AvgACESMatch': 7.699999809265137,\n",
       "  'AvgDoubleFaultsMatch': 3.4000000953674316,\n",
       "  'Return Rating': 141.8000030517578,\n",
       "  '%1st Serve Return Points Won': 30.600000381469727,\n",
       "  '%2nd Serve Return Points Won': 50.0,\n",
       "  '%Return Games Won': 22.600000381469727,\n",
       "  '%Breaks Points Converted': 38.599998474121094,\n",
       "  'Underpressure Rating': 237.0,\n",
       "  '%BreakPointsConverted': 38.599998474121094,\n",
       "  '%BreaksPointsSaved': 58.29999923706055,\n",
       "  '%TieBreaks Won': 78.5999984741211,\n",
       "  '%Deciding Sets Won': 61.5,\n",
       "  '%AvgWinLoss': 0.5,\n",
       "  'Age': 25.0,\n",
       "  'Rank': 15.0},\n",
       " {'Player': 'Tallon Griekspoor',\n",
       "  'Serve Rating': 277.70001220703125,\n",
       "  '%1stServe': 64.0,\n",
       "  '%1stServePointsWon': 73.9000015258789,\n",
       "  '%2ndServePointsWon': 51.79999923706055,\n",
       "  '%ServiceGamesWon': 83.19999694824219,\n",
       "  'AvgACESMatch': 7.800000190734863,\n",
       "  'AvgDoubleFaultsMatch': 3.0,\n",
       "  'Return Rating': 121.5,\n",
       "  '%1st Serve Return Points Won': 25.600000381469727,\n",
       "  '%2nd Serve Return Points Won': 46.900001525878906,\n",
       "  '%Return Games Won': 14.800000190734863,\n",
       "  '%Breaks Points Converted': 34.20000076293945,\n",
       "  'Underpressure Rating': 190.8000030517578,\n",
       "  '%BreakPointsConverted': 34.20000076293945,\n",
       "  '%BreaksPointsSaved': 61.400001525878906,\n",
       "  '%TieBreaks Won': 57.70000076293945,\n",
       "  '%Deciding Sets Won': 37.5,\n",
       "  '%AvgWinLoss': 0.722000002861023,\n",
       "  'Age': 26.0,\n",
       "  'Rank': 36.0},\n",
       " {'Player': 'Andrey Rublev',\n",
       "  'Serve Rating': 277.5,\n",
       "  '%1stServe': 61.5,\n",
       "  '%1stServePointsWon': 76.0999984741211,\n",
       "  '%2ndServePointsWon': 50.400001525878906,\n",
       "  '%ServiceGamesWon': 83.9000015258789,\n",
       "  'AvgACESMatch': 7.800000190734863,\n",
       "  'AvgDoubleFaultsMatch': 2.200000047683716,\n",
       "  'Return Rating': 139.3000030517578,\n",
       "  '%1st Serve Return Points Won': 29.899999618530273,\n",
       "  '%2nd Serve Return Points Won': 49.29999923706055,\n",
       "  '%Return Games Won': 21.200000762939453,\n",
       "  '%Breaks Points Converted': 38.900001525878906,\n",
       "  'Underpressure Rating': 227.8000030517578,\n",
       "  '%BreakPointsConverted': 38.900001525878906,\n",
       "  '%BreaksPointsSaved': 62.20000076293945,\n",
       "  '%TieBreaks Won': 61.5,\n",
       "  '%Deciding Sets Won': 65.19999694824219,\n",
       "  '%AvgWinLoss': 0.6110000014305115,\n",
       "  'Age': 25.0,\n",
       "  'Rank': 7.0},\n",
       " {'Player': 'Grigor Dimitrov',\n",
       "  'Serve Rating': 276.8999938964844,\n",
       "  '%1stServe': 62.70000076293945,\n",
       "  '%1stServePointsWon': 76.19999694824219,\n",
       "  '%2ndServePointsWon': 51.29999923706055,\n",
       "  '%ServiceGamesWon': 82.5999984741211,\n",
       "  'AvgACESMatch': 6.699999809265137,\n",
       "  'AvgDoubleFaultsMatch': 2.5999999046325684,\n",
       "  'Return Rating': 142.6999969482422,\n",
       "  '%1st Serve Return Points Won': 29.200000762939453,\n",
       "  '%2nd Serve Return Points Won': 50.400001525878906,\n",
       "  '%Return Games Won': 23.200000762939453,\n",
       "  '%Breaks Points Converted': 39.900001525878906,\n",
       "  'Underpressure Rating': 194.0,\n",
       "  '%BreakPointsConverted': 39.900001525878906,\n",
       "  '%BreaksPointsSaved': 61.20000076293945,\n",
       "  '%TieBreaks Won': 42.900001525878906,\n",
       "  '%Deciding Sets Won': 50.0,\n",
       "  '%AvgWinLoss': 0.5830000042915344,\n",
       "  'Age': 31.0,\n",
       "  'Rank': 27.0},\n",
       " {'Player': 'Roberto Bautista Agut',\n",
       "  'Serve Rating': 275.5,\n",
       "  '%1stServe': 66.0,\n",
       "  '%1stServePointsWon': 70.69999694824219,\n",
       "  '%2ndServePointsWon': 55.099998474121094,\n",
       "  '%ServiceGamesWon': 82.0999984741211,\n",
       "  'AvgACESMatch': 3.4000000953674316,\n",
       "  'AvgDoubleFaultsMatch': 1.7999999523162842,\n",
       "  'Return Rating': 142.39999389648438,\n",
       "  '%1st Serve Return Points Won': 29.200000762939453,\n",
       "  '%2nd Serve Return Points Won': 52.599998474121094,\n",
       "  '%Return Games Won': 23.700000762939453,\n",
       "  '%Breaks Points Converted': 36.900001525878906,\n",
       "  'Underpressure Rating': 189.89999389648438,\n",
       "  '%BreakPointsConverted': 36.900001525878906,\n",
       "  '%BreaksPointsSaved': 61.900001525878906,\n",
       "  '%TieBreaks Won': 44.0,\n",
       "  '%Deciding Sets Won': 47.099998474121094,\n",
       "  '%AvgWinLoss': 0.5329999923706055,\n",
       "  'Age': 34.0,\n",
       "  'Rank': 28.0},\n",
       " {'Player': 'Jack Draper',\n",
       "  'Serve Rating': 275.20001220703125,\n",
       "  '%1stServe': 58.900001525878906,\n",
       "  '%1stServePointsWon': 75.19999694824219,\n",
       "  '%2ndServePointsWon': 51.79999923706055,\n",
       "  '%ServiceGamesWon': 84.0999984741211,\n",
       "  'AvgACESMatch': 8.100000381469727,\n",
       "  'AvgDoubleFaultsMatch': 2.9000000953674316,\n",
       "  'Return Rating': 146.8000030517578,\n",
       "  '%1st Serve Return Points Won': 28.700000762939453,\n",
       "  '%2nd Serve Return Points Won': 53.0,\n",
       "  '%Return Games Won': 25.399999618530273,\n",
       "  '%Breaks Points Converted': 39.70000076293945,\n",
       "  'Underpressure Rating': 169.8000030517578,\n",
       "  '%BreakPointsConverted': 39.70000076293945,\n",
       "  '%BreaksPointsSaved': 70.80000305175781,\n",
       "  '%TieBreaks Won': 45.0,\n",
       "  '%Deciding Sets Won': 14.300000190734863,\n",
       "  '%AvgWinLoss': 0.6359999775886536,\n",
       "  'Age': 21.0,\n",
       "  'Rank': 43.0},\n",
       " {'Player': 'Karen Khachanov',\n",
       "  'Serve Rating': 275.20001220703125,\n",
       "  '%1stServe': 64.0,\n",
       "  '%1stServePointsWon': 72.5,\n",
       "  '%2ndServePointsWon': 52.099998474121094,\n",
       "  '%ServiceGamesWon': 81.5999984741211,\n",
       "  'AvgACESMatch': 7.400000095367432,\n",
       "  'AvgDoubleFaultsMatch': 2.4000000953674316,\n",
       "  'Return Rating': 143.1999969482422,\n",
       "  '%1st Serve Return Points Won': 29.100000381469727,\n",
       "  '%2nd Serve Return Points Won': 49.29999923706055,\n",
       "  '%Return Games Won': 22.0,\n",
       "  '%Breaks Points Converted': 42.79999923706055,\n",
       "  'Underpressure Rating': 222.39999389648438,\n",
       "  '%BreakPointsConverted': 42.79999923706055,\n",
       "  '%BreaksPointsSaved': 64.9000015258789,\n",
       "  '%TieBreaks Won': 50.0,\n",
       "  '%Deciding Sets Won': 64.69999694824219,\n",
       "  '%AvgWinLoss': 0.6430000066757202,\n",
       "  'Age': 26.0,\n",
       "  'Rank': 16.0},\n",
       " {'Player': 'Arthur Rinderknech',\n",
       "  'Serve Rating': 275.1000061035156,\n",
       "  '%1stServe': 65.4000015258789,\n",
       "  '%1stServePointsWon': 73.30000305175781,\n",
       "  '%2ndServePointsWon': 48.0,\n",
       "  '%ServiceGamesWon': 82.9000015258789,\n",
       "  'AvgACESMatch': 7.800000190734863,\n",
       "  'AvgDoubleFaultsMatch': 2.299999952316284,\n",
       "  'Return Rating': 115.80000305175781,\n",
       "  '%1st Serve Return Points Won': 23.899999618530273,\n",
       "  '%2nd Serve Return Points Won': 43.79999923706055,\n",
       "  '%Return Games Won': 12.5,\n",
       "  '%Breaks Points Converted': 35.599998474121094,\n",
       "  'Underpressure Rating': 213.8000030517578,\n",
       "  '%BreakPointsConverted': 35.599998474121094,\n",
       "  '%BreaksPointsSaved': 64.30000305175781,\n",
       "  '%TieBreaks Won': 38.900001525878906,\n",
       "  '%Deciding Sets Won': 75.0,\n",
       "  '%AvgWinLoss': 0.25,\n",
       "  'Age': 27.0,\n",
       "  'Rank': 72.0},\n",
       " {'Player': 'Frances Tiafoe',\n",
       "  'Serve Rating': 274.8999938964844,\n",
       "  '%1stServe': 58.0,\n",
       "  '%1stServePointsWon': 74.5,\n",
       "  '%2ndServePointsWon': 52.79999923706055,\n",
       "  '%ServiceGamesWon': 83.4000015258789,\n",
       "  'AvgACESMatch': 8.5,\n",
       "  'AvgDoubleFaultsMatch': 2.299999952316284,\n",
       "  'Return Rating': 135.6999969482422,\n",
       "  '%1st Serve Return Points Won': 27.399999618530273,\n",
       "  '%2nd Serve Return Points Won': 50.099998474121094,\n",
       "  '%Return Games Won': 20.299999237060547,\n",
       "  '%Breaks Points Converted': 37.900001525878906,\n",
       "  'Underpressure Rating': 226.1999969482422,\n",
       "  '%BreakPointsConverted': 37.900001525878906,\n",
       "  '%BreaksPointsSaved': 67.0999984741211,\n",
       "  '%TieBreaks Won': 66.69999694824219,\n",
       "  '%Deciding Sets Won': 54.5,\n",
       "  '%AvgWinLoss': 0.777999997138977,\n",
       "  'Age': 25.0,\n",
       "  'Rank': 14.0},\n",
       " {'Player': 'Benjamin Bonzi',\n",
       "  'Serve Rating': 274.79998779296875,\n",
       "  '%1stServe': 61.5,\n",
       "  '%1stServePointsWon': 73.19999694824219,\n",
       "  '%2ndServePointsWon': 52.70000076293945,\n",
       "  '%ServiceGamesWon': 83.19999694824219,\n",
       "  'AvgACESMatch': 6.900000095367432,\n",
       "  'AvgDoubleFaultsMatch': 2.700000047683716,\n",
       "  'Return Rating': 131.5,\n",
       "  '%1st Serve Return Points Won': 26.100000381469727,\n",
       "  '%2nd Serve Return Points Won': 49.20000076293945,\n",
       "  '%Return Games Won': 18.799999237060547,\n",
       "  '%Breaks Points Converted': 37.400001525878906,\n",
       "  'Underpressure Rating': 190.39999389648438,\n",
       "  '%BreakPointsConverted': 37.400001525878906,\n",
       "  '%BreaksPointsSaved': 65.30000305175781,\n",
       "  '%TieBreaks Won': 44.79999923706055,\n",
       "  '%Deciding Sets Won': 42.900001525878906,\n",
       "  '%AvgWinLoss': 0.5879999995231628,\n",
       "  'Age': 26.0,\n",
       "  'Rank': 49.0},\n",
       " {'Player': 'Stan Wawrinka',\n",
       "  'Serve Rating': 272.20001220703125,\n",
       "  '%1stServe': 56.70000076293945,\n",
       "  '%1stServePointsWon': 75.69999694824219,\n",
       "  '%2ndServePointsWon': 51.900001525878906,\n",
       "  '%ServiceGamesWon': 81.5,\n",
       "  'AvgACESMatch': 8.100000381469727,\n",
       "  'AvgDoubleFaultsMatch': 1.7000000476837158,\n",
       "  'Return Rating': 126.5,\n",
       "  '%1st Serve Return Points Won': 27.100000381469727,\n",
       "  '%2nd Serve Return Points Won': 45.29999923706055,\n",
       "  '%Return Games Won': 17.200000762939453,\n",
       "  '%Breaks Points Converted': 36.900001525878906,\n",
       "  'Underpressure Rating': 204.6999969482422,\n",
       "  '%BreakPointsConverted': 36.900001525878906,\n",
       "  '%BreaksPointsSaved': 66.0999984741211,\n",
       "  '%TieBreaks Won': 42.900001525878906,\n",
       "  '%Deciding Sets Won': 58.79999923706055,\n",
       "  '%AvgWinLoss': 0.6000000238418579,\n",
       "  'Age': 37.0,\n",
       "  'Rank': 87.0},\n",
       " {'Player': 'Jannik Sinner',\n",
       "  'Serve Rating': 272.0,\n",
       "  '%1stServe': 57.5,\n",
       "  '%1stServePointsWon': 74.5999984741211,\n",
       "  '%2ndServePointsWon': 53.400001525878906,\n",
       "  '%ServiceGamesWon': 83.19999694824219,\n",
       "  'AvgACESMatch': 6.0,\n",
       "  'AvgDoubleFaultsMatch': 2.700000047683716,\n",
       "  'Return Rating': 157.3000030517578,\n",
       "  '%1st Serve Return Points Won': 33.099998474121094,\n",
       "  '%2nd Serve Return Points Won': 53.20000076293945,\n",
       "  '%Return Games Won': 27.700000762939453,\n",
       "  '%Breaks Points Converted': 43.29999923706055,\n",
       "  'Underpressure Rating': 238.60000610351562,\n",
       "  '%BreakPointsConverted': 43.29999923706055,\n",
       "  '%BreaksPointsSaved': 63.5,\n",
       "  '%TieBreaks Won': 68.19999694824219,\n",
       "  '%Deciding Sets Won': 63.599998474121094,\n",
       "  '%AvgWinLoss': 0.800000011920929,\n",
       "  'Age': 21.0,\n",
       "  'Rank': 11.0},\n",
       " {'Player': 'Adrian Mannarino',\n",
       "  'Serve Rating': 271.8999938964844,\n",
       "  '%1stServe': 60.79999923706055,\n",
       "  '%1stServePointsWon': 71.4000015258789,\n",
       "  '%2ndServePointsWon': 55.70000076293945,\n",
       "  '%ServiceGamesWon': 80.80000305175781,\n",
       "  'AvgACESMatch': 5.0,\n",
       "  'AvgDoubleFaultsMatch': 1.7999999523162842,\n",
       "  'Return Rating': 136.89999389648438,\n",
       "  '%1st Serve Return Points Won': 28.0,\n",
       "  '%2nd Serve Return Points Won': 50.79999923706055,\n",
       "  '%Return Games Won': 20.399999618530273,\n",
       "  '%Breaks Points Converted': 37.70000076293945,\n",
       "  'Underpressure Rating': 178.10000610351562,\n",
       "  '%BreakPointsConverted': 37.70000076293945,\n",
       "  '%BreaksPointsSaved': 54.70000076293945,\n",
       "  '%TieBreaks Won': 50.0,\n",
       "  '%Deciding Sets Won': 35.70000076293945,\n",
       "  '%AvgWinLoss': 0.5630000233650208,\n",
       "  'Age': 34.0,\n",
       "  'Rank': 62.0},\n",
       " {'Player': 'Denis Shapovalov',\n",
       "  'Serve Rating': 271.79998779296875,\n",
       "  '%1stServe': 60.79999923706055,\n",
       "  '%1stServePointsWon': 75.5,\n",
       "  '%2ndServePointsWon': 50.70000076293945,\n",
       "  '%ServiceGamesWon': 82.30000305175781,\n",
       "  'AvgACESMatch': 8.100000381469727,\n",
       "  'AvgDoubleFaultsMatch': 5.599999904632568,\n",
       "  'Return Rating': 135.8000030517578,\n",
       "  '%1st Serve Return Points Won': 28.299999237060547,\n",
       "  '%2nd Serve Return Points Won': 49.0,\n",
       "  '%Return Games Won': 20.899999618530273,\n",
       "  '%Breaks Points Converted': 37.599998474121094,\n",
       "  'Underpressure Rating': 192.60000610351562,\n",
       "  '%BreakPointsConverted': 37.599998474121094,\n",
       "  '%BreaksPointsSaved': 62.099998474121094,\n",
       "  '%TieBreaks Won': 45.79999923706055,\n",
       "  '%Deciding Sets Won': 47.099998474121094,\n",
       "  '%AvgWinLoss': 0.45500001311302185,\n",
       "  'Age': 23.0,\n",
       "  'Rank': 30.0},\n",
       " {'Player': 'Sebastian Korda',\n",
       "  'Serve Rating': 271.6000061035156,\n",
       "  '%1stServe': 62.5,\n",
       "  '%1stServePointsWon': 71.80000305175781,\n",
       "  '%2ndServePointsWon': 51.400001525878906,\n",
       "  '%ServiceGamesWon': 81.5,\n",
       "  'AvgACESMatch': 6.5,\n",
       "  'AvgDoubleFaultsMatch': 2.0999999046325684,\n",
       "  'Return Rating': 150.0,\n",
       "  '%1st Serve Return Points Won': 31.0,\n",
       "  '%2nd Serve Return Points Won': 50.5,\n",
       "  '%Return Games Won': 25.100000381469727,\n",
       "  '%Breaks Points Converted': 43.400001525878906,\n",
       "  'Underpressure Rating': 220.10000610351562,\n",
       "  '%BreakPointsConverted': 43.400001525878906,\n",
       "  '%BreaksPointsSaved': 63.099998474121094,\n",
       "  '%TieBreaks Won': 60.70000076293945,\n",
       "  '%Deciding Sets Won': 52.900001525878906,\n",
       "  '%AvgWinLoss': 0.800000011920929,\n",
       "  'Age': 22.0,\n",
       "  'Rank': 26.0},\n",
       " {'Player': 'Cameron Norrie',\n",
       "  'Serve Rating': 271.5,\n",
       "  '%1stServe': 64.5999984741211,\n",
       "  '%1stServePointsWon': 72.0,\n",
       "  '%2ndServePointsWon': 50.900001525878906,\n",
       "  '%ServiceGamesWon': 80.9000015258789,\n",
       "  'AvgACESMatch': 5.300000190734863,\n",
       "  'AvgDoubleFaultsMatch': 2.200000047683716,\n",
       "  'Return Rating': 152.3000030517578,\n",
       "  '%1st Serve Return Points Won': 31.899999618530273,\n",
       "  '%2nd Serve Return Points Won': 52.20000076293945,\n",
       "  '%Return Games Won': 27.0,\n",
       "  '%Breaks Points Converted': 41.20000076293945,\n",
       "  'Underpressure Rating': 235.39999389648438,\n",
       "  '%BreakPointsConverted': 41.20000076293945,\n",
       "  '%BreaksPointsSaved': 61.70000076293945,\n",
       "  '%TieBreaks Won': 61.5,\n",
       "  '%Deciding Sets Won': 71.0,\n",
       "  '%AvgWinLoss': 0.8399999737739563,\n",
       "  'Age': 27.0,\n",
       "  'Rank': 12.0},\n",
       " {'Player': 'Oscar Otte',\n",
       "  'Serve Rating': 271.1000061035156,\n",
       "  '%1stServe': 56.599998474121094,\n",
       "  '%1stServePointsWon': 77.0,\n",
       "  '%2ndServePointsWon': 50.20000076293945,\n",
       "  '%ServiceGamesWon': 82.0,\n",
       "  'AvgACESMatch': 9.0,\n",
       "  'AvgDoubleFaultsMatch': 3.700000047683716,\n",
       "  'Return Rating': 129.5,\n",
       "  '%1st Serve Return Points Won': 27.899999618530273,\n",
       "  '%2nd Serve Return Points Won': 46.29999923706055,\n",
       "  '%Return Games Won': 17.899999618530273,\n",
       "  '%Breaks Points Converted': 37.400001525878906,\n",
       "  'Underpressure Rating': 198.1999969482422,\n",
       "  '%BreakPointsConverted': 37.400001525878906,\n",
       "  '%BreaksPointsSaved': 67.0999984741211,\n",
       "  '%TieBreaks Won': 52.0,\n",
       "  '%Deciding Sets Won': 41.70000076293945,\n",
       "  '%AvgWinLoss': 0.30000001192092896,\n",
       "  'Age': 29.0,\n",
       "  'Rank': 85.0},\n",
       " {'Player': 'J.J. Wolf',\n",
       "  'Serve Rating': 270.1000061035156,\n",
       "  '%1stServe': 60.900001525878906,\n",
       "  '%1stServePointsWon': 74.0,\n",
       "  '%2ndServePointsWon': 50.099998474121094,\n",
       "  '%ServiceGamesWon': 80.19999694824219,\n",
       "  'AvgACESMatch': 8.0,\n",
       "  'AvgDoubleFaultsMatch': 3.0999999046325684,\n",
       "  'Return Rating': 140.10000610351562,\n",
       "  '%1st Serve Return Points Won': 29.0,\n",
       "  '%2nd Serve Return Points Won': 48.29999923706055,\n",
       "  '%Return Games Won': 21.100000381469727,\n",
       "  '%Breaks Points Converted': 41.70000076293945,\n",
       "  'Underpressure Rating': 208.8000030517578,\n",
       "  '%BreakPointsConverted': 41.70000076293945,\n",
       "  '%BreaksPointsSaved': 63.29999923706055,\n",
       "  '%TieBreaks Won': 53.79999923706055,\n",
       "  '%Deciding Sets Won': 50.0,\n",
       "  '%AvgWinLoss': 0.5709999799728394,\n",
       "  'Age': 24.0,\n",
       "  'Rank': 50.0},\n",
       " {'Player': 'Lorenzo Musetti',\n",
       "  'Serve Rating': 269.1000061035156,\n",
       "  '%1stServe': 64.69999694824219,\n",
       "  '%1stServePointsWon': 69.80000305175781,\n",
       "  '%2ndServePointsWon': 53.79999923706055,\n",
       "  '%ServiceGamesWon': 78.5999984741211,\n",
       "  'AvgACESMatch': 4.0,\n",
       "  'AvgDoubleFaultsMatch': 1.7999999523162842,\n",
       "  'Return Rating': 154.0,\n",
       "  '%1st Serve Return Points Won': 30.799999237060547,\n",
       "  '%2nd Serve Return Points Won': 51.599998474121094,\n",
       "  '%Return Games Won': 25.399999618530273,\n",
       "  '%Breaks Points Converted': 46.20000076293945,\n",
       "  'Underpressure Rating': 206.3000030517578,\n",
       "  '%BreakPointsConverted': 46.20000076293945,\n",
       "  '%BreaksPointsSaved': 55.29999923706055,\n",
       "  '%TieBreaks Won': 44.79999923706055,\n",
       "  '%Deciding Sets Won': 60.0,\n",
       "  '%AvgWinLoss': 0.45500001311302185,\n",
       "  'Age': 21.0,\n",
       "  'Rank': 21.0},\n",
       " {'Player': 'Laslo Djere',\n",
       "  'Serve Rating': 269.1000061035156,\n",
       "  '%1stServe': 60.70000076293945,\n",
       "  '%1stServePointsWon': 72.5999984741211,\n",
       "  '%2ndServePointsWon': 51.20000076293945,\n",
       "  '%ServiceGamesWon': 81.80000305175781,\n",
       "  'AvgACESMatch': 6.300000190734863,\n",
       "  'AvgDoubleFaultsMatch': 3.5,\n",
       "  'Return Rating': 136.3000030517578,\n",
       "  '%1st Serve Return Points Won': 27.200000762939453,\n",
       "  '%2nd Serve Return Points Won': 48.0,\n",
       "  '%Return Games Won': 21.0,\n",
       "  '%Breaks Points Converted': 40.099998474121094,\n",
       "  'Underpressure Rating': 182.5,\n",
       "  '%BreakPointsConverted': 40.099998474121094,\n",
       "  '%BreaksPointsSaved': 65.69999694824219,\n",
       "  '%TieBreaks Won': 29.600000381469727,\n",
       "  '%Deciding Sets Won': 47.099998474121094,\n",
       "  '%AvgWinLoss': 0.5630000233650208,\n",
       "  'Age': 27.0,\n",
       "  'Rank': 58.0},\n",
       " {'Player': 'Sebastian Baez',\n",
       "  'Serve Rating': 268.3999938964844,\n",
       "  '%1stServe': 71.80000305175781,\n",
       "  '%1stServePointsWon': 65.5999984741211,\n",
       "  '%2ndServePointsWon': 54.099998474121094,\n",
       "  '%ServiceGamesWon': 76.9000015258789,\n",
       "  'AvgACESMatch': 1.7999999523162842,\n",
       "  'AvgDoubleFaultsMatch': 1.7999999523162842,\n",
       "  'Return Rating': 145.60000610351562,\n",
       "  '%1st Serve Return Points Won': 31.600000381469727,\n",
       "  '%2nd Serve Return Points Won': 50.29999923706055,\n",
       "  '%Return Games Won': 24.399999618530273,\n",
       "  '%Breaks Points Converted': 39.29999923706055,\n",
       "  'Underpressure Rating': 165.3000030517578,\n",
       "  '%BreakPointsConverted': 39.29999923706055,\n",
       "  '%BreaksPointsSaved': 56.0,\n",
       "  '%TieBreaks Won': 20.0,\n",
       "  '%Deciding Sets Won': 50.0,\n",
       "  '%AvgWinLoss': 0.5630000233650208,\n",
       "  'Age': 22.0,\n",
       "  'Rank': 33.0},\n",
       " {'Player': 'Yoshihito Nishioka',\n",
       "  'Serve Rating': 268.1000061035156,\n",
       "  '%1stServe': 67.0,\n",
       "  '%1stServePointsWon': 65.30000305175781,\n",
       "  '%2ndServePointsWon': 56.900001525878906,\n",
       "  '%ServiceGamesWon': 78.30000305175781,\n",
       "  'AvgACESMatch': 2.0,\n",
       "  'AvgDoubleFaultsMatch': 1.399999976158142,\n",
       "  'Return Rating': 148.5,\n",
       "  '%1st Serve Return Points Won': 27.299999237060547,\n",
       "  '%2nd Serve Return Points Won': 55.099998474121094,\n",
       "  '%Return Games Won': 24.5,\n",
       "  '%Breaks Points Converted': 41.599998474121094,\n",
       "  'Underpressure Rating': 229.6999969482422,\n",
       "  '%BreakPointsConverted': 41.599998474121094,\n",
       "  '%BreaksPointsSaved': 60.70000076293945,\n",
       "  '%TieBreaks Won': 52.400001525878906,\n",
       "  '%Deciding Sets Won': 75.0,\n",
       "  '%AvgWinLoss': 0.6150000095367432,\n",
       "  'Age': 27.0,\n",
       "  'Rank': 34.0},\n",
       " {'Player': 'Tommy Paul',\n",
       "  'Serve Rating': 267.79998779296875,\n",
       "  '%1stServe': 63.0,\n",
       "  '%1stServePointsWon': 71.0999984741211,\n",
       "  '%2ndServePointsWon': 51.400001525878906,\n",
       "  '%ServiceGamesWon': 80.19999694824219,\n",
       "  'AvgACESMatch': 4.599999904632568,\n",
       "  'AvgDoubleFaultsMatch': 2.5,\n",
       "  'Return Rating': 142.39999389648438,\n",
       "  '%1st Serve Return Points Won': 30.200000762939453,\n",
       "  '%2nd Serve Return Points Won': 51.20000076293945,\n",
       "  '%Return Games Won': 23.899999618530273,\n",
       "  '%Breaks Points Converted': 37.099998474121094,\n",
       "  'Underpressure Rating': 205.60000610351562,\n",
       "  '%BreakPointsConverted': 37.099998474121094,\n",
       "  '%BreaksPointsSaved': 62.400001525878906,\n",
       "  '%TieBreaks Won': 51.900001525878906,\n",
       "  '%Deciding Sets Won': 54.20000076293945,\n",
       "  '%AvgWinLoss': 0.7369999885559082,\n",
       "  'Age': 25.0,\n",
       "  'Rank': 19.0},\n",
       " {'Player': 'Andy Murray',\n",
       "  'Serve Rating': 267.79998779296875,\n",
       "  '%1stServe': 61.599998474121094,\n",
       "  '%1stServePointsWon': 72.9000015258789,\n",
       "  '%2ndServePointsWon': 50.099998474121094,\n",
       "  '%ServiceGamesWon': 80.0999984741211,\n",
       "  'AvgACESMatch': 5.900000095367432,\n",
       "  'AvgDoubleFaultsMatch': 2.799999952316284,\n",
       "  'Return Rating': 146.60000610351562,\n",
       "  '%1st Serve Return Points Won': 29.100000381469727,\n",
       "  '%2nd Serve Return Points Won': 54.0,\n",
       "  '%Return Games Won': 23.700000762939453,\n",
       "  '%Breaks Points Converted': 39.79999923706055,\n",
       "  'Underpressure Rating': 233.0,\n",
       "  '%BreakPointsConverted': 39.79999923706055,\n",
       "  '%BreaksPointsSaved': 60.70000076293945,\n",
       "  '%TieBreaks Won': 61.900001525878906,\n",
       "  '%Deciding Sets Won': 70.5999984741211,\n",
       "  '%AvgWinLoss': 0.6669999957084656,\n",
       "  'Age': 35.0,\n",
       "  'Rank': 52.0},\n",
       " {'Player': 'Jiri Lehecka',\n",
       "  'Serve Rating': 267.5,\n",
       "  '%1stServe': 64.69999694824219,\n",
       "  '%1stServePointsWon': 69.5999984741211,\n",
       "  '%2ndServePointsWon': 51.900001525878906,\n",
       "  '%ServiceGamesWon': 79.0,\n",
       "  'AvgACESMatch': 4.800000190734863,\n",
       "  'AvgDoubleFaultsMatch': 2.5,\n",
       "  'Return Rating': 133.10000610351562,\n",
       "  '%1st Serve Return Points Won': 27.799999237060547,\n",
       "  '%2nd Serve Return Points Won': 46.099998474121094,\n",
       "  '%Return Games Won': 18.799999237060547,\n",
       "  '%Breaks Points Converted': 40.400001525878906,\n",
       "  'Underpressure Rating': 203.39999389648438,\n",
       "  '%BreakPointsConverted': 40.400001525878906,\n",
       "  '%BreaksPointsSaved': 62.099998474121094,\n",
       "  '%TieBreaks Won': 56.5,\n",
       "  '%Deciding Sets Won': 44.400001525878906,\n",
       "  '%AvgWinLoss': 0.6669999957084656,\n",
       "  'Age': 21.0,\n",
       "  'Rank': 44.0},\n",
       " {'Player': 'Alexander Bublik',\n",
       "  'Serve Rating': 267.1000061035156,\n",
       "  '%1stServe': 59.0,\n",
       "  '%1stServePointsWon': 78.0,\n",
       "  '%2ndServePointsWon': 44.099998474121094,\n",
       "  '%ServiceGamesWon': 80.5,\n",
       "  'AvgACESMatch': 12.0,\n",
       "  'AvgDoubleFaultsMatch': 6.5,\n",
       "  'Return Rating': 135.6999969482422,\n",
       "  '%1st Serve Return Points Won': 28.399999618530273,\n",
       "  '%2nd Serve Return Points Won': 45.900001525878906,\n",
       "  '%Return Games Won': 18.200000762939453,\n",
       "  '%Breaks Points Converted': 43.20000076293945,\n",
       "  'Underpressure Rating': 195.89999389648438,\n",
       "  '%BreakPointsConverted': 43.20000076293945,\n",
       "  '%BreaksPointsSaved': 59.20000076293945,\n",
       "  '%TieBreaks Won': 40.900001525878906,\n",
       "  '%Deciding Sets Won': 52.599998474121094,\n",
       "  '%AvgWinLoss': 0.2669999897480011,\n",
       "  'Age': 25.0,\n",
       "  'Rank': 48.0},\n",
       " {'Player': 'Miomir Kecmanovic',\n",
       "  'Serve Rating': 266.70001220703125,\n",
       "  '%1stServe': 63.5,\n",
       "  '%1stServePointsWon': 69.0,\n",
       "  '%2ndServePointsWon': 53.79999923706055,\n",
       "  '%ServiceGamesWon': 77.69999694824219,\n",
       "  'AvgACESMatch': 4.099999904632568,\n",
       "  'AvgDoubleFaultsMatch': 1.399999976158142,\n",
       "  'Return Rating': 146.1999969482422,\n",
       "  '%1st Serve Return Points Won': 29.200000762939453,\n",
       "  '%2nd Serve Return Points Won': 53.099998474121094,\n",
       "  '%Return Games Won': 23.0,\n",
       "  '%Breaks Points Converted': 40.900001525878906,\n",
       "  'Underpressure Rating': 198.89999389648438,\n",
       "  '%BreakPointsConverted': 40.900001525878906,\n",
       "  '%BreaksPointsSaved': 59.400001525878906,\n",
       "  '%TieBreaks Won': 52.400001525878906,\n",
       "  '%Deciding Sets Won': 46.20000076293945,\n",
       "  '%AvgWinLoss': 0.5,\n",
       "  'Age': 23.0,\n",
       "  'Rank': 35.0},\n",
       " {'Player': 'Mackenzie Mcdonald',\n",
       "  'Serve Rating': 265.3999938964844,\n",
       "  '%1stServe': 65.4000015258789,\n",
       "  '%1stServePointsWon': 68.30000305175781,\n",
       "  '%2ndServePointsWon': 51.099998474121094,\n",
       "  '%ServiceGamesWon': 77.30000305175781,\n",
       "  'AvgACESMatch': 5.199999809265137,\n",
       "  'AvgDoubleFaultsMatch': 1.899999976158142,\n",
       "  'Return Rating': 149.10000610351562,\n",
       "  '%1st Serve Return Points Won': 31.399999618530273,\n",
       "  '%2nd Serve Return Points Won': 50.79999923706055,\n",
       "  '%Return Games Won': 25.299999237060547,\n",
       "  '%Breaks Points Converted': 41.599998474121094,\n",
       "  'Underpressure Rating': 181.1999969482422,\n",
       "  '%BreakPointsConverted': 41.599998474121094,\n",
       "  '%BreaksPointsSaved': 59.79999923706055,\n",
       "  '%TieBreaks Won': 40.900001525878906,\n",
       "  '%Deciding Sets Won': 38.900001525878906,\n",
       "  '%AvgWinLoss': 0.6320000290870667,\n",
       "  'Age': 27.0,\n",
       "  'Rank': 55.0},\n",
       " {'Player': 'Dominic Thiem',\n",
       "  'Serve Rating': 264.70001220703125,\n",
       "  '%1stServe': 62.79999923706055,\n",
       "  '%1stServePointsWon': 68.5,\n",
       "  '%2ndServePointsWon': 53.400001525878906,\n",
       "  '%ServiceGamesWon': 77.80000305175781,\n",
       "  'AvgACESMatch': 4.5,\n",
       "  'AvgDoubleFaultsMatch': 2.299999952316284,\n",
       "  'Return Rating': 131.39999389648438,\n",
       "  '%1st Serve Return Points Won': 28.700000762939453,\n",
       "  '%2nd Serve Return Points Won': 46.599998474121094,\n",
       "  '%Return Games Won': 17.5,\n",
       "  '%Breaks Points Converted': 38.599998474121094,\n",
       "  'Underpressure Rating': 223.0,\n",
       "  '%BreakPointsConverted': 38.599998474121094,\n",
       "  '%BreaksPointsSaved': 57.400001525878906,\n",
       "  '%TieBreaks Won': 68.19999694824219,\n",
       "  '%Deciding Sets Won': 58.79999923706055,\n",
       "  '%AvgWinLoss': 0.125,\n",
       "  'Age': 29.0,\n",
       "  'Rank': 106.0},\n",
       " {'Player': 'Marcos Giron',\n",
       "  'Serve Rating': 264.0,\n",
       "  '%1stServe': 62.599998474121094,\n",
       "  '%1stServePointsWon': 68.80000305175781,\n",
       "  '%2ndServePointsWon': 52.70000076293945,\n",
       "  '%ServiceGamesWon': 76.30000305175781,\n",
       "  'AvgACESMatch': 5.0,\n",
       "  'AvgDoubleFaultsMatch': 1.399999976158142,\n",
       "  'Return Rating': 129.10000610351562,\n",
       "  '%1st Serve Return Points Won': 27.899999618530273,\n",
       "  '%2nd Serve Return Points Won': 46.0,\n",
       "  '%Return Games Won': 17.600000381469727,\n",
       "  '%Breaks Points Converted': 37.599998474121094,\n",
       "  'Underpressure Rating': 169.6999969482422,\n",
       "  '%BreakPointsConverted': 37.599998474121094,\n",
       "  '%BreaksPointsSaved': 55.0,\n",
       "  '%TieBreaks Won': 42.099998474121094,\n",
       "  '%Deciding Sets Won': 35.0,\n",
       "  '%AvgWinLoss': 0.5329999923706055,\n",
       "  'Age': 29.0,\n",
       "  'Rank': 71.0},\n",
       " {'Player': 'Daniel Evans',\n",
       "  'Serve Rating': 262.6000061035156,\n",
       "  '%1stServe': 62.400001525878906,\n",
       "  '%1stServePointsWon': 71.0999984741211,\n",
       "  '%2ndServePointsWon': 50.0,\n",
       "  '%ServiceGamesWon': 77.30000305175781,\n",
       "  'AvgACESMatch': 4.400000095367432,\n",
       "  'AvgDoubleFaultsMatch': 2.5999999046325684,\n",
       "  'Return Rating': 147.60000610351562,\n",
       "  '%1st Serve Return Points Won': 30.299999237060547,\n",
       "  '%2nd Serve Return Points Won': 51.20000076293945,\n",
       "  '%Return Games Won': 24.0,\n",
       "  '%Breaks Points Converted': 42.099998474121094,\n",
       "  'Underpressure Rating': 200.60000610351562,\n",
       "  '%BreakPointsConverted': 42.099998474121094,\n",
       "  '%BreaksPointsSaved': 61.400001525878906,\n",
       "  '%TieBreaks Won': 40.0,\n",
       "  '%Deciding Sets Won': 57.099998474121094,\n",
       "  '%AvgWinLoss': 0.27300000190734863,\n",
       "  'Age': 32.0,\n",
       "  'Rank': 29.0},\n",
       " {'Player': 'Filip Krajinovic',\n",
       "  'Serve Rating': 262.1000061035156,\n",
       "  '%1stServe': 63.900001525878906,\n",
       "  '%1stServePointsWon': 68.5,\n",
       "  '%2ndServePointsWon': 51.20000076293945,\n",
       "  '%ServiceGamesWon': 76.5999984741211,\n",
       "  'AvgACESMatch': 4.0,\n",
       "  'AvgDoubleFaultsMatch': 2.0999999046325684,\n",
       "  'Return Rating': 136.89999389648438,\n",
       "  '%1st Serve Return Points Won': 26.5,\n",
       "  '%2nd Serve Return Points Won': 49.400001525878906,\n",
       "  '%Return Games Won': 19.0,\n",
       "  '%Breaks Points Converted': 42.0,\n",
       "  'Underpressure Rating': 226.5,\n",
       "  '%BreakPointsConverted': 42.0,\n",
       "  '%BreaksPointsSaved': 59.5,\n",
       "  '%TieBreaks Won': 50.0,\n",
       "  '%Deciding Sets Won': 75.0,\n",
       "  '%AvgWinLoss': 0.3330000042915344,\n",
       "  'Age': 31.0,\n",
       "  'Rank': 77.0},\n",
       " {'Player': 'Emil Ruusuvuori',\n",
       "  'Serve Rating': 262.0,\n",
       "  '%1stServe': 65.30000305175781,\n",
       "  '%1stServePointsWon': 69.5999984741211,\n",
       "  '%2ndServePointsWon': 49.79999923706055,\n",
       "  '%ServiceGamesWon': 76.5,\n",
       "  'AvgACESMatch': 3.799999952316284,\n",
       "  'AvgDoubleFaultsMatch': 3.0,\n",
       "  'Return Rating': 144.5,\n",
       "  '%1st Serve Return Points Won': 30.0,\n",
       "  '%2nd Serve Return Points Won': 52.099998474121094,\n",
       "  '%Return Games Won': 23.100000381469727,\n",
       "  '%Breaks Points Converted': 39.29999923706055,\n",
       "  'Underpressure Rating': 192.5,\n",
       "  '%BreakPointsConverted': 39.29999923706055,\n",
       "  '%BreaksPointsSaved': 58.79999923706055,\n",
       "  '%TieBreaks Won': 61.099998474121094,\n",
       "  '%Deciding Sets Won': 33.29999923706055,\n",
       "  '%AvgWinLoss': 0.46700000762939453,\n",
       "  'Age': 23.0,\n",
       "  'Rank': 54.0},\n",
       " {'Player': 'Soonwoo Kwon',\n",
       "  'Serve Rating': 261.5,\n",
       "  '%1stServe': 59.79999923706055,\n",
       "  '%1stServePointsWon': 70.9000015258789,\n",
       "  '%2ndServePointsWon': 50.70000076293945,\n",
       "  '%ServiceGamesWon': 77.5999984741211,\n",
       "  'AvgACESMatch': 5.199999809265137,\n",
       "  'AvgDoubleFaultsMatch': 2.700000047683716,\n",
       "  'Return Rating': 137.5,\n",
       "  '%1st Serve Return Points Won': 27.299999237060547,\n",
       "  '%2nd Serve Return Points Won': 50.79999923706055,\n",
       "  '%Return Games Won': 20.0,\n",
       "  '%Breaks Points Converted': 39.400001525878906,\n",
       "  'Underpressure Rating': 217.5,\n",
       "  '%BreakPointsConverted': 39.400001525878906,\n",
       "  '%BreaksPointsSaved': 58.29999923706055,\n",
       "  '%TieBreaks Won': 58.29999923706055,\n",
       "  '%Deciding Sets Won': 61.5,\n",
       "  '%AvgWinLoss': 0.5830000042915344,\n",
       "  'Age': 25.0,\n",
       "  'Rank': 75.0},\n",
       " {'Player': 'Albert Ramos-Vinolas',\n",
       "  'Serve Rating': 260.1000061035156,\n",
       "  '%1stServe': 65.0,\n",
       "  '%1stServePointsWon': 66.9000015258789,\n",
       "  '%2ndServePointsWon': 51.599998474121094,\n",
       "  '%ServiceGamesWon': 75.5,\n",
       "  'AvgACESMatch': 2.700000047683716,\n",
       "  'AvgDoubleFaultsMatch': 1.600000023841858,\n",
       "  'Return Rating': 139.5,\n",
       "  '%1st Serve Return Points Won': 28.299999237060547,\n",
       "  '%2nd Serve Return Points Won': 50.099998474121094,\n",
       "  '%Return Games Won': 21.100000381469727,\n",
       "  '%Breaks Points Converted': 40.0,\n",
       "  'Underpressure Rating': 184.6999969482422,\n",
       "  '%BreakPointsConverted': 40.0,\n",
       "  '%BreaksPointsSaved': 64.19999694824219,\n",
       "  '%TieBreaks Won': 35.0,\n",
       "  '%Deciding Sets Won': 45.5,\n",
       "  '%AvgWinLoss': 0.30799999833106995,\n",
       "  'Age': 35.0,\n",
       "  'Rank': 51.0},\n",
       " {'Player': 'Richard Gasquet',\n",
       "  'Serve Rating': 259.8999938964844,\n",
       "  '%1stServe': 58.099998474121094,\n",
       "  '%1stServePointsWon': 71.30000305175781,\n",
       "  '%2ndServePointsWon': 50.70000076293945,\n",
       "  '%ServiceGamesWon': 78.0,\n",
       "  'AvgACESMatch': 4.800000190734863,\n",
       "  'AvgDoubleFaultsMatch': 3.0,\n",
       "  'Return Rating': 142.8000030517578,\n",
       "  '%1st Serve Return Points Won': 28.700000762939453,\n",
       "  '%2nd Serve Return Points Won': 51.099998474121094,\n",
       "  '%Return Games Won': 22.799999237060547,\n",
       "  '%Breaks Points Converted': 40.20000076293945,\n",
       "  'Underpressure Rating': 215.1999969482422,\n",
       "  '%BreakPointsConverted': 40.20000076293945,\n",
       "  '%BreaksPointsSaved': 60.29999923706055,\n",
       "  '%TieBreaks Won': 50.0,\n",
       "  '%Deciding Sets Won': 64.69999694824219,\n",
       "  '%AvgWinLoss': 0.5379999876022339,\n",
       "  'Age': 36.0,\n",
       "  'Rank': 40.0},\n",
       " {'Player': 'Alejandro Davidovich Fokina',\n",
       "  'Serve Rating': 258.8999938964844,\n",
       "  '%1stServe': 66.0999984741211,\n",
       "  '%1stServePointsWon': 65.80000305175781,\n",
       "  '%2ndServePointsWon': 51.900001525878906,\n",
       "  '%ServiceGamesWon': 74.69999694824219,\n",
       "  'AvgACESMatch': 2.9000000953674316,\n",
       "  'AvgDoubleFaultsMatch': 2.5,\n",
       "  'Return Rating': 152.8000030517578,\n",
       "  '%1st Serve Return Points Won': 32.0,\n",
       "  '%2nd Serve Return Points Won': 51.20000076293945,\n",
       "  '%Return Games Won': 27.700000762939453,\n",
       "  '%Breaks Points Converted': 41.900001525878906,\n",
       "  'Underpressure Rating': 180.6999969482422,\n",
       "  '%BreakPointsConverted': 41.900001525878906,\n",
       "  '%BreaksPointsSaved': 57.599998474121094,\n",
       "  '%TieBreaks Won': 36.79999923706055,\n",
       "  '%Deciding Sets Won': 44.400001525878906,\n",
       "  '%AvgWinLoss': 0.5879999995231628,\n",
       "  'Age': 23.0,\n",
       "  'Rank': 25.0},\n",
       " {'Player': 'Alex Molcan',\n",
       "  'Serve Rating': 258.70001220703125,\n",
       "  '%1stServe': 63.0,\n",
       "  '%1stServePointsWon': 67.30000305175781,\n",
       "  '%2ndServePointsWon': 52.5,\n",
       "  '%ServiceGamesWon': 75.19999694824219,\n",
       "  'AvgACESMatch': 3.0999999046325684,\n",
       "  'AvgDoubleFaultsMatch': 2.4000000953674316,\n",
       "  'Return Rating': 144.1999969482422,\n",
       "  '%1st Serve Return Points Won': 28.899999618530273,\n",
       "  '%2nd Serve Return Points Won': 51.599998474121094,\n",
       "  '%Return Games Won': 23.200000762939453,\n",
       "  '%Breaks Points Converted': 40.5,\n",
       "  'Underpressure Rating': 200.6999969482422,\n",
       "  '%BreakPointsConverted': 40.5,\n",
       "  '%BreaksPointsSaved': 58.5,\n",
       "  '%TieBreaks Won': 58.79999923706055,\n",
       "  '%Deciding Sets Won': 42.900001525878906,\n",
       "  '%AvgWinLoss': 0.3330000042915344,\n",
       "  'Age': 25.0,\n",
       "  'Rank': 56.0},\n",
       " {'Player': 'Dusan Lajovic',\n",
       "  'Serve Rating': 257.79998779296875,\n",
       "  '%1stServe': 66.5,\n",
       "  '%1stServePointsWon': 65.9000015258789,\n",
       "  '%2ndServePointsWon': 50.70000076293945,\n",
       "  '%ServiceGamesWon': 73.5999984741211,\n",
       "  'AvgACESMatch': 2.9000000953674316,\n",
       "  'AvgDoubleFaultsMatch': 1.7999999523162842,\n",
       "  'Return Rating': 136.39999389648438,\n",
       "  '%1st Serve Return Points Won': 29.700000762939453,\n",
       "  '%2nd Serve Return Points Won': 49.79999923706055,\n",
       "  '%Return Games Won': 21.100000381469727,\n",
       "  '%Breaks Points Converted': 35.79999923706055,\n",
       "  'Underpressure Rating': 188.6999969482422,\n",
       "  '%BreakPointsConverted': 35.79999923706055,\n",
       "  '%BreaksPointsSaved': 58.20000076293945,\n",
       "  '%TieBreaks Won': 58.29999923706055,\n",
       "  '%Deciding Sets Won': 36.400001525878906,\n",
       "  '%AvgWinLoss': 0.5830000042915344,\n",
       "  'Age': 32.0,\n",
       "  'Rank': 76.0},\n",
       " {'Player': 'Botic Van De Zandschulp',\n",
       "  'Serve Rating': 257.0,\n",
       "  '%1stServe': 63.099998474121094,\n",
       "  '%1stServePointsWon': 70.4000015258789,\n",
       "  '%2ndServePointsWon': 46.29999923706055,\n",
       "  '%ServiceGamesWon': 75.30000305175781,\n",
       "  'AvgACESMatch': 6.0,\n",
       "  'AvgDoubleFaultsMatch': 4.099999904632568,\n",
       "  'Return Rating': 146.89999389648438,\n",
       "  '%1st Serve Return Points Won': 31.899999618530273,\n",
       "  '%2nd Serve Return Points Won': 49.70000076293945,\n",
       "  '%Return Games Won': 24.5,\n",
       "  '%Breaks Points Converted': 40.79999923706055,\n",
       "  'Underpressure Rating': 229.60000610351562,\n",
       "  '%BreakPointsConverted': 40.79999923706055,\n",
       "  '%BreaksPointsSaved': 61.79999923706055,\n",
       "  '%TieBreaks Won': 68.19999694824219,\n",
       "  '%Deciding Sets Won': 58.79999923706055,\n",
       "  '%AvgWinLoss': 0.5379999876022339,\n",
       "  'Age': 27.0,\n",
       "  'Rank': 32.0},\n",
       " {'Player': 'Alex De Minaur',\n",
       "  'Serve Rating': 256.8999938964844,\n",
       "  '%1stServe': 58.20000076293945,\n",
       "  '%1stServePointsWon': 69.69999694824219,\n",
       "  '%2ndServePointsWon': 50.79999923706055,\n",
       "  '%ServiceGamesWon': 77.5999984741211,\n",
       "  'AvgACESMatch': 3.0999999046325684,\n",
       "  'AvgDoubleFaultsMatch': 2.5,\n",
       "  'Return Rating': 159.39999389648438,\n",
       "  '%1st Serve Return Points Won': 33.70000076293945,\n",
       "  '%2nd Serve Return Points Won': 53.0,\n",
       "  '%Return Games Won': 29.399999618530273,\n",
       "  '%Breaks Points Converted': 43.29999923706055,\n",
       "  'Underpressure Rating': 219.10000610351562,\n",
       "  '%BreakPointsConverted': 43.29999923706055,\n",
       "  '%BreaksPointsSaved': 61.29999923706055,\n",
       "  '%TieBreaks Won': 52.599998474121094,\n",
       "  '%Deciding Sets Won': 61.900001525878906,\n",
       "  '%AvgWinLoss': 0.7059999704360962,\n",
       "  'Age': 24.0,\n",
       "  'Rank': 18.0},\n",
       " {'Player': 'Mikael Ymer',\n",
       "  'Serve Rating': 253.8000030517578,\n",
       "  '%1stServe': 69.69999694824219,\n",
       "  '%1stServePointsWon': 63.5,\n",
       "  '%2ndServePointsWon': 50.29999923706055,\n",
       "  '%ServiceGamesWon': 71.4000015258789,\n",
       "  'AvgACESMatch': 1.7000000476837158,\n",
       "  'AvgDoubleFaultsMatch': 2.799999952316284,\n",
       "  'Return Rating': 156.8000030517578,\n",
       "  '%1st Serve Return Points Won': 34.900001525878906,\n",
       "  '%2nd Serve Return Points Won': 51.0,\n",
       "  '%Return Games Won': 29.299999237060547,\n",
       "  '%Breaks Points Converted': 41.599998474121094,\n",
       "  'Underpressure Rating': 186.8000030517578,\n",
       "  '%BreakPointsConverted': 41.599998474121094,\n",
       "  '%BreaksPointsSaved': 54.400001525878906,\n",
       "  '%TieBreaks Won': 30.799999237060547,\n",
       "  '%Deciding Sets Won': 60.0,\n",
       "  '%AvgWinLoss': 0.42899999022483826,\n",
       "  'Age': 24.0,\n",
       "  'Rank': 53.0},\n",
       " {'Player': 'Francisco Cerundolo',\n",
       "  'Serve Rating': 253.5,\n",
       "  '%1stServe': 62.70000076293945,\n",
       "  '%1stServePointsWon': 67.0,\n",
       "  '%2ndServePointsWon': 49.400001525878906,\n",
       "  '%ServiceGamesWon': 74.80000305175781,\n",
       "  'AvgACESMatch': 2.5999999046325684,\n",
       "  'AvgDoubleFaultsMatch': 3.0,\n",
       "  'Return Rating': 149.8000030517578,\n",
       "  '%1st Serve Return Points Won': 32.900001525878906,\n",
       "  '%2nd Serve Return Points Won': 51.099998474121094,\n",
       "  '%Return Games Won': 26.0,\n",
       "  '%Breaks Points Converted': 39.79999923706055,\n",
       "  'Underpressure Rating': 213.60000610351562,\n",
       "  '%BreakPointsConverted': 39.79999923706055,\n",
       "  '%BreaksPointsSaved': 61.70000076293945,\n",
       "  '%TieBreaks Won': 57.099998474121094,\n",
       "  '%Deciding Sets Won': 55.0,\n",
       "  '%AvgWinLoss': 0.5,\n",
       "  'Age': 24.0,\n",
       "  'Rank': 31.0},\n",
       " {'Player': 'David Goffin',\n",
       "  'Serve Rating': 252.3000030517578,\n",
       "  '%1stServe': 57.599998474121094,\n",
       "  '%1stServePointsWon': 70.0999984741211,\n",
       "  '%2ndServePointsWon': 49.099998474121094,\n",
       "  '%ServiceGamesWon': 74.19999694824219,\n",
       "  'AvgACESMatch': 4.0,\n",
       "  'AvgDoubleFaultsMatch': 2.700000047683716,\n",
       "  'Return Rating': 148.3000030517578,\n",
       "  '%1st Serve Return Points Won': 32.29999923706055,\n",
       "  '%2nd Serve Return Points Won': 49.79999923706055,\n",
       "  '%Return Games Won': 25.899999618530273,\n",
       "  '%Breaks Points Converted': 40.29999923706055,\n",
       "  'Underpressure Rating': 184.8000030517578,\n",
       "  '%BreakPointsConverted': 40.29999923706055,\n",
       "  '%BreaksPointsSaved': 60.099998474121094,\n",
       "  '%TieBreaks Won': 44.400001525878906,\n",
       "  '%Deciding Sets Won': 40.0,\n",
       "  '%AvgWinLoss': 0.4440000057220459,\n",
       "  'Age': 32.0,\n",
       "  'Rank': 42.0},\n",
       " {'Player': 'Aslan Karatsev',\n",
       "  'Serve Rating': 250.3000030517578,\n",
       "  '%1stServe': 58.599998474121094,\n",
       "  '%1stServePointsWon': 69.4000015258789,\n",
       "  '%2ndServePointsWon': 48.599998474121094,\n",
       "  '%ServiceGamesWon': 74.30000305175781,\n",
       "  'AvgACESMatch': 4.599999904632568,\n",
       "  'AvgDoubleFaultsMatch': 5.199999809265137,\n",
       "  'Return Rating': 140.10000610351562,\n",
       "  '%1st Serve Return Points Won': 29.5,\n",
       "  '%2nd Serve Return Points Won': 47.79999923706055,\n",
       "  '%Return Games Won': 20.399999618530273,\n",
       "  '%Breaks Points Converted': 42.400001525878906,\n",
       "  'Underpressure Rating': 164.8000030517578,\n",
       "  '%BreakPointsConverted': 42.400001525878906,\n",
       "  '%BreaksPointsSaved': 56.900001525878906,\n",
       "  '%TieBreaks Won': 44.400001525878906,\n",
       "  '%Deciding Sets Won': 21.100000381469727,\n",
       "  '%AvgWinLoss': 0.375,\n",
       "  'Age': 29.0,\n",
       "  'Rank': 107.0},\n",
       " {'Player': 'Cristian Garin',\n",
       "  'Serve Rating': 248.89999389648438,\n",
       "  '%1stServe': 62.0,\n",
       "  '%1stServePointsWon': 66.5999984741211,\n",
       "  '%2ndServePointsWon': 48.5,\n",
       "  '%ServiceGamesWon': 71.9000015258789,\n",
       "  'AvgACESMatch': 2.700000047683716,\n",
       "  'AvgDoubleFaultsMatch': 2.799999952316284,\n",
       "  'Return Rating': 141.5,\n",
       "  '%1st Serve Return Points Won': 31.200000762939453,\n",
       "  '%2nd Serve Return Points Won': 48.20000076293945,\n",
       "  '%Return Games Won': 24.200000762939453,\n",
       "  '%Breaks Points Converted': 37.900001525878906,\n",
       "  'Underpressure Rating': 225.89999389648438,\n",
       "  '%BreakPointsConverted': 37.900001525878906,\n",
       "  '%BreaksPointsSaved': 59.20000076293945,\n",
       "  '%TieBreaks Won': 45.5,\n",
       "  '%Deciding Sets Won': 83.30000305175781,\n",
       "  '%AvgWinLoss': 0.5,\n",
       "  'Age': 26.0,\n",
       "  'Rank': 82.0},\n",
       " {'Player': 'Pedro Martinez',\n",
       "  'Serve Rating': 248.3000030517578,\n",
       "  '%1stServe': 65.9000015258789,\n",
       "  '%1stServePointsWon': 63.70000076293945,\n",
       "  '%2ndServePointsWon': 50.20000076293945,\n",
       "  '%ServiceGamesWon': 70.5999984741211,\n",
       "  'AvgACESMatch': 1.600000023841858,\n",
       "  'AvgDoubleFaultsMatch': 3.700000047683716,\n",
       "  'Return Rating': 138.0,\n",
       "  '%1st Serve Return Points Won': 28.799999237060547,\n",
       "  '%2nd Serve Return Points Won': 51.29999923706055,\n",
       "  '%Return Games Won': 21.899999618530273,\n",
       "  '%Breaks Points Converted': 36.0,\n",
       "  'Underpressure Rating': 169.6999969482422,\n",
       "  '%BreakPointsConverted': 36.0,\n",
       "  '%BreaksPointsSaved': 59.099998474121094,\n",
       "  '%TieBreaks Won': 38.900001525878906,\n",
       "  '%Deciding Sets Won': 35.70000076293945,\n",
       "  '%AvgWinLoss': 0.36399999260902405,\n",
       "  'Age': 25.0,\n",
       "  'Rank': 121.0},\n",
       " {'Player': 'Joao Sousa',\n",
       "  'Serve Rating': 248.10000610351562,\n",
       "  '%1stServe': 61.5,\n",
       "  '%1stServePointsWon': 67.19999694824219,\n",
       "  '%2ndServePointsWon': 47.20000076293945,\n",
       "  '%ServiceGamesWon': 71.5,\n",
       "  'AvgACESMatch': 2.9000000953674316,\n",
       "  'AvgDoubleFaultsMatch': 2.200000047683716,\n",
       "  'Return Rating': 132.5,\n",
       "  '%1st Serve Return Points Won': 29.899999618530273,\n",
       "  '%2nd Serve Return Points Won': 48.20000076293945,\n",
       "  '%Return Games Won': 19.799999237060547,\n",
       "  '%Breaks Points Converted': 34.599998474121094,\n",
       "  'Underpressure Rating': 154.8000030517578,\n",
       "  '%BreakPointsConverted': 34.599998474121094,\n",
       "  '%BreaksPointsSaved': 56.0,\n",
       "  '%TieBreaks Won': 26.700000762939453,\n",
       "  '%Deciding Sets Won': 37.5,\n",
       "  '%AvgWinLoss': 0.20000000298023224,\n",
       "  'Age': 33.0,\n",
       "  'Rank': 156.0},\n",
       " {'Player': 'Federico Coria',\n",
       "  'Serve Rating': 247.10000610351562,\n",
       "  '%1stServe': 67.0999984741211,\n",
       "  '%1stServePointsWon': 63.099998474121094,\n",
       "  '%2ndServePointsWon': 48.900001525878906,\n",
       "  '%ServiceGamesWon': 67.80000305175781,\n",
       "  'AvgACESMatch': 2.799999952316284,\n",
       "  'AvgDoubleFaultsMatch': 2.5999999046325684,\n",
       "  'Return Rating': 156.8000030517578,\n",
       "  '%1st Serve Return Points Won': 34.099998474121094,\n",
       "  '%2nd Serve Return Points Won': 50.79999923706055,\n",
       "  '%Return Games Won': 28.299999237060547,\n",
       "  '%Breaks Points Converted': 43.599998474121094,\n",
       "  'Underpressure Rating': 168.3000030517578,\n",
       "  '%BreakPointsConverted': 43.599998474121094,\n",
       "  '%BreaksPointsSaved': 52.5,\n",
       "  '%TieBreaks Won': 22.200000762939453,\n",
       "  '%Deciding Sets Won': 50.0,\n",
       "  '%AvgWinLoss': 0.36399999260902405,\n",
       "  'Age': 31.0,\n",
       "  'Rank': 67.0},\n",
       " {'Player': 'Jaume Munar',\n",
       "  'Serve Rating': 243.60000610351562,\n",
       "  '%1stServe': 63.400001525878906,\n",
       "  '%1stServePointsWon': 66.9000015258789,\n",
       "  '%2ndServePointsWon': 44.599998474121094,\n",
       "  '%ServiceGamesWon': 69.30000305175781,\n",
       "  'AvgACESMatch': 3.0,\n",
       "  'AvgDoubleFaultsMatch': 3.5999999046325684,\n",
       "  'Return Rating': 148.39999389648438,\n",
       "  '%1st Serve Return Points Won': 33.79999923706055,\n",
       "  '%2nd Serve Return Points Won': 47.70000076293945,\n",
       "  '%Return Games Won': 25.399999618530273,\n",
       "  '%Breaks Points Converted': 41.5,\n",
       "  'Underpressure Rating': 168.0,\n",
       "  '%BreakPointsConverted': 41.5,\n",
       "  '%BreaksPointsSaved': 54.70000076293945,\n",
       "  '%TieBreaks Won': 33.29999923706055,\n",
       "  '%Deciding Sets Won': 38.5,\n",
       "  '%AvgWinLoss': 0.36399999260902405,\n",
       "  'Age': 25.0,\n",
       "  'Rank': 66.0},\n",
       " {'Player': 'Bernabe Zapata Miralles',\n",
       "  'Serve Rating': 243.5,\n",
       "  '%1stServe': 64.19999694824219,\n",
       "  '%1stServePointsWon': 63.5,\n",
       "  '%2ndServePointsWon': 48.0,\n",
       "  '%ServiceGamesWon': 67.9000015258789,\n",
       "  'AvgACESMatch': 2.0,\n",
       "  'AvgDoubleFaultsMatch': 2.0999999046325684,\n",
       "  'Return Rating': 165.3000030517578,\n",
       "  '%1st Serve Return Points Won': 34.20000076293945,\n",
       "  '%2nd Serve Return Points Won': 52.29999923706055,\n",
       "  '%Return Games Won': 31.0,\n",
       "  '%Breaks Points Converted': 47.79999923706055,\n",
       "  'Underpressure Rating': 174.1999969482422,\n",
       "  '%BreakPointsConverted': 47.79999923706055,\n",
       "  '%BreaksPointsSaved': 52.79999923706055,\n",
       "  '%TieBreaks Won': 10.0,\n",
       "  '%Deciding Sets Won': 63.599998474121094,\n",
       "  '%AvgWinLoss': 0.5379999876022339,\n",
       "  'Age': 26.0,\n",
       "  'Rank': 41.0},\n",
       " {'Player': 'Diego Schwartzman',\n",
       "  'Serve Rating': 242.0,\n",
       "  '%1stServe': 67.9000015258789,\n",
       "  '%1stServePointsWon': 61.79999923706055,\n",
       "  '%2ndServePointsWon': 47.70000076293945,\n",
       "  '%ServiceGamesWon': 67.5,\n",
       "  'AvgACESMatch': 1.0,\n",
       "  'AvgDoubleFaultsMatch': 3.9000000953674316,\n",
       "  'Return Rating': 155.10000610351562,\n",
       "  '%1st Serve Return Points Won': 33.20000076293945,\n",
       "  '%2nd Serve Return Points Won': 52.400001525878906,\n",
       "  '%Return Games Won': 27.700000762939453,\n",
       "  '%Breaks Points Converted': 41.79999923706055,\n",
       "  'Underpressure Rating': 206.5,\n",
       "  '%BreakPointsConverted': 41.79999923706055,\n",
       "  '%BreaksPointsSaved': 58.70000076293945,\n",
       "  '%TieBreaks Won': 36.79999923706055,\n",
       "  '%Deciding Sets Won': 69.19999694824219,\n",
       "  '%AvgWinLoss': 0.22200000286102295,\n",
       "  'Age': 30.0,\n",
       "  'Rank': 38.0}]"
      ]
     },
     "metadata":{
      
     },
     "output_type":"display_data"
    }
   ],
   "metadata":{
    "datalore":{
     "node_id":"49r8pNCMS2AdKpmVBk9OTi",
     "type":"CODE",
     "hide_input_from_viewers":true,
     "hide_output_from_viewers":true
    }
   }
  },
  {
   "cell_type":"code",
   "source":[
    "# Hacemos un bucle que recorra todo el diccionario que use como clave el nombre del jugador y como valor el resto de columnas.\n",
    "\n",
    "for player in df_dict:\n",
    "    print(player['Player'])\n",
    "    print(player['%1stServePointsWon'])\n",
    "    print(player['%2ndServePointsWon'])\n",
    "    print(player['%BreakPointsConverted'])\n",
    "    print(player['%BreaksPointsSaved'])\n",
    "    print(player['%Deciding Sets Won'])\n",
    "    print(player['%TieBreaks Won'])\n",
    "    print(player['%AvgWinLoss'])\n",
    "    print(player['Age'])\n",
    "    print(player['Rank'])"
   ],
   "execution_count":35,
   "outputs":[
    {
     "name":"stdout",
     "text":[
      "John Isner\n",
      "79.80000305175781\n",
      "52.70000076293945\n",
      "25.799999237060547\n",
      "69.30000305175781\n",
      "52.900001525878906\n",
      "71.0999984741211\n",
      "0.4440000057220459\n",
      "37.0\n",
      "46.0\n",
      "Hubert Hurkacz\n",
      "79.19999694824219\n",
      "54.900001525878906\n",
      "35.0\n",
      "67.69999694824219\n",
      "69.0\n",
      "54.70000076293945\n",
      "0.6840000152587891\n",
      "26.0\n",
      "9.0\n",
      "Matteo Berrettini\n",
      "79.5999984741211\n",
      "52.0\n",
      "35.79999923706055\n",
      "67.0999984741211\n",
      "57.099998474121094\n",
      "50.0\n",
      "0.5\n",
      "26.0\n",
      "23.0\n",
      "Novak Djokovic\n",
      "77.19999694824219\n",
      "57.0\n",
      "41.79999923706055\n",
      "64.30000305175781\n",
      "63.599998474121094\n",
      "80.0\n",
      "0.9380000233650208\n",
      "35.0\n",
      "2.0\n",
      "Ben Shelton\n",
      "79.30000305175781\n",
      "55.900001525878906\n",
      "39.29999923706055\n",
      "70.5\n",
      "42.900001525878906\n",
      "56.29999923706055\n",
      "0.5450000166893005\n",
      "20.0\n",
      "39.0\n",
      "Stefanos Tsitsipas\n",
      "76.5\n",
      "55.099998474121094\n",
      "41.79999923706055\n",
      "66.0\n",
      "73.0999984741211\n",
      "56.79999923706055\n",
      "0.8130000233650208\n",
      "24.0\n",
      "3.0\n",
      "Maxime Cressy\n",
      "79.80000305175781\n",
      "53.099998474121094\n",
      "39.29999923706055\n",
      "64.30000305175781\n",
      "47.599998474121094\n",
      "35.70000076293945\n",
      "0.5\n",
      "25.0\n",
      "37.0\n",
      "Felix Auger-Aliassime\n",
      "77.5\n",
      "50.599998474121094\n",
      "37.5\n",
      "66.5999984741211\n",
      "66.69999694824219\n",
      "52.400001525878906\n",
      "0.6470000147819519\n",
      "22.0\n",
      "6.0\n",
      "Taylor Fritz\n",
      "77.0999984741211\n",
      "53.0\n",
      "40.20000076293945\n",
      "63.0\n",
      "53.29999923706055\n",
      "58.5\n",
      "0.7730000019073486\n",
      "25.0\n",
      "10.0\n",
      "Casper Ruud\n",
      "74.0\n",
      "55.20000076293945\n",
      "37.900001525878906\n",
      "62.20000076293945\n",
      "57.900001525878906\n",
      "61.0\n",
      "0.4440000057220459\n",
      "24.0\n",
      "4.0\n",
      "Marc-Andrea Huesler\n",
      "76.0\n",
      "53.0\n",
      "42.900001525878906\n",
      "60.400001525878906\n",
      "46.20000076293945\n",
      "55.599998474121094\n",
      "0.4620000123977661\n",
      "26.0\n",
      "47.0\n",
      "Daniil Medvedev\n",
      "75.4000015258789\n",
      "51.400001525878906\n",
      "46.0\n",
      "68.5\n",
      "50.0\n",
      "56.0\n",
      "0.8889999985694885\n",
      "27.0\n",
      "5.0\n",
      "Borna Coric\n",
      "74.30000305175781\n",
      "54.5\n",
      "32.099998474121094\n",
      "59.5\n",
      "53.79999923706055\n",
      "66.69999694824219\n",
      "0.5830000042915344\n",
      "26.0\n",
      "20.0\n",
      "Lorenzo Sonego\n",
      "73.5\n",
      "51.0\n",
      "42.70000076293945\n",
      "59.5\n",
      "6.699999809265137\n",
      "50.0\n",
      "0.38499999046325684\n",
      "27.0\n",
      "59.0\n",
      "Holger Rune\n",
      "72.5999984741211\n",
      "55.099998474121094\n",
      "40.900001525878906\n",
      "65.9000015258789\n",
      "45.5\n",
      "63.599998474121094\n",
      "0.6669999957084656\n",
      "19.0\n",
      "8.0\n",
      "Carlos Alcaraz\n",
      "71.9000015258789\n",
      "55.29999923706055\n",
      "41.29999923706055\n",
      "64.69999694824219\n",
      "73.9000015258789\n",
      "55.900001525878906\n",
      "0.9330000281333923\n",
      "19.0\n",
      "1.0\n",
      "Alexander Zverev\n",
      "73.80000305175781\n",
      "47.599998474121094\n",
      "38.599998474121094\n",
      "58.29999923706055\n",
      "61.5\n",
      "78.5999984741211\n",
      "0.5\n",
      "25.0\n",
      "15.0\n",
      "Tallon Griekspoor\n",
      "73.9000015258789\n",
      "51.79999923706055\n",
      "34.20000076293945\n",
      "61.400001525878906\n",
      "37.5\n",
      "57.70000076293945\n",
      "0.722000002861023\n",
      "26.0\n",
      "36.0\n",
      "Andrey Rublev\n",
      "76.0999984741211\n",
      "50.400001525878906\n",
      "38.900001525878906\n",
      "62.20000076293945\n",
      "65.19999694824219\n",
      "61.5\n",
      "0.6110000014305115\n",
      "25.0\n",
      "7.0\n",
      "Grigor Dimitrov\n",
      "76.19999694824219\n",
      "51.29999923706055\n",
      "39.900001525878906\n",
      "61.20000076293945\n",
      "50.0\n",
      "42.900001525878906\n",
      "0.5830000042915344\n",
      "31.0\n",
      "27.0\n",
      "Roberto Bautista Agut\n",
      "70.69999694824219\n",
      "55.099998474121094\n",
      "36.900001525878906\n",
      "61.900001525878906\n",
      "47.099998474121094\n",
      "44.0\n",
      "0.5329999923706055\n",
      "34.0\n",
      "28.0\n",
      "Jack Draper\n",
      "75.19999694824219\n",
      "51.79999923706055\n",
      "39.70000076293945\n",
      "70.80000305175781\n",
      "14.300000190734863\n",
      "45.0\n",
      "0.6359999775886536\n",
      "21.0\n",
      "43.0\n",
      "Karen Khachanov\n",
      "72.5\n",
      "52.099998474121094\n",
      "42.79999923706055\n",
      "64.9000015258789\n",
      "64.69999694824219\n",
      "50.0\n",
      "0.6430000066757202\n",
      "26.0\n",
      "16.0\n",
      "Arthur Rinderknech\n",
      "73.30000305175781\n",
      "48.0\n",
      "35.599998474121094\n",
      "64.30000305175781\n",
      "75.0\n",
      "38.900001525878906\n",
      "0.25\n",
      "27.0\n",
      "72.0\n",
      "Frances Tiafoe\n",
      "74.5\n",
      "52.79999923706055\n",
      "37.900001525878906\n",
      "67.0999984741211\n",
      "54.5\n",
      "66.69999694824219\n",
      "0.777999997138977\n",
      "25.0\n",
      "14.0\n",
      "Benjamin Bonzi\n",
      "73.19999694824219\n",
      "52.70000076293945\n",
      "37.400001525878906\n",
      "65.30000305175781\n",
      "42.900001525878906\n",
      "44.79999923706055\n",
      "0.5879999995231628\n",
      "26.0\n",
      "49.0\n",
      "Stan Wawrinka\n",
      "75.69999694824219\n",
      "51.900001525878906\n",
      "36.900001525878906\n",
      "66.0999984741211\n",
      "58.79999923706055\n",
      "42.900001525878906\n",
      "0.6000000238418579\n",
      "37.0\n",
      "87.0\n",
      "Jannik Sinner\n",
      "74.5999984741211\n",
      "53.400001525878906\n",
      "43.29999923706055\n",
      "63.5\n",
      "63.599998474121094\n",
      "68.19999694824219\n",
      "0.800000011920929\n",
      "21.0\n",
      "11.0\n",
      "Adrian Mannarino\n",
      "71.4000015258789\n",
      "55.70000076293945\n",
      "37.70000076293945\n",
      "54.70000076293945\n",
      "35.70000076293945\n",
      "50.0\n",
      "0.5630000233650208\n",
      "34.0\n",
      "62.0\n",
      "Denis Shapovalov\n",
      "75.5\n",
      "50.70000076293945\n",
      "37.599998474121094\n",
      "62.099998474121094\n",
      "47.099998474121094\n",
      "45.79999923706055\n",
      "0.45500001311302185\n",
      "23.0\n",
      "30.0\n",
      "Sebastian Korda\n",
      "71.80000305175781\n",
      "51.400001525878906\n",
      "43.400001525878906\n",
      "63.099998474121094\n",
      "52.900001525878906\n",
      "60.70000076293945\n",
      "0.800000011920929\n",
      "22.0\n",
      "26.0\n",
      "Cameron Norrie\n",
      "72.0\n",
      "50.900001525878906\n",
      "41.20000076293945\n",
      "61.70000076293945\n",
      "71.0\n",
      "61.5\n",
      "0.8399999737739563\n",
      "27.0\n",
      "12.0\n",
      "Oscar Otte\n",
      "77.0\n",
      "50.20000076293945\n",
      "37.400001525878906\n",
      "67.0999984741211\n",
      "41.70000076293945\n",
      "52.0\n",
      "0.30000001192092896\n",
      "29.0\n",
      "85.0\n",
      "J.J. Wolf\n",
      "74.0\n",
      "50.099998474121094\n",
      "41.70000076293945\n",
      "63.29999923706055\n",
      "50.0\n",
      "53.79999923706055\n",
      "0.5709999799728394\n",
      "24.0\n",
      "50.0\n",
      "Lorenzo Musetti\n",
      "69.80000305175781\n",
      "53.79999923706055\n",
      "46.20000076293945\n",
      "55.29999923706055\n",
      "60.0\n",
      "44.79999923706055\n",
      "0.45500001311302185\n",
      "21.0\n",
      "21.0\n",
      "Laslo Djere\n",
      "72.5999984741211\n",
      "51.20000076293945\n",
      "40.099998474121094\n",
      "65.69999694824219\n",
      "47.099998474121094\n",
      "29.600000381469727\n",
      "0.5630000233650208\n",
      "27.0\n",
      "58.0\n",
      "Sebastian Baez\n",
      "65.5999984741211\n",
      "54.099998474121094\n",
      "39.29999923706055\n",
      "56.0\n",
      "50.0\n",
      "20.0\n",
      "0.5630000233650208\n",
      "22.0\n",
      "33.0\n",
      "Yoshihito Nishioka\n",
      "65.30000305175781\n",
      "56.900001525878906\n",
      "41.599998474121094\n",
      "60.70000076293945\n",
      "75.0\n",
      "52.400001525878906\n",
      "0.6150000095367432\n",
      "27.0\n",
      "34.0\n",
      "Tommy Paul\n",
      "71.0999984741211\n",
      "51.400001525878906\n",
      "37.099998474121094\n",
      "62.400001525878906\n",
      "54.20000076293945\n",
      "51.900001525878906\n",
      "0.7369999885559082\n",
      "25.0\n",
      "19.0\n",
      "Andy Murray\n",
      "72.9000015258789\n",
      "50.099998474121094\n",
      "39.79999923706055\n",
      "60.70000076293945\n",
      "70.5999984741211\n",
      "61.900001525878906\n",
      "0.6669999957084656\n",
      "35.0\n",
      "52.0\n",
      "Jiri Lehecka\n",
      "69.5999984741211\n",
      "51.900001525878906\n",
      "40.400001525878906\n",
      "62.099998474121094\n",
      "44.400001525878906\n",
      "56.5\n",
      "0.6669999957084656\n",
      "21.0\n",
      "44.0\n",
      "Alexander Bublik\n",
      "78.0\n",
      "44.099998474121094\n",
      "43.20000076293945\n",
      "59.20000076293945\n",
      "52.599998474121094\n",
      "40.900001525878906\n",
      "0.2669999897480011\n",
      "25.0\n",
      "48.0\n",
      "Miomir Kecmanovic\n",
      "69.0\n",
      "53.79999923706055\n",
      "40.900001525878906\n",
      "59.400001525878906\n",
      "46.20000076293945\n",
      "52.400001525878906\n",
      "0.5\n",
      "23.0\n",
      "35.0\n",
      "Mackenzie Mcdonald\n",
      "68.30000305175781\n",
      "51.099998474121094\n",
      "41.599998474121094\n",
      "59.79999923706055\n",
      "38.900001525878906\n",
      "40.900001525878906\n",
      "0.6320000290870667\n",
      "27.0\n",
      "55.0\n",
      "Dominic Thiem\n",
      "68.5\n",
      "53.400001525878906\n",
      "38.599998474121094\n",
      "57.400001525878906\n",
      "58.79999923706055\n",
      "68.19999694824219\n",
      "0.125\n",
      "29.0\n",
      "106.0\n",
      "Marcos Giron\n",
      "68.80000305175781\n",
      "52.70000076293945\n",
      "37.599998474121094\n",
      "55.0\n",
      "35.0\n",
      "42.099998474121094\n",
      "0.5329999923706055\n",
      "29.0\n",
      "71.0\n",
      "Daniel Evans\n",
      "71.0999984741211\n",
      "50.0\n",
      "42.099998474121094\n",
      "61.400001525878906\n",
      "57.099998474121094\n",
      "40.0\n",
      "0.27300000190734863\n",
      "32.0\n",
      "29.0\n",
      "Filip Krajinovic\n",
      "68.5\n",
      "51.20000076293945\n",
      "42.0\n",
      "59.5\n",
      "75.0\n",
      "50.0\n",
      "0.3330000042915344\n",
      "31.0\n",
      "77.0\n",
      "Emil Ruusuvuori\n",
      "69.5999984741211\n",
      "49.79999923706055\n",
      "39.29999923706055\n",
      "58.79999923706055\n",
      "33.29999923706055\n",
      "61.099998474121094\n",
      "0.46700000762939453\n",
      "23.0\n",
      "54.0\n",
      "Soonwoo Kwon\n",
      "70.9000015258789\n",
      "50.70000076293945\n",
      "39.400001525878906\n",
      "58.29999923706055\n",
      "61.5\n",
      "58.29999923706055\n",
      "0.5830000042915344\n",
      "25.0\n",
      "75.0\n",
      "Albert Ramos-Vinolas\n",
      "66.9000015258789\n",
      "51.599998474121094\n",
      "40.0\n",
      "64.19999694824219\n",
      "45.5\n",
      "35.0\n",
      "0.30799999833106995\n",
      "35.0\n",
      "51.0\n",
      "Richard Gasquet\n",
      "71.30000305175781\n",
      "50.70000076293945\n",
      "40.20000076293945\n",
      "60.29999923706055\n",
      "64.69999694824219\n",
      "50.0\n",
      "0.5379999876022339\n",
      "36.0\n",
      "40.0\n",
      "Alejandro Davidovich Fokina\n",
      "65.80000305175781\n",
      "51.900001525878906\n",
      "41.900001525878906\n",
      "57.599998474121094\n",
      "44.400001525878906\n",
      "36.79999923706055\n",
      "0.5879999995231628\n",
      "23.0\n",
      "25.0\n",
      "Alex Molcan\n",
      "67.30000305175781\n",
      "52.5\n",
      "40.5\n",
      "58.5\n",
      "42.900001525878906\n",
      "58.79999923706055\n",
      "0.3330000042915344\n",
      "25.0\n",
      "56.0\n",
      "Dusan Lajovic\n",
      "65.9000015258789\n",
      "50.70000076293945\n",
      "35.79999923706055\n",
      "58.20000076293945\n",
      "36.400001525878906\n",
      "58.29999923706055\n",
      "0.5830000042915344\n",
      "32.0\n",
      "76.0\n",
      "Botic Van De Zandschulp\n",
      "70.4000015258789\n",
      "46.29999923706055\n",
      "40.79999923706055\n",
      "61.79999923706055\n",
      "58.79999923706055\n",
      "68.19999694824219\n",
      "0.5379999876022339\n",
      "27.0\n",
      "32.0\n",
      "Alex De Minaur\n",
      "69.69999694824219\n",
      "50.79999923706055\n",
      "43.29999923706055\n",
      "61.29999923706055\n",
      "61.900001525878906\n",
      "52.599998474121094\n",
      "0.7059999704360962\n",
      "24.0\n",
      "18.0\n",
      "Mikael Ymer\n",
      "63.5\n",
      "50.29999923706055\n",
      "41.599998474121094\n",
      "54.400001525878906\n",
      "60.0\n",
      "30.799999237060547\n",
      "0.42899999022483826\n",
      "24.0\n",
      "53.0\n",
      "Francisco Cerundolo\n",
      "67.0\n",
      "49.400001525878906\n",
      "39.79999923706055\n",
      "61.70000076293945\n",
      "55.0\n",
      "57.099998474121094\n",
      "0.5\n",
      "24.0\n",
      "31.0\n",
      "David Goffin\n",
      "70.0999984741211\n",
      "49.099998474121094\n",
      "40.29999923706055\n",
      "60.099998474121094\n",
      "40.0\n",
      "44.400001525878906\n",
      "0.4440000057220459\n",
      "32.0\n",
      "42.0\n",
      "Aslan Karatsev\n",
      "69.4000015258789\n",
      "48.599998474121094\n",
      "42.400001525878906\n",
      "56.900001525878906\n",
      "21.100000381469727\n",
      "44.400001525878906\n",
      "0.375\n",
      "29.0\n",
      "107.0\n",
      "Cristian Garin\n",
      "66.5999984741211\n",
      "48.5\n",
      "37.900001525878906\n",
      "59.20000076293945\n",
      "83.30000305175781\n",
      "45.5\n",
      "0.5\n",
      "26.0\n",
      "82.0\n",
      "Pedro Martinez\n",
      "63.70000076293945\n",
      "50.20000076293945\n",
      "36.0\n",
      "59.099998474121094\n",
      "35.70000076293945\n",
      "38.900001525878906\n",
      "0.36399999260902405\n",
      "25.0\n",
      "121.0\n",
      "Joao Sousa\n",
      "67.19999694824219\n",
      "47.20000076293945\n",
      "34.599998474121094\n",
      "56.0\n",
      "37.5\n",
      "26.700000762939453\n",
      "0.20000000298023224\n",
      "33.0\n",
      "156.0\n",
      "Federico Coria\n",
      "63.099998474121094\n",
      "48.900001525878906\n",
      "43.599998474121094\n",
      "52.5\n",
      "50.0\n",
      "22.200000762939453\n",
      "0.36399999260902405\n",
      "31.0\n",
      "67.0\n",
      "Jaume Munar\n",
      "66.9000015258789\n",
      "44.599998474121094\n",
      "41.5\n",
      "54.70000076293945\n",
      "38.5\n",
      "33.29999923706055\n",
      "0.36399999260902405\n",
      "25.0\n",
      "66.0\n",
      "Bernabe Zapata Miralles\n",
      "63.5\n",
      "48.0\n",
      "47.79999923706055\n",
      "52.79999923706055\n",
      "63.599998474121094\n",
      "10.0\n",
      "0.5379999876022339\n",
      "26.0\n",
      "41.0\n",
      "Diego Schwartzman\n",
      "61.79999923706055\n",
      "47.70000076293945\n",
      "41.79999923706055\n",
      "58.70000076293945\n",
      "69.19999694824219\n",
      "36.79999923706055\n",
      "0.22200000286102295\n",
      "30.0\n",
      "38.0\n"
     ],
     "output_type":"stream"
    }
   ],
   "metadata":{
    "datalore":{
     "node_id":"mm8FWso51PcDEpLLLenHI3",
     "type":"CODE",
     "hide_input_from_viewers":true,
     "hide_output_from_viewers":true
    }
   }
  },
  {
   "cell_type":"markdown",
   "source":[
    "# EDA - Exploratory Data Analysis"
   ],
   "attachments":{
    
   },
   "metadata":{
    "datalore":{
     "node_id":"Qx5VDfQ9IfnLgra9Ggj4PZ",
     "type":"MD",
     "hide_input_from_viewers":false,
     "hide_output_from_viewers":false,
     "report_properties":{
      "rowId":"XpD8AALX4tFDrCDQg38nW3"
     }
    }
   }
  },
  {
   "cell_type":"markdown",
   "source":[
    "### Vamos a averiguar que jugadores tienen un %1stServePointsWon superior a la media."
   ],
   "attachments":{
    
   },
   "metadata":{
    "datalore":{
     "node_id":"KE1yqNSkXNHZMVetgLDRVW",
     "type":"MD",
     "hide_input_from_viewers":false,
     "hide_output_from_viewers":false,
     "report_properties":{
      "rowId":"VqeMTKypnLskxgknHiDnGN"
     }
    }
   }
  },
  {
   "cell_type":"code",
   "source":[
    "### Vamos a comenzar analizando la columna %1stServePointsWon por cada Player.\n",
    "\n",
    "Best1stServePointsWon = df[['Player', '%1stServePointsWon']]\n",
    "Best1stServePointsWon.head()"
   ],
   "execution_count":36,
   "outputs":[
    {
     "data":{
      "text\/html":[
       "<div>\n",
       "<style scoped>\n",
       "    .dataframe tbody tr th:only-of-type {\n",
       "        vertical-align: middle;\n",
       "    }\n",
       "\n",
       "    .dataframe tbody tr th {\n",
       "        vertical-align: top;\n",
       "    }\n",
       "\n",
       "    .dataframe thead th {\n",
       "        text-align: right;\n",
       "    }\n",
       "<\/style>\n",
       "<table border=\"1\" class=\"dataframe\">\n",
       "  <thead>\n",
       "    <tr style=\"text-align: right;\">\n",
       "      <th><\/th>\n",
       "      <th>Player<\/th>\n",
       "      <th>%1stServePointsWon<\/th>\n",
       "    <\/tr>\n",
       "  <\/thead>\n",
       "  <tbody>\n",
       "    <tr>\n",
       "      <th>0<\/th>\n",
       "      <td>John Isner<\/td>\n",
       "      <td>79.800003<\/td>\n",
       "    <\/tr>\n",
       "    <tr>\n",
       "      <th>1<\/th>\n",
       "      <td>Hubert Hurkacz<\/td>\n",
       "      <td>79.199997<\/td>\n",
       "    <\/tr>\n",
       "    <tr>\n",
       "      <th>2<\/th>\n",
       "      <td>Matteo Berrettini<\/td>\n",
       "      <td>79.599998<\/td>\n",
       "    <\/tr>\n",
       "    <tr>\n",
       "      <th>3<\/th>\n",
       "      <td>Novak Djokovic<\/td>\n",
       "      <td>77.199997<\/td>\n",
       "    <\/tr>\n",
       "    <tr>\n",
       "      <th>4<\/th>\n",
       "      <td>Ben Shelton<\/td>\n",
       "      <td>79.300003<\/td>\n",
       "    <\/tr>\n",
       "  <\/tbody>\n",
       "<\/table>\n",
       "<\/div>"
      ]
     },
     "metadata":{
      
     },
     "output_type":"display_data"
    }
   ],
   "metadata":{
    "datalore":{
     "node_id":"GaMwY0LE4VuQgRX98LJIDe",
     "type":"CODE",
     "hide_input_from_viewers":false,
     "hide_output_from_viewers":false,
     "report_properties":{
      "rowId":"TVPkEx4S0sd3Kqiii6lI4A"
     }
    }
   }
  },
  {
   "cell_type":"code",
   "source":[
    "# Vamos a ver la distribución de los datos.\n",
    "\n",
    "Best1stServePointsWon.describe()"
   ],
   "execution_count":37,
   "outputs":[
    {
     "data":{
      "text\/html":[
       "<div>\n",
       "<style scoped>\n",
       "    .dataframe tbody tr th:only-of-type {\n",
       "        vertical-align: middle;\n",
       "    }\n",
       "\n",
       "    .dataframe tbody tr th {\n",
       "        vertical-align: top;\n",
       "    }\n",
       "\n",
       "    .dataframe thead th {\n",
       "        text-align: right;\n",
       "    }\n",
       "<\/style>\n",
       "<table border=\"1\" class=\"dataframe\">\n",
       "  <thead>\n",
       "    <tr style=\"text-align: right;\">\n",
       "      <th><\/th>\n",
       "      <th>%1stServePointsWon<\/th>\n",
       "    <\/tr>\n",
       "  <\/thead>\n",
       "  <tbody>\n",
       "    <tr>\n",
       "      <th>count<\/th>\n",
       "      <td>68.000000<\/td>\n",
       "    <\/tr>\n",
       "    <tr>\n",
       "      <th>mean<\/th>\n",
       "      <td>71.688232<\/td>\n",
       "    <\/tr>\n",
       "    <tr>\n",
       "      <th>std<\/th>\n",
       "      <td>4.551350<\/td>\n",
       "    <\/tr>\n",
       "    <tr>\n",
       "      <th>min<\/th>\n",
       "      <td>61.799999<\/td>\n",
       "    <\/tr>\n",
       "    <tr>\n",
       "      <th>25%<\/th>\n",
       "      <td>68.500000<\/td>\n",
       "    <\/tr>\n",
       "    <tr>\n",
       "      <th>50%<\/th>\n",
       "      <td>71.850002<\/td>\n",
       "    <\/tr>\n",
       "    <tr>\n",
       "      <th>75%<\/th>\n",
       "      <td>75.249998<\/td>\n",
       "    <\/tr>\n",
       "    <tr>\n",
       "      <th>max<\/th>\n",
       "      <td>79.800003<\/td>\n",
       "    <\/tr>\n",
       "  <\/tbody>\n",
       "<\/table>\n",
       "<\/div>"
      ]
     },
     "metadata":{
      
     },
     "output_type":"display_data"
    }
   ],
   "metadata":{
    "datalore":{
     "node_id":"hnChMjkm31SZKc2xftXedu",
     "type":"CODE",
     "hide_input_from_viewers":false,
     "hide_output_from_viewers":false,
     "report_properties":{
      "rowId":"Mdxm6kW5e9aqBuuHyxNTDe"
     }
    }
   }
  },
  {
   "cell_type":"code",
   "source":[
    "# Vamos a ver la distribución de los datos con plotly con forma de linea.\n",
    "\n",
    "fig = px.line(Best1stServePointsWon, x='Player', y='%1stServePointsWon', title='1stServePointsWon')\n",
    "fig.show()"
   ],
   "execution_count":38,
   "outputs":[
    {
     "data":{
      "application\/vnd.plotly.v1+json":{
       "data":[
        {
         "hovertemplate":"Player=%{x}<br>%1stServePointsWon=%{y}<extra><\/extra>",
         "legendgroup":"",
         "line":{
          "color":"#636efa",
          "dash":"solid"
         },
         "marker":{
          "symbol":"circle"
         },
         "mode":"lines",
         "name":"",
         "orientation":"v",
         "showlegend":false,
         "x":[
          "John Isner",
          "Hubert Hurkacz",
          "Matteo Berrettini",
          "Novak Djokovic",
          "Ben Shelton",
          "Stefanos Tsitsipas",
          "Maxime Cressy",
          "Felix Auger-Aliassime",
          "Taylor Fritz",
          "Casper Ruud",
          "Marc-Andrea Huesler",
          "Daniil Medvedev",
          "Borna Coric",
          "Lorenzo Sonego",
          "Holger Rune",
          "Carlos Alcaraz",
          "Alexander Zverev",
          "Tallon Griekspoor",
          "Andrey Rublev",
          "Grigor Dimitrov",
          "Roberto Bautista Agut",
          "Jack Draper",
          "Karen Khachanov",
          "Arthur Rinderknech",
          "Frances Tiafoe",
          "Benjamin Bonzi",
          "Stan Wawrinka",
          "Jannik Sinner",
          "Adrian Mannarino",
          "Denis Shapovalov",
          "Sebastian Korda",
          "Cameron Norrie",
          "Oscar Otte",
          "J.J. Wolf",
          "Lorenzo Musetti",
          "Laslo Djere",
          "Sebastian Baez",
          "Yoshihito Nishioka",
          "Tommy Paul",
          "Andy Murray",
          "Jiri Lehecka",
          "Alexander Bublik",
          "Miomir Kecmanovic",
          "Mackenzie Mcdonald",
          "Dominic Thiem",
          "Marcos Giron",
          "Daniel Evans",
          "Filip Krajinovic",
          "Emil Ruusuvuori",
          "Soonwoo Kwon",
          "Albert Ramos-Vinolas",
          "Richard Gasquet",
          "Alejandro Davidovich Fokina",
          "Alex Molcan",
          "Dusan Lajovic",
          "Botic Van De Zandschulp",
          "Alex De Minaur",
          "Mikael Ymer",
          "Francisco Cerundolo",
          "David Goffin",
          "Aslan Karatsev",
          "Cristian Garin",
          "Pedro Martinez",
          "Joao Sousa",
          "Federico Coria",
          "Jaume Munar",
          "Bernabe Zapata Miralles",
          "Diego Schwartzman"
         ],
         "xaxis":"x",
         "y":[
          79.80000305175781,
          79.19999694824219,
          79.5999984741211,
          77.19999694824219,
          79.30000305175781,
          76.5,
          79.80000305175781,
          77.5,
          77.0999984741211,
          74,
          76,
          75.4000015258789,
          74.30000305175781,
          73.5,
          72.5999984741211,
          71.9000015258789,
          73.80000305175781,
          73.9000015258789,
          76.0999984741211,
          76.19999694824219,
          70.69999694824219,
          75.19999694824219,
          72.5,
          73.30000305175781,
          74.5,
          73.19999694824219,
          75.69999694824219,
          74.5999984741211,
          71.4000015258789,
          75.5,
          71.80000305175781,
          72,
          77,
          74,
          69.80000305175781,
          72.5999984741211,
          65.5999984741211,
          65.30000305175781,
          71.0999984741211,
          72.9000015258789,
          69.5999984741211,
          78,
          69,
          68.30000305175781,
          68.5,
          68.80000305175781,
          71.0999984741211,
          68.5,
          69.5999984741211,
          70.9000015258789,
          66.9000015258789,
          71.30000305175781,
          65.80000305175781,
          67.30000305175781,
          65.9000015258789,
          70.4000015258789,
          69.69999694824219,
          63.5,
          67,
          70.0999984741211,
          69.4000015258789,
          66.5999984741211,
          63.70000076293945,
          67.19999694824219,
          63.099998474121094,
          66.9000015258789,
          63.5,
          61.79999923706055
         ],
         "yaxis":"y",
         "type":"scatter"
        }
       ],
       "layout":{
        "template":{
         "data":{
          "bar":[
           {
            "error_x":{
             "color":"#2a3f5f"
            },
            "error_y":{
             "color":"#2a3f5f"
            },
            "marker":{
             "line":{
              "color":"#E5ECF6",
              "width":0.5
             },
             "pattern":{
              "fillmode":"overlay",
              "size":10,
              "solidity":0.2
             }
            },
            "type":"bar"
           }
          ],
          "barpolar":[
           {
            "marker":{
             "line":{
              "color":"#E5ECF6",
              "width":0.5
             },
             "pattern":{
              "fillmode":"overlay",
              "size":10,
              "solidity":0.2
             }
            },
            "type":"barpolar"
           }
          ],
          "carpet":[
           {
            "aaxis":{
             "endlinecolor":"#2a3f5f",
             "gridcolor":"white",
             "linecolor":"white",
             "minorgridcolor":"white",
             "startlinecolor":"#2a3f5f"
            },
            "baxis":{
             "endlinecolor":"#2a3f5f",
             "gridcolor":"white",
             "linecolor":"white",
             "minorgridcolor":"white",
             "startlinecolor":"#2a3f5f"
            },
            "type":"carpet"
           }
          ],
          "choropleth":[
           {
            "colorbar":{
             "outlinewidth":0,
             "ticks":""
            },
            "type":"choropleth"
           }
          ],
          "contour":[
           {
            "colorbar":{
             "outlinewidth":0,
             "ticks":""
            },
            "colorscale":[
             [
              0,
              "#0d0887"
             ],
             [
              0.1111111111111111,
              "#46039f"
             ],
             [
              0.2222222222222222,
              "#7201a8"
             ],
             [
              0.3333333333333333,
              "#9c179e"
             ],
             [
              0.4444444444444444,
              "#bd3786"
             ],
             [
              0.5555555555555556,
              "#d8576b"
             ],
             [
              0.6666666666666666,
              "#ed7953"
             ],
             [
              0.7777777777777778,
              "#fb9f3a"
             ],
             [
              0.8888888888888888,
              "#fdca26"
             ],
             [
              1,
              "#f0f921"
             ]
            ],
            "type":"contour"
           }
          ],
          "contourcarpet":[
           {
            "colorbar":{
             "outlinewidth":0,
             "ticks":""
            },
            "type":"contourcarpet"
           }
          ],
          "heatmap":[
           {
            "colorbar":{
             "outlinewidth":0,
             "ticks":""
            },
            "colorscale":[
             [
              0,
              "#0d0887"
             ],
             [
              0.1111111111111111,
              "#46039f"
             ],
             [
              0.2222222222222222,
              "#7201a8"
             ],
             [
              0.3333333333333333,
              "#9c179e"
             ],
             [
              0.4444444444444444,
              "#bd3786"
             ],
             [
              0.5555555555555556,
              "#d8576b"
             ],
             [
              0.6666666666666666,
              "#ed7953"
             ],
             [
              0.7777777777777778,
              "#fb9f3a"
             ],
             [
              0.8888888888888888,
              "#fdca26"
             ],
             [
              1,
              "#f0f921"
             ]
            ],
            "type":"heatmap"
           }
          ],
          "heatmapgl":[
           {
            "colorbar":{
             "outlinewidth":0,
             "ticks":""
            },
            "colorscale":[
             [
              0,
              "#0d0887"
             ],
             [
              0.1111111111111111,
              "#46039f"
             ],
             [
              0.2222222222222222,
              "#7201a8"
             ],
             [
              0.3333333333333333,
              "#9c179e"
             ],
             [
              0.4444444444444444,
              "#bd3786"
             ],
             [
              0.5555555555555556,
              "#d8576b"
             ],
             [
              0.6666666666666666,
              "#ed7953"
             ],
             [
              0.7777777777777778,
              "#fb9f3a"
             ],
             [
              0.8888888888888888,
              "#fdca26"
             ],
             [
              1,
              "#f0f921"
             ]
            ],
            "type":"heatmapgl"
           }
          ],
          "histogram":[
           {
            "marker":{
             "pattern":{
              "fillmode":"overlay",
              "size":10,
              "solidity":0.2
             }
            },
            "type":"histogram"
           }
          ],
          "histogram2d":[
           {
            "colorbar":{
             "outlinewidth":0,
             "ticks":""
            },
            "colorscale":[
             [
              0,
              "#0d0887"
             ],
             [
              0.1111111111111111,
              "#46039f"
             ],
             [
              0.2222222222222222,
              "#7201a8"
             ],
             [
              0.3333333333333333,
              "#9c179e"
             ],
             [
              0.4444444444444444,
              "#bd3786"
             ],
             [
              0.5555555555555556,
              "#d8576b"
             ],
             [
              0.6666666666666666,
              "#ed7953"
             ],
             [
              0.7777777777777778,
              "#fb9f3a"
             ],
             [
              0.8888888888888888,
              "#fdca26"
             ],
             [
              1,
              "#f0f921"
             ]
            ],
            "type":"histogram2d"
           }
          ],
          "histogram2dcontour":[
           {
            "colorbar":{
             "outlinewidth":0,
             "ticks":""
            },
            "colorscale":[
             [
              0,
              "#0d0887"
             ],
             [
              0.1111111111111111,
              "#46039f"
             ],
             [
              0.2222222222222222,
              "#7201a8"
             ],
             [
              0.3333333333333333,
              "#9c179e"
             ],
             [
              0.4444444444444444,
              "#bd3786"
             ],
             [
              0.5555555555555556,
              "#d8576b"
             ],
             [
              0.6666666666666666,
              "#ed7953"
             ],
             [
              0.7777777777777778,
              "#fb9f3a"
             ],
             [
              0.8888888888888888,
              "#fdca26"
             ],
             [
              1,
              "#f0f921"
             ]
            ],
            "type":"histogram2dcontour"
           }
          ],
          "mesh3d":[
           {
            "colorbar":{
             "outlinewidth":0,
             "ticks":""
            },
            "type":"mesh3d"
           }
          ],
          "parcoords":[
           {
            "line":{
             "colorbar":{
              "outlinewidth":0,
              "ticks":""
             }
            },
            "type":"parcoords"
           }
          ],
          "pie":[
           {
            "automargin":true,
            "type":"pie"
           }
          ],
          "scatter":[
           {
            "marker":{
             "colorbar":{
              "outlinewidth":0,
              "ticks":""
             }
            },
            "type":"scatter"
           }
          ],
          "scatter3d":[
           {
            "line":{
             "colorbar":{
              "outlinewidth":0,
              "ticks":""
             }
            },
            "marker":{
             "colorbar":{
              "outlinewidth":0,
              "ticks":""
             }
            },
            "type":"scatter3d"
           }
          ],
          "scattercarpet":[
           {
            "marker":{
             "colorbar":{
              "outlinewidth":0,
              "ticks":""
             }
            },
            "type":"scattercarpet"
           }
          ],
          "scattergeo":[
           {
            "marker":{
             "colorbar":{
              "outlinewidth":0,
              "ticks":""
             }
            },
            "type":"scattergeo"
           }
          ],
          "scattergl":[
           {
            "marker":{
             "colorbar":{
              "outlinewidth":0,
              "ticks":""
             }
            },
            "type":"scattergl"
           }
          ],
          "scattermapbox":[
           {
            "marker":{
             "colorbar":{
              "outlinewidth":0,
              "ticks":""
             }
            },
            "type":"scattermapbox"
           }
          ],
          "scatterpolar":[
           {
            "marker":{
             "colorbar":{
              "outlinewidth":0,
              "ticks":""
             }
            },
            "type":"scatterpolar"
           }
          ],
          "scatterpolargl":[
           {
            "marker":{
             "colorbar":{
              "outlinewidth":0,
              "ticks":""
             }
            },
            "type":"scatterpolargl"
           }
          ],
          "scatterternary":[
           {
            "marker":{
             "colorbar":{
              "outlinewidth":0,
              "ticks":""
             }
            },
            "type":"scatterternary"
           }
          ],
          "surface":[
           {
            "colorbar":{
             "outlinewidth":0,
             "ticks":""
            },
            "colorscale":[
             [
              0,
              "#0d0887"
             ],
             [
              0.1111111111111111,
              "#46039f"
             ],
             [
              0.2222222222222222,
              "#7201a8"
             ],
             [
              0.3333333333333333,
              "#9c179e"
             ],
             [
              0.4444444444444444,
              "#bd3786"
             ],
             [
              0.5555555555555556,
              "#d8576b"
             ],
             [
              0.6666666666666666,
              "#ed7953"
             ],
             [
              0.7777777777777778,
              "#fb9f3a"
             ],
             [
              0.8888888888888888,
              "#fdca26"
             ],
             [
              1,
              "#f0f921"
             ]
            ],
            "type":"surface"
           }
          ],
          "table":[
           {
            "cells":{
             "fill":{
              "color":"#EBF0F8"
             },
             "line":{
              "color":"white"
             }
            },
            "header":{
             "fill":{
              "color":"#C8D4E3"
             },
             "line":{
              "color":"white"
             }
            },
            "type":"table"
           }
          ]
         },
         "layout":{
          "annotationdefaults":{
           "arrowcolor":"#2a3f5f",
           "arrowhead":0,
           "arrowwidth":1
          },
          "autotypenumbers":"strict",
          "coloraxis":{
           "colorbar":{
            "outlinewidth":0,
            "ticks":""
           }
          },
          "colorscale":{
           "diverging":[
            [
             0,
             "#8e0152"
            ],
            [
             0.1,
             "#c51b7d"
            ],
            [
             0.2,
             "#de77ae"
            ],
            [
             0.3,
             "#f1b6da"
            ],
            [
             0.4,
             "#fde0ef"
            ],
            [
             0.5,
             "#f7f7f7"
            ],
            [
             0.6,
             "#e6f5d0"
            ],
            [
             0.7,
             "#b8e186"
            ],
            [
             0.8,
             "#7fbc41"
            ],
            [
             0.9,
             "#4d9221"
            ],
            [
             1,
             "#276419"
            ]
           ],
           "sequential":[
            [
             0,
             "#0d0887"
            ],
            [
             0.1111111111111111,
             "#46039f"
            ],
            [
             0.2222222222222222,
             "#7201a8"
            ],
            [
             0.3333333333333333,
             "#9c179e"
            ],
            [
             0.4444444444444444,
             "#bd3786"
            ],
            [
             0.5555555555555556,
             "#d8576b"
            ],
            [
             0.6666666666666666,
             "#ed7953"
            ],
            [
             0.7777777777777778,
             "#fb9f3a"
            ],
            [
             0.8888888888888888,
             "#fdca26"
            ],
            [
             1,
             "#f0f921"
            ]
           ],
           "sequentialminus":[
            [
             0,
             "#0d0887"
            ],
            [
             0.1111111111111111,
             "#46039f"
            ],
            [
             0.2222222222222222,
             "#7201a8"
            ],
            [
             0.3333333333333333,
             "#9c179e"
            ],
            [
             0.4444444444444444,
             "#bd3786"
            ],
            [
             0.5555555555555556,
             "#d8576b"
            ],
            [
             0.6666666666666666,
             "#ed7953"
            ],
            [
             0.7777777777777778,
             "#fb9f3a"
            ],
            [
             0.8888888888888888,
             "#fdca26"
            ],
            [
             1,
             "#f0f921"
            ]
           ]
          },
          "colorway":[
           "#636efa",
           "#EF553B",
           "#00cc96",
           "#ab63fa",
           "#FFA15A",
           "#19d3f3",
           "#FF6692",
           "#B6E880",
           "#FF97FF",
           "#FECB52"
          ],
          "font":{
           "color":"#2a3f5f"
          },
          "geo":{
           "bgcolor":"white",
           "lakecolor":"white",
           "landcolor":"#E5ECF6",
           "showlakes":true,
           "showland":true,
           "subunitcolor":"white"
          },
          "hoverlabel":{
           "align":"left"
          },
          "hovermode":"closest",
          "mapbox":{
           "style":"light"
          },
          "paper_bgcolor":"white",
          "plot_bgcolor":"#E5ECF6",
          "polar":{
           "angularaxis":{
            "gridcolor":"white",
            "linecolor":"white",
            "ticks":""
           },
           "bgcolor":"#E5ECF6",
           "radialaxis":{
            "gridcolor":"white",
            "linecolor":"white",
            "ticks":""
           }
          },
          "scene":{
           "xaxis":{
            "backgroundcolor":"#E5ECF6",
            "gridcolor":"white",
            "gridwidth":2,
            "linecolor":"white",
            "showbackground":true,
            "ticks":"",
            "zerolinecolor":"white"
           },
           "yaxis":{
            "backgroundcolor":"#E5ECF6",
            "gridcolor":"white",
            "gridwidth":2,
            "linecolor":"white",
            "showbackground":true,
            "ticks":"",
            "zerolinecolor":"white"
           },
           "zaxis":{
            "backgroundcolor":"#E5ECF6",
            "gridcolor":"white",
            "gridwidth":2,
            "linecolor":"white",
            "showbackground":true,
            "ticks":"",
            "zerolinecolor":"white"
           }
          },
          "shapedefaults":{
           "line":{
            "color":"#2a3f5f"
           }
          },
          "ternary":{
           "aaxis":{
            "gridcolor":"white",
            "linecolor":"white",
            "ticks":""
           },
           "baxis":{
            "gridcolor":"white",
            "linecolor":"white",
            "ticks":""
           },
           "bgcolor":"#E5ECF6",
           "caxis":{
            "gridcolor":"white",
            "linecolor":"white",
            "ticks":""
           }
          },
          "title":{
           "x":0.05
          },
          "xaxis":{
           "automargin":true,
           "gridcolor":"white",
           "linecolor":"white",
           "ticks":"",
           "title":{
            "standoff":15
           },
           "zerolinecolor":"white",
           "zerolinewidth":2
          },
          "yaxis":{
           "automargin":true,
           "gridcolor":"white",
           "linecolor":"white",
           "ticks":"",
           "title":{
            "standoff":15
           },
           "zerolinecolor":"white",
           "zerolinewidth":2
          }
         }
        },
        "xaxis":{
         "anchor":"y",
         "domain":[
          0,
          1
         ],
         "title":{
          "text":"Player"
         }
        },
        "yaxis":{
         "anchor":"x",
         "domain":[
          0,
          1
         ],
         "title":{
          "text":"%1stServePointsWon"
         }
        },
        "legend":{
         "tracegroupgap":0
        },
        "title":{
         "text":"1stServePointsWon"
        }
       },
       "config":{
        "plotlyServerURL":"https:\/\/plot.ly"
       }
      }
     },
     "metadata":{
      
     },
     "output_type":"display_data"
    }
   ],
   "metadata":{
    "datalore":{
     "node_id":"k120xC3uRMIDmDMWgt0Ljw",
     "type":"CODE",
     "hide_input_from_viewers":false,
     "hide_output_from_viewers":false,
     "report_properties":{
      "rowId":"7yKt12NoPoruLgspgDU6Kt"
     }
    }
   }
  },
  {
   "cell_type":"code",
   "source":[
    "# vamos a establecer los cuartiles para ver que jugadores están por encima de la media.\n",
    "\n",
    "q1 = Best1stServePointsWon['%1stServePointsWon'].quantile(0.25)\n",
    "q3 = Best1stServePointsWon['%1stServePointsWon'].quantile(0.75)\n",
    "iqr = q3 - q1 #Interquartile range\n",
    "fence_low  = q1-1.5*iqr #lower fence. Esto es para ver los valores que están por debajo del primer cuartil.\n",
    "fence_high = q3+1.5*iqr #upper fence. Esto es para ver los valores que están por encima del tercer cuartil.\n",
    "\n",
    "print('q1: ', q1)\n",
    "print('q3: ', q3)\n",
    "print('iqr: ', iqr)\n",
    "print('fence_low: ', fence_low)\n",
    "print('fence_high: ', fence_high)"
   ],
   "execution_count":39,
   "outputs":[
    {
     "name":"stdout",
     "text":[
      "q1:  68.5\n",
      "q3:  75.24999809265137\n",
      "iqr:  6.749998092651367\n",
      "fence_low:  58.37500286102295\n",
      "fence_high:  85.37499523162842\n"
     ],
     "output_type":"stream"
    }
   ],
   "metadata":{
    "datalore":{
     "node_id":"CWr98Qj4z5wekjQ4KH7pYx",
     "type":"CODE",
     "hide_input_from_viewers":false,
     "hide_output_from_viewers":false,
     "report_properties":{
      "rowId":"kVcaJw19oBME2Dttsgp8mR"
     }
    }
   }
  },
  {
   "cell_type":"code",
   "source":[
    "### Vamos a ver los jugadores que están por encima de la media.\n",
    "\n",
    "Best1stServePointsWon = Best1stServePointsWon[Best1stServePointsWon['%1stServePointsWon'] > q3]\n",
    "Best1stServePointsWon"
   ],
   "execution_count":40,
   "outputs":[
    {
     "data":{
      "text\/html":[
       "<div>\n",
       "<style scoped>\n",
       "    .dataframe tbody tr th:only-of-type {\n",
       "        vertical-align: middle;\n",
       "    }\n",
       "\n",
       "    .dataframe tbody tr th {\n",
       "        vertical-align: top;\n",
       "    }\n",
       "\n",
       "    .dataframe thead th {\n",
       "        text-align: right;\n",
       "    }\n",
       "<\/style>\n",
       "<table border=\"1\" class=\"dataframe\">\n",
       "  <thead>\n",
       "    <tr style=\"text-align: right;\">\n",
       "      <th><\/th>\n",
       "      <th>Player<\/th>\n",
       "      <th>%1stServePointsWon<\/th>\n",
       "    <\/tr>\n",
       "  <\/thead>\n",
       "  <tbody>\n",
       "    <tr>\n",
       "      <th>0<\/th>\n",
       "      <td>John Isner<\/td>\n",
       "      <td>79.800003<\/td>\n",
       "    <\/tr>\n",
       "    <tr>\n",
       "      <th>1<\/th>\n",
       "      <td>Hubert Hurkacz<\/td>\n",
       "      <td>79.199997<\/td>\n",
       "    <\/tr>\n",
       "    <tr>\n",
       "      <th>2<\/th>\n",
       "      <td>Matteo Berrettini<\/td>\n",
       "      <td>79.599998<\/td>\n",
       "    <\/tr>\n",
       "    <tr>\n",
       "      <th>3<\/th>\n",
       "      <td>Novak Djokovic<\/td>\n",
       "      <td>77.199997<\/td>\n",
       "    <\/tr>\n",
       "    <tr>\n",
       "      <th>4<\/th>\n",
       "      <td>Ben Shelton<\/td>\n",
       "      <td>79.300003<\/td>\n",
       "    <\/tr>\n",
       "    <tr>\n",
       "      <th>5<\/th>\n",
       "      <td>Stefanos Tsitsipas<\/td>\n",
       "      <td>76.500000<\/td>\n",
       "    <\/tr>\n",
       "    <tr>\n",
       "      <th>6<\/th>\n",
       "      <td>Maxime Cressy<\/td>\n",
       "      <td>79.800003<\/td>\n",
       "    <\/tr>\n",
       "    <tr>\n",
       "      <th>7<\/th>\n",
       "      <td>Felix Auger-Aliassime<\/td>\n",
       "      <td>77.500000<\/td>\n",
       "    <\/tr>\n",
       "    <tr>\n",
       "      <th>8<\/th>\n",
       "      <td>Taylor Fritz<\/td>\n",
       "      <td>77.099998<\/td>\n",
       "    <\/tr>\n",
       "    <tr>\n",
       "      <th>10<\/th>\n",
       "      <td>Marc-Andrea Huesler<\/td>\n",
       "      <td>76.000000<\/td>\n",
       "    <\/tr>\n",
       "    <tr>\n",
       "      <th>11<\/th>\n",
       "      <td>Daniil Medvedev<\/td>\n",
       "      <td>75.400002<\/td>\n",
       "    <\/tr>\n",
       "    <tr>\n",
       "      <th>18<\/th>\n",
       "      <td>Andrey Rublev<\/td>\n",
       "      <td>76.099998<\/td>\n",
       "    <\/tr>\n",
       "    <tr>\n",
       "      <th>19<\/th>\n",
       "      <td>Grigor Dimitrov<\/td>\n",
       "      <td>76.199997<\/td>\n",
       "    <\/tr>\n",
       "    <tr>\n",
       "      <th>26<\/th>\n",
       "      <td>Stan Wawrinka<\/td>\n",
       "      <td>75.699997<\/td>\n",
       "    <\/tr>\n",
       "    <tr>\n",
       "      <th>29<\/th>\n",
       "      <td>Denis Shapovalov<\/td>\n",
       "      <td>75.500000<\/td>\n",
       "    <\/tr>\n",
       "    <tr>\n",
       "      <th>32<\/th>\n",
       "      <td>Oscar Otte<\/td>\n",
       "      <td>77.000000<\/td>\n",
       "    <\/tr>\n",
       "    <tr>\n",
       "      <th>41<\/th>\n",
       "      <td>Alexander Bublik<\/td>\n",
       "      <td>78.000000<\/td>\n",
       "    <\/tr>\n",
       "  <\/tbody>\n",
       "<\/table>\n",
       "<\/div>"
      ]
     },
     "metadata":{
      
     },
     "output_type":"display_data"
    }
   ],
   "metadata":{
    "datalore":{
     "node_id":"a9Cmb7dVztMFXRBYLKrtus",
     "type":"CODE",
     "hide_input_from_viewers":false,
     "hide_output_from_viewers":false,
     "report_properties":{
      "rowId":"CijAGA9wP0Bn01XLNf201J"
     }
    }
   }
  },
  {
   "cell_type":"markdown",
   "source":[
    "### Vamos a averiguar que jugadores tienen un %2stServePointsWon superior a la media."
   ],
   "attachments":{
    
   },
   "metadata":{
    "datalore":{
     "node_id":"A6aRnKY3t7qMefJead3Pfb",
     "type":"MD",
     "hide_input_from_viewers":false,
     "hide_output_from_viewers":false,
     "report_properties":{
      "rowId":"XnzZMGw3BEI4uDhuuhpN0M"
     }
    }
   }
  },
  {
   "cell_type":"code",
   "source":[
    "### Hagamos lo mismo %2ndServePointsWon\n",
    "\n",
    "Best2stServePointsWon = df[['Player', '%2ndServePointsWon']]\n",
    "Best2stServePointsWon.head()"
   ],
   "execution_count":41,
   "outputs":[
    {
     "data":{
      "text\/html":[
       "<div>\n",
       "<style scoped>\n",
       "    .dataframe tbody tr th:only-of-type {\n",
       "        vertical-align: middle;\n",
       "    }\n",
       "\n",
       "    .dataframe tbody tr th {\n",
       "        vertical-align: top;\n",
       "    }\n",
       "\n",
       "    .dataframe thead th {\n",
       "        text-align: right;\n",
       "    }\n",
       "<\/style>\n",
       "<table border=\"1\" class=\"dataframe\">\n",
       "  <thead>\n",
       "    <tr style=\"text-align: right;\">\n",
       "      <th><\/th>\n",
       "      <th>Player<\/th>\n",
       "      <th>%2ndServePointsWon<\/th>\n",
       "    <\/tr>\n",
       "  <\/thead>\n",
       "  <tbody>\n",
       "    <tr>\n",
       "      <th>0<\/th>\n",
       "      <td>John Isner<\/td>\n",
       "      <td>52.700001<\/td>\n",
       "    <\/tr>\n",
       "    <tr>\n",
       "      <th>1<\/th>\n",
       "      <td>Hubert Hurkacz<\/td>\n",
       "      <td>54.900002<\/td>\n",
       "    <\/tr>\n",
       "    <tr>\n",
       "      <th>2<\/th>\n",
       "      <td>Matteo Berrettini<\/td>\n",
       "      <td>52.000000<\/td>\n",
       "    <\/tr>\n",
       "    <tr>\n",
       "      <th>3<\/th>\n",
       "      <td>Novak Djokovic<\/td>\n",
       "      <td>57.000000<\/td>\n",
       "    <\/tr>\n",
       "    <tr>\n",
       "      <th>4<\/th>\n",
       "      <td>Ben Shelton<\/td>\n",
       "      <td>55.900002<\/td>\n",
       "    <\/tr>\n",
       "  <\/tbody>\n",
       "<\/table>\n",
       "<\/div>"
      ]
     },
     "metadata":{
      
     },
     "output_type":"display_data"
    }
   ],
   "metadata":{
    "datalore":{
     "node_id":"VDf2I0UWCJvLsBlVsai3Q4",
     "type":"CODE",
     "hide_input_from_viewers":false,
     "hide_output_from_viewers":false,
     "report_properties":{
      "rowId":"ejkMGkOoSUcZMdSWObiOIh"
     }
    }
   }
  },
  {
   "cell_type":"code",
   "source":[
    "### Vamos a ver la distribución de los datos.\n",
    "\n",
    "Best2stServePointsWon.describe()"
   ],
   "execution_count":42,
   "outputs":[
    {
     "data":{
      "text\/html":[
       "<div>\n",
       "<style scoped>\n",
       "    .dataframe tbody tr th:only-of-type {\n",
       "        vertical-align: middle;\n",
       "    }\n",
       "\n",
       "    .dataframe tbody tr th {\n",
       "        vertical-align: top;\n",
       "    }\n",
       "\n",
       "    .dataframe thead th {\n",
       "        text-align: right;\n",
       "    }\n",
       "<\/style>\n",
       "<table border=\"1\" class=\"dataframe\">\n",
       "  <thead>\n",
       "    <tr style=\"text-align: right;\">\n",
       "      <th><\/th>\n",
       "      <th>%2ndServePointsWon<\/th>\n",
       "    <\/tr>\n",
       "  <\/thead>\n",
       "  <tbody>\n",
       "    <tr>\n",
       "      <th>count<\/th>\n",
       "      <td>68.000000<\/td>\n",
       "    <\/tr>\n",
       "    <tr>\n",
       "      <th>mean<\/th>\n",
       "      <td>51.483822<\/td>\n",
       "    <\/tr>\n",
       "    <tr>\n",
       "      <th>std<\/th>\n",
       "      <td>2.677246<\/td>\n",
       "    <\/tr>\n",
       "    <tr>\n",
       "      <th>min<\/th>\n",
       "      <td>44.099998<\/td>\n",
       "    <\/tr>\n",
       "    <tr>\n",
       "      <th>25%<\/th>\n",
       "      <td>50.175000<\/td>\n",
       "    <\/tr>\n",
       "    <tr>\n",
       "      <th>50%<\/th>\n",
       "      <td>51.400002<\/td>\n",
       "    <\/tr>\n",
       "    <tr>\n",
       "      <th>75%<\/th>\n",
       "      <td>53.025000<\/td>\n",
       "    <\/tr>\n",
       "    <tr>\n",
       "      <th>max<\/th>\n",
       "      <td>57.000000<\/td>\n",
       "    <\/tr>\n",
       "  <\/tbody>\n",
       "<\/table>\n",
       "<\/div>"
      ]
     },
     "metadata":{
      
     },
     "output_type":"display_data"
    }
   ],
   "metadata":{
    "datalore":{
     "node_id":"yYy4W94NGYt7gZIeoB9ley",
     "type":"CODE",
     "hide_input_from_viewers":false,
     "hide_output_from_viewers":false,
     "report_properties":{
      "rowId":"V5LYZeBwkv8k4jGodgMM2V"
     }
    }
   }
  },
  {
   "cell_type":"code",
   "source":[
    "### Vamos a ver la distribución de los datos con plotly con forma de linea.\n",
    "\n",
    "fig = px.line(Best2stServePointsWon, x='Player', y='%2ndServePointsWon', title='2ndServePointsWon')\n",
    "fig.show()"
   ],
   "execution_count":43,
   "outputs":[
    {
     "data":{
      "application\/vnd.plotly.v1+json":{
       "data":[
        {
         "hovertemplate":"Player=%{x}<br>%2ndServePointsWon=%{y}<extra><\/extra>",
         "legendgroup":"",
         "line":{
          "color":"#636efa",
          "dash":"solid"
         },
         "marker":{
          "symbol":"circle"
         },
         "mode":"lines",
         "name":"",
         "orientation":"v",
         "showlegend":false,
         "x":[
          "John Isner",
          "Hubert Hurkacz",
          "Matteo Berrettini",
          "Novak Djokovic",
          "Ben Shelton",
          "Stefanos Tsitsipas",
          "Maxime Cressy",
          "Felix Auger-Aliassime",
          "Taylor Fritz",
          "Casper Ruud",
          "Marc-Andrea Huesler",
          "Daniil Medvedev",
          "Borna Coric",
          "Lorenzo Sonego",
          "Holger Rune",
          "Carlos Alcaraz",
          "Alexander Zverev",
          "Tallon Griekspoor",
          "Andrey Rublev",
          "Grigor Dimitrov",
          "Roberto Bautista Agut",
          "Jack Draper",
          "Karen Khachanov",
          "Arthur Rinderknech",
          "Frances Tiafoe",
          "Benjamin Bonzi",
          "Stan Wawrinka",
          "Jannik Sinner",
          "Adrian Mannarino",
          "Denis Shapovalov",
          "Sebastian Korda",
          "Cameron Norrie",
          "Oscar Otte",
          "J.J. Wolf",
          "Lorenzo Musetti",
          "Laslo Djere",
          "Sebastian Baez",
          "Yoshihito Nishioka",
          "Tommy Paul",
          "Andy Murray",
          "Jiri Lehecka",
          "Alexander Bublik",
          "Miomir Kecmanovic",
          "Mackenzie Mcdonald",
          "Dominic Thiem",
          "Marcos Giron",
          "Daniel Evans",
          "Filip Krajinovic",
          "Emil Ruusuvuori",
          "Soonwoo Kwon",
          "Albert Ramos-Vinolas",
          "Richard Gasquet",
          "Alejandro Davidovich Fokina",
          "Alex Molcan",
          "Dusan Lajovic",
          "Botic Van De Zandschulp",
          "Alex De Minaur",
          "Mikael Ymer",
          "Francisco Cerundolo",
          "David Goffin",
          "Aslan Karatsev",
          "Cristian Garin",
          "Pedro Martinez",
          "Joao Sousa",
          "Federico Coria",
          "Jaume Munar",
          "Bernabe Zapata Miralles",
          "Diego Schwartzman"
         ],
         "xaxis":"x",
         "y":[
          52.70000076293945,
          54.900001525878906,
          52,
          57,
          55.900001525878906,
          55.099998474121094,
          53.099998474121094,
          50.599998474121094,
          53,
          55.20000076293945,
          53,
          51.400001525878906,
          54.5,
          51,
          55.099998474121094,
          55.29999923706055,
          47.599998474121094,
          51.79999923706055,
          50.400001525878906,
          51.29999923706055,
          55.099998474121094,
          51.79999923706055,
          52.099998474121094,
          48,
          52.79999923706055,
          52.70000076293945,
          51.900001525878906,
          53.400001525878906,
          55.70000076293945,
          50.70000076293945,
          51.400001525878906,
          50.900001525878906,
          50.20000076293945,
          50.099998474121094,
          53.79999923706055,
          51.20000076293945,
          54.099998474121094,
          56.900001525878906,
          51.400001525878906,
          50.099998474121094,
          51.900001525878906,
          44.099998474121094,
          53.79999923706055,
          51.099998474121094,
          53.400001525878906,
          52.70000076293945,
          50,
          51.20000076293945,
          49.79999923706055,
          50.70000076293945,
          51.599998474121094,
          50.70000076293945,
          51.900001525878906,
          52.5,
          50.70000076293945,
          46.29999923706055,
          50.79999923706055,
          50.29999923706055,
          49.400001525878906,
          49.099998474121094,
          48.599998474121094,
          48.5,
          50.20000076293945,
          47.20000076293945,
          48.900001525878906,
          44.599998474121094,
          48,
          47.70000076293945
         ],
         "yaxis":"y",
         "type":"scatter"
        }
       ],
       "layout":{
        "template":{
         "data":{
          "bar":[
           {
            "error_x":{
             "color":"#2a3f5f"
            },
            "error_y":{
             "color":"#2a3f5f"
            },
            "marker":{
             "line":{
              "color":"#E5ECF6",
              "width":0.5
             },
             "pattern":{
              "fillmode":"overlay",
              "size":10,
              "solidity":0.2
             }
            },
            "type":"bar"
           }
          ],
          "barpolar":[
           {
            "marker":{
             "line":{
              "color":"#E5ECF6",
              "width":0.5
             },
             "pattern":{
              "fillmode":"overlay",
              "size":10,
              "solidity":0.2
             }
            },
            "type":"barpolar"
           }
          ],
          "carpet":[
           {
            "aaxis":{
             "endlinecolor":"#2a3f5f",
             "gridcolor":"white",
             "linecolor":"white",
             "minorgridcolor":"white",
             "startlinecolor":"#2a3f5f"
            },
            "baxis":{
             "endlinecolor":"#2a3f5f",
             "gridcolor":"white",
             "linecolor":"white",
             "minorgridcolor":"white",
             "startlinecolor":"#2a3f5f"
            },
            "type":"carpet"
           }
          ],
          "choropleth":[
           {
            "colorbar":{
             "outlinewidth":0,
             "ticks":""
            },
            "type":"choropleth"
           }
          ],
          "contour":[
           {
            "colorbar":{
             "outlinewidth":0,
             "ticks":""
            },
            "colorscale":[
             [
              0,
              "#0d0887"
             ],
             [
              0.1111111111111111,
              "#46039f"
             ],
             [
              0.2222222222222222,
              "#7201a8"
             ],
             [
              0.3333333333333333,
              "#9c179e"
             ],
             [
              0.4444444444444444,
              "#bd3786"
             ],
             [
              0.5555555555555556,
              "#d8576b"
             ],
             [
              0.6666666666666666,
              "#ed7953"
             ],
             [
              0.7777777777777778,
              "#fb9f3a"
             ],
             [
              0.8888888888888888,
              "#fdca26"
             ],
             [
              1,
              "#f0f921"
             ]
            ],
            "type":"contour"
           }
          ],
          "contourcarpet":[
           {
            "colorbar":{
             "outlinewidth":0,
             "ticks":""
            },
            "type":"contourcarpet"
           }
          ],
          "heatmap":[
           {
            "colorbar":{
             "outlinewidth":0,
             "ticks":""
            },
            "colorscale":[
             [
              0,
              "#0d0887"
             ],
             [
              0.1111111111111111,
              "#46039f"
             ],
             [
              0.2222222222222222,
              "#7201a8"
             ],
             [
              0.3333333333333333,
              "#9c179e"
             ],
             [
              0.4444444444444444,
              "#bd3786"
             ],
             [
              0.5555555555555556,
              "#d8576b"
             ],
             [
              0.6666666666666666,
              "#ed7953"
             ],
             [
              0.7777777777777778,
              "#fb9f3a"
             ],
             [
              0.8888888888888888,
              "#fdca26"
             ],
             [
              1,
              "#f0f921"
             ]
            ],
            "type":"heatmap"
           }
          ],
          "heatmapgl":[
           {
            "colorbar":{
             "outlinewidth":0,
             "ticks":""
            },
            "colorscale":[
             [
              0,
              "#0d0887"
             ],
             [
              0.1111111111111111,
              "#46039f"
             ],
             [
              0.2222222222222222,
              "#7201a8"
             ],
             [
              0.3333333333333333,
              "#9c179e"
             ],
             [
              0.4444444444444444,
              "#bd3786"
             ],
             [
              0.5555555555555556,
              "#d8576b"
             ],
             [
              0.6666666666666666,
              "#ed7953"
             ],
             [
              0.7777777777777778,
              "#fb9f3a"
             ],
             [
              0.8888888888888888,
              "#fdca26"
             ],
             [
              1,
              "#f0f921"
             ]
            ],
            "type":"heatmapgl"
           }
          ],
          "histogram":[
           {
            "marker":{
             "pattern":{
              "fillmode":"overlay",
              "size":10,
              "solidity":0.2
             }
            },
            "type":"histogram"
           }
          ],
          "histogram2d":[
           {
            "colorbar":{
             "outlinewidth":0,
             "ticks":""
            },
            "colorscale":[
             [
              0,
              "#0d0887"
             ],
             [
              0.1111111111111111,
              "#46039f"
             ],
             [
              0.2222222222222222,
              "#7201a8"
             ],
             [
              0.3333333333333333,
              "#9c179e"
             ],
             [
              0.4444444444444444,
              "#bd3786"
             ],
             [
              0.5555555555555556,
              "#d8576b"
             ],
             [
              0.6666666666666666,
              "#ed7953"
             ],
             [
              0.7777777777777778,
              "#fb9f3a"
             ],
             [
              0.8888888888888888,
              "#fdca26"
             ],
             [
              1,
              "#f0f921"
             ]
            ],
            "type":"histogram2d"
           }
          ],
          "histogram2dcontour":[
           {
            "colorbar":{
             "outlinewidth":0,
             "ticks":""
            },
            "colorscale":[
             [
              0,
              "#0d0887"
             ],
             [
              0.1111111111111111,
              "#46039f"
             ],
             [
              0.2222222222222222,
              "#7201a8"
             ],
             [
              0.3333333333333333,
              "#9c179e"
             ],
             [
              0.4444444444444444,
              "#bd3786"
             ],
             [
              0.5555555555555556,
              "#d8576b"
             ],
             [
              0.6666666666666666,
              "#ed7953"
             ],
             [
              0.7777777777777778,
              "#fb9f3a"
             ],
             [
              0.8888888888888888,
              "#fdca26"
             ],
             [
              1,
              "#f0f921"
             ]
            ],
            "type":"histogram2dcontour"
           }
          ],
          "mesh3d":[
           {
            "colorbar":{
             "outlinewidth":0,
             "ticks":""
            },
            "type":"mesh3d"
           }
          ],
          "parcoords":[
           {
            "line":{
             "colorbar":{
              "outlinewidth":0,
              "ticks":""
             }
            },
            "type":"parcoords"
           }
          ],
          "pie":[
           {
            "automargin":true,
            "type":"pie"
           }
          ],
          "scatter":[
           {
            "marker":{
             "colorbar":{
              "outlinewidth":0,
              "ticks":""
             }
            },
            "type":"scatter"
           }
          ],
          "scatter3d":[
           {
            "line":{
             "colorbar":{
              "outlinewidth":0,
              "ticks":""
             }
            },
            "marker":{
             "colorbar":{
              "outlinewidth":0,
              "ticks":""
             }
            },
            "type":"scatter3d"
           }
          ],
          "scattercarpet":[
           {
            "marker":{
             "colorbar":{
              "outlinewidth":0,
              "ticks":""
             }
            },
            "type":"scattercarpet"
           }
          ],
          "scattergeo":[
           {
            "marker":{
             "colorbar":{
              "outlinewidth":0,
              "ticks":""
             }
            },
            "type":"scattergeo"
           }
          ],
          "scattergl":[
           {
            "marker":{
             "colorbar":{
              "outlinewidth":0,
              "ticks":""
             }
            },
            "type":"scattergl"
           }
          ],
          "scattermapbox":[
           {
            "marker":{
             "colorbar":{
              "outlinewidth":0,
              "ticks":""
             }
            },
            "type":"scattermapbox"
           }
          ],
          "scatterpolar":[
           {
            "marker":{
             "colorbar":{
              "outlinewidth":0,
              "ticks":""
             }
            },
            "type":"scatterpolar"
           }
          ],
          "scatterpolargl":[
           {
            "marker":{
             "colorbar":{
              "outlinewidth":0,
              "ticks":""
             }
            },
            "type":"scatterpolargl"
           }
          ],
          "scatterternary":[
           {
            "marker":{
             "colorbar":{
              "outlinewidth":0,
              "ticks":""
             }
            },
            "type":"scatterternary"
           }
          ],
          "surface":[
           {
            "colorbar":{
             "outlinewidth":0,
             "ticks":""
            },
            "colorscale":[
             [
              0,
              "#0d0887"
             ],
             [
              0.1111111111111111,
              "#46039f"
             ],
             [
              0.2222222222222222,
              "#7201a8"
             ],
             [
              0.3333333333333333,
              "#9c179e"
             ],
             [
              0.4444444444444444,
              "#bd3786"
             ],
             [
              0.5555555555555556,
              "#d8576b"
             ],
             [
              0.6666666666666666,
              "#ed7953"
             ],
             [
              0.7777777777777778,
              "#fb9f3a"
             ],
             [
              0.8888888888888888,
              "#fdca26"
             ],
             [
              1,
              "#f0f921"
             ]
            ],
            "type":"surface"
           }
          ],
          "table":[
           {
            "cells":{
             "fill":{
              "color":"#EBF0F8"
             },
             "line":{
              "color":"white"
             }
            },
            "header":{
             "fill":{
              "color":"#C8D4E3"
             },
             "line":{
              "color":"white"
             }
            },
            "type":"table"
           }
          ]
         },
         "layout":{
          "annotationdefaults":{
           "arrowcolor":"#2a3f5f",
           "arrowhead":0,
           "arrowwidth":1
          },
          "autotypenumbers":"strict",
          "coloraxis":{
           "colorbar":{
            "outlinewidth":0,
            "ticks":""
           }
          },
          "colorscale":{
           "diverging":[
            [
             0,
             "#8e0152"
            ],
            [
             0.1,
             "#c51b7d"
            ],
            [
             0.2,
             "#de77ae"
            ],
            [
             0.3,
             "#f1b6da"
            ],
            [
             0.4,
             "#fde0ef"
            ],
            [
             0.5,
             "#f7f7f7"
            ],
            [
             0.6,
             "#e6f5d0"
            ],
            [
             0.7,
             "#b8e186"
            ],
            [
             0.8,
             "#7fbc41"
            ],
            [
             0.9,
             "#4d9221"
            ],
            [
             1,
             "#276419"
            ]
           ],
           "sequential":[
            [
             0,
             "#0d0887"
            ],
            [
             0.1111111111111111,
             "#46039f"
            ],
            [
             0.2222222222222222,
             "#7201a8"
            ],
            [
             0.3333333333333333,
             "#9c179e"
            ],
            [
             0.4444444444444444,
             "#bd3786"
            ],
            [
             0.5555555555555556,
             "#d8576b"
            ],
            [
             0.6666666666666666,
             "#ed7953"
            ],
            [
             0.7777777777777778,
             "#fb9f3a"
            ],
            [
             0.8888888888888888,
             "#fdca26"
            ],
            [
             1,
             "#f0f921"
            ]
           ],
           "sequentialminus":[
            [
             0,
             "#0d0887"
            ],
            [
             0.1111111111111111,
             "#46039f"
            ],
            [
             0.2222222222222222,
             "#7201a8"
            ],
            [
             0.3333333333333333,
             "#9c179e"
            ],
            [
             0.4444444444444444,
             "#bd3786"
            ],
            [
             0.5555555555555556,
             "#d8576b"
            ],
            [
             0.6666666666666666,
             "#ed7953"
            ],
            [
             0.7777777777777778,
             "#fb9f3a"
            ],
            [
             0.8888888888888888,
             "#fdca26"
            ],
            [
             1,
             "#f0f921"
            ]
           ]
          },
          "colorway":[
           "#636efa",
           "#EF553B",
           "#00cc96",
           "#ab63fa",
           "#FFA15A",
           "#19d3f3",
           "#FF6692",
           "#B6E880",
           "#FF97FF",
           "#FECB52"
          ],
          "font":{
           "color":"#2a3f5f"
          },
          "geo":{
           "bgcolor":"white",
           "lakecolor":"white",
           "landcolor":"#E5ECF6",
           "showlakes":true,
           "showland":true,
           "subunitcolor":"white"
          },
          "hoverlabel":{
           "align":"left"
          },
          "hovermode":"closest",
          "mapbox":{
           "style":"light"
          },
          "paper_bgcolor":"white",
          "plot_bgcolor":"#E5ECF6",
          "polar":{
           "angularaxis":{
            "gridcolor":"white",
            "linecolor":"white",
            "ticks":""
           },
           "bgcolor":"#E5ECF6",
           "radialaxis":{
            "gridcolor":"white",
            "linecolor":"white",
            "ticks":""
           }
          },
          "scene":{
           "xaxis":{
            "backgroundcolor":"#E5ECF6",
            "gridcolor":"white",
            "gridwidth":2,
            "linecolor":"white",
            "showbackground":true,
            "ticks":"",
            "zerolinecolor":"white"
           },
           "yaxis":{
            "backgroundcolor":"#E5ECF6",
            "gridcolor":"white",
            "gridwidth":2,
            "linecolor":"white",
            "showbackground":true,
            "ticks":"",
            "zerolinecolor":"white"
           },
           "zaxis":{
            "backgroundcolor":"#E5ECF6",
            "gridcolor":"white",
            "gridwidth":2,
            "linecolor":"white",
            "showbackground":true,
            "ticks":"",
            "zerolinecolor":"white"
           }
          },
          "shapedefaults":{
           "line":{
            "color":"#2a3f5f"
           }
          },
          "ternary":{
           "aaxis":{
            "gridcolor":"white",
            "linecolor":"white",
            "ticks":""
           },
           "baxis":{
            "gridcolor":"white",
            "linecolor":"white",
            "ticks":""
           },
           "bgcolor":"#E5ECF6",
           "caxis":{
            "gridcolor":"white",
            "linecolor":"white",
            "ticks":""
           }
          },
          "title":{
           "x":0.05
          },
          "xaxis":{
           "automargin":true,
           "gridcolor":"white",
           "linecolor":"white",
           "ticks":"",
           "title":{
            "standoff":15
           },
           "zerolinecolor":"white",
           "zerolinewidth":2
          },
          "yaxis":{
           "automargin":true,
           "gridcolor":"white",
           "linecolor":"white",
           "ticks":"",
           "title":{
            "standoff":15
           },
           "zerolinecolor":"white",
           "zerolinewidth":2
          }
         }
        },
        "xaxis":{
         "anchor":"y",
         "domain":[
          0,
          1
         ],
         "title":{
          "text":"Player"
         }
        },
        "yaxis":{
         "anchor":"x",
         "domain":[
          0,
          1
         ],
         "title":{
          "text":"%2ndServePointsWon"
         }
        },
        "legend":{
         "tracegroupgap":0
        },
        "title":{
         "text":"2ndServePointsWon"
        }
       },
       "config":{
        "plotlyServerURL":"https:\/\/plot.ly"
       }
      }
     },
     "metadata":{
      
     },
     "output_type":"display_data"
    }
   ],
   "metadata":{
    "datalore":{
     "node_id":"UBYa2SSdw6xTuK88emroh4",
     "type":"CODE",
     "hide_input_from_viewers":false,
     "hide_output_from_viewers":false,
     "report_properties":{
      "rowId":"chvKG5KHTf59IDx4XULN1O"
     }
    }
   }
  },
  {
   "cell_type":"code",
   "source":[
    "### vamos a establecer los cuartiles para ver que jugadores están por encima de la media.\n",
    "\n",
    "q1 = Best2stServePointsWon['%2ndServePointsWon'].quantile(0.25)\n",
    "q3 = Best2stServePointsWon['%2ndServePointsWon'].quantile(0.75)\n",
    "iqr = q3 - q1 #Interquartile range\n",
    "fence_low  = q1-1.5*iqr #lower fence. Esto es para ver los valores que están por debajo del primer cuartil.\n",
    "fence_high = q3+1.5*iqr #upper fence. Esto es para ver los valores que están por encima del tercer cuartil.\n",
    "\n",
    "print('q1: ', q1)\n",
    "print('q3: ', q3)\n",
    "print('iqr: ', iqr)\n",
    "print('fence_low: ', fence_low)\n",
    "print('fence_high: ', fence_high)"
   ],
   "execution_count":44,
   "outputs":[
    {
     "name":"stdout",
     "text":[
      "q1:  50.17500019073486\n",
      "q3:  53.02499961853027\n",
      "iqr:  2.84999942779541\n",
      "fence_low:  45.90000104904175\n",
      "fence_high:  57.29999876022339\n"
     ],
     "output_type":"stream"
    }
   ],
   "metadata":{
    "datalore":{
     "node_id":"MpNq4rFmLldow9OZYefyxa",
     "type":"CODE",
     "hide_input_from_viewers":false,
     "hide_output_from_viewers":false,
     "report_properties":{
      "rowId":"vyL5ZvUg7p6xMuqkaJt6Cf"
     }
    }
   }
  },
  {
   "cell_type":"code",
   "source":[
    "### Vamos a ver los jugadores que están por encima de la media.\n",
    "\n",
    "Best2stServePointsWon = Best2stServePointsWon[Best2stServePointsWon['%2ndServePointsWon'] > q3]\n",
    "Best2stServePointsWon"
   ],
   "execution_count":45,
   "outputs":[
    {
     "data":{
      "text\/html":[
       "<div>\n",
       "<style scoped>\n",
       "    .dataframe tbody tr th:only-of-type {\n",
       "        vertical-align: middle;\n",
       "    }\n",
       "\n",
       "    .dataframe tbody tr th {\n",
       "        vertical-align: top;\n",
       "    }\n",
       "\n",
       "    .dataframe thead th {\n",
       "        text-align: right;\n",
       "    }\n",
       "<\/style>\n",
       "<table border=\"1\" class=\"dataframe\">\n",
       "  <thead>\n",
       "    <tr style=\"text-align: right;\">\n",
       "      <th><\/th>\n",
       "      <th>Player<\/th>\n",
       "      <th>%2ndServePointsWon<\/th>\n",
       "    <\/tr>\n",
       "  <\/thead>\n",
       "  <tbody>\n",
       "    <tr>\n",
       "      <th>1<\/th>\n",
       "      <td>Hubert Hurkacz<\/td>\n",
       "      <td>54.900002<\/td>\n",
       "    <\/tr>\n",
       "    <tr>\n",
       "      <th>3<\/th>\n",
       "      <td>Novak Djokovic<\/td>\n",
       "      <td>57.000000<\/td>\n",
       "    <\/tr>\n",
       "    <tr>\n",
       "      <th>4<\/th>\n",
       "      <td>Ben Shelton<\/td>\n",
       "      <td>55.900002<\/td>\n",
       "    <\/tr>\n",
       "    <tr>\n",
       "      <th>5<\/th>\n",
       "      <td>Stefanos Tsitsipas<\/td>\n",
       "      <td>55.099998<\/td>\n",
       "    <\/tr>\n",
       "    <tr>\n",
       "      <th>6<\/th>\n",
       "      <td>Maxime Cressy<\/td>\n",
       "      <td>53.099998<\/td>\n",
       "    <\/tr>\n",
       "    <tr>\n",
       "      <th>9<\/th>\n",
       "      <td>Casper Ruud<\/td>\n",
       "      <td>55.200001<\/td>\n",
       "    <\/tr>\n",
       "    <tr>\n",
       "      <th>12<\/th>\n",
       "      <td>Borna Coric<\/td>\n",
       "      <td>54.500000<\/td>\n",
       "    <\/tr>\n",
       "    <tr>\n",
       "      <th>14<\/th>\n",
       "      <td>Holger Rune<\/td>\n",
       "      <td>55.099998<\/td>\n",
       "    <\/tr>\n",
       "    <tr>\n",
       "      <th>15<\/th>\n",
       "      <td>Carlos Alcaraz<\/td>\n",
       "      <td>55.299999<\/td>\n",
       "    <\/tr>\n",
       "    <tr>\n",
       "      <th>20<\/th>\n",
       "      <td>Roberto Bautista Agut<\/td>\n",
       "      <td>55.099998<\/td>\n",
       "    <\/tr>\n",
       "    <tr>\n",
       "      <th>27<\/th>\n",
       "      <td>Jannik Sinner<\/td>\n",
       "      <td>53.400002<\/td>\n",
       "    <\/tr>\n",
       "    <tr>\n",
       "      <th>28<\/th>\n",
       "      <td>Adrian Mannarino<\/td>\n",
       "      <td>55.700001<\/td>\n",
       "    <\/tr>\n",
       "    <tr>\n",
       "      <th>34<\/th>\n",
       "      <td>Lorenzo Musetti<\/td>\n",
       "      <td>53.799999<\/td>\n",
       "    <\/tr>\n",
       "    <tr>\n",
       "      <th>36<\/th>\n",
       "      <td>Sebastian Baez<\/td>\n",
       "      <td>54.099998<\/td>\n",
       "    <\/tr>\n",
       "    <tr>\n",
       "      <th>37<\/th>\n",
       "      <td>Yoshihito Nishioka<\/td>\n",
       "      <td>56.900002<\/td>\n",
       "    <\/tr>\n",
       "    <tr>\n",
       "      <th>42<\/th>\n",
       "      <td>Miomir Kecmanovic<\/td>\n",
       "      <td>53.799999<\/td>\n",
       "    <\/tr>\n",
       "    <tr>\n",
       "      <th>44<\/th>\n",
       "      <td>Dominic Thiem<\/td>\n",
       "      <td>53.400002<\/td>\n",
       "    <\/tr>\n",
       "  <\/tbody>\n",
       "<\/table>\n",
       "<\/div>"
      ]
     },
     "metadata":{
      
     },
     "output_type":"display_data"
    }
   ],
   "metadata":{
    "datalore":{
     "node_id":"vZhapnxNSKZSyJWKYtAJuF",
     "type":"CODE",
     "hide_input_from_viewers":false,
     "hide_output_from_viewers":false,
     "report_properties":{
      "rowId":"XoqeyErdmDLEKhkmbin5Q6"
     }
    }
   }
  },
  {
   "cell_type":"markdown",
   "source":[
    "### Vamos a averiguar que jugadores tienen un AvgACESMatch superior a la media."
   ],
   "attachments":{
    
   },
   "metadata":{
    "datalore":{
     "node_id":"q19qToIYpNVXgsQsiH0Iwd",
     "type":"MD",
     "hide_input_from_viewers":false,
     "hide_output_from_viewers":false,
     "report_properties":{
      "rowId":"HQ71vUZheVrA7DCUdSYdmK"
     }
    }
   }
  },
  {
   "cell_type":"code",
   "source":[
    "### Hagamos lo mismo AvgACESMatch\n",
    "\n",
    "BestAvgACESMatch = df[['Player', 'AvgACESMatch']]\n",
    "BestAvgACESMatch.head()"
   ],
   "execution_count":46,
   "outputs":[
    {
     "data":{
      "text\/html":[
       "<div>\n",
       "<style scoped>\n",
       "    .dataframe tbody tr th:only-of-type {\n",
       "        vertical-align: middle;\n",
       "    }\n",
       "\n",
       "    .dataframe tbody tr th {\n",
       "        vertical-align: top;\n",
       "    }\n",
       "\n",
       "    .dataframe thead th {\n",
       "        text-align: right;\n",
       "    }\n",
       "<\/style>\n",
       "<table border=\"1\" class=\"dataframe\">\n",
       "  <thead>\n",
       "    <tr style=\"text-align: right;\">\n",
       "      <th><\/th>\n",
       "      <th>Player<\/th>\n",
       "      <th>AvgACESMatch<\/th>\n",
       "    <\/tr>\n",
       "  <\/thead>\n",
       "  <tbody>\n",
       "    <tr>\n",
       "      <th>0<\/th>\n",
       "      <td>John Isner<\/td>\n",
       "      <td>21.1<\/td>\n",
       "    <\/tr>\n",
       "    <tr>\n",
       "      <th>1<\/th>\n",
       "      <td>Hubert Hurkacz<\/td>\n",
       "      <td>14.0<\/td>\n",
       "    <\/tr>\n",
       "    <tr>\n",
       "      <th>2<\/th>\n",
       "      <td>Matteo Berrettini<\/td>\n",
       "      <td>11.5<\/td>\n",
       "    <\/tr>\n",
       "    <tr>\n",
       "      <th>3<\/th>\n",
       "      <td>Novak Djokovic<\/td>\n",
       "      <td>6.0<\/td>\n",
       "    <\/tr>\n",
       "    <tr>\n",
       "      <th>4<\/th>\n",
       "      <td>Ben Shelton<\/td>\n",
       "      <td>11.3<\/td>\n",
       "    <\/tr>\n",
       "  <\/tbody>\n",
       "<\/table>\n",
       "<\/div>"
      ]
     },
     "metadata":{
      
     },
     "output_type":"display_data"
    }
   ],
   "metadata":{
    "datalore":{
     "node_id":"JYro7yiOebSRyPFO9YFIUL",
     "type":"CODE",
     "hide_input_from_viewers":false,
     "hide_output_from_viewers":false,
     "report_properties":{
      "rowId":"eVqNHcUGGiHQVE88fVfiD7"
     }
    }
   }
  },
  {
   "cell_type":"code",
   "source":[
    "### Vamos a ver la distribución de los datos.\n",
    "\n",
    "BestAvgACESMatch.describe()"
   ],
   "execution_count":47,
   "outputs":[
    {
     "data":{
      "text\/html":[
       "<div>\n",
       "<style scoped>\n",
       "    .dataframe tbody tr th:only-of-type {\n",
       "        vertical-align: middle;\n",
       "    }\n",
       "\n",
       "    .dataframe tbody tr th {\n",
       "        vertical-align: top;\n",
       "    }\n",
       "\n",
       "    .dataframe thead th {\n",
       "        text-align: right;\n",
       "    }\n",
       "<\/style>\n",
       "<table border=\"1\" class=\"dataframe\">\n",
       "  <thead>\n",
       "    <tr style=\"text-align: right;\">\n",
       "      <th><\/th>\n",
       "      <th>AvgACESMatch<\/th>\n",
       "    <\/tr>\n",
       "  <\/thead>\n",
       "  <tbody>\n",
       "    <tr>\n",
       "      <th>count<\/th>\n",
       "      <td>68.000000<\/td>\n",
       "    <\/tr>\n",
       "    <tr>\n",
       "      <th>mean<\/th>\n",
       "      <td>6.022059<\/td>\n",
       "    <\/tr>\n",
       "    <tr>\n",
       "      <th>std<\/th>\n",
       "      <td>3.513082<\/td>\n",
       "    <\/tr>\n",
       "    <tr>\n",
       "      <th>min<\/th>\n",
       "      <td>1.000000<\/td>\n",
       "    <\/tr>\n",
       "    <tr>\n",
       "      <th>25%<\/th>\n",
       "      <td>3.325000<\/td>\n",
       "    <\/tr>\n",
       "    <tr>\n",
       "      <th>50%<\/th>\n",
       "      <td>5.250000<\/td>\n",
       "    <\/tr>\n",
       "    <tr>\n",
       "      <th>75%<\/th>\n",
       "      <td>7.800000<\/td>\n",
       "    <\/tr>\n",
       "    <tr>\n",
       "      <th>max<\/th>\n",
       "      <td>21.100000<\/td>\n",
       "    <\/tr>\n",
       "  <\/tbody>\n",
       "<\/table>\n",
       "<\/div>"
      ]
     },
     "metadata":{
      
     },
     "output_type":"display_data"
    }
   ],
   "metadata":{
    "datalore":{
     "node_id":"JwlxvSVkVCVuohm0mqW02V",
     "type":"CODE",
     "hide_input_from_viewers":false,
     "hide_output_from_viewers":false,
     "report_properties":{
      "rowId":"oQ5aNaN9jtgzldTEwR5lLS"
     }
    }
   }
  },
  {
   "cell_type":"code",
   "source":[
    "### Vamos a ver la distribución de los datos con plotly con forma de linea.\n",
    "\n",
    "fig = px.line(BestAvgACESMatch, x='Player', y='AvgACESMatch', title='AvgACESMatch')\n",
    "fig.show()"
   ],
   "execution_count":48,
   "outputs":[
    {
     "data":{
      "application\/vnd.plotly.v1+json":{
       "data":[
        {
         "hovertemplate":"Player=%{x}<br>AvgACESMatch=%{y}<extra><\/extra>",
         "legendgroup":"",
         "line":{
          "color":"#636efa",
          "dash":"solid"
         },
         "marker":{
          "symbol":"circle"
         },
         "mode":"lines",
         "name":"",
         "orientation":"v",
         "showlegend":false,
         "x":[
          "John Isner",
          "Hubert Hurkacz",
          "Matteo Berrettini",
          "Novak Djokovic",
          "Ben Shelton",
          "Stefanos Tsitsipas",
          "Maxime Cressy",
          "Felix Auger-Aliassime",
          "Taylor Fritz",
          "Casper Ruud",
          "Marc-Andrea Huesler",
          "Daniil Medvedev",
          "Borna Coric",
          "Lorenzo Sonego",
          "Holger Rune",
          "Carlos Alcaraz",
          "Alexander Zverev",
          "Tallon Griekspoor",
          "Andrey Rublev",
          "Grigor Dimitrov",
          "Roberto Bautista Agut",
          "Jack Draper",
          "Karen Khachanov",
          "Arthur Rinderknech",
          "Frances Tiafoe",
          "Benjamin Bonzi",
          "Stan Wawrinka",
          "Jannik Sinner",
          "Adrian Mannarino",
          "Denis Shapovalov",
          "Sebastian Korda",
          "Cameron Norrie",
          "Oscar Otte",
          "J.J. Wolf",
          "Lorenzo Musetti",
          "Laslo Djere",
          "Sebastian Baez",
          "Yoshihito Nishioka",
          "Tommy Paul",
          "Andy Murray",
          "Jiri Lehecka",
          "Alexander Bublik",
          "Miomir Kecmanovic",
          "Mackenzie Mcdonald",
          "Dominic Thiem",
          "Marcos Giron",
          "Daniel Evans",
          "Filip Krajinovic",
          "Emil Ruusuvuori",
          "Soonwoo Kwon",
          "Albert Ramos-Vinolas",
          "Richard Gasquet",
          "Alejandro Davidovich Fokina",
          "Alex Molcan",
          "Dusan Lajovic",
          "Botic Van De Zandschulp",
          "Alex De Minaur",
          "Mikael Ymer",
          "Francisco Cerundolo",
          "David Goffin",
          "Aslan Karatsev",
          "Cristian Garin",
          "Pedro Martinez",
          "Joao Sousa",
          "Federico Coria",
          "Jaume Munar",
          "Bernabe Zapata Miralles",
          "Diego Schwartzman"
         ],
         "xaxis":"x",
         "y":[
          21.100000381469727,
          14,
          11.5,
          6,
          11.300000190734863,
          7.800000190734863,
          15.199999809265137,
          10.5,
          9.199999809265137,
          6,
          8.800000190734863,
          7.699999809265137,
          6.400000095367432,
          5.699999809265137,
          5.099999904632568,
          3.0999999046325684,
          7.699999809265137,
          7.800000190734863,
          7.800000190734863,
          6.699999809265137,
          3.4000000953674316,
          8.100000381469727,
          7.400000095367432,
          7.800000190734863,
          8.5,
          6.900000095367432,
          8.100000381469727,
          6,
          5,
          8.100000381469727,
          6.5,
          5.300000190734863,
          9,
          8,
          4,
          6.300000190734863,
          1.7999999523162842,
          2,
          4.599999904632568,
          5.900000095367432,
          4.800000190734863,
          12,
          4.099999904632568,
          5.199999809265137,
          4.5,
          5,
          4.400000095367432,
          4,
          3.799999952316284,
          5.199999809265137,
          2.700000047683716,
          4.800000190734863,
          2.9000000953674316,
          3.0999999046325684,
          2.9000000953674316,
          6,
          3.0999999046325684,
          1.7000000476837158,
          2.5999999046325684,
          4,
          4.599999904632568,
          2.700000047683716,
          1.600000023841858,
          2.9000000953674316,
          2.799999952316284,
          3,
          2,
          1
         ],
         "yaxis":"y",
         "type":"scatter"
        }
       ],
       "layout":{
        "template":{
         "data":{
          "bar":[
           {
            "error_x":{
             "color":"#2a3f5f"
            },
            "error_y":{
             "color":"#2a3f5f"
            },
            "marker":{
             "line":{
              "color":"#E5ECF6",
              "width":0.5
             },
             "pattern":{
              "fillmode":"overlay",
              "size":10,
              "solidity":0.2
             }
            },
            "type":"bar"
           }
          ],
          "barpolar":[
           {
            "marker":{
             "line":{
              "color":"#E5ECF6",
              "width":0.5
             },
             "pattern":{
              "fillmode":"overlay",
              "size":10,
              "solidity":0.2
             }
            },
            "type":"barpolar"
           }
          ],
          "carpet":[
           {
            "aaxis":{
             "endlinecolor":"#2a3f5f",
             "gridcolor":"white",
             "linecolor":"white",
             "minorgridcolor":"white",
             "startlinecolor":"#2a3f5f"
            },
            "baxis":{
             "endlinecolor":"#2a3f5f",
             "gridcolor":"white",
             "linecolor":"white",
             "minorgridcolor":"white",
             "startlinecolor":"#2a3f5f"
            },
            "type":"carpet"
           }
          ],
          "choropleth":[
           {
            "colorbar":{
             "outlinewidth":0,
             "ticks":""
            },
            "type":"choropleth"
           }
          ],
          "contour":[
           {
            "colorbar":{
             "outlinewidth":0,
             "ticks":""
            },
            "colorscale":[
             [
              0,
              "#0d0887"
             ],
             [
              0.1111111111111111,
              "#46039f"
             ],
             [
              0.2222222222222222,
              "#7201a8"
             ],
             [
              0.3333333333333333,
              "#9c179e"
             ],
             [
              0.4444444444444444,
              "#bd3786"
             ],
             [
              0.5555555555555556,
              "#d8576b"
             ],
             [
              0.6666666666666666,
              "#ed7953"
             ],
             [
              0.7777777777777778,
              "#fb9f3a"
             ],
             [
              0.8888888888888888,
              "#fdca26"
             ],
             [
              1,
              "#f0f921"
             ]
            ],
            "type":"contour"
           }
          ],
          "contourcarpet":[
           {
            "colorbar":{
             "outlinewidth":0,
             "ticks":""
            },
            "type":"contourcarpet"
           }
          ],
          "heatmap":[
           {
            "colorbar":{
             "outlinewidth":0,
             "ticks":""
            },
            "colorscale":[
             [
              0,
              "#0d0887"
             ],
             [
              0.1111111111111111,
              "#46039f"
             ],
             [
              0.2222222222222222,
              "#7201a8"
             ],
             [
              0.3333333333333333,
              "#9c179e"
             ],
             [
              0.4444444444444444,
              "#bd3786"
             ],
             [
              0.5555555555555556,
              "#d8576b"
             ],
             [
              0.6666666666666666,
              "#ed7953"
             ],
             [
              0.7777777777777778,
              "#fb9f3a"
             ],
             [
              0.8888888888888888,
              "#fdca26"
             ],
             [
              1,
              "#f0f921"
             ]
            ],
            "type":"heatmap"
           }
          ],
          "heatmapgl":[
           {
            "colorbar":{
             "outlinewidth":0,
             "ticks":""
            },
            "colorscale":[
             [
              0,
              "#0d0887"
             ],
             [
              0.1111111111111111,
              "#46039f"
             ],
             [
              0.2222222222222222,
              "#7201a8"
             ],
             [
              0.3333333333333333,
              "#9c179e"
             ],
             [
              0.4444444444444444,
              "#bd3786"
             ],
             [
              0.5555555555555556,
              "#d8576b"
             ],
             [
              0.6666666666666666,
              "#ed7953"
             ],
             [
              0.7777777777777778,
              "#fb9f3a"
             ],
             [
              0.8888888888888888,
              "#fdca26"
             ],
             [
              1,
              "#f0f921"
             ]
            ],
            "type":"heatmapgl"
           }
          ],
          "histogram":[
           {
            "marker":{
             "pattern":{
              "fillmode":"overlay",
              "size":10,
              "solidity":0.2
             }
            },
            "type":"histogram"
           }
          ],
          "histogram2d":[
           {
            "colorbar":{
             "outlinewidth":0,
             "ticks":""
            },
            "colorscale":[
             [
              0,
              "#0d0887"
             ],
             [
              0.1111111111111111,
              "#46039f"
             ],
             [
              0.2222222222222222,
              "#7201a8"
             ],
             [
              0.3333333333333333,
              "#9c179e"
             ],
             [
              0.4444444444444444,
              "#bd3786"
             ],
             [
              0.5555555555555556,
              "#d8576b"
             ],
             [
              0.6666666666666666,
              "#ed7953"
             ],
             [
              0.7777777777777778,
              "#fb9f3a"
             ],
             [
              0.8888888888888888,
              "#fdca26"
             ],
             [
              1,
              "#f0f921"
             ]
            ],
            "type":"histogram2d"
           }
          ],
          "histogram2dcontour":[
           {
            "colorbar":{
             "outlinewidth":0,
             "ticks":""
            },
            "colorscale":[
             [
              0,
              "#0d0887"
             ],
             [
              0.1111111111111111,
              "#46039f"
             ],
             [
              0.2222222222222222,
              "#7201a8"
             ],
             [
              0.3333333333333333,
              "#9c179e"
             ],
             [
              0.4444444444444444,
              "#bd3786"
             ],
             [
              0.5555555555555556,
              "#d8576b"
             ],
             [
              0.6666666666666666,
              "#ed7953"
             ],
             [
              0.7777777777777778,
              "#fb9f3a"
             ],
             [
              0.8888888888888888,
              "#fdca26"
             ],
             [
              1,
              "#f0f921"
             ]
            ],
            "type":"histogram2dcontour"
           }
          ],
          "mesh3d":[
           {
            "colorbar":{
             "outlinewidth":0,
             "ticks":""
            },
            "type":"mesh3d"
           }
          ],
          "parcoords":[
           {
            "line":{
             "colorbar":{
              "outlinewidth":0,
              "ticks":""
             }
            },
            "type":"parcoords"
           }
          ],
          "pie":[
           {
            "automargin":true,
            "type":"pie"
           }
          ],
          "scatter":[
           {
            "marker":{
             "colorbar":{
              "outlinewidth":0,
              "ticks":""
             }
            },
            "type":"scatter"
           }
          ],
          "scatter3d":[
           {
            "line":{
             "colorbar":{
              "outlinewidth":0,
              "ticks":""
             }
            },
            "marker":{
             "colorbar":{
              "outlinewidth":0,
              "ticks":""
             }
            },
            "type":"scatter3d"
           }
          ],
          "scattercarpet":[
           {
            "marker":{
             "colorbar":{
              "outlinewidth":0,
              "ticks":""
             }
            },
            "type":"scattercarpet"
           }
          ],
          "scattergeo":[
           {
            "marker":{
             "colorbar":{
              "outlinewidth":0,
              "ticks":""
             }
            },
            "type":"scattergeo"
           }
          ],
          "scattergl":[
           {
            "marker":{
             "colorbar":{
              "outlinewidth":0,
              "ticks":""
             }
            },
            "type":"scattergl"
           }
          ],
          "scattermapbox":[
           {
            "marker":{
             "colorbar":{
              "outlinewidth":0,
              "ticks":""
             }
            },
            "type":"scattermapbox"
           }
          ],
          "scatterpolar":[
           {
            "marker":{
             "colorbar":{
              "outlinewidth":0,
              "ticks":""
             }
            },
            "type":"scatterpolar"
           }
          ],
          "scatterpolargl":[
           {
            "marker":{
             "colorbar":{
              "outlinewidth":0,
              "ticks":""
             }
            },
            "type":"scatterpolargl"
           }
          ],
          "scatterternary":[
           {
            "marker":{
             "colorbar":{
              "outlinewidth":0,
              "ticks":""
             }
            },
            "type":"scatterternary"
           }
          ],
          "surface":[
           {
            "colorbar":{
             "outlinewidth":0,
             "ticks":""
            },
            "colorscale":[
             [
              0,
              "#0d0887"
             ],
             [
              0.1111111111111111,
              "#46039f"
             ],
             [
              0.2222222222222222,
              "#7201a8"
             ],
             [
              0.3333333333333333,
              "#9c179e"
             ],
             [
              0.4444444444444444,
              "#bd3786"
             ],
             [
              0.5555555555555556,
              "#d8576b"
             ],
             [
              0.6666666666666666,
              "#ed7953"
             ],
             [
              0.7777777777777778,
              "#fb9f3a"
             ],
             [
              0.8888888888888888,
              "#fdca26"
             ],
             [
              1,
              "#f0f921"
             ]
            ],
            "type":"surface"
           }
          ],
          "table":[
           {
            "cells":{
             "fill":{
              "color":"#EBF0F8"
             },
             "line":{
              "color":"white"
             }
            },
            "header":{
             "fill":{
              "color":"#C8D4E3"
             },
             "line":{
              "color":"white"
             }
            },
            "type":"table"
           }
          ]
         },
         "layout":{
          "annotationdefaults":{
           "arrowcolor":"#2a3f5f",
           "arrowhead":0,
           "arrowwidth":1
          },
          "autotypenumbers":"strict",
          "coloraxis":{
           "colorbar":{
            "outlinewidth":0,
            "ticks":""
           }
          },
          "colorscale":{
           "diverging":[
            [
             0,
             "#8e0152"
            ],
            [
             0.1,
             "#c51b7d"
            ],
            [
             0.2,
             "#de77ae"
            ],
            [
             0.3,
             "#f1b6da"
            ],
            [
             0.4,
             "#fde0ef"
            ],
            [
             0.5,
             "#f7f7f7"
            ],
            [
             0.6,
             "#e6f5d0"
            ],
            [
             0.7,
             "#b8e186"
            ],
            [
             0.8,
             "#7fbc41"
            ],
            [
             0.9,
             "#4d9221"
            ],
            [
             1,
             "#276419"
            ]
           ],
           "sequential":[
            [
             0,
             "#0d0887"
            ],
            [
             0.1111111111111111,
             "#46039f"
            ],
            [
             0.2222222222222222,
             "#7201a8"
            ],
            [
             0.3333333333333333,
             "#9c179e"
            ],
            [
             0.4444444444444444,
             "#bd3786"
            ],
            [
             0.5555555555555556,
             "#d8576b"
            ],
            [
             0.6666666666666666,
             "#ed7953"
            ],
            [
             0.7777777777777778,
             "#fb9f3a"
            ],
            [
             0.8888888888888888,
             "#fdca26"
            ],
            [
             1,
             "#f0f921"
            ]
           ],
           "sequentialminus":[
            [
             0,
             "#0d0887"
            ],
            [
             0.1111111111111111,
             "#46039f"
            ],
            [
             0.2222222222222222,
             "#7201a8"
            ],
            [
             0.3333333333333333,
             "#9c179e"
            ],
            [
             0.4444444444444444,
             "#bd3786"
            ],
            [
             0.5555555555555556,
             "#d8576b"
            ],
            [
             0.6666666666666666,
             "#ed7953"
            ],
            [
             0.7777777777777778,
             "#fb9f3a"
            ],
            [
             0.8888888888888888,
             "#fdca26"
            ],
            [
             1,
             "#f0f921"
            ]
           ]
          },
          "colorway":[
           "#636efa",
           "#EF553B",
           "#00cc96",
           "#ab63fa",
           "#FFA15A",
           "#19d3f3",
           "#FF6692",
           "#B6E880",
           "#FF97FF",
           "#FECB52"
          ],
          "font":{
           "color":"#2a3f5f"
          },
          "geo":{
           "bgcolor":"white",
           "lakecolor":"white",
           "landcolor":"#E5ECF6",
           "showlakes":true,
           "showland":true,
           "subunitcolor":"white"
          },
          "hoverlabel":{
           "align":"left"
          },
          "hovermode":"closest",
          "mapbox":{
           "style":"light"
          },
          "paper_bgcolor":"white",
          "plot_bgcolor":"#E5ECF6",
          "polar":{
           "angularaxis":{
            "gridcolor":"white",
            "linecolor":"white",
            "ticks":""
           },
           "bgcolor":"#E5ECF6",
           "radialaxis":{
            "gridcolor":"white",
            "linecolor":"white",
            "ticks":""
           }
          },
          "scene":{
           "xaxis":{
            "backgroundcolor":"#E5ECF6",
            "gridcolor":"white",
            "gridwidth":2,
            "linecolor":"white",
            "showbackground":true,
            "ticks":"",
            "zerolinecolor":"white"
           },
           "yaxis":{
            "backgroundcolor":"#E5ECF6",
            "gridcolor":"white",
            "gridwidth":2,
            "linecolor":"white",
            "showbackground":true,
            "ticks":"",
            "zerolinecolor":"white"
           },
           "zaxis":{
            "backgroundcolor":"#E5ECF6",
            "gridcolor":"white",
            "gridwidth":2,
            "linecolor":"white",
            "showbackground":true,
            "ticks":"",
            "zerolinecolor":"white"
           }
          },
          "shapedefaults":{
           "line":{
            "color":"#2a3f5f"
           }
          },
          "ternary":{
           "aaxis":{
            "gridcolor":"white",
            "linecolor":"white",
            "ticks":""
           },
           "baxis":{
            "gridcolor":"white",
            "linecolor":"white",
            "ticks":""
           },
           "bgcolor":"#E5ECF6",
           "caxis":{
            "gridcolor":"white",
            "linecolor":"white",
            "ticks":""
           }
          },
          "title":{
           "x":0.05
          },
          "xaxis":{
           "automargin":true,
           "gridcolor":"white",
           "linecolor":"white",
           "ticks":"",
           "title":{
            "standoff":15
           },
           "zerolinecolor":"white",
           "zerolinewidth":2
          },
          "yaxis":{
           "automargin":true,
           "gridcolor":"white",
           "linecolor":"white",
           "ticks":"",
           "title":{
            "standoff":15
           },
           "zerolinecolor":"white",
           "zerolinewidth":2
          }
         }
        },
        "xaxis":{
         "anchor":"y",
         "domain":[
          0,
          1
         ],
         "title":{
          "text":"Player"
         }
        },
        "yaxis":{
         "anchor":"x",
         "domain":[
          0,
          1
         ],
         "title":{
          "text":"AvgACESMatch"
         }
        },
        "legend":{
         "tracegroupgap":0
        },
        "title":{
         "text":"AvgACESMatch"
        }
       },
       "config":{
        "plotlyServerURL":"https:\/\/plot.ly"
       }
      }
     },
     "metadata":{
      
     },
     "output_type":"display_data"
    }
   ],
   "metadata":{
    "datalore":{
     "node_id":"d5l8KbfrTlBx93Uzg7mMqN",
     "type":"CODE",
     "hide_input_from_viewers":false,
     "hide_output_from_viewers":false,
     "report_properties":{
      "rowId":"jmy6lY2H2NpJO52yxDJAaS"
     }
    }
   }
  },
  {
   "cell_type":"code",
   "source":[
    "### vamos a establecer los cuartiles para ver que jugadores están por encima de la media.\n",
    "\n",
    "q1 = BestAvgACESMatch['AvgACESMatch'].quantile(0.25)\n",
    "q3 = BestAvgACESMatch['AvgACESMatch'].quantile(0.75)\n",
    "iqr = q3 - q1 #Interquartile range\n",
    "fence_low  = q1-1.5*iqr #lower fence. Esto es para ver los valores que están por debajo del primer cuartil.\n",
    "fence_high = q3+1.5*iqr #upper fence. Esto es para ver los valores que están por encima del tercer cuartil.\n",
    "\n",
    "print('q1: ', q1)\n",
    "print('q3: ', q3)\n",
    "print('iqr: ', iqr)\n",
    "print('fence_low: ', fence_low)\n",
    "print('fence_high: ', fence_high)"
   ],
   "execution_count":49,
   "outputs":[
    {
     "name":"stdout",
     "text":[
      "q1:  3.325000047683716\n",
      "q3:  7.800000190734863\n",
      "iqr:  4.4750001430511475\n",
      "fence_low:  -3.3875001668930054\n",
      "fence_high:  14.512500405311584\n"
     ],
     "output_type":"stream"
    }
   ],
   "metadata":{
    "datalore":{
     "node_id":"3hN2LsrjvlF9gtBIfBbRzN",
     "type":"CODE",
     "hide_input_from_viewers":false,
     "hide_output_from_viewers":false,
     "report_properties":{
      "rowId":"LJ0qZcBbwUtRajyn2FTUaJ"
     }
    }
   }
  },
  {
   "cell_type":"code",
   "source":[
    "### Vamos a ver los jugadores que están por encima de la media.\n",
    "\n",
    "BestAvgACESMatch = BestAvgACESMatch[BestAvgACESMatch['AvgACESMatch'] > q3]\n",
    "BestAvgACESMatch"
   ],
   "execution_count":50,
   "outputs":[
    {
     "data":{
      "text\/html":[
       "<div>\n",
       "<style scoped>\n",
       "    .dataframe tbody tr th:only-of-type {\n",
       "        vertical-align: middle;\n",
       "    }\n",
       "\n",
       "    .dataframe tbody tr th {\n",
       "        vertical-align: top;\n",
       "    }\n",
       "\n",
       "    .dataframe thead th {\n",
       "        text-align: right;\n",
       "    }\n",
       "<\/style>\n",
       "<table border=\"1\" class=\"dataframe\">\n",
       "  <thead>\n",
       "    <tr style=\"text-align: right;\">\n",
       "      <th><\/th>\n",
       "      <th>Player<\/th>\n",
       "      <th>AvgACESMatch<\/th>\n",
       "    <\/tr>\n",
       "  <\/thead>\n",
       "  <tbody>\n",
       "    <tr>\n",
       "      <th>0<\/th>\n",
       "      <td>John Isner<\/td>\n",
       "      <td>21.1<\/td>\n",
       "    <\/tr>\n",
       "    <tr>\n",
       "      <th>1<\/th>\n",
       "      <td>Hubert Hurkacz<\/td>\n",
       "      <td>14.0<\/td>\n",
       "    <\/tr>\n",
       "    <tr>\n",
       "      <th>2<\/th>\n",
       "      <td>Matteo Berrettini<\/td>\n",
       "      <td>11.5<\/td>\n",
       "    <\/tr>\n",
       "    <tr>\n",
       "      <th>4<\/th>\n",
       "      <td>Ben Shelton<\/td>\n",
       "      <td>11.3<\/td>\n",
       "    <\/tr>\n",
       "    <tr>\n",
       "      <th>6<\/th>\n",
       "      <td>Maxime Cressy<\/td>\n",
       "      <td>15.2<\/td>\n",
       "    <\/tr>\n",
       "    <tr>\n",
       "      <th>7<\/th>\n",
       "      <td>Felix Auger-Aliassime<\/td>\n",
       "      <td>10.5<\/td>\n",
       "    <\/tr>\n",
       "    <tr>\n",
       "      <th>8<\/th>\n",
       "      <td>Taylor Fritz<\/td>\n",
       "      <td>9.2<\/td>\n",
       "    <\/tr>\n",
       "    <tr>\n",
       "      <th>10<\/th>\n",
       "      <td>Marc-Andrea Huesler<\/td>\n",
       "      <td>8.8<\/td>\n",
       "    <\/tr>\n",
       "    <tr>\n",
       "      <th>21<\/th>\n",
       "      <td>Jack Draper<\/td>\n",
       "      <td>8.1<\/td>\n",
       "    <\/tr>\n",
       "    <tr>\n",
       "      <th>24<\/th>\n",
       "      <td>Frances Tiafoe<\/td>\n",
       "      <td>8.5<\/td>\n",
       "    <\/tr>\n",
       "    <tr>\n",
       "      <th>26<\/th>\n",
       "      <td>Stan Wawrinka<\/td>\n",
       "      <td>8.1<\/td>\n",
       "    <\/tr>\n",
       "    <tr>\n",
       "      <th>29<\/th>\n",
       "      <td>Denis Shapovalov<\/td>\n",
       "      <td>8.1<\/td>\n",
       "    <\/tr>\n",
       "    <tr>\n",
       "      <th>32<\/th>\n",
       "      <td>Oscar Otte<\/td>\n",
       "      <td>9.0<\/td>\n",
       "    <\/tr>\n",
       "    <tr>\n",
       "      <th>33<\/th>\n",
       "      <td>J.J. Wolf<\/td>\n",
       "      <td>8.0<\/td>\n",
       "    <\/tr>\n",
       "    <tr>\n",
       "      <th>41<\/th>\n",
       "      <td>Alexander Bublik<\/td>\n",
       "      <td>12.0<\/td>\n",
       "    <\/tr>\n",
       "  <\/tbody>\n",
       "<\/table>\n",
       "<\/div>"
      ]
     },
     "metadata":{
      
     },
     "output_type":"display_data"
    }
   ],
   "metadata":{
    "datalore":{
     "node_id":"U7ylNOrjyYFYt5TB8TzvGc",
     "type":"CODE",
     "hide_input_from_viewers":false,
     "hide_output_from_viewers":false,
     "report_properties":{
      "rowId":"tPXziQ9hh9sy0ThvupNLfE"
     }
    }
   }
  },
  {
   "cell_type":"code",
   "source":[
    "### Vamos a comenzar analizando la columna %ServeGamesWon por cada Player.\n",
    "\n",
    "BestServeGamesWon = df[['Player', '%ServiceGamesWon']]\n",
    "BestServeGamesWon.head()"
   ],
   "execution_count":51,
   "outputs":[
    {
     "data":{
      "text\/html":[
       "<div>\n",
       "<style scoped>\n",
       "    .dataframe tbody tr th:only-of-type {\n",
       "        vertical-align: middle;\n",
       "    }\n",
       "\n",
       "    .dataframe tbody tr th {\n",
       "        vertical-align: top;\n",
       "    }\n",
       "\n",
       "    .dataframe thead th {\n",
       "        text-align: right;\n",
       "    }\n",
       "<\/style>\n",
       "<table border=\"1\" class=\"dataframe\">\n",
       "  <thead>\n",
       "    <tr style=\"text-align: right;\">\n",
       "      <th><\/th>\n",
       "      <th>Player<\/th>\n",
       "      <th>%ServiceGamesWon<\/th>\n",
       "    <\/tr>\n",
       "  <\/thead>\n",
       "  <tbody>\n",
       "    <tr>\n",
       "      <th>0<\/th>\n",
       "      <td>John Isner<\/td>\n",
       "      <td>90.199997<\/td>\n",
       "    <\/tr>\n",
       "    <tr>\n",
       "      <th>1<\/th>\n",
       "      <td>Hubert Hurkacz<\/td>\n",
       "      <td>89.900002<\/td>\n",
       "    <\/tr>\n",
       "    <tr>\n",
       "      <th>2<\/th>\n",
       "      <td>Matteo Berrettini<\/td>\n",
       "      <td>88.500000<\/td>\n",
       "    <\/tr>\n",
       "    <tr>\n",
       "      <th>3<\/th>\n",
       "      <td>Novak Djokovic<\/td>\n",
       "      <td>88.699997<\/td>\n",
       "    <\/tr>\n",
       "    <tr>\n",
       "      <th>4<\/th>\n",
       "      <td>Ben Shelton<\/td>\n",
       "      <td>89.400002<\/td>\n",
       "    <\/tr>\n",
       "  <\/tbody>\n",
       "<\/table>\n",
       "<\/div>"
      ]
     },
     "metadata":{
      
     },
     "output_type":"display_data"
    }
   ],
   "metadata":{
    "datalore":{
     "node_id":"pEQriMsZkefyN3SbE4u6Ec",
     "type":"CODE",
     "hide_input_from_viewers":false,
     "hide_output_from_viewers":false,
     "report_properties":{
      "rowId":"dNGSLtI514kYMmdFlaW3Bz"
     }
    }
   }
  },
  {
   "cell_type":"code",
   "source":[
    "### Vamos a ver la distribución de los datos.\n",
    "\n",
    "BestServeGamesWon.describe()"
   ],
   "execution_count":52,
   "outputs":[
    {
     "data":{
      "text\/html":[
       "<div>\n",
       "<style scoped>\n",
       "    .dataframe tbody tr th:only-of-type {\n",
       "        vertical-align: middle;\n",
       "    }\n",
       "\n",
       "    .dataframe tbody tr th {\n",
       "        vertical-align: top;\n",
       "    }\n",
       "\n",
       "    .dataframe thead th {\n",
       "        text-align: right;\n",
       "    }\n",
       "<\/style>\n",
       "<table border=\"1\" class=\"dataframe\">\n",
       "  <thead>\n",
       "    <tr style=\"text-align: right;\">\n",
       "      <th><\/th>\n",
       "      <th>%ServiceGamesWon<\/th>\n",
       "    <\/tr>\n",
       "  <\/thead>\n",
       "  <tbody>\n",
       "    <tr>\n",
       "      <th>count<\/th>\n",
       "      <td>68.000000<\/td>\n",
       "    <\/tr>\n",
       "    <tr>\n",
       "      <th>mean<\/th>\n",
       "      <td>79.858826<\/td>\n",
       "    <\/tr>\n",
       "    <tr>\n",
       "      <th>std<\/th>\n",
       "      <td>5.575459<\/td>\n",
       "    <\/tr>\n",
       "    <tr>\n",
       "      <th>min<\/th>\n",
       "      <td>67.500000<\/td>\n",
       "    <\/tr>\n",
       "    <tr>\n",
       "      <th>25%<\/th>\n",
       "      <td>76.450001<\/td>\n",
       "    <\/tr>\n",
       "    <tr>\n",
       "      <th>50%<\/th>\n",
       "      <td>80.650002<\/td>\n",
       "    <\/tr>\n",
       "    <tr>\n",
       "      <th>75%<\/th>\n",
       "      <td>83.325003<\/td>\n",
       "    <\/tr>\n",
       "    <tr>\n",
       "      <th>max<\/th>\n",
       "      <td>90.199997<\/td>\n",
       "    <\/tr>\n",
       "  <\/tbody>\n",
       "<\/table>\n",
       "<\/div>"
      ]
     },
     "metadata":{
      
     },
     "output_type":"display_data"
    }
   ],
   "metadata":{
    "datalore":{
     "node_id":"2i5wbJKkzo9gYfa05p4tW4",
     "type":"CODE",
     "hide_input_from_viewers":false,
     "hide_output_from_viewers":false,
     "report_properties":{
      "rowId":"H3UkuZwCh6UglGCrcQFSFH"
     }
    }
   }
  },
  {
   "cell_type":"code",
   "source":[
    "### Vamos a ver la distribución de los datos con plotly con forma de linea.\n",
    "\n",
    "fig = px.line(BestServeGamesWon, x='Player', y='%ServiceGamesWon', title='%ServiceGamesWon')\n",
    "fig.show()"
   ],
   "execution_count":53,
   "outputs":[
    {
     "data":{
      "application\/vnd.plotly.v1+json":{
       "data":[
        {
         "hovertemplate":"Player=%{x}<br>%ServiceGamesWon=%{y}<extra><\/extra>",
         "legendgroup":"",
         "line":{
          "color":"#636efa",
          "dash":"solid"
         },
         "marker":{
          "symbol":"circle"
         },
         "mode":"lines",
         "name":"",
         "orientation":"v",
         "showlegend":false,
         "x":[
          "John Isner",
          "Hubert Hurkacz",
          "Matteo Berrettini",
          "Novak Djokovic",
          "Ben Shelton",
          "Stefanos Tsitsipas",
          "Maxime Cressy",
          "Felix Auger-Aliassime",
          "Taylor Fritz",
          "Casper Ruud",
          "Marc-Andrea Huesler",
          "Daniil Medvedev",
          "Borna Coric",
          "Lorenzo Sonego",
          "Holger Rune",
          "Carlos Alcaraz",
          "Alexander Zverev",
          "Tallon Griekspoor",
          "Andrey Rublev",
          "Grigor Dimitrov",
          "Roberto Bautista Agut",
          "Jack Draper",
          "Karen Khachanov",
          "Arthur Rinderknech",
          "Frances Tiafoe",
          "Benjamin Bonzi",
          "Stan Wawrinka",
          "Jannik Sinner",
          "Adrian Mannarino",
          "Denis Shapovalov",
          "Sebastian Korda",
          "Cameron Norrie",
          "Oscar Otte",
          "J.J. Wolf",
          "Lorenzo Musetti",
          "Laslo Djere",
          "Sebastian Baez",
          "Yoshihito Nishioka",
          "Tommy Paul",
          "Andy Murray",
          "Jiri Lehecka",
          "Alexander Bublik",
          "Miomir Kecmanovic",
          "Mackenzie Mcdonald",
          "Dominic Thiem",
          "Marcos Giron",
          "Daniel Evans",
          "Filip Krajinovic",
          "Emil Ruusuvuori",
          "Soonwoo Kwon",
          "Albert Ramos-Vinolas",
          "Richard Gasquet",
          "Alejandro Davidovich Fokina",
          "Alex Molcan",
          "Dusan Lajovic",
          "Botic Van De Zandschulp",
          "Alex De Minaur",
          "Mikael Ymer",
          "Francisco Cerundolo",
          "David Goffin",
          "Aslan Karatsev",
          "Cristian Garin",
          "Pedro Martinez",
          "Joao Sousa",
          "Federico Coria",
          "Jaume Munar",
          "Bernabe Zapata Miralles",
          "Diego Schwartzman"
         ],
         "xaxis":"x",
         "y":[
          90.19999694824219,
          89.9000015258789,
          88.5,
          88.69999694824219,
          89.4000015258789,
          86.80000305175781,
          88.5999984741211,
          86.5,
          85.5,
          84.5999984741211,
          85,
          86,
          83.30000305175781,
          82.9000015258789,
          85.0999984741211,
          84.4000015258789,
          82,
          83.19999694824219,
          83.9000015258789,
          82.5999984741211,
          82.0999984741211,
          84.0999984741211,
          81.5999984741211,
          82.9000015258789,
          83.4000015258789,
          83.19999694824219,
          81.5,
          83.19999694824219,
          80.80000305175781,
          82.30000305175781,
          81.5,
          80.9000015258789,
          82,
          80.19999694824219,
          78.5999984741211,
          81.80000305175781,
          76.9000015258789,
          78.30000305175781,
          80.19999694824219,
          80.0999984741211,
          79,
          80.5,
          77.69999694824219,
          77.30000305175781,
          77.80000305175781,
          76.30000305175781,
          77.30000305175781,
          76.5999984741211,
          76.5,
          77.5999984741211,
          75.5,
          78,
          74.69999694824219,
          75.19999694824219,
          73.5999984741211,
          75.30000305175781,
          77.5999984741211,
          71.4000015258789,
          74.80000305175781,
          74.19999694824219,
          74.30000305175781,
          71.9000015258789,
          70.5999984741211,
          71.5,
          67.80000305175781,
          69.30000305175781,
          67.9000015258789,
          67.5
         ],
         "yaxis":"y",
         "type":"scatter"
        }
       ],
       "layout":{
        "template":{
         "data":{
          "bar":[
           {
            "error_x":{
             "color":"#2a3f5f"
            },
            "error_y":{
             "color":"#2a3f5f"
            },
            "marker":{
             "line":{
              "color":"#E5ECF6",
              "width":0.5
             },
             "pattern":{
              "fillmode":"overlay",
              "size":10,
              "solidity":0.2
             }
            },
            "type":"bar"
           }
          ],
          "barpolar":[
           {
            "marker":{
             "line":{
              "color":"#E5ECF6",
              "width":0.5
             },
             "pattern":{
              "fillmode":"overlay",
              "size":10,
              "solidity":0.2
             }
            },
            "type":"barpolar"
           }
          ],
          "carpet":[
           {
            "aaxis":{
             "endlinecolor":"#2a3f5f",
             "gridcolor":"white",
             "linecolor":"white",
             "minorgridcolor":"white",
             "startlinecolor":"#2a3f5f"
            },
            "baxis":{
             "endlinecolor":"#2a3f5f",
             "gridcolor":"white",
             "linecolor":"white",
             "minorgridcolor":"white",
             "startlinecolor":"#2a3f5f"
            },
            "type":"carpet"
           }
          ],
          "choropleth":[
           {
            "colorbar":{
             "outlinewidth":0,
             "ticks":""
            },
            "type":"choropleth"
           }
          ],
          "contour":[
           {
            "colorbar":{
             "outlinewidth":0,
             "ticks":""
            },
            "colorscale":[
             [
              0,
              "#0d0887"
             ],
             [
              0.1111111111111111,
              "#46039f"
             ],
             [
              0.2222222222222222,
              "#7201a8"
             ],
             [
              0.3333333333333333,
              "#9c179e"
             ],
             [
              0.4444444444444444,
              "#bd3786"
             ],
             [
              0.5555555555555556,
              "#d8576b"
             ],
             [
              0.6666666666666666,
              "#ed7953"
             ],
             [
              0.7777777777777778,
              "#fb9f3a"
             ],
             [
              0.8888888888888888,
              "#fdca26"
             ],
             [
              1,
              "#f0f921"
             ]
            ],
            "type":"contour"
           }
          ],
          "contourcarpet":[
           {
            "colorbar":{
             "outlinewidth":0,
             "ticks":""
            },
            "type":"contourcarpet"
           }
          ],
          "heatmap":[
           {
            "colorbar":{
             "outlinewidth":0,
             "ticks":""
            },
            "colorscale":[
             [
              0,
              "#0d0887"
             ],
             [
              0.1111111111111111,
              "#46039f"
             ],
             [
              0.2222222222222222,
              "#7201a8"
             ],
             [
              0.3333333333333333,
              "#9c179e"
             ],
             [
              0.4444444444444444,
              "#bd3786"
             ],
             [
              0.5555555555555556,
              "#d8576b"
             ],
             [
              0.6666666666666666,
              "#ed7953"
             ],
             [
              0.7777777777777778,
              "#fb9f3a"
             ],
             [
              0.8888888888888888,
              "#fdca26"
             ],
             [
              1,
              "#f0f921"
             ]
            ],
            "type":"heatmap"
           }
          ],
          "heatmapgl":[
           {
            "colorbar":{
             "outlinewidth":0,
             "ticks":""
            },
            "colorscale":[
             [
              0,
              "#0d0887"
             ],
             [
              0.1111111111111111,
              "#46039f"
             ],
             [
              0.2222222222222222,
              "#7201a8"
             ],
             [
              0.3333333333333333,
              "#9c179e"
             ],
             [
              0.4444444444444444,
              "#bd3786"
             ],
             [
              0.5555555555555556,
              "#d8576b"
             ],
             [
              0.6666666666666666,
              "#ed7953"
             ],
             [
              0.7777777777777778,
              "#fb9f3a"
             ],
             [
              0.8888888888888888,
              "#fdca26"
             ],
             [
              1,
              "#f0f921"
             ]
            ],
            "type":"heatmapgl"
           }
          ],
          "histogram":[
           {
            "marker":{
             "pattern":{
              "fillmode":"overlay",
              "size":10,
              "solidity":0.2
             }
            },
            "type":"histogram"
           }
          ],
          "histogram2d":[
           {
            "colorbar":{
             "outlinewidth":0,
             "ticks":""
            },
            "colorscale":[
             [
              0,
              "#0d0887"
             ],
             [
              0.1111111111111111,
              "#46039f"
             ],
             [
              0.2222222222222222,
              "#7201a8"
             ],
             [
              0.3333333333333333,
              "#9c179e"
             ],
             [
              0.4444444444444444,
              "#bd3786"
             ],
             [
              0.5555555555555556,
              "#d8576b"
             ],
             [
              0.6666666666666666,
              "#ed7953"
             ],
             [
              0.7777777777777778,
              "#fb9f3a"
             ],
             [
              0.8888888888888888,
              "#fdca26"
             ],
             [
              1,
              "#f0f921"
             ]
            ],
            "type":"histogram2d"
           }
          ],
          "histogram2dcontour":[
           {
            "colorbar":{
             "outlinewidth":0,
             "ticks":""
            },
            "colorscale":[
             [
              0,
              "#0d0887"
             ],
             [
              0.1111111111111111,
              "#46039f"
             ],
             [
              0.2222222222222222,
              "#7201a8"
             ],
             [
              0.3333333333333333,
              "#9c179e"
             ],
             [
              0.4444444444444444,
              "#bd3786"
             ],
             [
              0.5555555555555556,
              "#d8576b"
             ],
             [
              0.6666666666666666,
              "#ed7953"
             ],
             [
              0.7777777777777778,
              "#fb9f3a"
             ],
             [
              0.8888888888888888,
              "#fdca26"
             ],
             [
              1,
              "#f0f921"
             ]
            ],
            "type":"histogram2dcontour"
           }
          ],
          "mesh3d":[
           {
            "colorbar":{
             "outlinewidth":0,
             "ticks":""
            },
            "type":"mesh3d"
           }
          ],
          "parcoords":[
           {
            "line":{
             "colorbar":{
              "outlinewidth":0,
              "ticks":""
             }
            },
            "type":"parcoords"
           }
          ],
          "pie":[
           {
            "automargin":true,
            "type":"pie"
           }
          ],
          "scatter":[
           {
            "marker":{
             "colorbar":{
              "outlinewidth":0,
              "ticks":""
             }
            },
            "type":"scatter"
           }
          ],
          "scatter3d":[
           {
            "line":{
             "colorbar":{
              "outlinewidth":0,
              "ticks":""
             }
            },
            "marker":{
             "colorbar":{
              "outlinewidth":0,
              "ticks":""
             }
            },
            "type":"scatter3d"
           }
          ],
          "scattercarpet":[
           {
            "marker":{
             "colorbar":{
              "outlinewidth":0,
              "ticks":""
             }
            },
            "type":"scattercarpet"
           }
          ],
          "scattergeo":[
           {
            "marker":{
             "colorbar":{
              "outlinewidth":0,
              "ticks":""
             }
            },
            "type":"scattergeo"
           }
          ],
          "scattergl":[
           {
            "marker":{
             "colorbar":{
              "outlinewidth":0,
              "ticks":""
             }
            },
            "type":"scattergl"
           }
          ],
          "scattermapbox":[
           {
            "marker":{
             "colorbar":{
              "outlinewidth":0,
              "ticks":""
             }
            },
            "type":"scattermapbox"
           }
          ],
          "scatterpolar":[
           {
            "marker":{
             "colorbar":{
              "outlinewidth":0,
              "ticks":""
             }
            },
            "type":"scatterpolar"
           }
          ],
          "scatterpolargl":[
           {
            "marker":{
             "colorbar":{
              "outlinewidth":0,
              "ticks":""
             }
            },
            "type":"scatterpolargl"
           }
          ],
          "scatterternary":[
           {
            "marker":{
             "colorbar":{
              "outlinewidth":0,
              "ticks":""
             }
            },
            "type":"scatterternary"
           }
          ],
          "surface":[
           {
            "colorbar":{
             "outlinewidth":0,
             "ticks":""
            },
            "colorscale":[
             [
              0,
              "#0d0887"
             ],
             [
              0.1111111111111111,
              "#46039f"
             ],
             [
              0.2222222222222222,
              "#7201a8"
             ],
             [
              0.3333333333333333,
              "#9c179e"
             ],
             [
              0.4444444444444444,
              "#bd3786"
             ],
             [
              0.5555555555555556,
              "#d8576b"
             ],
             [
              0.6666666666666666,
              "#ed7953"
             ],
             [
              0.7777777777777778,
              "#fb9f3a"
             ],
             [
              0.8888888888888888,
              "#fdca26"
             ],
             [
              1,
              "#f0f921"
             ]
            ],
            "type":"surface"
           }
          ],
          "table":[
           {
            "cells":{
             "fill":{
              "color":"#EBF0F8"
             },
             "line":{
              "color":"white"
             }
            },
            "header":{
             "fill":{
              "color":"#C8D4E3"
             },
             "line":{
              "color":"white"
             }
            },
            "type":"table"
           }
          ]
         },
         "layout":{
          "annotationdefaults":{
           "arrowcolor":"#2a3f5f",
           "arrowhead":0,
           "arrowwidth":1
          },
          "autotypenumbers":"strict",
          "coloraxis":{
           "colorbar":{
            "outlinewidth":0,
            "ticks":""
           }
          },
          "colorscale":{
           "diverging":[
            [
             0,
             "#8e0152"
            ],
            [
             0.1,
             "#c51b7d"
            ],
            [
             0.2,
             "#de77ae"
            ],
            [
             0.3,
             "#f1b6da"
            ],
            [
             0.4,
             "#fde0ef"
            ],
            [
             0.5,
             "#f7f7f7"
            ],
            [
             0.6,
             "#e6f5d0"
            ],
            [
             0.7,
             "#b8e186"
            ],
            [
             0.8,
             "#7fbc41"
            ],
            [
             0.9,
             "#4d9221"
            ],
            [
             1,
             "#276419"
            ]
           ],
           "sequential":[
            [
             0,
             "#0d0887"
            ],
            [
             0.1111111111111111,
             "#46039f"
            ],
            [
             0.2222222222222222,
             "#7201a8"
            ],
            [
             0.3333333333333333,
             "#9c179e"
            ],
            [
             0.4444444444444444,
             "#bd3786"
            ],
            [
             0.5555555555555556,
             "#d8576b"
            ],
            [
             0.6666666666666666,
             "#ed7953"
            ],
            [
             0.7777777777777778,
             "#fb9f3a"
            ],
            [
             0.8888888888888888,
             "#fdca26"
            ],
            [
             1,
             "#f0f921"
            ]
           ],
           "sequentialminus":[
            [
             0,
             "#0d0887"
            ],
            [
             0.1111111111111111,
             "#46039f"
            ],
            [
             0.2222222222222222,
             "#7201a8"
            ],
            [
             0.3333333333333333,
             "#9c179e"
            ],
            [
             0.4444444444444444,
             "#bd3786"
            ],
            [
             0.5555555555555556,
             "#d8576b"
            ],
            [
             0.6666666666666666,
             "#ed7953"
            ],
            [
             0.7777777777777778,
             "#fb9f3a"
            ],
            [
             0.8888888888888888,
             "#fdca26"
            ],
            [
             1,
             "#f0f921"
            ]
           ]
          },
          "colorway":[
           "#636efa",
           "#EF553B",
           "#00cc96",
           "#ab63fa",
           "#FFA15A",
           "#19d3f3",
           "#FF6692",
           "#B6E880",
           "#FF97FF",
           "#FECB52"
          ],
          "font":{
           "color":"#2a3f5f"
          },
          "geo":{
           "bgcolor":"white",
           "lakecolor":"white",
           "landcolor":"#E5ECF6",
           "showlakes":true,
           "showland":true,
           "subunitcolor":"white"
          },
          "hoverlabel":{
           "align":"left"
          },
          "hovermode":"closest",
          "mapbox":{
           "style":"light"
          },
          "paper_bgcolor":"white",
          "plot_bgcolor":"#E5ECF6",
          "polar":{
           "angularaxis":{
            "gridcolor":"white",
            "linecolor":"white",
            "ticks":""
           },
           "bgcolor":"#E5ECF6",
           "radialaxis":{
            "gridcolor":"white",
            "linecolor":"white",
            "ticks":""
           }
          },
          "scene":{
           "xaxis":{
            "backgroundcolor":"#E5ECF6",
            "gridcolor":"white",
            "gridwidth":2,
            "linecolor":"white",
            "showbackground":true,
            "ticks":"",
            "zerolinecolor":"white"
           },
           "yaxis":{
            "backgroundcolor":"#E5ECF6",
            "gridcolor":"white",
            "gridwidth":2,
            "linecolor":"white",
            "showbackground":true,
            "ticks":"",
            "zerolinecolor":"white"
           },
           "zaxis":{
            "backgroundcolor":"#E5ECF6",
            "gridcolor":"white",
            "gridwidth":2,
            "linecolor":"white",
            "showbackground":true,
            "ticks":"",
            "zerolinecolor":"white"
           }
          },
          "shapedefaults":{
           "line":{
            "color":"#2a3f5f"
           }
          },
          "ternary":{
           "aaxis":{
            "gridcolor":"white",
            "linecolor":"white",
            "ticks":""
           },
           "baxis":{
            "gridcolor":"white",
            "linecolor":"white",
            "ticks":""
           },
           "bgcolor":"#E5ECF6",
           "caxis":{
            "gridcolor":"white",
            "linecolor":"white",
            "ticks":""
           }
          },
          "title":{
           "x":0.05
          },
          "xaxis":{
           "automargin":true,
           "gridcolor":"white",
           "linecolor":"white",
           "ticks":"",
           "title":{
            "standoff":15
           },
           "zerolinecolor":"white",
           "zerolinewidth":2
          },
          "yaxis":{
           "automargin":true,
           "gridcolor":"white",
           "linecolor":"white",
           "ticks":"",
           "title":{
            "standoff":15
           },
           "zerolinecolor":"white",
           "zerolinewidth":2
          }
         }
        },
        "xaxis":{
         "anchor":"y",
         "domain":[
          0,
          1
         ],
         "title":{
          "text":"Player"
         }
        },
        "yaxis":{
         "anchor":"x",
         "domain":[
          0,
          1
         ],
         "title":{
          "text":"%ServiceGamesWon"
         }
        },
        "legend":{
         "tracegroupgap":0
        },
        "title":{
         "text":"%ServiceGamesWon"
        }
       },
       "config":{
        "plotlyServerURL":"https:\/\/plot.ly"
       }
      }
     },
     "metadata":{
      
     },
     "output_type":"display_data"
    }
   ],
   "metadata":{
    "datalore":{
     "node_id":"SZ1tfYoU5K4hUAF7c4gUSr",
     "type":"CODE",
     "hide_input_from_viewers":false,
     "hide_output_from_viewers":false,
     "report_properties":{
      "rowId":"ND8NqhLvUCx1UyMZkjH0AW"
     }
    }
   }
  },
  {
   "cell_type":"code",
   "source":[
    "### vamos a establecer los cuartiles para ver que jugadores están por encima de la media.\n",
    "\n",
    "q1 = BestServeGamesWon['%ServiceGamesWon'].quantile(0.25)\n",
    "q3 = BestServeGamesWon['%ServiceGamesWon'].quantile(0.75)\n",
    "iqr = q3 - q1 #Interquartile range\n",
    "fence_low  = q1-1.5*iqr #lower fence. Esto es para ver los valores que están por debajo del primer cuartil.\n",
    "fence_high = q3+1.5*iqr #upper fence. Esto es para ver los valores que están por encima del tercer cuartil.\n",
    "\n",
    "print('q1: ', q1)\n",
    "print('q3: ', q3)\n",
    "print('iqr: ', iqr)\n",
    "print('fence_low: ', fence_low)\n",
    "print('fence_high: ', fence_high)"
   ],
   "execution_count":54,
   "outputs":[
    {
     "name":"stdout",
     "text":[
      "q1:  76.45000076293945\n",
      "q3:  83.32500267028809\n",
      "iqr:  6.875001907348633\n",
      "fence_low:  66.1374979019165\n",
      "fence_high:  93.63750553131104\n"
     ],
     "output_type":"stream"
    }
   ],
   "metadata":{
    "datalore":{
     "node_id":"l3NttCcp0AoglkCcJENj7l",
     "type":"CODE",
     "hide_input_from_viewers":false,
     "hide_output_from_viewers":false,
     "report_properties":{
      "rowId":"dyFGTCEfNnWatIR5Ji0W0A"
     }
    }
   }
  },
  {
   "cell_type":"code",
   "source":[
    "### Vamos a ver los jugadores que están por encima de la media.\n",
    "\n",
    "BestServeGamesWon = BestServeGamesWon[BestServeGamesWon['%ServiceGamesWon'] > q3]\n",
    "BestServeGamesWon"
   ],
   "execution_count":55,
   "outputs":[
    {
     "data":{
      "text\/html":[
       "<div>\n",
       "<style scoped>\n",
       "    .dataframe tbody tr th:only-of-type {\n",
       "        vertical-align: middle;\n",
       "    }\n",
       "\n",
       "    .dataframe tbody tr th {\n",
       "        vertical-align: top;\n",
       "    }\n",
       "\n",
       "    .dataframe thead th {\n",
       "        text-align: right;\n",
       "    }\n",
       "<\/style>\n",
       "<table border=\"1\" class=\"dataframe\">\n",
       "  <thead>\n",
       "    <tr style=\"text-align: right;\">\n",
       "      <th><\/th>\n",
       "      <th>Player<\/th>\n",
       "      <th>%ServiceGamesWon<\/th>\n",
       "    <\/tr>\n",
       "  <\/thead>\n",
       "  <tbody>\n",
       "    <tr>\n",
       "      <th>0<\/th>\n",
       "      <td>John Isner<\/td>\n",
       "      <td>90.199997<\/td>\n",
       "    <\/tr>\n",
       "    <tr>\n",
       "      <th>1<\/th>\n",
       "      <td>Hubert Hurkacz<\/td>\n",
       "      <td>89.900002<\/td>\n",
       "    <\/tr>\n",
       "    <tr>\n",
       "      <th>2<\/th>\n",
       "      <td>Matteo Berrettini<\/td>\n",
       "      <td>88.500000<\/td>\n",
       "    <\/tr>\n",
       "    <tr>\n",
       "      <th>3<\/th>\n",
       "      <td>Novak Djokovic<\/td>\n",
       "      <td>88.699997<\/td>\n",
       "    <\/tr>\n",
       "    <tr>\n",
       "      <th>4<\/th>\n",
       "      <td>Ben Shelton<\/td>\n",
       "      <td>89.400002<\/td>\n",
       "    <\/tr>\n",
       "    <tr>\n",
       "      <th>5<\/th>\n",
       "      <td>Stefanos Tsitsipas<\/td>\n",
       "      <td>86.800003<\/td>\n",
       "    <\/tr>\n",
       "    <tr>\n",
       "      <th>6<\/th>\n",
       "      <td>Maxime Cressy<\/td>\n",
       "      <td>88.599998<\/td>\n",
       "    <\/tr>\n",
       "    <tr>\n",
       "      <th>7<\/th>\n",
       "      <td>Felix Auger-Aliassime<\/td>\n",
       "      <td>86.500000<\/td>\n",
       "    <\/tr>\n",
       "    <tr>\n",
       "      <th>8<\/th>\n",
       "      <td>Taylor Fritz<\/td>\n",
       "      <td>85.500000<\/td>\n",
       "    <\/tr>\n",
       "    <tr>\n",
       "      <th>9<\/th>\n",
       "      <td>Casper Ruud<\/td>\n",
       "      <td>84.599998<\/td>\n",
       "    <\/tr>\n",
       "    <tr>\n",
       "      <th>10<\/th>\n",
       "      <td>Marc-Andrea Huesler<\/td>\n",
       "      <td>85.000000<\/td>\n",
       "    <\/tr>\n",
       "    <tr>\n",
       "      <th>11<\/th>\n",
       "      <td>Daniil Medvedev<\/td>\n",
       "      <td>86.000000<\/td>\n",
       "    <\/tr>\n",
       "    <tr>\n",
       "      <th>14<\/th>\n",
       "      <td>Holger Rune<\/td>\n",
       "      <td>85.099998<\/td>\n",
       "    <\/tr>\n",
       "    <tr>\n",
       "      <th>15<\/th>\n",
       "      <td>Carlos Alcaraz<\/td>\n",
       "      <td>84.400002<\/td>\n",
       "    <\/tr>\n",
       "    <tr>\n",
       "      <th>18<\/th>\n",
       "      <td>Andrey Rublev<\/td>\n",
       "      <td>83.900002<\/td>\n",
       "    <\/tr>\n",
       "    <tr>\n",
       "      <th>21<\/th>\n",
       "      <td>Jack Draper<\/td>\n",
       "      <td>84.099998<\/td>\n",
       "    <\/tr>\n",
       "    <tr>\n",
       "      <th>24<\/th>\n",
       "      <td>Frances Tiafoe<\/td>\n",
       "      <td>83.400002<\/td>\n",
       "    <\/tr>\n",
       "  <\/tbody>\n",
       "<\/table>\n",
       "<\/div>"
      ]
     },
     "metadata":{
      
     },
     "output_type":"display_data"
    }
   ],
   "metadata":{
    "datalore":{
     "node_id":"ZAVUu7Rkf0EMXVnMDjDbAk",
     "type":"CODE",
     "hide_input_from_viewers":false,
     "hide_output_from_viewers":false,
     "report_properties":{
      "rowId":"kMJVWJCMbcKmTSQ35CpcEU"
     }
    }
   }
  },
  {
   "cell_type":"code",
   "source":[
    "### Vamos a comenzar analizando la columna %AVGDoubleFaultsMatch por cada Player.\n",
    "\n",
    "BestAVGDoubleFaultsMatch = df[['Player', 'AvgDoubleFaultsMatch']]\n",
    "BestAVGDoubleFaultsMatch.head()"
   ],
   "execution_count":56,
   "outputs":[
    {
     "data":{
      "text\/html":[
       "<div>\n",
       "<style scoped>\n",
       "    .dataframe tbody tr th:only-of-type {\n",
       "        vertical-align: middle;\n",
       "    }\n",
       "\n",
       "    .dataframe tbody tr th {\n",
       "        vertical-align: top;\n",
       "    }\n",
       "\n",
       "    .dataframe thead th {\n",
       "        text-align: right;\n",
       "    }\n",
       "<\/style>\n",
       "<table border=\"1\" class=\"dataframe\">\n",
       "  <thead>\n",
       "    <tr style=\"text-align: right;\">\n",
       "      <th><\/th>\n",
       "      <th>Player<\/th>\n",
       "      <th>AvgDoubleFaultsMatch<\/th>\n",
       "    <\/tr>\n",
       "  <\/thead>\n",
       "  <tbody>\n",
       "    <tr>\n",
       "      <th>0<\/th>\n",
       "      <td>John Isner<\/td>\n",
       "      <td>3.0<\/td>\n",
       "    <\/tr>\n",
       "    <tr>\n",
       "      <th>1<\/th>\n",
       "      <td>Hubert Hurkacz<\/td>\n",
       "      <td>1.7<\/td>\n",
       "    <\/tr>\n",
       "    <tr>\n",
       "      <th>2<\/th>\n",
       "      <td>Matteo Berrettini<\/td>\n",
       "      <td>1.9<\/td>\n",
       "    <\/tr>\n",
       "    <tr>\n",
       "      <th>3<\/th>\n",
       "      <td>Novak Djokovic<\/td>\n",
       "      <td>2.1<\/td>\n",
       "    <\/tr>\n",
       "    <tr>\n",
       "      <th>4<\/th>\n",
       "      <td>Ben Shelton<\/td>\n",
       "      <td>4.6<\/td>\n",
       "    <\/tr>\n",
       "  <\/tbody>\n",
       "<\/table>\n",
       "<\/div>"
      ]
     },
     "metadata":{
      
     },
     "output_type":"display_data"
    }
   ],
   "metadata":{
    "datalore":{
     "node_id":"GcLEDUsk1ne7HZAVXEQqFl",
     "type":"CODE",
     "hide_input_from_viewers":false,
     "hide_output_from_viewers":false,
     "report_properties":{
      "rowId":"oJ5kTgSWj4Ycgq2HnBP8tS"
     }
    }
   }
  },
  {
   "cell_type":"code",
   "source":[
    "### Vamos a ver la distribución de los datos.\n",
    "\n",
    "BestAVGDoubleFaultsMatch.describe()"
   ],
   "execution_count":57,
   "outputs":[
    {
     "data":{
      "text\/html":[
       "<div>\n",
       "<style scoped>\n",
       "    .dataframe tbody tr th:only-of-type {\n",
       "        vertical-align: middle;\n",
       "    }\n",
       "\n",
       "    .dataframe tbody tr th {\n",
       "        vertical-align: top;\n",
       "    }\n",
       "\n",
       "    .dataframe thead th {\n",
       "        text-align: right;\n",
       "    }\n",
       "<\/style>\n",
       "<table border=\"1\" class=\"dataframe\">\n",
       "  <thead>\n",
       "    <tr style=\"text-align: right;\">\n",
       "      <th><\/th>\n",
       "      <th>AvgDoubleFaultsMatch<\/th>\n",
       "    <\/tr>\n",
       "  <\/thead>\n",
       "  <tbody>\n",
       "    <tr>\n",
       "      <th>count<\/th>\n",
       "      <td>68.000000<\/td>\n",
       "    <\/tr>\n",
       "    <tr>\n",
       "      <th>mean<\/th>\n",
       "      <td>2.748530<\/td>\n",
       "    <\/tr>\n",
       "    <tr>\n",
       "      <th>std<\/th>\n",
       "      <td>1.238137<\/td>\n",
       "    <\/tr>\n",
       "    <tr>\n",
       "      <th>min<\/th>\n",
       "      <td>1.400000<\/td>\n",
       "    <\/tr>\n",
       "    <tr>\n",
       "      <th>25%<\/th>\n",
       "      <td>1.975000<\/td>\n",
       "    <\/tr>\n",
       "    <tr>\n",
       "      <th>50%<\/th>\n",
       "      <td>2.500000<\/td>\n",
       "    <\/tr>\n",
       "    <tr>\n",
       "      <th>75%<\/th>\n",
       "      <td>3.000000<\/td>\n",
       "    <\/tr>\n",
       "    <tr>\n",
       "      <th>max<\/th>\n",
       "      <td>9.000000<\/td>\n",
       "    <\/tr>\n",
       "  <\/tbody>\n",
       "<\/table>\n",
       "<\/div>"
      ]
     },
     "metadata":{
      
     },
     "output_type":"display_data"
    }
   ],
   "metadata":{
    "datalore":{
     "node_id":"e7N3YpYh5c2Md4gEse5sS0",
     "type":"CODE",
     "hide_input_from_viewers":false,
     "hide_output_from_viewers":false,
     "report_properties":{
      "rowId":"yvCLscyzfbN51hJuy1PHnX"
     }
    }
   }
  },
  {
   "cell_type":"code",
   "source":[
    "### Vamos a ver la distribución de los datos con plotly con forma de linea.\n",
    "\n",
    "fig = px.line(BestAVGDoubleFaultsMatch, x='Player', y='AvgDoubleFaultsMatch', title='AvgDoubleFaultsMatch')\n",
    "fig.show()"
   ],
   "execution_count":58,
   "outputs":[
    {
     "data":{
      "application\/vnd.plotly.v1+json":{
       "data":[
        {
         "hovertemplate":"Player=%{x}<br>AvgDoubleFaultsMatch=%{y}<extra><\/extra>",
         "legendgroup":"",
         "line":{
          "color":"#636efa",
          "dash":"solid"
         },
         "marker":{
          "symbol":"circle"
         },
         "mode":"lines",
         "name":"",
         "orientation":"v",
         "showlegend":false,
         "x":[
          "John Isner",
          "Hubert Hurkacz",
          "Matteo Berrettini",
          "Novak Djokovic",
          "Ben Shelton",
          "Stefanos Tsitsipas",
          "Maxime Cressy",
          "Felix Auger-Aliassime",
          "Taylor Fritz",
          "Casper Ruud",
          "Marc-Andrea Huesler",
          "Daniil Medvedev",
          "Borna Coric",
          "Lorenzo Sonego",
          "Holger Rune",
          "Carlos Alcaraz",
          "Alexander Zverev",
          "Tallon Griekspoor",
          "Andrey Rublev",
          "Grigor Dimitrov",
          "Roberto Bautista Agut",
          "Jack Draper",
          "Karen Khachanov",
          "Arthur Rinderknech",
          "Frances Tiafoe",
          "Benjamin Bonzi",
          "Stan Wawrinka",
          "Jannik Sinner",
          "Adrian Mannarino",
          "Denis Shapovalov",
          "Sebastian Korda",
          "Cameron Norrie",
          "Oscar Otte",
          "J.J. Wolf",
          "Lorenzo Musetti",
          "Laslo Djere",
          "Sebastian Baez",
          "Yoshihito Nishioka",
          "Tommy Paul",
          "Andy Murray",
          "Jiri Lehecka",
          "Alexander Bublik",
          "Miomir Kecmanovic",
          "Mackenzie Mcdonald",
          "Dominic Thiem",
          "Marcos Giron",
          "Daniel Evans",
          "Filip Krajinovic",
          "Emil Ruusuvuori",
          "Soonwoo Kwon",
          "Albert Ramos-Vinolas",
          "Richard Gasquet",
          "Alejandro Davidovich Fokina",
          "Alex Molcan",
          "Dusan Lajovic",
          "Botic Van De Zandschulp",
          "Alex De Minaur",
          "Mikael Ymer",
          "Francisco Cerundolo",
          "David Goffin",
          "Aslan Karatsev",
          "Cristian Garin",
          "Pedro Martinez",
          "Joao Sousa",
          "Federico Coria",
          "Jaume Munar",
          "Bernabe Zapata Miralles",
          "Diego Schwartzman"
         ],
         "xaxis":"x",
         "y":[
          3,
          1.7000000476837158,
          1.899999976158142,
          2.0999999046325684,
          4.599999904632568,
          2.0999999046325684,
          9,
          3.299999952316284,
          1.899999976158142,
          2,
          1.899999976158142,
          3.299999952316284,
          1.600000023841858,
          1.7000000476837158,
          3.4000000953674316,
          2.200000047683716,
          3.4000000953674316,
          3,
          2.200000047683716,
          2.5999999046325684,
          1.7999999523162842,
          2.9000000953674316,
          2.4000000953674316,
          2.299999952316284,
          2.299999952316284,
          2.700000047683716,
          1.7000000476837158,
          2.700000047683716,
          1.7999999523162842,
          5.599999904632568,
          2.0999999046325684,
          2.200000047683716,
          3.700000047683716,
          3.0999999046325684,
          1.7999999523162842,
          3.5,
          1.7999999523162842,
          1.399999976158142,
          2.5,
          2.799999952316284,
          2.5,
          6.5,
          1.399999976158142,
          1.899999976158142,
          2.299999952316284,
          1.399999976158142,
          2.5999999046325684,
          2.0999999046325684,
          3,
          2.700000047683716,
          1.600000023841858,
          3,
          2.5,
          2.4000000953674316,
          1.7999999523162842,
          4.099999904632568,
          2.5,
          2.799999952316284,
          3,
          2.700000047683716,
          5.199999809265137,
          2.799999952316284,
          3.700000047683716,
          2.200000047683716,
          2.5999999046325684,
          3.5999999046325684,
          2.0999999046325684,
          3.9000000953674316
         ],
         "yaxis":"y",
         "type":"scatter"
        }
       ],
       "layout":{
        "template":{
         "data":{
          "bar":[
           {
            "error_x":{
             "color":"#2a3f5f"
            },
            "error_y":{
             "color":"#2a3f5f"
            },
            "marker":{
             "line":{
              "color":"#E5ECF6",
              "width":0.5
             },
             "pattern":{
              "fillmode":"overlay",
              "size":10,
              "solidity":0.2
             }
            },
            "type":"bar"
           }
          ],
          "barpolar":[
           {
            "marker":{
             "line":{
              "color":"#E5ECF6",
              "width":0.5
             },
             "pattern":{
              "fillmode":"overlay",
              "size":10,
              "solidity":0.2
             }
            },
            "type":"barpolar"
           }
          ],
          "carpet":[
           {
            "aaxis":{
             "endlinecolor":"#2a3f5f",
             "gridcolor":"white",
             "linecolor":"white",
             "minorgridcolor":"white",
             "startlinecolor":"#2a3f5f"
            },
            "baxis":{
             "endlinecolor":"#2a3f5f",
             "gridcolor":"white",
             "linecolor":"white",
             "minorgridcolor":"white",
             "startlinecolor":"#2a3f5f"
            },
            "type":"carpet"
           }
          ],
          "choropleth":[
           {
            "colorbar":{
             "outlinewidth":0,
             "ticks":""
            },
            "type":"choropleth"
           }
          ],
          "contour":[
           {
            "colorbar":{
             "outlinewidth":0,
             "ticks":""
            },
            "colorscale":[
             [
              0,
              "#0d0887"
             ],
             [
              0.1111111111111111,
              "#46039f"
             ],
             [
              0.2222222222222222,
              "#7201a8"
             ],
             [
              0.3333333333333333,
              "#9c179e"
             ],
             [
              0.4444444444444444,
              "#bd3786"
             ],
             [
              0.5555555555555556,
              "#d8576b"
             ],
             [
              0.6666666666666666,
              "#ed7953"
             ],
             [
              0.7777777777777778,
              "#fb9f3a"
             ],
             [
              0.8888888888888888,
              "#fdca26"
             ],
             [
              1,
              "#f0f921"
             ]
            ],
            "type":"contour"
           }
          ],
          "contourcarpet":[
           {
            "colorbar":{
             "outlinewidth":0,
             "ticks":""
            },
            "type":"contourcarpet"
           }
          ],
          "heatmap":[
           {
            "colorbar":{
             "outlinewidth":0,
             "ticks":""
            },
            "colorscale":[
             [
              0,
              "#0d0887"
             ],
             [
              0.1111111111111111,
              "#46039f"
             ],
             [
              0.2222222222222222,
              "#7201a8"
             ],
             [
              0.3333333333333333,
              "#9c179e"
             ],
             [
              0.4444444444444444,
              "#bd3786"
             ],
             [
              0.5555555555555556,
              "#d8576b"
             ],
             [
              0.6666666666666666,
              "#ed7953"
             ],
             [
              0.7777777777777778,
              "#fb9f3a"
             ],
             [
              0.8888888888888888,
              "#fdca26"
             ],
             [
              1,
              "#f0f921"
             ]
            ],
            "type":"heatmap"
           }
          ],
          "heatmapgl":[
           {
            "colorbar":{
             "outlinewidth":0,
             "ticks":""
            },
            "colorscale":[
             [
              0,
              "#0d0887"
             ],
             [
              0.1111111111111111,
              "#46039f"
             ],
             [
              0.2222222222222222,
              "#7201a8"
             ],
             [
              0.3333333333333333,
              "#9c179e"
             ],
             [
              0.4444444444444444,
              "#bd3786"
             ],
             [
              0.5555555555555556,
              "#d8576b"
             ],
             [
              0.6666666666666666,
              "#ed7953"
             ],
             [
              0.7777777777777778,
              "#fb9f3a"
             ],
             [
              0.8888888888888888,
              "#fdca26"
             ],
             [
              1,
              "#f0f921"
             ]
            ],
            "type":"heatmapgl"
           }
          ],
          "histogram":[
           {
            "marker":{
             "pattern":{
              "fillmode":"overlay",
              "size":10,
              "solidity":0.2
             }
            },
            "type":"histogram"
           }
          ],
          "histogram2d":[
           {
            "colorbar":{
             "outlinewidth":0,
             "ticks":""
            },
            "colorscale":[
             [
              0,
              "#0d0887"
             ],
             [
              0.1111111111111111,
              "#46039f"
             ],
             [
              0.2222222222222222,
              "#7201a8"
             ],
             [
              0.3333333333333333,
              "#9c179e"
             ],
             [
              0.4444444444444444,
              "#bd3786"
             ],
             [
              0.5555555555555556,
              "#d8576b"
             ],
             [
              0.6666666666666666,
              "#ed7953"
             ],
             [
              0.7777777777777778,
              "#fb9f3a"
             ],
             [
              0.8888888888888888,
              "#fdca26"
             ],
             [
              1,
              "#f0f921"
             ]
            ],
            "type":"histogram2d"
           }
          ],
          "histogram2dcontour":[
           {
            "colorbar":{
             "outlinewidth":0,
             "ticks":""
            },
            "colorscale":[
             [
              0,
              "#0d0887"
             ],
             [
              0.1111111111111111,
              "#46039f"
             ],
             [
              0.2222222222222222,
              "#7201a8"
             ],
             [
              0.3333333333333333,
              "#9c179e"
             ],
             [
              0.4444444444444444,
              "#bd3786"
             ],
             [
              0.5555555555555556,
              "#d8576b"
             ],
             [
              0.6666666666666666,
              "#ed7953"
             ],
             [
              0.7777777777777778,
              "#fb9f3a"
             ],
             [
              0.8888888888888888,
              "#fdca26"
             ],
             [
              1,
              "#f0f921"
             ]
            ],
            "type":"histogram2dcontour"
           }
          ],
          "mesh3d":[
           {
            "colorbar":{
             "outlinewidth":0,
             "ticks":""
            },
            "type":"mesh3d"
           }
          ],
          "parcoords":[
           {
            "line":{
             "colorbar":{
              "outlinewidth":0,
              "ticks":""
             }
            },
            "type":"parcoords"
           }
          ],
          "pie":[
           {
            "automargin":true,
            "type":"pie"
           }
          ],
          "scatter":[
           {
            "marker":{
             "colorbar":{
              "outlinewidth":0,
              "ticks":""
             }
            },
            "type":"scatter"
           }
          ],
          "scatter3d":[
           {
            "line":{
             "colorbar":{
              "outlinewidth":0,
              "ticks":""
             }
            },
            "marker":{
             "colorbar":{
              "outlinewidth":0,
              "ticks":""
             }
            },
            "type":"scatter3d"
           }
          ],
          "scattercarpet":[
           {
            "marker":{
             "colorbar":{
              "outlinewidth":0,
              "ticks":""
             }
            },
            "type":"scattercarpet"
           }
          ],
          "scattergeo":[
           {
            "marker":{
             "colorbar":{
              "outlinewidth":0,
              "ticks":""
             }
            },
            "type":"scattergeo"
           }
          ],
          "scattergl":[
           {
            "marker":{
             "colorbar":{
              "outlinewidth":0,
              "ticks":""
             }
            },
            "type":"scattergl"
           }
          ],
          "scattermapbox":[
           {
            "marker":{
             "colorbar":{
              "outlinewidth":0,
              "ticks":""
             }
            },
            "type":"scattermapbox"
           }
          ],
          "scatterpolar":[
           {
            "marker":{
             "colorbar":{
              "outlinewidth":0,
              "ticks":""
             }
            },
            "type":"scatterpolar"
           }
          ],
          "scatterpolargl":[
           {
            "marker":{
             "colorbar":{
              "outlinewidth":0,
              "ticks":""
             }
            },
            "type":"scatterpolargl"
           }
          ],
          "scatterternary":[
           {
            "marker":{
             "colorbar":{
              "outlinewidth":0,
              "ticks":""
             }
            },
            "type":"scatterternary"
           }
          ],
          "surface":[
           {
            "colorbar":{
             "outlinewidth":0,
             "ticks":""
            },
            "colorscale":[
             [
              0,
              "#0d0887"
             ],
             [
              0.1111111111111111,
              "#46039f"
             ],
             [
              0.2222222222222222,
              "#7201a8"
             ],
             [
              0.3333333333333333,
              "#9c179e"
             ],
             [
              0.4444444444444444,
              "#bd3786"
             ],
             [
              0.5555555555555556,
              "#d8576b"
             ],
             [
              0.6666666666666666,
              "#ed7953"
             ],
             [
              0.7777777777777778,
              "#fb9f3a"
             ],
             [
              0.8888888888888888,
              "#fdca26"
             ],
             [
              1,
              "#f0f921"
             ]
            ],
            "type":"surface"
           }
          ],
          "table":[
           {
            "cells":{
             "fill":{
              "color":"#EBF0F8"
             },
             "line":{
              "color":"white"
             }
            },
            "header":{
             "fill":{
              "color":"#C8D4E3"
             },
             "line":{
              "color":"white"
             }
            },
            "type":"table"
           }
          ]
         },
         "layout":{
          "annotationdefaults":{
           "arrowcolor":"#2a3f5f",
           "arrowhead":0,
           "arrowwidth":1
          },
          "autotypenumbers":"strict",
          "coloraxis":{
           "colorbar":{
            "outlinewidth":0,
            "ticks":""
           }
          },
          "colorscale":{
           "diverging":[
            [
             0,
             "#8e0152"
            ],
            [
             0.1,
             "#c51b7d"
            ],
            [
             0.2,
             "#de77ae"
            ],
            [
             0.3,
             "#f1b6da"
            ],
            [
             0.4,
             "#fde0ef"
            ],
            [
             0.5,
             "#f7f7f7"
            ],
            [
             0.6,
             "#e6f5d0"
            ],
            [
             0.7,
             "#b8e186"
            ],
            [
             0.8,
             "#7fbc41"
            ],
            [
             0.9,
             "#4d9221"
            ],
            [
             1,
             "#276419"
            ]
           ],
           "sequential":[
            [
             0,
             "#0d0887"
            ],
            [
             0.1111111111111111,
             "#46039f"
            ],
            [
             0.2222222222222222,
             "#7201a8"
            ],
            [
             0.3333333333333333,
             "#9c179e"
            ],
            [
             0.4444444444444444,
             "#bd3786"
            ],
            [
             0.5555555555555556,
             "#d8576b"
            ],
            [
             0.6666666666666666,
             "#ed7953"
            ],
            [
             0.7777777777777778,
             "#fb9f3a"
            ],
            [
             0.8888888888888888,
             "#fdca26"
            ],
            [
             1,
             "#f0f921"
            ]
           ],
           "sequentialminus":[
            [
             0,
             "#0d0887"
            ],
            [
             0.1111111111111111,
             "#46039f"
            ],
            [
             0.2222222222222222,
             "#7201a8"
            ],
            [
             0.3333333333333333,
             "#9c179e"
            ],
            [
             0.4444444444444444,
             "#bd3786"
            ],
            [
             0.5555555555555556,
             "#d8576b"
            ],
            [
             0.6666666666666666,
             "#ed7953"
            ],
            [
             0.7777777777777778,
             "#fb9f3a"
            ],
            [
             0.8888888888888888,
             "#fdca26"
            ],
            [
             1,
             "#f0f921"
            ]
           ]
          },
          "colorway":[
           "#636efa",
           "#EF553B",
           "#00cc96",
           "#ab63fa",
           "#FFA15A",
           "#19d3f3",
           "#FF6692",
           "#B6E880",
           "#FF97FF",
           "#FECB52"
          ],
          "font":{
           "color":"#2a3f5f"
          },
          "geo":{
           "bgcolor":"white",
           "lakecolor":"white",
           "landcolor":"#E5ECF6",
           "showlakes":true,
           "showland":true,
           "subunitcolor":"white"
          },
          "hoverlabel":{
           "align":"left"
          },
          "hovermode":"closest",
          "mapbox":{
           "style":"light"
          },
          "paper_bgcolor":"white",
          "plot_bgcolor":"#E5ECF6",
          "polar":{
           "angularaxis":{
            "gridcolor":"white",
            "linecolor":"white",
            "ticks":""
           },
           "bgcolor":"#E5ECF6",
           "radialaxis":{
            "gridcolor":"white",
            "linecolor":"white",
            "ticks":""
           }
          },
          "scene":{
           "xaxis":{
            "backgroundcolor":"#E5ECF6",
            "gridcolor":"white",
            "gridwidth":2,
            "linecolor":"white",
            "showbackground":true,
            "ticks":"",
            "zerolinecolor":"white"
           },
           "yaxis":{
            "backgroundcolor":"#E5ECF6",
            "gridcolor":"white",
            "gridwidth":2,
            "linecolor":"white",
            "showbackground":true,
            "ticks":"",
            "zerolinecolor":"white"
           },
           "zaxis":{
            "backgroundcolor":"#E5ECF6",
            "gridcolor":"white",
            "gridwidth":2,
            "linecolor":"white",
            "showbackground":true,
            "ticks":"",
            "zerolinecolor":"white"
           }
          },
          "shapedefaults":{
           "line":{
            "color":"#2a3f5f"
           }
          },
          "ternary":{
           "aaxis":{
            "gridcolor":"white",
            "linecolor":"white",
            "ticks":""
           },
           "baxis":{
            "gridcolor":"white",
            "linecolor":"white",
            "ticks":""
           },
           "bgcolor":"#E5ECF6",
           "caxis":{
            "gridcolor":"white",
            "linecolor":"white",
            "ticks":""
           }
          },
          "title":{
           "x":0.05
          },
          "xaxis":{
           "automargin":true,
           "gridcolor":"white",
           "linecolor":"white",
           "ticks":"",
           "title":{
            "standoff":15
           },
           "zerolinecolor":"white",
           "zerolinewidth":2
          },
          "yaxis":{
           "automargin":true,
           "gridcolor":"white",
           "linecolor":"white",
           "ticks":"",
           "title":{
            "standoff":15
           },
           "zerolinecolor":"white",
           "zerolinewidth":2
          }
         }
        },
        "xaxis":{
         "anchor":"y",
         "domain":[
          0,
          1
         ],
         "title":{
          "text":"Player"
         }
        },
        "yaxis":{
         "anchor":"x",
         "domain":[
          0,
          1
         ],
         "title":{
          "text":"AvgDoubleFaultsMatch"
         }
        },
        "legend":{
         "tracegroupgap":0
        },
        "title":{
         "text":"AvgDoubleFaultsMatch"
        }
       },
       "config":{
        "plotlyServerURL":"https:\/\/plot.ly"
       }
      }
     },
     "metadata":{
      
     },
     "output_type":"display_data"
    }
   ],
   "metadata":{
    "datalore":{
     "node_id":"0FrrknH825YF2TOwpIyilX",
     "type":"CODE",
     "hide_input_from_viewers":false,
     "hide_output_from_viewers":false,
     "report_properties":{
      "rowId":"zuIJqaMD7fcaKvZIDawteM"
     }
    }
   }
  },
  {
   "cell_type":"code",
   "source":[
    "### vamos a establecer los cuartiles para ver que jugadores están por encima de la media.\n",
    "\n",
    "q1 = BestAVGDoubleFaultsMatch['AvgDoubleFaultsMatch'].quantile(0.25)\n",
    "q3 = BestAVGDoubleFaultsMatch['AvgDoubleFaultsMatch'].quantile(0.75)\n",
    "iqr = q3 - q1 #Interquartile range\n",
    "fence_low  = q1-1.5*iqr #lower fence. Esto es para ver los valores que están por debajo del primer cuartil.\n",
    "fence_high = q3+1.5*iqr #upper fence. Esto es para ver los valores que están por encima del tercer cuartil.\n",
    "\n",
    "print('q1: ', q1)\n",
    "print('q3: ', q3)\n",
    "print('iqr: ', iqr)\n",
    "print('fence_low: ', fence_low)\n",
    "print('fence_high: ', fence_high)"
   ],
   "execution_count":59,
   "outputs":[
    {
     "name":"stdout",
     "text":[
      "q1:  1.9749999940395355\n",
      "q3:  3.0\n",
      "iqr:  1.0250000059604645\n",
      "fence_low:  0.4374999850988388\n",
      "fence_high:  4.537500008940697\n"
     ],
     "output_type":"stream"
    }
   ],
   "metadata":{
    "datalore":{
     "node_id":"Mgx3OR5s6wRN8pR7umhCkw",
     "type":"CODE",
     "hide_input_from_viewers":false,
     "hide_output_from_viewers":false,
     "report_properties":{
      "rowId":"Uo9zUsMCSQHWphs9CnypT8"
     }
    }
   }
  },
  {
   "cell_type":"code",
   "source":[
    "### Vamos a ver los jugadores que están por encima de la media.\n",
    "\n",
    "BestAVGDoubleFaultsMatch = BestAVGDoubleFaultsMatch[BestAVGDoubleFaultsMatch['AvgDoubleFaultsMatch'] < q1]\n",
    "BestAVGDoubleFaultsMatch"
   ],
   "execution_count":60,
   "outputs":[
    {
     "data":{
      "text\/html":[
       "<div>\n",
       "<style scoped>\n",
       "    .dataframe tbody tr th:only-of-type {\n",
       "        vertical-align: middle;\n",
       "    }\n",
       "\n",
       "    .dataframe tbody tr th {\n",
       "        vertical-align: top;\n",
       "    }\n",
       "\n",
       "    .dataframe thead th {\n",
       "        text-align: right;\n",
       "    }\n",
       "<\/style>\n",
       "<table border=\"1\" class=\"dataframe\">\n",
       "  <thead>\n",
       "    <tr style=\"text-align: right;\">\n",
       "      <th><\/th>\n",
       "      <th>Player<\/th>\n",
       "      <th>AvgDoubleFaultsMatch<\/th>\n",
       "    <\/tr>\n",
       "  <\/thead>\n",
       "  <tbody>\n",
       "    <tr>\n",
       "      <th>1<\/th>\n",
       "      <td>Hubert Hurkacz<\/td>\n",
       "      <td>1.7<\/td>\n",
       "    <\/tr>\n",
       "    <tr>\n",
       "      <th>2<\/th>\n",
       "      <td>Matteo Berrettini<\/td>\n",
       "      <td>1.9<\/td>\n",
       "    <\/tr>\n",
       "    <tr>\n",
       "      <th>8<\/th>\n",
       "      <td>Taylor Fritz<\/td>\n",
       "      <td>1.9<\/td>\n",
       "    <\/tr>\n",
       "    <tr>\n",
       "      <th>10<\/th>\n",
       "      <td>Marc-Andrea Huesler<\/td>\n",
       "      <td>1.9<\/td>\n",
       "    <\/tr>\n",
       "    <tr>\n",
       "      <th>12<\/th>\n",
       "      <td>Borna Coric<\/td>\n",
       "      <td>1.6<\/td>\n",
       "    <\/tr>\n",
       "    <tr>\n",
       "      <th>13<\/th>\n",
       "      <td>Lorenzo Sonego<\/td>\n",
       "      <td>1.7<\/td>\n",
       "    <\/tr>\n",
       "    <tr>\n",
       "      <th>20<\/th>\n",
       "      <td>Roberto Bautista Agut<\/td>\n",
       "      <td>1.8<\/td>\n",
       "    <\/tr>\n",
       "    <tr>\n",
       "      <th>26<\/th>\n",
       "      <td>Stan Wawrinka<\/td>\n",
       "      <td>1.7<\/td>\n",
       "    <\/tr>\n",
       "    <tr>\n",
       "      <th>28<\/th>\n",
       "      <td>Adrian Mannarino<\/td>\n",
       "      <td>1.8<\/td>\n",
       "    <\/tr>\n",
       "    <tr>\n",
       "      <th>34<\/th>\n",
       "      <td>Lorenzo Musetti<\/td>\n",
       "      <td>1.8<\/td>\n",
       "    <\/tr>\n",
       "    <tr>\n",
       "      <th>36<\/th>\n",
       "      <td>Sebastian Baez<\/td>\n",
       "      <td>1.8<\/td>\n",
       "    <\/tr>\n",
       "    <tr>\n",
       "      <th>37<\/th>\n",
       "      <td>Yoshihito Nishioka<\/td>\n",
       "      <td>1.4<\/td>\n",
       "    <\/tr>\n",
       "    <tr>\n",
       "      <th>42<\/th>\n",
       "      <td>Miomir Kecmanovic<\/td>\n",
       "      <td>1.4<\/td>\n",
       "    <\/tr>\n",
       "    <tr>\n",
       "      <th>43<\/th>\n",
       "      <td>Mackenzie Mcdonald<\/td>\n",
       "      <td>1.9<\/td>\n",
       "    <\/tr>\n",
       "    <tr>\n",
       "      <th>45<\/th>\n",
       "      <td>Marcos Giron<\/td>\n",
       "      <td>1.4<\/td>\n",
       "    <\/tr>\n",
       "    <tr>\n",
       "      <th>50<\/th>\n",
       "      <td>Albert Ramos-Vinolas<\/td>\n",
       "      <td>1.6<\/td>\n",
       "    <\/tr>\n",
       "    <tr>\n",
       "      <th>54<\/th>\n",
       "      <td>Dusan Lajovic<\/td>\n",
       "      <td>1.8<\/td>\n",
       "    <\/tr>\n",
       "  <\/tbody>\n",
       "<\/table>\n",
       "<\/div>"
      ]
     },
     "metadata":{
      
     },
     "output_type":"display_data"
    }
   ],
   "metadata":{
    "datalore":{
     "node_id":"nqAPn6sGhnerZPrOOKtSWm",
     "type":"CODE",
     "hide_input_from_viewers":false,
     "hide_output_from_viewers":false,
     "report_properties":{
      "rowId":"BzT7MhktcQICaAMvww7kBY"
     }
    }
   }
  },
  {
   "cell_type":"code",
   "source":[
    "### Vamos a comenzar analizando la columna %Return Games Won por cada Player.\n",
    "\n",
    "BestReturnGamesWon = df[['Player', '%Return Games Won']]\n",
    "BestReturnGamesWon.head()"
   ],
   "execution_count":61,
   "outputs":[
    {
     "data":{
      "text\/html":[
       "<div>\n",
       "<style scoped>\n",
       "    .dataframe tbody tr th:only-of-type {\n",
       "        vertical-align: middle;\n",
       "    }\n",
       "\n",
       "    .dataframe tbody tr th {\n",
       "        vertical-align: top;\n",
       "    }\n",
       "\n",
       "    .dataframe thead th {\n",
       "        text-align: right;\n",
       "    }\n",
       "<\/style>\n",
       "<table border=\"1\" class=\"dataframe\">\n",
       "  <thead>\n",
       "    <tr style=\"text-align: right;\">\n",
       "      <th><\/th>\n",
       "      <th>Player<\/th>\n",
       "      <th>%Return Games Won<\/th>\n",
       "    <\/tr>\n",
       "  <\/thead>\n",
       "  <tbody>\n",
       "    <tr>\n",
       "      <th>0<\/th>\n",
       "      <td>John Isner<\/td>\n",
       "      <td>7.100000<\/td>\n",
       "    <\/tr>\n",
       "    <tr>\n",
       "      <th>1<\/th>\n",
       "      <td>Hubert Hurkacz<\/td>\n",
       "      <td>16.500000<\/td>\n",
       "    <\/tr>\n",
       "    <tr>\n",
       "      <th>2<\/th>\n",
       "      <td>Matteo Berrettini<\/td>\n",
       "      <td>18.799999<\/td>\n",
       "    <\/tr>\n",
       "    <tr>\n",
       "      <th>3<\/th>\n",
       "      <td>Novak Djokovic<\/td>\n",
       "      <td>29.299999<\/td>\n",
       "    <\/tr>\n",
       "    <tr>\n",
       "      <th>4<\/th>\n",
       "      <td>Ben Shelton<\/td>\n",
       "      <td>13.300000<\/td>\n",
       "    <\/tr>\n",
       "  <\/tbody>\n",
       "<\/table>\n",
       "<\/div>"
      ]
     },
     "metadata":{
      
     },
     "output_type":"display_data"
    }
   ],
   "metadata":{
    "datalore":{
     "node_id":"hpUytRzmHeXa5OoI54CKZA",
     "type":"CODE",
     "hide_input_from_viewers":false,
     "hide_output_from_viewers":false,
     "report_properties":{
      "rowId":"AYobaahaQAAlpg7EJ9liCj"
     }
    }
   }
  },
  {
   "cell_type":"code",
   "source":[
    "### Vamos a ver la distribución de los datos.\n",
    "\n",
    "BestReturnGamesWon.describe()"
   ],
   "execution_count":62,
   "outputs":[
    {
     "data":{
      "text\/html":[
       "<div>\n",
       "<style scoped>\n",
       "    .dataframe tbody tr th:only-of-type {\n",
       "        vertical-align: middle;\n",
       "    }\n",
       "\n",
       "    .dataframe tbody tr th {\n",
       "        vertical-align: top;\n",
       "    }\n",
       "\n",
       "    .dataframe thead th {\n",
       "        text-align: right;\n",
       "    }\n",
       "<\/style>\n",
       "<table border=\"1\" class=\"dataframe\">\n",
       "  <thead>\n",
       "    <tr style=\"text-align: right;\">\n",
       "      <th><\/th>\n",
       "      <th>%Return Games Won<\/th>\n",
       "    <\/tr>\n",
       "  <\/thead>\n",
       "  <tbody>\n",
       "    <tr>\n",
       "      <th>count<\/th>\n",
       "      <td>68.000000<\/td>\n",
       "    <\/tr>\n",
       "    <tr>\n",
       "      <th>mean<\/th>\n",
       "      <td>21.985294<\/td>\n",
       "    <\/tr>\n",
       "    <tr>\n",
       "      <th>std<\/th>\n",
       "      <td>4.839645<\/td>\n",
       "    <\/tr>\n",
       "    <tr>\n",
       "      <th>min<\/th>\n",
       "      <td>7.100000<\/td>\n",
       "    <\/tr>\n",
       "    <tr>\n",
       "      <th>25%<\/th>\n",
       "      <td>18.950000<\/td>\n",
       "    <\/tr>\n",
       "    <tr>\n",
       "      <th>50%<\/th>\n",
       "      <td>22.050000<\/td>\n",
       "    <\/tr>\n",
       "    <tr>\n",
       "      <th>75%<\/th>\n",
       "      <td>25.150000<\/td>\n",
       "    <\/tr>\n",
       "    <tr>\n",
       "      <th>max<\/th>\n",
       "      <td>31.400000<\/td>\n",
       "    <\/tr>\n",
       "  <\/tbody>\n",
       "<\/table>\n",
       "<\/div>"
      ]
     },
     "metadata":{
      
     },
     "output_type":"display_data"
    }
   ],
   "metadata":{
    "datalore":{
     "node_id":"amAr0d1WVvemSWkRQMYwjN",
     "type":"CODE",
     "hide_input_from_viewers":false,
     "hide_output_from_viewers":false,
     "report_properties":{
      "rowId":"KKz7QFzeHX8IsYkUiPJafP"
     }
    }
   }
  },
  {
   "cell_type":"code",
   "source":[
    "### Vamos a ver la distribución de los datos con plotly con forma de linea.\n",
    "\n",
    "fig = px.line(BestReturnGamesWon, x='Player', y='%Return Games Won', title='%Return Games Won')\n",
    "fig.show()"
   ],
   "execution_count":63,
   "outputs":[
    {
     "data":{
      "application\/vnd.plotly.v1+json":{
       "data":[
        {
         "hovertemplate":"Player=%{x}<br>%Return Games Won=%{y}<extra><\/extra>",
         "legendgroup":"",
         "line":{
          "color":"#636efa",
          "dash":"solid"
         },
         "marker":{
          "symbol":"circle"
         },
         "mode":"lines",
         "name":"",
         "orientation":"v",
         "showlegend":false,
         "x":[
          "John Isner",
          "Hubert Hurkacz",
          "Matteo Berrettini",
          "Novak Djokovic",
          "Ben Shelton",
          "Stefanos Tsitsipas",
          "Maxime Cressy",
          "Felix Auger-Aliassime",
          "Taylor Fritz",
          "Casper Ruud",
          "Marc-Andrea Huesler",
          "Daniil Medvedev",
          "Borna Coric",
          "Lorenzo Sonego",
          "Holger Rune",
          "Carlos Alcaraz",
          "Alexander Zverev",
          "Tallon Griekspoor",
          "Andrey Rublev",
          "Grigor Dimitrov",
          "Roberto Bautista Agut",
          "Jack Draper",
          "Karen Khachanov",
          "Arthur Rinderknech",
          "Frances Tiafoe",
          "Benjamin Bonzi",
          "Stan Wawrinka",
          "Jannik Sinner",
          "Adrian Mannarino",
          "Denis Shapovalov",
          "Sebastian Korda",
          "Cameron Norrie",
          "Oscar Otte",
          "J.J. Wolf",
          "Lorenzo Musetti",
          "Laslo Djere",
          "Sebastian Baez",
          "Yoshihito Nishioka",
          "Tommy Paul",
          "Andy Murray",
          "Jiri Lehecka",
          "Alexander Bublik",
          "Miomir Kecmanovic",
          "Mackenzie Mcdonald",
          "Dominic Thiem",
          "Marcos Giron",
          "Daniel Evans",
          "Filip Krajinovic",
          "Emil Ruusuvuori",
          "Soonwoo Kwon",
          "Albert Ramos-Vinolas",
          "Richard Gasquet",
          "Alejandro Davidovich Fokina",
          "Alex Molcan",
          "Dusan Lajovic",
          "Botic Van De Zandschulp",
          "Alex De Minaur",
          "Mikael Ymer",
          "Francisco Cerundolo",
          "David Goffin",
          "Aslan Karatsev",
          "Cristian Garin",
          "Pedro Martinez",
          "Joao Sousa",
          "Federico Coria",
          "Jaume Munar",
          "Bernabe Zapata Miralles",
          "Diego Schwartzman"
         ],
         "xaxis":"x",
         "y":[
          7.099999904632568,
          16.5,
          18.799999237060547,
          29.299999237060547,
          13.300000190734863,
          21.399999618530273,
          12.199999809265137,
          20.799999237060547,
          21.899999618530273,
          22.100000381469727,
          12.800000190734863,
          30.600000381469727,
          15.600000381469727,
          17.200000762939453,
          23.100000381469727,
          31.399999618530273,
          22.600000381469727,
          14.800000190734863,
          21.200000762939453,
          23.200000762939453,
          23.700000762939453,
          25.399999618530273,
          22,
          12.5,
          20.299999237060547,
          18.799999237060547,
          17.200000762939453,
          27.700000762939453,
          20.399999618530273,
          20.899999618530273,
          25.100000381469727,
          27,
          17.899999618530273,
          21.100000381469727,
          25.399999618530273,
          21,
          24.399999618530273,
          24.5,
          23.899999618530273,
          23.700000762939453,
          18.799999237060547,
          18.200000762939453,
          23,
          25.299999237060547,
          17.5,
          17.600000381469727,
          24,
          19,
          23.100000381469727,
          20,
          21.100000381469727,
          22.799999237060547,
          27.700000762939453,
          23.200000762939453,
          21.100000381469727,
          24.5,
          29.399999618530273,
          29.299999237060547,
          26,
          25.899999618530273,
          20.399999618530273,
          24.200000762939453,
          21.899999618530273,
          19.799999237060547,
          28.299999237060547,
          25.399999618530273,
          31,
          27.700000762939453
         ],
         "yaxis":"y",
         "type":"scatter"
        }
       ],
       "layout":{
        "template":{
         "data":{
          "bar":[
           {
            "error_x":{
             "color":"#2a3f5f"
            },
            "error_y":{
             "color":"#2a3f5f"
            },
            "marker":{
             "line":{
              "color":"#E5ECF6",
              "width":0.5
             },
             "pattern":{
              "fillmode":"overlay",
              "size":10,
              "solidity":0.2
             }
            },
            "type":"bar"
           }
          ],
          "barpolar":[
           {
            "marker":{
             "line":{
              "color":"#E5ECF6",
              "width":0.5
             },
             "pattern":{
              "fillmode":"overlay",
              "size":10,
              "solidity":0.2
             }
            },
            "type":"barpolar"
           }
          ],
          "carpet":[
           {
            "aaxis":{
             "endlinecolor":"#2a3f5f",
             "gridcolor":"white",
             "linecolor":"white",
             "minorgridcolor":"white",
             "startlinecolor":"#2a3f5f"
            },
            "baxis":{
             "endlinecolor":"#2a3f5f",
             "gridcolor":"white",
             "linecolor":"white",
             "minorgridcolor":"white",
             "startlinecolor":"#2a3f5f"
            },
            "type":"carpet"
           }
          ],
          "choropleth":[
           {
            "colorbar":{
             "outlinewidth":0,
             "ticks":""
            },
            "type":"choropleth"
           }
          ],
          "contour":[
           {
            "colorbar":{
             "outlinewidth":0,
             "ticks":""
            },
            "colorscale":[
             [
              0,
              "#0d0887"
             ],
             [
              0.1111111111111111,
              "#46039f"
             ],
             [
              0.2222222222222222,
              "#7201a8"
             ],
             [
              0.3333333333333333,
              "#9c179e"
             ],
             [
              0.4444444444444444,
              "#bd3786"
             ],
             [
              0.5555555555555556,
              "#d8576b"
             ],
             [
              0.6666666666666666,
              "#ed7953"
             ],
             [
              0.7777777777777778,
              "#fb9f3a"
             ],
             [
              0.8888888888888888,
              "#fdca26"
             ],
             [
              1,
              "#f0f921"
             ]
            ],
            "type":"contour"
           }
          ],
          "contourcarpet":[
           {
            "colorbar":{
             "outlinewidth":0,
             "ticks":""
            },
            "type":"contourcarpet"
           }
          ],
          "heatmap":[
           {
            "colorbar":{
             "outlinewidth":0,
             "ticks":""
            },
            "colorscale":[
             [
              0,
              "#0d0887"
             ],
             [
              0.1111111111111111,
              "#46039f"
             ],
             [
              0.2222222222222222,
              "#7201a8"
             ],
             [
              0.3333333333333333,
              "#9c179e"
             ],
             [
              0.4444444444444444,
              "#bd3786"
             ],
             [
              0.5555555555555556,
              "#d8576b"
             ],
             [
              0.6666666666666666,
              "#ed7953"
             ],
             [
              0.7777777777777778,
              "#fb9f3a"
             ],
             [
              0.8888888888888888,
              "#fdca26"
             ],
             [
              1,
              "#f0f921"
             ]
            ],
            "type":"heatmap"
           }
          ],
          "heatmapgl":[
           {
            "colorbar":{
             "outlinewidth":0,
             "ticks":""
            },
            "colorscale":[
             [
              0,
              "#0d0887"
             ],
             [
              0.1111111111111111,
              "#46039f"
             ],
             [
              0.2222222222222222,
              "#7201a8"
             ],
             [
              0.3333333333333333,
              "#9c179e"
             ],
             [
              0.4444444444444444,
              "#bd3786"
             ],
             [
              0.5555555555555556,
              "#d8576b"
             ],
             [
              0.6666666666666666,
              "#ed7953"
             ],
             [
              0.7777777777777778,
              "#fb9f3a"
             ],
             [
              0.8888888888888888,
              "#fdca26"
             ],
             [
              1,
              "#f0f921"
             ]
            ],
            "type":"heatmapgl"
           }
          ],
          "histogram":[
           {
            "marker":{
             "pattern":{
              "fillmode":"overlay",
              "size":10,
              "solidity":0.2
             }
            },
            "type":"histogram"
           }
          ],
          "histogram2d":[
           {
            "colorbar":{
             "outlinewidth":0,
             "ticks":""
            },
            "colorscale":[
             [
              0,
              "#0d0887"
             ],
             [
              0.1111111111111111,
              "#46039f"
             ],
             [
              0.2222222222222222,
              "#7201a8"
             ],
             [
              0.3333333333333333,
              "#9c179e"
             ],
             [
              0.4444444444444444,
              "#bd3786"
             ],
             [
              0.5555555555555556,
              "#d8576b"
             ],
             [
              0.6666666666666666,
              "#ed7953"
             ],
             [
              0.7777777777777778,
              "#fb9f3a"
             ],
             [
              0.8888888888888888,
              "#fdca26"
             ],
             [
              1,
              "#f0f921"
             ]
            ],
            "type":"histogram2d"
           }
          ],
          "histogram2dcontour":[
           {
            "colorbar":{
             "outlinewidth":0,
             "ticks":""
            },
            "colorscale":[
             [
              0,
              "#0d0887"
             ],
             [
              0.1111111111111111,
              "#46039f"
             ],
             [
              0.2222222222222222,
              "#7201a8"
             ],
             [
              0.3333333333333333,
              "#9c179e"
             ],
             [
              0.4444444444444444,
              "#bd3786"
             ],
             [
              0.5555555555555556,
              "#d8576b"
             ],
             [
              0.6666666666666666,
              "#ed7953"
             ],
             [
              0.7777777777777778,
              "#fb9f3a"
             ],
             [
              0.8888888888888888,
              "#fdca26"
             ],
             [
              1,
              "#f0f921"
             ]
            ],
            "type":"histogram2dcontour"
           }
          ],
          "mesh3d":[
           {
            "colorbar":{
             "outlinewidth":0,
             "ticks":""
            },
            "type":"mesh3d"
           }
          ],
          "parcoords":[
           {
            "line":{
             "colorbar":{
              "outlinewidth":0,
              "ticks":""
             }
            },
            "type":"parcoords"
           }
          ],
          "pie":[
           {
            "automargin":true,
            "type":"pie"
           }
          ],
          "scatter":[
           {
            "marker":{
             "colorbar":{
              "outlinewidth":0,
              "ticks":""
             }
            },
            "type":"scatter"
           }
          ],
          "scatter3d":[
           {
            "line":{
             "colorbar":{
              "outlinewidth":0,
              "ticks":""
             }
            },
            "marker":{
             "colorbar":{
              "outlinewidth":0,
              "ticks":""
             }
            },
            "type":"scatter3d"
           }
          ],
          "scattercarpet":[
           {
            "marker":{
             "colorbar":{
              "outlinewidth":0,
              "ticks":""
             }
            },
            "type":"scattercarpet"
           }
          ],
          "scattergeo":[
           {
            "marker":{
             "colorbar":{
              "outlinewidth":0,
              "ticks":""
             }
            },
            "type":"scattergeo"
           }
          ],
          "scattergl":[
           {
            "marker":{
             "colorbar":{
              "outlinewidth":0,
              "ticks":""
             }
            },
            "type":"scattergl"
           }
          ],
          "scattermapbox":[
           {
            "marker":{
             "colorbar":{
              "outlinewidth":0,
              "ticks":""
             }
            },
            "type":"scattermapbox"
           }
          ],
          "scatterpolar":[
           {
            "marker":{
             "colorbar":{
              "outlinewidth":0,
              "ticks":""
             }
            },
            "type":"scatterpolar"
           }
          ],
          "scatterpolargl":[
           {
            "marker":{
             "colorbar":{
              "outlinewidth":0,
              "ticks":""
             }
            },
            "type":"scatterpolargl"
           }
          ],
          "scatterternary":[
           {
            "marker":{
             "colorbar":{
              "outlinewidth":0,
              "ticks":""
             }
            },
            "type":"scatterternary"
           }
          ],
          "surface":[
           {
            "colorbar":{
             "outlinewidth":0,
             "ticks":""
            },
            "colorscale":[
             [
              0,
              "#0d0887"
             ],
             [
              0.1111111111111111,
              "#46039f"
             ],
             [
              0.2222222222222222,
              "#7201a8"
             ],
             [
              0.3333333333333333,
              "#9c179e"
             ],
             [
              0.4444444444444444,
              "#bd3786"
             ],
             [
              0.5555555555555556,
              "#d8576b"
             ],
             [
              0.6666666666666666,
              "#ed7953"
             ],
             [
              0.7777777777777778,
              "#fb9f3a"
             ],
             [
              0.8888888888888888,
              "#fdca26"
             ],
             [
              1,
              "#f0f921"
             ]
            ],
            "type":"surface"
           }
          ],
          "table":[
           {
            "cells":{
             "fill":{
              "color":"#EBF0F8"
             },
             "line":{
              "color":"white"
             }
            },
            "header":{
             "fill":{
              "color":"#C8D4E3"
             },
             "line":{
              "color":"white"
             }
            },
            "type":"table"
           }
          ]
         },
         "layout":{
          "annotationdefaults":{
           "arrowcolor":"#2a3f5f",
           "arrowhead":0,
           "arrowwidth":1
          },
          "autotypenumbers":"strict",
          "coloraxis":{
           "colorbar":{
            "outlinewidth":0,
            "ticks":""
           }
          },
          "colorscale":{
           "diverging":[
            [
             0,
             "#8e0152"
            ],
            [
             0.1,
             "#c51b7d"
            ],
            [
             0.2,
             "#de77ae"
            ],
            [
             0.3,
             "#f1b6da"
            ],
            [
             0.4,
             "#fde0ef"
            ],
            [
             0.5,
             "#f7f7f7"
            ],
            [
             0.6,
             "#e6f5d0"
            ],
            [
             0.7,
             "#b8e186"
            ],
            [
             0.8,
             "#7fbc41"
            ],
            [
             0.9,
             "#4d9221"
            ],
            [
             1,
             "#276419"
            ]
           ],
           "sequential":[
            [
             0,
             "#0d0887"
            ],
            [
             0.1111111111111111,
             "#46039f"
            ],
            [
             0.2222222222222222,
             "#7201a8"
            ],
            [
             0.3333333333333333,
             "#9c179e"
            ],
            [
             0.4444444444444444,
             "#bd3786"
            ],
            [
             0.5555555555555556,
             "#d8576b"
            ],
            [
             0.6666666666666666,
             "#ed7953"
            ],
            [
             0.7777777777777778,
             "#fb9f3a"
            ],
            [
             0.8888888888888888,
             "#fdca26"
            ],
            [
             1,
             "#f0f921"
            ]
           ],
           "sequentialminus":[
            [
             0,
             "#0d0887"
            ],
            [
             0.1111111111111111,
             "#46039f"
            ],
            [
             0.2222222222222222,
             "#7201a8"
            ],
            [
             0.3333333333333333,
             "#9c179e"
            ],
            [
             0.4444444444444444,
             "#bd3786"
            ],
            [
             0.5555555555555556,
             "#d8576b"
            ],
            [
             0.6666666666666666,
             "#ed7953"
            ],
            [
             0.7777777777777778,
             "#fb9f3a"
            ],
            [
             0.8888888888888888,
             "#fdca26"
            ],
            [
             1,
             "#f0f921"
            ]
           ]
          },
          "colorway":[
           "#636efa",
           "#EF553B",
           "#00cc96",
           "#ab63fa",
           "#FFA15A",
           "#19d3f3",
           "#FF6692",
           "#B6E880",
           "#FF97FF",
           "#FECB52"
          ],
          "font":{
           "color":"#2a3f5f"
          },
          "geo":{
           "bgcolor":"white",
           "lakecolor":"white",
           "landcolor":"#E5ECF6",
           "showlakes":true,
           "showland":true,
           "subunitcolor":"white"
          },
          "hoverlabel":{
           "align":"left"
          },
          "hovermode":"closest",
          "mapbox":{
           "style":"light"
          },
          "paper_bgcolor":"white",
          "plot_bgcolor":"#E5ECF6",
          "polar":{
           "angularaxis":{
            "gridcolor":"white",
            "linecolor":"white",
            "ticks":""
           },
           "bgcolor":"#E5ECF6",
           "radialaxis":{
            "gridcolor":"white",
            "linecolor":"white",
            "ticks":""
           }
          },
          "scene":{
           "xaxis":{
            "backgroundcolor":"#E5ECF6",
            "gridcolor":"white",
            "gridwidth":2,
            "linecolor":"white",
            "showbackground":true,
            "ticks":"",
            "zerolinecolor":"white"
           },
           "yaxis":{
            "backgroundcolor":"#E5ECF6",
            "gridcolor":"white",
            "gridwidth":2,
            "linecolor":"white",
            "showbackground":true,
            "ticks":"",
            "zerolinecolor":"white"
           },
           "zaxis":{
            "backgroundcolor":"#E5ECF6",
            "gridcolor":"white",
            "gridwidth":2,
            "linecolor":"white",
            "showbackground":true,
            "ticks":"",
            "zerolinecolor":"white"
           }
          },
          "shapedefaults":{
           "line":{
            "color":"#2a3f5f"
           }
          },
          "ternary":{
           "aaxis":{
            "gridcolor":"white",
            "linecolor":"white",
            "ticks":""
           },
           "baxis":{
            "gridcolor":"white",
            "linecolor":"white",
            "ticks":""
           },
           "bgcolor":"#E5ECF6",
           "caxis":{
            "gridcolor":"white",
            "linecolor":"white",
            "ticks":""
           }
          },
          "title":{
           "x":0.05
          },
          "xaxis":{
           "automargin":true,
           "gridcolor":"white",
           "linecolor":"white",
           "ticks":"",
           "title":{
            "standoff":15
           },
           "zerolinecolor":"white",
           "zerolinewidth":2
          },
          "yaxis":{
           "automargin":true,
           "gridcolor":"white",
           "linecolor":"white",
           "ticks":"",
           "title":{
            "standoff":15
           },
           "zerolinecolor":"white",
           "zerolinewidth":2
          }
         }
        },
        "xaxis":{
         "anchor":"y",
         "domain":[
          0,
          1
         ],
         "title":{
          "text":"Player"
         }
        },
        "yaxis":{
         "anchor":"x",
         "domain":[
          0,
          1
         ],
         "title":{
          "text":"%Return Games Won"
         }
        },
        "legend":{
         "tracegroupgap":0
        },
        "title":{
         "text":"%Return Games Won"
        }
       },
       "config":{
        "plotlyServerURL":"https:\/\/plot.ly"
       }
      }
     },
     "metadata":{
      
     },
     "output_type":"display_data"
    }
   ],
   "metadata":{
    "datalore":{
     "node_id":"vgkiDD2w9KXsNCAgAQqwXk",
     "type":"CODE",
     "hide_input_from_viewers":false,
     "hide_output_from_viewers":false,
     "report_properties":{
      "rowId":"UiEtf8Z1gApg1yxLTf2vFz"
     }
    }
   }
  },
  {
   "cell_type":"code",
   "source":[
    "### vamos a establecer los cuartiles para ver que jugadores están por encima de la media.\n",
    "\n",
    "q1 = BestReturnGamesWon['%Return Games Won'].quantile(0.25)\n",
    "q3 = BestReturnGamesWon['%Return Games Won'].quantile(0.75)\n",
    "iqr = q3 - q1 #Interquartile range\n",
    "fence_low  = q1-1.5*iqr #lower fence. Esto es para ver los valores que están por debajo del primer cuartil.\n",
    "fence_high = q3+1.5*iqr #upper fence. Esto es para ver los valores que están por encima del tercer cuartil.\n",
    "\n",
    "print('q1: ', q1)\n",
    "print('q3: ', q3)\n",
    "print('iqr: ', iqr)\n",
    "print('fence_low: ', fence_low)\n",
    "print('fence_high: ', fence_high)"
   ],
   "execution_count":64,
   "outputs":[
    {
     "name":"stdout",
     "text":[
      "q1:  18.949999809265137\n",
      "q3:  25.15000009536743\n",
      "iqr:  6.200000286102295\n",
      "fence_low:  9.649999380111694\n",
      "fence_high:  34.450000524520874\n"
     ],
     "output_type":"stream"
    }
   ],
   "metadata":{
    "datalore":{
     "node_id":"LQYXYA8Xj8nHobLqeatU2x",
     "type":"CODE",
     "hide_input_from_viewers":false,
     "hide_output_from_viewers":false,
     "report_properties":{
      "rowId":"aHNh7n6EdPD47dIEEt9ayV"
     }
    }
   }
  },
  {
   "cell_type":"code",
   "source":[
    "### Vamos a ver los jugadores que están por encima de la media.\n",
    "\n",
    "BestReturnGamesWon = BestReturnGamesWon[BestReturnGamesWon['%Return Games Won'] > q3]\n",
    "BestReturnGamesWon"
   ],
   "execution_count":65,
   "outputs":[
    {
     "data":{
      "text\/html":[
       "<div>\n",
       "<style scoped>\n",
       "    .dataframe tbody tr th:only-of-type {\n",
       "        vertical-align: middle;\n",
       "    }\n",
       "\n",
       "    .dataframe tbody tr th {\n",
       "        vertical-align: top;\n",
       "    }\n",
       "\n",
       "    .dataframe thead th {\n",
       "        text-align: right;\n",
       "    }\n",
       "<\/style>\n",
       "<table border=\"1\" class=\"dataframe\">\n",
       "  <thead>\n",
       "    <tr style=\"text-align: right;\">\n",
       "      <th><\/th>\n",
       "      <th>Player<\/th>\n",
       "      <th>%Return Games Won<\/th>\n",
       "    <\/tr>\n",
       "  <\/thead>\n",
       "  <tbody>\n",
       "    <tr>\n",
       "      <th>3<\/th>\n",
       "      <td>Novak Djokovic<\/td>\n",
       "      <td>29.299999<\/td>\n",
       "    <\/tr>\n",
       "    <tr>\n",
       "      <th>11<\/th>\n",
       "      <td>Daniil Medvedev<\/td>\n",
       "      <td>30.600000<\/td>\n",
       "    <\/tr>\n",
       "    <tr>\n",
       "      <th>15<\/th>\n",
       "      <td>Carlos Alcaraz<\/td>\n",
       "      <td>31.400000<\/td>\n",
       "    <\/tr>\n",
       "    <tr>\n",
       "      <th>21<\/th>\n",
       "      <td>Jack Draper<\/td>\n",
       "      <td>25.400000<\/td>\n",
       "    <\/tr>\n",
       "    <tr>\n",
       "      <th>27<\/th>\n",
       "      <td>Jannik Sinner<\/td>\n",
       "      <td>27.700001<\/td>\n",
       "    <\/tr>\n",
       "    <tr>\n",
       "      <th>31<\/th>\n",
       "      <td>Cameron Norrie<\/td>\n",
       "      <td>27.000000<\/td>\n",
       "    <\/tr>\n",
       "    <tr>\n",
       "      <th>34<\/th>\n",
       "      <td>Lorenzo Musetti<\/td>\n",
       "      <td>25.400000<\/td>\n",
       "    <\/tr>\n",
       "    <tr>\n",
       "      <th>43<\/th>\n",
       "      <td>Mackenzie Mcdonald<\/td>\n",
       "      <td>25.299999<\/td>\n",
       "    <\/tr>\n",
       "    <tr>\n",
       "      <th>52<\/th>\n",
       "      <td>Alejandro Davidovich Fokina<\/td>\n",
       "      <td>27.700001<\/td>\n",
       "    <\/tr>\n",
       "    <tr>\n",
       "      <th>56<\/th>\n",
       "      <td>Alex De Minaur<\/td>\n",
       "      <td>29.400000<\/td>\n",
       "    <\/tr>\n",
       "    <tr>\n",
       "      <th>57<\/th>\n",
       "      <td>Mikael Ymer<\/td>\n",
       "      <td>29.299999<\/td>\n",
       "    <\/tr>\n",
       "    <tr>\n",
       "      <th>58<\/th>\n",
       "      <td>Francisco Cerundolo<\/td>\n",
       "      <td>26.000000<\/td>\n",
       "    <\/tr>\n",
       "    <tr>\n",
       "      <th>59<\/th>\n",
       "      <td>David Goffin<\/td>\n",
       "      <td>25.900000<\/td>\n",
       "    <\/tr>\n",
       "    <tr>\n",
       "      <th>64<\/th>\n",
       "      <td>Federico Coria<\/td>\n",
       "      <td>28.299999<\/td>\n",
       "    <\/tr>\n",
       "    <tr>\n",
       "      <th>65<\/th>\n",
       "      <td>Jaume Munar<\/td>\n",
       "      <td>25.400000<\/td>\n",
       "    <\/tr>\n",
       "    <tr>\n",
       "      <th>66<\/th>\n",
       "      <td>Bernabe Zapata Miralles<\/td>\n",
       "      <td>31.000000<\/td>\n",
       "    <\/tr>\n",
       "    <tr>\n",
       "      <th>67<\/th>\n",
       "      <td>Diego Schwartzman<\/td>\n",
       "      <td>27.700001<\/td>\n",
       "    <\/tr>\n",
       "  <\/tbody>\n",
       "<\/table>\n",
       "<\/div>"
      ]
     },
     "metadata":{
      
     },
     "output_type":"display_data"
    }
   ],
   "metadata":{
    "datalore":{
     "node_id":"hVFu6KJR1XYgjjK7UUjymj",
     "type":"CODE",
     "hide_input_from_viewers":false,
     "hide_output_from_viewers":false,
     "report_properties":{
      "rowId":"FOXXK64zfEinMU7dEHXqoJ"
     }
    }
   }
  },
  {
   "cell_type":"code",
   "source":[
    "### Vamos a comenzar analizando la columna %TieBreaks por cada Player.\n",
    "\n",
    "BestTieBreaks = df[['Player', '%TieBreaks Won']]\n",
    "BestTieBreaks.head()"
   ],
   "execution_count":66,
   "outputs":[
    {
     "data":{
      "text\/html":[
       "<div>\n",
       "<style scoped>\n",
       "    .dataframe tbody tr th:only-of-type {\n",
       "        vertical-align: middle;\n",
       "    }\n",
       "\n",
       "    .dataframe tbody tr th {\n",
       "        vertical-align: top;\n",
       "    }\n",
       "\n",
       "    .dataframe thead th {\n",
       "        text-align: right;\n",
       "    }\n",
       "<\/style>\n",
       "<table border=\"1\" class=\"dataframe\">\n",
       "  <thead>\n",
       "    <tr style=\"text-align: right;\">\n",
       "      <th><\/th>\n",
       "      <th>Player<\/th>\n",
       "      <th>%TieBreaks Won<\/th>\n",
       "    <\/tr>\n",
       "  <\/thead>\n",
       "  <tbody>\n",
       "    <tr>\n",
       "      <th>0<\/th>\n",
       "      <td>John Isner<\/td>\n",
       "      <td>71.099998<\/td>\n",
       "    <\/tr>\n",
       "    <tr>\n",
       "      <th>1<\/th>\n",
       "      <td>Hubert Hurkacz<\/td>\n",
       "      <td>54.700001<\/td>\n",
       "    <\/tr>\n",
       "    <tr>\n",
       "      <th>2<\/th>\n",
       "      <td>Matteo Berrettini<\/td>\n",
       "      <td>50.000000<\/td>\n",
       "    <\/tr>\n",
       "    <tr>\n",
       "      <th>3<\/th>\n",
       "      <td>Novak Djokovic<\/td>\n",
       "      <td>80.000000<\/td>\n",
       "    <\/tr>\n",
       "    <tr>\n",
       "      <th>4<\/th>\n",
       "      <td>Ben Shelton<\/td>\n",
       "      <td>56.299999<\/td>\n",
       "    <\/tr>\n",
       "  <\/tbody>\n",
       "<\/table>\n",
       "<\/div>"
      ]
     },
     "metadata":{
      
     },
     "output_type":"display_data"
    }
   ],
   "metadata":{
    "datalore":{
     "node_id":"GF47wWxqZS8QBlVbSivTRY",
     "type":"CODE",
     "hide_input_from_viewers":false,
     "hide_output_from_viewers":false,
     "report_properties":{
      "rowId":"q5tPsnNAdoOuxf196Ka2BF"
     }
    }
   }
  },
  {
   "cell_type":"code",
   "source":[
    "### Vamos a ver la distribución de los datos.\n",
    "\n",
    "BestTieBreaks.describe()"
   ],
   "execution_count":67,
   "outputs":[
    {
     "data":{
      "text\/html":[
       "<div>\n",
       "<style scoped>\n",
       "    .dataframe tbody tr th:only-of-type {\n",
       "        vertical-align: middle;\n",
       "    }\n",
       "\n",
       "    .dataframe tbody tr th {\n",
       "        vertical-align: top;\n",
       "    }\n",
       "\n",
       "    .dataframe thead th {\n",
       "        text-align: right;\n",
       "    }\n",
       "<\/style>\n",
       "<table border=\"1\" class=\"dataframe\">\n",
       "  <thead>\n",
       "    <tr style=\"text-align: right;\">\n",
       "      <th><\/th>\n",
       "      <th>%TieBreaks Won<\/th>\n",
       "    <\/tr>\n",
       "  <\/thead>\n",
       "  <tbody>\n",
       "    <tr>\n",
       "      <th>count<\/th>\n",
       "      <td>68.000000<\/td>\n",
       "    <\/tr>\n",
       "    <tr>\n",
       "      <th>mean<\/th>\n",
       "      <td>50.148529<\/td>\n",
       "    <\/tr>\n",
       "    <tr>\n",
       "      <th>std<\/th>\n",
       "      <td>13.331026<\/td>\n",
       "    <\/tr>\n",
       "    <tr>\n",
       "      <th>min<\/th>\n",
       "      <td>10.000000<\/td>\n",
       "    <\/tr>\n",
       "    <tr>\n",
       "      <th>25%<\/th>\n",
       "      <td>42.700001<\/td>\n",
       "    <\/tr>\n",
       "    <tr>\n",
       "      <th>50%<\/th>\n",
       "      <td>51.950001<\/td>\n",
       "    <\/tr>\n",
       "    <tr>\n",
       "      <th>75%<\/th>\n",
       "      <td>58.349999<\/td>\n",
       "    <\/tr>\n",
       "    <tr>\n",
       "      <th>max<\/th>\n",
       "      <td>80.000000<\/td>\n",
       "    <\/tr>\n",
       "  <\/tbody>\n",
       "<\/table>\n",
       "<\/div>"
      ]
     },
     "metadata":{
      
     },
     "output_type":"display_data"
    }
   ],
   "metadata":{
    "datalore":{
     "node_id":"dIuc1LXmQIHFZRD1MLk8nU",
     "type":"CODE",
     "hide_input_from_viewers":false,
     "hide_output_from_viewers":false,
     "report_properties":{
      "rowId":"itcOiiR0ErMWVvkQBTz1qu"
     }
    }
   }
  },
  {
   "cell_type":"code",
   "source":[
    "### Vamos a ver la distribución de los datos con plotly con forma de linea.\n",
    "\n",
    "fig = px.line(BestTieBreaks, x='Player', y='%TieBreaks Won', title='%TieBreaks Won')\n",
    "fig.show()"
   ],
   "execution_count":68,
   "outputs":[
    {
     "data":{
      "application\/vnd.plotly.v1+json":{
       "data":[
        {
         "hovertemplate":"Player=%{x}<br>%TieBreaks Won=%{y}<extra><\/extra>",
         "legendgroup":"",
         "line":{
          "color":"#636efa",
          "dash":"solid"
         },
         "marker":{
          "symbol":"circle"
         },
         "mode":"lines",
         "name":"",
         "orientation":"v",
         "showlegend":false,
         "x":[
          "John Isner",
          "Hubert Hurkacz",
          "Matteo Berrettini",
          "Novak Djokovic",
          "Ben Shelton",
          "Stefanos Tsitsipas",
          "Maxime Cressy",
          "Felix Auger-Aliassime",
          "Taylor Fritz",
          "Casper Ruud",
          "Marc-Andrea Huesler",
          "Daniil Medvedev",
          "Borna Coric",
          "Lorenzo Sonego",
          "Holger Rune",
          "Carlos Alcaraz",
          "Alexander Zverev",
          "Tallon Griekspoor",
          "Andrey Rublev",
          "Grigor Dimitrov",
          "Roberto Bautista Agut",
          "Jack Draper",
          "Karen Khachanov",
          "Arthur Rinderknech",
          "Frances Tiafoe",
          "Benjamin Bonzi",
          "Stan Wawrinka",
          "Jannik Sinner",
          "Adrian Mannarino",
          "Denis Shapovalov",
          "Sebastian Korda",
          "Cameron Norrie",
          "Oscar Otte",
          "J.J. Wolf",
          "Lorenzo Musetti",
          "Laslo Djere",
          "Sebastian Baez",
          "Yoshihito Nishioka",
          "Tommy Paul",
          "Andy Murray",
          "Jiri Lehecka",
          "Alexander Bublik",
          "Miomir Kecmanovic",
          "Mackenzie Mcdonald",
          "Dominic Thiem",
          "Marcos Giron",
          "Daniel Evans",
          "Filip Krajinovic",
          "Emil Ruusuvuori",
          "Soonwoo Kwon",
          "Albert Ramos-Vinolas",
          "Richard Gasquet",
          "Alejandro Davidovich Fokina",
          "Alex Molcan",
          "Dusan Lajovic",
          "Botic Van De Zandschulp",
          "Alex De Minaur",
          "Mikael Ymer",
          "Francisco Cerundolo",
          "David Goffin",
          "Aslan Karatsev",
          "Cristian Garin",
          "Pedro Martinez",
          "Joao Sousa",
          "Federico Coria",
          "Jaume Munar",
          "Bernabe Zapata Miralles",
          "Diego Schwartzman"
         ],
         "xaxis":"x",
         "y":[
          71.0999984741211,
          54.70000076293945,
          50,
          80,
          56.29999923706055,
          56.79999923706055,
          35.70000076293945,
          52.400001525878906,
          58.5,
          61,
          55.599998474121094,
          56,
          66.69999694824219,
          50,
          63.599998474121094,
          55.900001525878906,
          78.5999984741211,
          57.70000076293945,
          61.5,
          42.900001525878906,
          44,
          45,
          50,
          38.900001525878906,
          66.69999694824219,
          44.79999923706055,
          42.900001525878906,
          68.19999694824219,
          50,
          45.79999923706055,
          60.70000076293945,
          61.5,
          52,
          53.79999923706055,
          44.79999923706055,
          29.600000381469727,
          20,
          52.400001525878906,
          51.900001525878906,
          61.900001525878906,
          56.5,
          40.900001525878906,
          52.400001525878906,
          40.900001525878906,
          68.19999694824219,
          42.099998474121094,
          40,
          50,
          61.099998474121094,
          58.29999923706055,
          35,
          50,
          36.79999923706055,
          58.79999923706055,
          58.29999923706055,
          68.19999694824219,
          52.599998474121094,
          30.799999237060547,
          57.099998474121094,
          44.400001525878906,
          44.400001525878906,
          45.5,
          38.900001525878906,
          26.700000762939453,
          22.200000762939453,
          33.29999923706055,
          10,
          36.79999923706055
         ],
         "yaxis":"y",
         "type":"scatter"
        }
       ],
       "layout":{
        "template":{
         "data":{
          "bar":[
           {
            "error_x":{
             "color":"#2a3f5f"
            },
            "error_y":{
             "color":"#2a3f5f"
            },
            "marker":{
             "line":{
              "color":"#E5ECF6",
              "width":0.5
             },
             "pattern":{
              "fillmode":"overlay",
              "size":10,
              "solidity":0.2
             }
            },
            "type":"bar"
           }
          ],
          "barpolar":[
           {
            "marker":{
             "line":{
              "color":"#E5ECF6",
              "width":0.5
             },
             "pattern":{
              "fillmode":"overlay",
              "size":10,
              "solidity":0.2
             }
            },
            "type":"barpolar"
           }
          ],
          "carpet":[
           {
            "aaxis":{
             "endlinecolor":"#2a3f5f",
             "gridcolor":"white",
             "linecolor":"white",
             "minorgridcolor":"white",
             "startlinecolor":"#2a3f5f"
            },
            "baxis":{
             "endlinecolor":"#2a3f5f",
             "gridcolor":"white",
             "linecolor":"white",
             "minorgridcolor":"white",
             "startlinecolor":"#2a3f5f"
            },
            "type":"carpet"
           }
          ],
          "choropleth":[
           {
            "colorbar":{
             "outlinewidth":0,
             "ticks":""
            },
            "type":"choropleth"
           }
          ],
          "contour":[
           {
            "colorbar":{
             "outlinewidth":0,
             "ticks":""
            },
            "colorscale":[
             [
              0,
              "#0d0887"
             ],
             [
              0.1111111111111111,
              "#46039f"
             ],
             [
              0.2222222222222222,
              "#7201a8"
             ],
             [
              0.3333333333333333,
              "#9c179e"
             ],
             [
              0.4444444444444444,
              "#bd3786"
             ],
             [
              0.5555555555555556,
              "#d8576b"
             ],
             [
              0.6666666666666666,
              "#ed7953"
             ],
             [
              0.7777777777777778,
              "#fb9f3a"
             ],
             [
              0.8888888888888888,
              "#fdca26"
             ],
             [
              1,
              "#f0f921"
             ]
            ],
            "type":"contour"
           }
          ],
          "contourcarpet":[
           {
            "colorbar":{
             "outlinewidth":0,
             "ticks":""
            },
            "type":"contourcarpet"
           }
          ],
          "heatmap":[
           {
            "colorbar":{
             "outlinewidth":0,
             "ticks":""
            },
            "colorscale":[
             [
              0,
              "#0d0887"
             ],
             [
              0.1111111111111111,
              "#46039f"
             ],
             [
              0.2222222222222222,
              "#7201a8"
             ],
             [
              0.3333333333333333,
              "#9c179e"
             ],
             [
              0.4444444444444444,
              "#bd3786"
             ],
             [
              0.5555555555555556,
              "#d8576b"
             ],
             [
              0.6666666666666666,
              "#ed7953"
             ],
             [
              0.7777777777777778,
              "#fb9f3a"
             ],
             [
              0.8888888888888888,
              "#fdca26"
             ],
             [
              1,
              "#f0f921"
             ]
            ],
            "type":"heatmap"
           }
          ],
          "heatmapgl":[
           {
            "colorbar":{
             "outlinewidth":0,
             "ticks":""
            },
            "colorscale":[
             [
              0,
              "#0d0887"
             ],
             [
              0.1111111111111111,
              "#46039f"
             ],
             [
              0.2222222222222222,
              "#7201a8"
             ],
             [
              0.3333333333333333,
              "#9c179e"
             ],
             [
              0.4444444444444444,
              "#bd3786"
             ],
             [
              0.5555555555555556,
              "#d8576b"
             ],
             [
              0.6666666666666666,
              "#ed7953"
             ],
             [
              0.7777777777777778,
              "#fb9f3a"
             ],
             [
              0.8888888888888888,
              "#fdca26"
             ],
             [
              1,
              "#f0f921"
             ]
            ],
            "type":"heatmapgl"
           }
          ],
          "histogram":[
           {
            "marker":{
             "pattern":{
              "fillmode":"overlay",
              "size":10,
              "solidity":0.2
             }
            },
            "type":"histogram"
           }
          ],
          "histogram2d":[
           {
            "colorbar":{
             "outlinewidth":0,
             "ticks":""
            },
            "colorscale":[
             [
              0,
              "#0d0887"
             ],
             [
              0.1111111111111111,
              "#46039f"
             ],
             [
              0.2222222222222222,
              "#7201a8"
             ],
             [
              0.3333333333333333,
              "#9c179e"
             ],
             [
              0.4444444444444444,
              "#bd3786"
             ],
             [
              0.5555555555555556,
              "#d8576b"
             ],
             [
              0.6666666666666666,
              "#ed7953"
             ],
             [
              0.7777777777777778,
              "#fb9f3a"
             ],
             [
              0.8888888888888888,
              "#fdca26"
             ],
             [
              1,
              "#f0f921"
             ]
            ],
            "type":"histogram2d"
           }
          ],
          "histogram2dcontour":[
           {
            "colorbar":{
             "outlinewidth":0,
             "ticks":""
            },
            "colorscale":[
             [
              0,
              "#0d0887"
             ],
             [
              0.1111111111111111,
              "#46039f"
             ],
             [
              0.2222222222222222,
              "#7201a8"
             ],
             [
              0.3333333333333333,
              "#9c179e"
             ],
             [
              0.4444444444444444,
              "#bd3786"
             ],
             [
              0.5555555555555556,
              "#d8576b"
             ],
             [
              0.6666666666666666,
              "#ed7953"
             ],
             [
              0.7777777777777778,
              "#fb9f3a"
             ],
             [
              0.8888888888888888,
              "#fdca26"
             ],
             [
              1,
              "#f0f921"
             ]
            ],
            "type":"histogram2dcontour"
           }
          ],
          "mesh3d":[
           {
            "colorbar":{
             "outlinewidth":0,
             "ticks":""
            },
            "type":"mesh3d"
           }
          ],
          "parcoords":[
           {
            "line":{
             "colorbar":{
              "outlinewidth":0,
              "ticks":""
             }
            },
            "type":"parcoords"
           }
          ],
          "pie":[
           {
            "automargin":true,
            "type":"pie"
           }
          ],
          "scatter":[
           {
            "marker":{
             "colorbar":{
              "outlinewidth":0,
              "ticks":""
             }
            },
            "type":"scatter"
           }
          ],
          "scatter3d":[
           {
            "line":{
             "colorbar":{
              "outlinewidth":0,
              "ticks":""
             }
            },
            "marker":{
             "colorbar":{
              "outlinewidth":0,
              "ticks":""
             }
            },
            "type":"scatter3d"
           }
          ],
          "scattercarpet":[
           {
            "marker":{
             "colorbar":{
              "outlinewidth":0,
              "ticks":""
             }
            },
            "type":"scattercarpet"
           }
          ],
          "scattergeo":[
           {
            "marker":{
             "colorbar":{
              "outlinewidth":0,
              "ticks":""
             }
            },
            "type":"scattergeo"
           }
          ],
          "scattergl":[
           {
            "marker":{
             "colorbar":{
              "outlinewidth":0,
              "ticks":""
             }
            },
            "type":"scattergl"
           }
          ],
          "scattermapbox":[
           {
            "marker":{
             "colorbar":{
              "outlinewidth":0,
              "ticks":""
             }
            },
            "type":"scattermapbox"
           }
          ],
          "scatterpolar":[
           {
            "marker":{
             "colorbar":{
              "outlinewidth":0,
              "ticks":""
             }
            },
            "type":"scatterpolar"
           }
          ],
          "scatterpolargl":[
           {
            "marker":{
             "colorbar":{
              "outlinewidth":0,
              "ticks":""
             }
            },
            "type":"scatterpolargl"
           }
          ],
          "scatterternary":[
           {
            "marker":{
             "colorbar":{
              "outlinewidth":0,
              "ticks":""
             }
            },
            "type":"scatterternary"
           }
          ],
          "surface":[
           {
            "colorbar":{
             "outlinewidth":0,
             "ticks":""
            },
            "colorscale":[
             [
              0,
              "#0d0887"
             ],
             [
              0.1111111111111111,
              "#46039f"
             ],
             [
              0.2222222222222222,
              "#7201a8"
             ],
             [
              0.3333333333333333,
              "#9c179e"
             ],
             [
              0.4444444444444444,
              "#bd3786"
             ],
             [
              0.5555555555555556,
              "#d8576b"
             ],
             [
              0.6666666666666666,
              "#ed7953"
             ],
             [
              0.7777777777777778,
              "#fb9f3a"
             ],
             [
              0.8888888888888888,
              "#fdca26"
             ],
             [
              1,
              "#f0f921"
             ]
            ],
            "type":"surface"
           }
          ],
          "table":[
           {
            "cells":{
             "fill":{
              "color":"#EBF0F8"
             },
             "line":{
              "color":"white"
             }
            },
            "header":{
             "fill":{
              "color":"#C8D4E3"
             },
             "line":{
              "color":"white"
             }
            },
            "type":"table"
           }
          ]
         },
         "layout":{
          "annotationdefaults":{
           "arrowcolor":"#2a3f5f",
           "arrowhead":0,
           "arrowwidth":1
          },
          "autotypenumbers":"strict",
          "coloraxis":{
           "colorbar":{
            "outlinewidth":0,
            "ticks":""
           }
          },
          "colorscale":{
           "diverging":[
            [
             0,
             "#8e0152"
            ],
            [
             0.1,
             "#c51b7d"
            ],
            [
             0.2,
             "#de77ae"
            ],
            [
             0.3,
             "#f1b6da"
            ],
            [
             0.4,
             "#fde0ef"
            ],
            [
             0.5,
             "#f7f7f7"
            ],
            [
             0.6,
             "#e6f5d0"
            ],
            [
             0.7,
             "#b8e186"
            ],
            [
             0.8,
             "#7fbc41"
            ],
            [
             0.9,
             "#4d9221"
            ],
            [
             1,
             "#276419"
            ]
           ],
           "sequential":[
            [
             0,
             "#0d0887"
            ],
            [
             0.1111111111111111,
             "#46039f"
            ],
            [
             0.2222222222222222,
             "#7201a8"
            ],
            [
             0.3333333333333333,
             "#9c179e"
            ],
            [
             0.4444444444444444,
             "#bd3786"
            ],
            [
             0.5555555555555556,
             "#d8576b"
            ],
            [
             0.6666666666666666,
             "#ed7953"
            ],
            [
             0.7777777777777778,
             "#fb9f3a"
            ],
            [
             0.8888888888888888,
             "#fdca26"
            ],
            [
             1,
             "#f0f921"
            ]
           ],
           "sequentialminus":[
            [
             0,
             "#0d0887"
            ],
            [
             0.1111111111111111,
             "#46039f"
            ],
            [
             0.2222222222222222,
             "#7201a8"
            ],
            [
             0.3333333333333333,
             "#9c179e"
            ],
            [
             0.4444444444444444,
             "#bd3786"
            ],
            [
             0.5555555555555556,
             "#d8576b"
            ],
            [
             0.6666666666666666,
             "#ed7953"
            ],
            [
             0.7777777777777778,
             "#fb9f3a"
            ],
            [
             0.8888888888888888,
             "#fdca26"
            ],
            [
             1,
             "#f0f921"
            ]
           ]
          },
          "colorway":[
           "#636efa",
           "#EF553B",
           "#00cc96",
           "#ab63fa",
           "#FFA15A",
           "#19d3f3",
           "#FF6692",
           "#B6E880",
           "#FF97FF",
           "#FECB52"
          ],
          "font":{
           "color":"#2a3f5f"
          },
          "geo":{
           "bgcolor":"white",
           "lakecolor":"white",
           "landcolor":"#E5ECF6",
           "showlakes":true,
           "showland":true,
           "subunitcolor":"white"
          },
          "hoverlabel":{
           "align":"left"
          },
          "hovermode":"closest",
          "mapbox":{
           "style":"light"
          },
          "paper_bgcolor":"white",
          "plot_bgcolor":"#E5ECF6",
          "polar":{
           "angularaxis":{
            "gridcolor":"white",
            "linecolor":"white",
            "ticks":""
           },
           "bgcolor":"#E5ECF6",
           "radialaxis":{
            "gridcolor":"white",
            "linecolor":"white",
            "ticks":""
           }
          },
          "scene":{
           "xaxis":{
            "backgroundcolor":"#E5ECF6",
            "gridcolor":"white",
            "gridwidth":2,
            "linecolor":"white",
            "showbackground":true,
            "ticks":"",
            "zerolinecolor":"white"
           },
           "yaxis":{
            "backgroundcolor":"#E5ECF6",
            "gridcolor":"white",
            "gridwidth":2,
            "linecolor":"white",
            "showbackground":true,
            "ticks":"",
            "zerolinecolor":"white"
           },
           "zaxis":{
            "backgroundcolor":"#E5ECF6",
            "gridcolor":"white",
            "gridwidth":2,
            "linecolor":"white",
            "showbackground":true,
            "ticks":"",
            "zerolinecolor":"white"
           }
          },
          "shapedefaults":{
           "line":{
            "color":"#2a3f5f"
           }
          },
          "ternary":{
           "aaxis":{
            "gridcolor":"white",
            "linecolor":"white",
            "ticks":""
           },
           "baxis":{
            "gridcolor":"white",
            "linecolor":"white",
            "ticks":""
           },
           "bgcolor":"#E5ECF6",
           "caxis":{
            "gridcolor":"white",
            "linecolor":"white",
            "ticks":""
           }
          },
          "title":{
           "x":0.05
          },
          "xaxis":{
           "automargin":true,
           "gridcolor":"white",
           "linecolor":"white",
           "ticks":"",
           "title":{
            "standoff":15
           },
           "zerolinecolor":"white",
           "zerolinewidth":2
          },
          "yaxis":{
           "automargin":true,
           "gridcolor":"white",
           "linecolor":"white",
           "ticks":"",
           "title":{
            "standoff":15
           },
           "zerolinecolor":"white",
           "zerolinewidth":2
          }
         }
        },
        "xaxis":{
         "anchor":"y",
         "domain":[
          0,
          1
         ],
         "title":{
          "text":"Player"
         }
        },
        "yaxis":{
         "anchor":"x",
         "domain":[
          0,
          1
         ],
         "title":{
          "text":"%TieBreaks Won"
         }
        },
        "legend":{
         "tracegroupgap":0
        },
        "title":{
         "text":"%TieBreaks Won"
        }
       },
       "config":{
        "plotlyServerURL":"https:\/\/plot.ly"
       }
      }
     },
     "metadata":{
      
     },
     "output_type":"display_data"
    }
   ],
   "metadata":{
    "datalore":{
     "node_id":"w2X8lug0AXLc3AJXjR1hZ6",
     "type":"CODE",
     "hide_input_from_viewers":false,
     "hide_output_from_viewers":false,
     "report_properties":{
      "rowId":"spAU1i0zXlfmNK8s1cWXln"
     }
    }
   }
  },
  {
   "cell_type":"code",
   "source":[
    "### vamos a establecer los cuartiles para ver que jugadores están por encima de la media.\n",
    "\n",
    "q1 = BestTieBreaks['%TieBreaks Won'].quantile(0.25)\n",
    "q3 = BestTieBreaks['%TieBreaks Won'].quantile(0.75)\n",
    "iqr = q3 - q1 #Interquartile range\n",
    "fence_low  = q1-1.5*iqr #lower fence. Esto es para ver los valores que están por debajo del primer cuartil.\n",
    "fence_high = q3+1.5*iqr #upper fence. Esto es para ver los valores que están por encima del tercer cuartil.\n",
    "\n",
    "print('q1: ', q1)\n",
    "print('q3: ', q3)\n",
    "print('iqr: ', iqr)\n",
    "print('fence_low: ', fence_low)\n",
    "print('fence_high: ', fence_high)"
   ],
   "execution_count":69,
   "outputs":[
    {
     "name":"stdout",
     "text":[
      "q1:  42.70000076293945\n",
      "q3:  58.34999942779541\n",
      "iqr:  15.649998664855957\n",
      "fence_low:  19.225002765655518\n",
      "fence_high:  81.82499742507935\n"
     ],
     "output_type":"stream"
    }
   ],
   "metadata":{
    "datalore":{
     "node_id":"jLKJLaaXp5cUdyFIdKijjp",
     "type":"CODE",
     "hide_input_from_viewers":false,
     "hide_output_from_viewers":false,
     "report_properties":{
      "rowId":"oMooZ8UfhP1rlAA6rraJOr"
     }
    }
   }
  },
  {
   "cell_type":"code",
   "source":[
    "### Vamos a ver los jugadores que están por encima de la media.\n",
    "\n",
    "BestTieBreaks = BestTieBreaks[BestTieBreaks['%TieBreaks Won'] > q3]\n",
    "BestTieBreaks"
   ],
   "execution_count":70,
   "outputs":[
    {
     "data":{
      "text\/html":[
       "<div>\n",
       "<style scoped>\n",
       "    .dataframe tbody tr th:only-of-type {\n",
       "        vertical-align: middle;\n",
       "    }\n",
       "\n",
       "    .dataframe tbody tr th {\n",
       "        vertical-align: top;\n",
       "    }\n",
       "\n",
       "    .dataframe thead th {\n",
       "        text-align: right;\n",
       "    }\n",
       "<\/style>\n",
       "<table border=\"1\" class=\"dataframe\">\n",
       "  <thead>\n",
       "    <tr style=\"text-align: right;\">\n",
       "      <th><\/th>\n",
       "      <th>Player<\/th>\n",
       "      <th>%TieBreaks Won<\/th>\n",
       "    <\/tr>\n",
       "  <\/thead>\n",
       "  <tbody>\n",
       "    <tr>\n",
       "      <th>0<\/th>\n",
       "      <td>John Isner<\/td>\n",
       "      <td>71.099998<\/td>\n",
       "    <\/tr>\n",
       "    <tr>\n",
       "      <th>3<\/th>\n",
       "      <td>Novak Djokovic<\/td>\n",
       "      <td>80.000000<\/td>\n",
       "    <\/tr>\n",
       "    <tr>\n",
       "      <th>8<\/th>\n",
       "      <td>Taylor Fritz<\/td>\n",
       "      <td>58.500000<\/td>\n",
       "    <\/tr>\n",
       "    <tr>\n",
       "      <th>9<\/th>\n",
       "      <td>Casper Ruud<\/td>\n",
       "      <td>61.000000<\/td>\n",
       "    <\/tr>\n",
       "    <tr>\n",
       "      <th>12<\/th>\n",
       "      <td>Borna Coric<\/td>\n",
       "      <td>66.699997<\/td>\n",
       "    <\/tr>\n",
       "    <tr>\n",
       "      <th>14<\/th>\n",
       "      <td>Holger Rune<\/td>\n",
       "      <td>63.599998<\/td>\n",
       "    <\/tr>\n",
       "    <tr>\n",
       "      <th>16<\/th>\n",
       "      <td>Alexander Zverev<\/td>\n",
       "      <td>78.599998<\/td>\n",
       "    <\/tr>\n",
       "    <tr>\n",
       "      <th>18<\/th>\n",
       "      <td>Andrey Rublev<\/td>\n",
       "      <td>61.500000<\/td>\n",
       "    <\/tr>\n",
       "    <tr>\n",
       "      <th>24<\/th>\n",
       "      <td>Frances Tiafoe<\/td>\n",
       "      <td>66.699997<\/td>\n",
       "    <\/tr>\n",
       "    <tr>\n",
       "      <th>27<\/th>\n",
       "      <td>Jannik Sinner<\/td>\n",
       "      <td>68.199997<\/td>\n",
       "    <\/tr>\n",
       "    <tr>\n",
       "      <th>30<\/th>\n",
       "      <td>Sebastian Korda<\/td>\n",
       "      <td>60.700001<\/td>\n",
       "    <\/tr>\n",
       "    <tr>\n",
       "      <th>31<\/th>\n",
       "      <td>Cameron Norrie<\/td>\n",
       "      <td>61.500000<\/td>\n",
       "    <\/tr>\n",
       "    <tr>\n",
       "      <th>39<\/th>\n",
       "      <td>Andy Murray<\/td>\n",
       "      <td>61.900002<\/td>\n",
       "    <\/tr>\n",
       "    <tr>\n",
       "      <th>44<\/th>\n",
       "      <td>Dominic Thiem<\/td>\n",
       "      <td>68.199997<\/td>\n",
       "    <\/tr>\n",
       "    <tr>\n",
       "      <th>48<\/th>\n",
       "      <td>Emil Ruusuvuori<\/td>\n",
       "      <td>61.099998<\/td>\n",
       "    <\/tr>\n",
       "    <tr>\n",
       "      <th>53<\/th>\n",
       "      <td>Alex Molcan<\/td>\n",
       "      <td>58.799999<\/td>\n",
       "    <\/tr>\n",
       "    <tr>\n",
       "      <th>55<\/th>\n",
       "      <td>Botic Van De Zandschulp<\/td>\n",
       "      <td>68.199997<\/td>\n",
       "    <\/tr>\n",
       "  <\/tbody>\n",
       "<\/table>\n",
       "<\/div>"
      ]
     },
     "metadata":{
      
     },
     "output_type":"display_data"
    }
   ],
   "metadata":{
    "datalore":{
     "node_id":"oHUhgd9ukCVmg0yjhoExhK",
     "type":"CODE",
     "hide_input_from_viewers":false,
     "hide_output_from_viewers":false,
     "report_properties":{
      "rowId":"0qK4fvRDarXtlz4FwKnoGy"
     }
    }
   }
  },
  {
   "cell_type":"code",
   "source":[
    "### Vamos a comenzar analizando la columna %Deciding Set Won por cada Player.\n",
    "\n",
    "BestDecidingSetWon = df[['Player', '%Deciding Sets Won']]\n",
    "BestDecidingSetWon.head()"
   ],
   "execution_count":71,
   "outputs":[
    {
     "data":{
      "text\/html":[
       "<div>\n",
       "<style scoped>\n",
       "    .dataframe tbody tr th:only-of-type {\n",
       "        vertical-align: middle;\n",
       "    }\n",
       "\n",
       "    .dataframe tbody tr th {\n",
       "        vertical-align: top;\n",
       "    }\n",
       "\n",
       "    .dataframe thead th {\n",
       "        text-align: right;\n",
       "    }\n",
       "<\/style>\n",
       "<table border=\"1\" class=\"dataframe\">\n",
       "  <thead>\n",
       "    <tr style=\"text-align: right;\">\n",
       "      <th><\/th>\n",
       "      <th>Player<\/th>\n",
       "      <th>%Deciding Sets Won<\/th>\n",
       "    <\/tr>\n",
       "  <\/thead>\n",
       "  <tbody>\n",
       "    <tr>\n",
       "      <th>0<\/th>\n",
       "      <td>John Isner<\/td>\n",
       "      <td>52.900002<\/td>\n",
       "    <\/tr>\n",
       "    <tr>\n",
       "      <th>1<\/th>\n",
       "      <td>Hubert Hurkacz<\/td>\n",
       "      <td>69.000000<\/td>\n",
       "    <\/tr>\n",
       "    <tr>\n",
       "      <th>2<\/th>\n",
       "      <td>Matteo Berrettini<\/td>\n",
       "      <td>57.099998<\/td>\n",
       "    <\/tr>\n",
       "    <tr>\n",
       "      <th>3<\/th>\n",
       "      <td>Novak Djokovic<\/td>\n",
       "      <td>63.599998<\/td>\n",
       "    <\/tr>\n",
       "    <tr>\n",
       "      <th>4<\/th>\n",
       "      <td>Ben Shelton<\/td>\n",
       "      <td>42.900002<\/td>\n",
       "    <\/tr>\n",
       "  <\/tbody>\n",
       "<\/table>\n",
       "<\/div>"
      ]
     },
     "metadata":{
      
     },
     "output_type":"display_data"
    }
   ],
   "metadata":{
    "datalore":{
     "node_id":"oJAcSYa149MjVkFbSglmtO",
     "type":"CODE",
     "hide_input_from_viewers":false,
     "hide_output_from_viewers":false,
     "report_properties":{
      "rowId":"0pbaGSVKUhYPVnYKMIqCvH"
     }
    }
   }
  },
  {
   "cell_type":"code",
   "source":[
    "### Vamos a ver la distribución de los datos.\n",
    "\n",
    "BestDecidingSetWon.describe()"
   ],
   "execution_count":72,
   "outputs":[
    {
     "data":{
      "text\/html":[
       "<div>\n",
       "<style scoped>\n",
       "    .dataframe tbody tr th:only-of-type {\n",
       "        vertical-align: middle;\n",
       "    }\n",
       "\n",
       "    .dataframe tbody tr th {\n",
       "        vertical-align: top;\n",
       "    }\n",
       "\n",
       "    .dataframe thead th {\n",
       "        text-align: right;\n",
       "    }\n",
       "<\/style>\n",
       "<table border=\"1\" class=\"dataframe\">\n",
       "  <thead>\n",
       "    <tr style=\"text-align: right;\">\n",
       "      <th><\/th>\n",
       "      <th>%Deciding Sets Won<\/th>\n",
       "    <\/tr>\n",
       "  <\/thead>\n",
       "  <tbody>\n",
       "    <tr>\n",
       "      <th>count<\/th>\n",
       "      <td>68.000000<\/td>\n",
       "    <\/tr>\n",
       "    <tr>\n",
       "      <th>mean<\/th>\n",
       "      <td>52.380886<\/td>\n",
       "    <\/tr>\n",
       "    <tr>\n",
       "      <th>std<\/th>\n",
       "      <td>14.477097<\/td>\n",
       "    <\/tr>\n",
       "    <tr>\n",
       "      <th>min<\/th>\n",
       "      <td>6.700000<\/td>\n",
       "    <\/tr>\n",
       "    <tr>\n",
       "      <th>25%<\/th>\n",
       "      <td>44.025002<\/td>\n",
       "    <\/tr>\n",
       "    <tr>\n",
       "      <th>50%<\/th>\n",
       "      <td>52.900002<\/td>\n",
       "    <\/tr>\n",
       "    <tr>\n",
       "      <th>75%<\/th>\n",
       "      <td>62.325001<\/td>\n",
       "    <\/tr>\n",
       "    <tr>\n",
       "      <th>max<\/th>\n",
       "      <td>83.300003<\/td>\n",
       "    <\/tr>\n",
       "  <\/tbody>\n",
       "<\/table>\n",
       "<\/div>"
      ]
     },
     "metadata":{
      
     },
     "output_type":"display_data"
    }
   ],
   "metadata":{
    "datalore":{
     "node_id":"r1Sw21wtueAXF7GGOE4D65",
     "type":"CODE",
     "hide_input_from_viewers":false,
     "hide_output_from_viewers":false,
     "report_properties":{
      "rowId":"0RAOJ4Kd9QhrgsjlTwYvXq"
     }
    }
   }
  },
  {
   "cell_type":"code",
   "source":[
    "### Vamos a ver la distribución de los datos con plotly con forma de linea.\n",
    "\n",
    "fig = px.line(BestDecidingSetWon, x='Player', y='%Deciding Sets Won', title='%Deciding Sets Won')\n",
    "fig.show()"
   ],
   "execution_count":73,
   "outputs":[
    {
     "data":{
      "application\/vnd.plotly.v1+json":{
       "data":[
        {
         "hovertemplate":"Player=%{x}<br>%Deciding Sets Won=%{y}<extra><\/extra>",
         "legendgroup":"",
         "line":{
          "color":"#636efa",
          "dash":"solid"
         },
         "marker":{
          "symbol":"circle"
         },
         "mode":"lines",
         "name":"",
         "orientation":"v",
         "showlegend":false,
         "x":[
          "John Isner",
          "Hubert Hurkacz",
          "Matteo Berrettini",
          "Novak Djokovic",
          "Ben Shelton",
          "Stefanos Tsitsipas",
          "Maxime Cressy",
          "Felix Auger-Aliassime",
          "Taylor Fritz",
          "Casper Ruud",
          "Marc-Andrea Huesler",
          "Daniil Medvedev",
          "Borna Coric",
          "Lorenzo Sonego",
          "Holger Rune",
          "Carlos Alcaraz",
          "Alexander Zverev",
          "Tallon Griekspoor",
          "Andrey Rublev",
          "Grigor Dimitrov",
          "Roberto Bautista Agut",
          "Jack Draper",
          "Karen Khachanov",
          "Arthur Rinderknech",
          "Frances Tiafoe",
          "Benjamin Bonzi",
          "Stan Wawrinka",
          "Jannik Sinner",
          "Adrian Mannarino",
          "Denis Shapovalov",
          "Sebastian Korda",
          "Cameron Norrie",
          "Oscar Otte",
          "J.J. Wolf",
          "Lorenzo Musetti",
          "Laslo Djere",
          "Sebastian Baez",
          "Yoshihito Nishioka",
          "Tommy Paul",
          "Andy Murray",
          "Jiri Lehecka",
          "Alexander Bublik",
          "Miomir Kecmanovic",
          "Mackenzie Mcdonald",
          "Dominic Thiem",
          "Marcos Giron",
          "Daniel Evans",
          "Filip Krajinovic",
          "Emil Ruusuvuori",
          "Soonwoo Kwon",
          "Albert Ramos-Vinolas",
          "Richard Gasquet",
          "Alejandro Davidovich Fokina",
          "Alex Molcan",
          "Dusan Lajovic",
          "Botic Van De Zandschulp",
          "Alex De Minaur",
          "Mikael Ymer",
          "Francisco Cerundolo",
          "David Goffin",
          "Aslan Karatsev",
          "Cristian Garin",
          "Pedro Martinez",
          "Joao Sousa",
          "Federico Coria",
          "Jaume Munar",
          "Bernabe Zapata Miralles",
          "Diego Schwartzman"
         ],
         "xaxis":"x",
         "y":[
          52.900001525878906,
          69,
          57.099998474121094,
          63.599998474121094,
          42.900001525878906,
          73.0999984741211,
          47.599998474121094,
          66.69999694824219,
          53.29999923706055,
          57.900001525878906,
          46.20000076293945,
          50,
          53.79999923706055,
          6.699999809265137,
          45.5,
          73.9000015258789,
          61.5,
          37.5,
          65.19999694824219,
          50,
          47.099998474121094,
          14.300000190734863,
          64.69999694824219,
          75,
          54.5,
          42.900001525878906,
          58.79999923706055,
          63.599998474121094,
          35.70000076293945,
          47.099998474121094,
          52.900001525878906,
          71,
          41.70000076293945,
          50,
          60,
          47.099998474121094,
          50,
          75,
          54.20000076293945,
          70.5999984741211,
          44.400001525878906,
          52.599998474121094,
          46.20000076293945,
          38.900001525878906,
          58.79999923706055,
          35,
          57.099998474121094,
          75,
          33.29999923706055,
          61.5,
          45.5,
          64.69999694824219,
          44.400001525878906,
          42.900001525878906,
          36.400001525878906,
          58.79999923706055,
          61.900001525878906,
          60,
          55,
          40,
          21.100000381469727,
          83.30000305175781,
          35.70000076293945,
          37.5,
          50,
          38.5,
          63.599998474121094,
          69.19999694824219
         ],
         "yaxis":"y",
         "type":"scatter"
        }
       ],
       "layout":{
        "template":{
         "data":{
          "bar":[
           {
            "error_x":{
             "color":"#2a3f5f"
            },
            "error_y":{
             "color":"#2a3f5f"
            },
            "marker":{
             "line":{
              "color":"#E5ECF6",
              "width":0.5
             },
             "pattern":{
              "fillmode":"overlay",
              "size":10,
              "solidity":0.2
             }
            },
            "type":"bar"
           }
          ],
          "barpolar":[
           {
            "marker":{
             "line":{
              "color":"#E5ECF6",
              "width":0.5
             },
             "pattern":{
              "fillmode":"overlay",
              "size":10,
              "solidity":0.2
             }
            },
            "type":"barpolar"
           }
          ],
          "carpet":[
           {
            "aaxis":{
             "endlinecolor":"#2a3f5f",
             "gridcolor":"white",
             "linecolor":"white",
             "minorgridcolor":"white",
             "startlinecolor":"#2a3f5f"
            },
            "baxis":{
             "endlinecolor":"#2a3f5f",
             "gridcolor":"white",
             "linecolor":"white",
             "minorgridcolor":"white",
             "startlinecolor":"#2a3f5f"
            },
            "type":"carpet"
           }
          ],
          "choropleth":[
           {
            "colorbar":{
             "outlinewidth":0,
             "ticks":""
            },
            "type":"choropleth"
           }
          ],
          "contour":[
           {
            "colorbar":{
             "outlinewidth":0,
             "ticks":""
            },
            "colorscale":[
             [
              0,
              "#0d0887"
             ],
             [
              0.1111111111111111,
              "#46039f"
             ],
             [
              0.2222222222222222,
              "#7201a8"
             ],
             [
              0.3333333333333333,
              "#9c179e"
             ],
             [
              0.4444444444444444,
              "#bd3786"
             ],
             [
              0.5555555555555556,
              "#d8576b"
             ],
             [
              0.6666666666666666,
              "#ed7953"
             ],
             [
              0.7777777777777778,
              "#fb9f3a"
             ],
             [
              0.8888888888888888,
              "#fdca26"
             ],
             [
              1,
              "#f0f921"
             ]
            ],
            "type":"contour"
           }
          ],
          "contourcarpet":[
           {
            "colorbar":{
             "outlinewidth":0,
             "ticks":""
            },
            "type":"contourcarpet"
           }
          ],
          "heatmap":[
           {
            "colorbar":{
             "outlinewidth":0,
             "ticks":""
            },
            "colorscale":[
             [
              0,
              "#0d0887"
             ],
             [
              0.1111111111111111,
              "#46039f"
             ],
             [
              0.2222222222222222,
              "#7201a8"
             ],
             [
              0.3333333333333333,
              "#9c179e"
             ],
             [
              0.4444444444444444,
              "#bd3786"
             ],
             [
              0.5555555555555556,
              "#d8576b"
             ],
             [
              0.6666666666666666,
              "#ed7953"
             ],
             [
              0.7777777777777778,
              "#fb9f3a"
             ],
             [
              0.8888888888888888,
              "#fdca26"
             ],
             [
              1,
              "#f0f921"
             ]
            ],
            "type":"heatmap"
           }
          ],
          "heatmapgl":[
           {
            "colorbar":{
             "outlinewidth":0,
             "ticks":""
            },
            "colorscale":[
             [
              0,
              "#0d0887"
             ],
             [
              0.1111111111111111,
              "#46039f"
             ],
             [
              0.2222222222222222,
              "#7201a8"
             ],
             [
              0.3333333333333333,
              "#9c179e"
             ],
             [
              0.4444444444444444,
              "#bd3786"
             ],
             [
              0.5555555555555556,
              "#d8576b"
             ],
             [
              0.6666666666666666,
              "#ed7953"
             ],
             [
              0.7777777777777778,
              "#fb9f3a"
             ],
             [
              0.8888888888888888,
              "#fdca26"
             ],
             [
              1,
              "#f0f921"
             ]
            ],
            "type":"heatmapgl"
           }
          ],
          "histogram":[
           {
            "marker":{
             "pattern":{
              "fillmode":"overlay",
              "size":10,
              "solidity":0.2
             }
            },
            "type":"histogram"
           }
          ],
          "histogram2d":[
           {
            "colorbar":{
             "outlinewidth":0,
             "ticks":""
            },
            "colorscale":[
             [
              0,
              "#0d0887"
             ],
             [
              0.1111111111111111,
              "#46039f"
             ],
             [
              0.2222222222222222,
              "#7201a8"
             ],
             [
              0.3333333333333333,
              "#9c179e"
             ],
             [
              0.4444444444444444,
              "#bd3786"
             ],
             [
              0.5555555555555556,
              "#d8576b"
             ],
             [
              0.6666666666666666,
              "#ed7953"
             ],
             [
              0.7777777777777778,
              "#fb9f3a"
             ],
             [
              0.8888888888888888,
              "#fdca26"
             ],
             [
              1,
              "#f0f921"
             ]
            ],
            "type":"histogram2d"
           }
          ],
          "histogram2dcontour":[
           {
            "colorbar":{
             "outlinewidth":0,
             "ticks":""
            },
            "colorscale":[
             [
              0,
              "#0d0887"
             ],
             [
              0.1111111111111111,
              "#46039f"
             ],
             [
              0.2222222222222222,
              "#7201a8"
             ],
             [
              0.3333333333333333,
              "#9c179e"
             ],
             [
              0.4444444444444444,
              "#bd3786"
             ],
             [
              0.5555555555555556,
              "#d8576b"
             ],
             [
              0.6666666666666666,
              "#ed7953"
             ],
             [
              0.7777777777777778,
              "#fb9f3a"
             ],
             [
              0.8888888888888888,
              "#fdca26"
             ],
             [
              1,
              "#f0f921"
             ]
            ],
            "type":"histogram2dcontour"
           }
          ],
          "mesh3d":[
           {
            "colorbar":{
             "outlinewidth":0,
             "ticks":""
            },
            "type":"mesh3d"
           }
          ],
          "parcoords":[
           {
            "line":{
             "colorbar":{
              "outlinewidth":0,
              "ticks":""
             }
            },
            "type":"parcoords"
           }
          ],
          "pie":[
           {
            "automargin":true,
            "type":"pie"
           }
          ],
          "scatter":[
           {
            "marker":{
             "colorbar":{
              "outlinewidth":0,
              "ticks":""
             }
            },
            "type":"scatter"
           }
          ],
          "scatter3d":[
           {
            "line":{
             "colorbar":{
              "outlinewidth":0,
              "ticks":""
             }
            },
            "marker":{
             "colorbar":{
              "outlinewidth":0,
              "ticks":""
             }
            },
            "type":"scatter3d"
           }
          ],
          "scattercarpet":[
           {
            "marker":{
             "colorbar":{
              "outlinewidth":0,
              "ticks":""
             }
            },
            "type":"scattercarpet"
           }
          ],
          "scattergeo":[
           {
            "marker":{
             "colorbar":{
              "outlinewidth":0,
              "ticks":""
             }
            },
            "type":"scattergeo"
           }
          ],
          "scattergl":[
           {
            "marker":{
             "colorbar":{
              "outlinewidth":0,
              "ticks":""
             }
            },
            "type":"scattergl"
           }
          ],
          "scattermapbox":[
           {
            "marker":{
             "colorbar":{
              "outlinewidth":0,
              "ticks":""
             }
            },
            "type":"scattermapbox"
           }
          ],
          "scatterpolar":[
           {
            "marker":{
             "colorbar":{
              "outlinewidth":0,
              "ticks":""
             }
            },
            "type":"scatterpolar"
           }
          ],
          "scatterpolargl":[
           {
            "marker":{
             "colorbar":{
              "outlinewidth":0,
              "ticks":""
             }
            },
            "type":"scatterpolargl"
           }
          ],
          "scatterternary":[
           {
            "marker":{
             "colorbar":{
              "outlinewidth":0,
              "ticks":""
             }
            },
            "type":"scatterternary"
           }
          ],
          "surface":[
           {
            "colorbar":{
             "outlinewidth":0,
             "ticks":""
            },
            "colorscale":[
             [
              0,
              "#0d0887"
             ],
             [
              0.1111111111111111,
              "#46039f"
             ],
             [
              0.2222222222222222,
              "#7201a8"
             ],
             [
              0.3333333333333333,
              "#9c179e"
             ],
             [
              0.4444444444444444,
              "#bd3786"
             ],
             [
              0.5555555555555556,
              "#d8576b"
             ],
             [
              0.6666666666666666,
              "#ed7953"
             ],
             [
              0.7777777777777778,
              "#fb9f3a"
             ],
             [
              0.8888888888888888,
              "#fdca26"
             ],
             [
              1,
              "#f0f921"
             ]
            ],
            "type":"surface"
           }
          ],
          "table":[
           {
            "cells":{
             "fill":{
              "color":"#EBF0F8"
             },
             "line":{
              "color":"white"
             }
            },
            "header":{
             "fill":{
              "color":"#C8D4E3"
             },
             "line":{
              "color":"white"
             }
            },
            "type":"table"
           }
          ]
         },
         "layout":{
          "annotationdefaults":{
           "arrowcolor":"#2a3f5f",
           "arrowhead":0,
           "arrowwidth":1
          },
          "autotypenumbers":"strict",
          "coloraxis":{
           "colorbar":{
            "outlinewidth":0,
            "ticks":""
           }
          },
          "colorscale":{
           "diverging":[
            [
             0,
             "#8e0152"
            ],
            [
             0.1,
             "#c51b7d"
            ],
            [
             0.2,
             "#de77ae"
            ],
            [
             0.3,
             "#f1b6da"
            ],
            [
             0.4,
             "#fde0ef"
            ],
            [
             0.5,
             "#f7f7f7"
            ],
            [
             0.6,
             "#e6f5d0"
            ],
            [
             0.7,
             "#b8e186"
            ],
            [
             0.8,
             "#7fbc41"
            ],
            [
             0.9,
             "#4d9221"
            ],
            [
             1,
             "#276419"
            ]
           ],
           "sequential":[
            [
             0,
             "#0d0887"
            ],
            [
             0.1111111111111111,
             "#46039f"
            ],
            [
             0.2222222222222222,
             "#7201a8"
            ],
            [
             0.3333333333333333,
             "#9c179e"
            ],
            [
             0.4444444444444444,
             "#bd3786"
            ],
            [
             0.5555555555555556,
             "#d8576b"
            ],
            [
             0.6666666666666666,
             "#ed7953"
            ],
            [
             0.7777777777777778,
             "#fb9f3a"
            ],
            [
             0.8888888888888888,
             "#fdca26"
            ],
            [
             1,
             "#f0f921"
            ]
           ],
           "sequentialminus":[
            [
             0,
             "#0d0887"
            ],
            [
             0.1111111111111111,
             "#46039f"
            ],
            [
             0.2222222222222222,
             "#7201a8"
            ],
            [
             0.3333333333333333,
             "#9c179e"
            ],
            [
             0.4444444444444444,
             "#bd3786"
            ],
            [
             0.5555555555555556,
             "#d8576b"
            ],
            [
             0.6666666666666666,
             "#ed7953"
            ],
            [
             0.7777777777777778,
             "#fb9f3a"
            ],
            [
             0.8888888888888888,
             "#fdca26"
            ],
            [
             1,
             "#f0f921"
            ]
           ]
          },
          "colorway":[
           "#636efa",
           "#EF553B",
           "#00cc96",
           "#ab63fa",
           "#FFA15A",
           "#19d3f3",
           "#FF6692",
           "#B6E880",
           "#FF97FF",
           "#FECB52"
          ],
          "font":{
           "color":"#2a3f5f"
          },
          "geo":{
           "bgcolor":"white",
           "lakecolor":"white",
           "landcolor":"#E5ECF6",
           "showlakes":true,
           "showland":true,
           "subunitcolor":"white"
          },
          "hoverlabel":{
           "align":"left"
          },
          "hovermode":"closest",
          "mapbox":{
           "style":"light"
          },
          "paper_bgcolor":"white",
          "plot_bgcolor":"#E5ECF6",
          "polar":{
           "angularaxis":{
            "gridcolor":"white",
            "linecolor":"white",
            "ticks":""
           },
           "bgcolor":"#E5ECF6",
           "radialaxis":{
            "gridcolor":"white",
            "linecolor":"white",
            "ticks":""
           }
          },
          "scene":{
           "xaxis":{
            "backgroundcolor":"#E5ECF6",
            "gridcolor":"white",
            "gridwidth":2,
            "linecolor":"white",
            "showbackground":true,
            "ticks":"",
            "zerolinecolor":"white"
           },
           "yaxis":{
            "backgroundcolor":"#E5ECF6",
            "gridcolor":"white",
            "gridwidth":2,
            "linecolor":"white",
            "showbackground":true,
            "ticks":"",
            "zerolinecolor":"white"
           },
           "zaxis":{
            "backgroundcolor":"#E5ECF6",
            "gridcolor":"white",
            "gridwidth":2,
            "linecolor":"white",
            "showbackground":true,
            "ticks":"",
            "zerolinecolor":"white"
           }
          },
          "shapedefaults":{
           "line":{
            "color":"#2a3f5f"
           }
          },
          "ternary":{
           "aaxis":{
            "gridcolor":"white",
            "linecolor":"white",
            "ticks":""
           },
           "baxis":{
            "gridcolor":"white",
            "linecolor":"white",
            "ticks":""
           },
           "bgcolor":"#E5ECF6",
           "caxis":{
            "gridcolor":"white",
            "linecolor":"white",
            "ticks":""
           }
          },
          "title":{
           "x":0.05
          },
          "xaxis":{
           "automargin":true,
           "gridcolor":"white",
           "linecolor":"white",
           "ticks":"",
           "title":{
            "standoff":15
           },
           "zerolinecolor":"white",
           "zerolinewidth":2
          },
          "yaxis":{
           "automargin":true,
           "gridcolor":"white",
           "linecolor":"white",
           "ticks":"",
           "title":{
            "standoff":15
           },
           "zerolinecolor":"white",
           "zerolinewidth":2
          }
         }
        },
        "xaxis":{
         "anchor":"y",
         "domain":[
          0,
          1
         ],
         "title":{
          "text":"Player"
         }
        },
        "yaxis":{
         "anchor":"x",
         "domain":[
          0,
          1
         ],
         "title":{
          "text":"%Deciding Sets Won"
         }
        },
        "legend":{
         "tracegroupgap":0
        },
        "title":{
         "text":"%Deciding Sets Won"
        }
       },
       "config":{
        "plotlyServerURL":"https:\/\/plot.ly"
       }
      }
     },
     "metadata":{
      
     },
     "output_type":"display_data"
    }
   ],
   "metadata":{
    "datalore":{
     "node_id":"MYkAAhnNscx9sC3dmjrN9F",
     "type":"CODE",
     "hide_input_from_viewers":false,
     "hide_output_from_viewers":false,
     "report_properties":{
      "rowId":"NG8qgFhLbr5ONIYoo7Pq1A"
     }
    }
   }
  },
  {
   "cell_type":"code",
   "source":[
    "### vamos a establecer los cuartiles para ver que jugadores están por encima de la media.\n",
    "\n",
    "q1 = BestDecidingSetWon['%Deciding Sets Won'].quantile(0.25)\n",
    "q3 = BestDecidingSetWon['%Deciding Sets Won'].quantile(0.75)\n",
    "iqr = q3 - q1 #Interquartile range\n",
    "fence_low  = q1-1.5*iqr #lower fence. Esto es para ver los valores que están por debajo del primer cuartil.\n",
    "fence_high = q3+1.5*iqr #upper fence. Esto es para ver los valores que están por encima del tercer cuartil.\n",
    "\n",
    "print('q1: ', q1)\n",
    "print('q3: ', q3)\n",
    "print('iqr: ', iqr)\n",
    "print('fence_low: ', fence_low)\n",
    "print('fence_high: ', fence_high)"
   ],
   "execution_count":74,
   "outputs":[
    {
     "name":"stdout",
     "text":[
      "q1:  44.025001525878906\n",
      "q3:  62.32500076293945\n",
      "iqr:  18.299999237060547\n",
      "fence_low:  16.575002670288086\n",
      "fence_high:  89.77499961853027\n"
     ],
     "output_type":"stream"
    }
   ],
   "metadata":{
    "datalore":{
     "node_id":"mcesPDsaFlsE7lyfFh6fPM",
     "type":"CODE",
     "hide_input_from_viewers":false,
     "hide_output_from_viewers":false,
     "report_properties":{
      "rowId":"2GPoauDGcahc40xCfPtA0A"
     }
    }
   }
  },
  {
   "cell_type":"code",
   "source":[
    "### Vamos a ver los jugadores que están por encima de la media.\n",
    "\n",
    "BestDecidingSetWon = BestDecidingSetWon[BestDecidingSetWon['%Deciding Sets Won'] > q3]\n",
    "BestDecidingSetWon"
   ],
   "execution_count":75,
   "outputs":[
    {
     "data":{
      "text\/html":[
       "<div>\n",
       "<style scoped>\n",
       "    .dataframe tbody tr th:only-of-type {\n",
       "        vertical-align: middle;\n",
       "    }\n",
       "\n",
       "    .dataframe tbody tr th {\n",
       "        vertical-align: top;\n",
       "    }\n",
       "\n",
       "    .dataframe thead th {\n",
       "        text-align: right;\n",
       "    }\n",
       "<\/style>\n",
       "<table border=\"1\" class=\"dataframe\">\n",
       "  <thead>\n",
       "    <tr style=\"text-align: right;\">\n",
       "      <th><\/th>\n",
       "      <th>Player<\/th>\n",
       "      <th>%Deciding Sets Won<\/th>\n",
       "    <\/tr>\n",
       "  <\/thead>\n",
       "  <tbody>\n",
       "    <tr>\n",
       "      <th>1<\/th>\n",
       "      <td>Hubert Hurkacz<\/td>\n",
       "      <td>69.000000<\/td>\n",
       "    <\/tr>\n",
       "    <tr>\n",
       "      <th>3<\/th>\n",
       "      <td>Novak Djokovic<\/td>\n",
       "      <td>63.599998<\/td>\n",
       "    <\/tr>\n",
       "    <tr>\n",
       "      <th>5<\/th>\n",
       "      <td>Stefanos Tsitsipas<\/td>\n",
       "      <td>73.099998<\/td>\n",
       "    <\/tr>\n",
       "    <tr>\n",
       "      <th>7<\/th>\n",
       "      <td>Felix Auger-Aliassime<\/td>\n",
       "      <td>66.699997<\/td>\n",
       "    <\/tr>\n",
       "    <tr>\n",
       "      <th>15<\/th>\n",
       "      <td>Carlos Alcaraz<\/td>\n",
       "      <td>73.900002<\/td>\n",
       "    <\/tr>\n",
       "    <tr>\n",
       "      <th>18<\/th>\n",
       "      <td>Andrey Rublev<\/td>\n",
       "      <td>65.199997<\/td>\n",
       "    <\/tr>\n",
       "    <tr>\n",
       "      <th>22<\/th>\n",
       "      <td>Karen Khachanov<\/td>\n",
       "      <td>64.699997<\/td>\n",
       "    <\/tr>\n",
       "    <tr>\n",
       "      <th>23<\/th>\n",
       "      <td>Arthur Rinderknech<\/td>\n",
       "      <td>75.000000<\/td>\n",
       "    <\/tr>\n",
       "    <tr>\n",
       "      <th>27<\/th>\n",
       "      <td>Jannik Sinner<\/td>\n",
       "      <td>63.599998<\/td>\n",
       "    <\/tr>\n",
       "    <tr>\n",
       "      <th>31<\/th>\n",
       "      <td>Cameron Norrie<\/td>\n",
       "      <td>71.000000<\/td>\n",
       "    <\/tr>\n",
       "    <tr>\n",
       "      <th>37<\/th>\n",
       "      <td>Yoshihito Nishioka<\/td>\n",
       "      <td>75.000000<\/td>\n",
       "    <\/tr>\n",
       "    <tr>\n",
       "      <th>39<\/th>\n",
       "      <td>Andy Murray<\/td>\n",
       "      <td>70.599998<\/td>\n",
       "    <\/tr>\n",
       "    <tr>\n",
       "      <th>47<\/th>\n",
       "      <td>Filip Krajinovic<\/td>\n",
       "      <td>75.000000<\/td>\n",
       "    <\/tr>\n",
       "    <tr>\n",
       "      <th>51<\/th>\n",
       "      <td>Richard Gasquet<\/td>\n",
       "      <td>64.699997<\/td>\n",
       "    <\/tr>\n",
       "    <tr>\n",
       "      <th>61<\/th>\n",
       "      <td>Cristian Garin<\/td>\n",
       "      <td>83.300003<\/td>\n",
       "    <\/tr>\n",
       "    <tr>\n",
       "      <th>66<\/th>\n",
       "      <td>Bernabe Zapata Miralles<\/td>\n",
       "      <td>63.599998<\/td>\n",
       "    <\/tr>\n",
       "    <tr>\n",
       "      <th>67<\/th>\n",
       "      <td>Diego Schwartzman<\/td>\n",
       "      <td>69.199997<\/td>\n",
       "    <\/tr>\n",
       "  <\/tbody>\n",
       "<\/table>\n",
       "<\/div>"
      ]
     },
     "metadata":{
      
     },
     "output_type":"display_data"
    }
   ],
   "metadata":{
    "datalore":{
     "node_id":"YNBI28hiBLGh2qX086ZPEx",
     "type":"CODE",
     "hide_input_from_viewers":false,
     "hide_output_from_viewers":false,
     "report_properties":{
      "rowId":"1p5duUYPygmefZwSVavLX8"
     }
    }
   }
  },
  {
   "cell_type":"markdown",
   "source":[
    "## Ya tenemos los jugadores que tienen un buen rendimiento en cada una de las columnas."
   ],
   "attachments":{
    
   },
   "metadata":{
    "datalore":{
     "node_id":"0hiSarjFnV8vLJInWRHiqq",
     "type":"MD",
     "hide_input_from_viewers":false,
     "hide_output_from_viewers":false,
     "report_properties":{
      "rowId":"zdc1R4oJCu8avYPVRGS9UM"
     }
    }
   }
  },
  {
   "cell_type":"markdown",
   "source":[
    "# OBJETIVES:\n",
    "\n",
    "## 1. Que grupos son las que más correlacion tienen con en el ranking de los jugadores.\n",
    "## 2. Que jugadores estan en todas las columnas.\n",
    "## 3. Cuanto influye la edad en el ranking de los jugadores."
   ],
   "attachments":{
    
   },
   "metadata":{
    "datalore":{
     "node_id":"WLXwSYQotV5wO6g0hC5JNq",
     "type":"MD",
     "hide_input_from_viewers":false,
     "hide_output_from_viewers":false,
     "report_properties":{
      "rowId":"Ql6PjQHMrWW5O8Nf376Tdh"
     }
    }
   }
  },
  {
   "cell_type":"markdown",
   "source":[
    "### Vamos a ver de los grupos creados que grupos son las que más correlacion tienen con en el ranking de los jugadores.\n",
    "\n",
    "Best1stServePointsWon\n",
    "\n",
    "BestReturnGamesWon\n",
    "\n",
    "BestTieBreaks\n",
    "\n",
    "BestDecidingSetWon\n"
   ],
   "attachments":{
    
   },
   "metadata":{
    "datalore":{
     "node_id":"GvPUmG33VX2jHGcj85nZEx",
     "type":"MD",
     "hide_input_from_viewers":true,
     "hide_output_from_viewers":true
    }
   }
  },
  {
   "cell_type":"code",
   "source":[
    "## 1.1 Vamos a ver la correlación de Best1stServePointsWon con el el ranking de los jugadores de df_ranking.\n",
    "\n",
    "# Lo primero que hacemos es añadir la columna ranking a Best1stServePointsWon para poder compararla con el ranking de los jugadores.\n",
    "# El primero tiene que ser el que tenga mayor valor en la columna %1st Serve Points Won.\n",
    "\n",
    "Best1stServePointsWon = Best1stServePointsWon.reset_index(drop=True)\n",
    "Best1stServePointsWon['Rank'] = Best1stServePointsWon.index + 1\n",
    "Best1stServePointsWon"
   ],
   "execution_count":76,
   "outputs":[
    {
     "data":{
      "text\/html":[
       "<div>\n",
       "<style scoped>\n",
       "    .dataframe tbody tr th:only-of-type {\n",
       "        vertical-align: middle;\n",
       "    }\n",
       "\n",
       "    .dataframe tbody tr th {\n",
       "        vertical-align: top;\n",
       "    }\n",
       "\n",
       "    .dataframe thead th {\n",
       "        text-align: right;\n",
       "    }\n",
       "<\/style>\n",
       "<table border=\"1\" class=\"dataframe\">\n",
       "  <thead>\n",
       "    <tr style=\"text-align: right;\">\n",
       "      <th><\/th>\n",
       "      <th>Player<\/th>\n",
       "      <th>%1stServePointsWon<\/th>\n",
       "      <th>Rank<\/th>\n",
       "    <\/tr>\n",
       "  <\/thead>\n",
       "  <tbody>\n",
       "    <tr>\n",
       "      <th>0<\/th>\n",
       "      <td>John Isner<\/td>\n",
       "      <td>79.800003<\/td>\n",
       "      <td>1<\/td>\n",
       "    <\/tr>\n",
       "    <tr>\n",
       "      <th>1<\/th>\n",
       "      <td>Hubert Hurkacz<\/td>\n",
       "      <td>79.199997<\/td>\n",
       "      <td>2<\/td>\n",
       "    <\/tr>\n",
       "    <tr>\n",
       "      <th>2<\/th>\n",
       "      <td>Matteo Berrettini<\/td>\n",
       "      <td>79.599998<\/td>\n",
       "      <td>3<\/td>\n",
       "    <\/tr>\n",
       "    <tr>\n",
       "      <th>3<\/th>\n",
       "      <td>Novak Djokovic<\/td>\n",
       "      <td>77.199997<\/td>\n",
       "      <td>4<\/td>\n",
       "    <\/tr>\n",
       "    <tr>\n",
       "      <th>4<\/th>\n",
       "      <td>Ben Shelton<\/td>\n",
       "      <td>79.300003<\/td>\n",
       "      <td>5<\/td>\n",
       "    <\/tr>\n",
       "    <tr>\n",
       "      <th>5<\/th>\n",
       "      <td>Stefanos Tsitsipas<\/td>\n",
       "      <td>76.500000<\/td>\n",
       "      <td>6<\/td>\n",
       "    <\/tr>\n",
       "    <tr>\n",
       "      <th>6<\/th>\n",
       "      <td>Maxime Cressy<\/td>\n",
       "      <td>79.800003<\/td>\n",
       "      <td>7<\/td>\n",
       "    <\/tr>\n",
       "    <tr>\n",
       "      <th>7<\/th>\n",
       "      <td>Felix Auger-Aliassime<\/td>\n",
       "      <td>77.500000<\/td>\n",
       "      <td>8<\/td>\n",
       "    <\/tr>\n",
       "    <tr>\n",
       "      <th>8<\/th>\n",
       "      <td>Taylor Fritz<\/td>\n",
       "      <td>77.099998<\/td>\n",
       "      <td>9<\/td>\n",
       "    <\/tr>\n",
       "    <tr>\n",
       "      <th>9<\/th>\n",
       "      <td>Marc-Andrea Huesler<\/td>\n",
       "      <td>76.000000<\/td>\n",
       "      <td>10<\/td>\n",
       "    <\/tr>\n",
       "    <tr>\n",
       "      <th>10<\/th>\n",
       "      <td>Daniil Medvedev<\/td>\n",
       "      <td>75.400002<\/td>\n",
       "      <td>11<\/td>\n",
       "    <\/tr>\n",
       "    <tr>\n",
       "      <th>11<\/th>\n",
       "      <td>Andrey Rublev<\/td>\n",
       "      <td>76.099998<\/td>\n",
       "      <td>12<\/td>\n",
       "    <\/tr>\n",
       "    <tr>\n",
       "      <th>12<\/th>\n",
       "      <td>Grigor Dimitrov<\/td>\n",
       "      <td>76.199997<\/td>\n",
       "      <td>13<\/td>\n",
       "    <\/tr>\n",
       "    <tr>\n",
       "      <th>13<\/th>\n",
       "      <td>Stan Wawrinka<\/td>\n",
       "      <td>75.699997<\/td>\n",
       "      <td>14<\/td>\n",
       "    <\/tr>\n",
       "    <tr>\n",
       "      <th>14<\/th>\n",
       "      <td>Denis Shapovalov<\/td>\n",
       "      <td>75.500000<\/td>\n",
       "      <td>15<\/td>\n",
       "    <\/tr>\n",
       "    <tr>\n",
       "      <th>15<\/th>\n",
       "      <td>Oscar Otte<\/td>\n",
       "      <td>77.000000<\/td>\n",
       "      <td>16<\/td>\n",
       "    <\/tr>\n",
       "    <tr>\n",
       "      <th>16<\/th>\n",
       "      <td>Alexander Bublik<\/td>\n",
       "      <td>78.000000<\/td>\n",
       "      <td>17<\/td>\n",
       "    <\/tr>\n",
       "  <\/tbody>\n",
       "<\/table>\n",
       "<\/div>"
      ]
     },
     "metadata":{
      
     },
     "output_type":"display_data"
    }
   ],
   "metadata":{
    "datalore":{
     "node_id":"s4lWzilbW2sT1zeFFyyykH",
     "type":"CODE",
     "hide_input_from_viewers":false,
     "hide_output_from_viewers":false,
     "report_properties":{
      "rowId":"s7OIoPlGMsjVVn66K2bzM0"
     }
    }
   }
  },
  {
   "cell_type":"code",
   "source":[
    "# Vamos a ver la correlación de Best1stServePointsWon con el el ranking de los jugadores de df_ranking viendo si coincide en el ranking de cada jugador en ambos dataframes.\n",
    "\n",
    "df_ranking = df_ranking.reset_index(drop=True)\n",
    "df_ranking['Rank'] = df_ranking.index + 1\n",
    "df_ranking"
   ],
   "execution_count":77,
   "outputs":[
    {
     "data":{
      "text\/html":[
       "<div>\n",
       "<style scoped>\n",
       "    .dataframe tbody tr th:only-of-type {\n",
       "        vertical-align: middle;\n",
       "    }\n",
       "\n",
       "    .dataframe tbody tr th {\n",
       "        vertical-align: top;\n",
       "    }\n",
       "\n",
       "    .dataframe thead th {\n",
       "        text-align: right;\n",
       "    }\n",
       "<\/style>\n",
       "<table border=\"1\" class=\"dataframe\">\n",
       "  <thead>\n",
       "    <tr style=\"text-align: right;\">\n",
       "      <th><\/th>\n",
       "      <th>Player<\/th>\n",
       "      <th>Age<\/th>\n",
       "      <th>Rank<\/th>\n",
       "    <\/tr>\n",
       "  <\/thead>\n",
       "  <tbody>\n",
       "    <tr>\n",
       "      <th>0<\/th>\n",
       "      <td>Carlos Alcaraz<\/td>\n",
       "      <td>19.0<\/td>\n",
       "      <td>1<\/td>\n",
       "    <\/tr>\n",
       "    <tr>\n",
       "      <th>1<\/th>\n",
       "      <td>Novak Djokovic<\/td>\n",
       "      <td>35.0<\/td>\n",
       "      <td>2<\/td>\n",
       "    <\/tr>\n",
       "    <tr>\n",
       "      <th>2<\/th>\n",
       "      <td>Stefanos Tsitsipas<\/td>\n",
       "      <td>24.0<\/td>\n",
       "      <td>3<\/td>\n",
       "    <\/tr>\n",
       "    <tr>\n",
       "      <th>3<\/th>\n",
       "      <td>Casper Ruud<\/td>\n",
       "      <td>24.0<\/td>\n",
       "      <td>4<\/td>\n",
       "    <\/tr>\n",
       "    <tr>\n",
       "      <th>4<\/th>\n",
       "      <td>Daniil Medvedev<\/td>\n",
       "      <td>27.0<\/td>\n",
       "      <td>5<\/td>\n",
       "    <\/tr>\n",
       "    <tr>\n",
       "      <th>...<\/th>\n",
       "      <td>...<\/td>\n",
       "      <td>...<\/td>\n",
       "      <td>...<\/td>\n",
       "    <\/tr>\n",
       "    <tr>\n",
       "      <th>1993<\/th>\n",
       "      <td>Stefan Vujic<\/td>\n",
       "      <td>24.0<\/td>\n",
       "      <td>1994<\/td>\n",
       "    <\/tr>\n",
       "    <tr>\n",
       "      <th>1994<\/th>\n",
       "      <td>Raffael Schaer<\/td>\n",
       "      <td>20.0<\/td>\n",
       "      <td>1995<\/td>\n",
       "    <\/tr>\n",
       "    <tr>\n",
       "      <th>1995<\/th>\n",
       "      <td>Biagio Gramaticopolo<\/td>\n",
       "      <td>20.0<\/td>\n",
       "      <td>1996<\/td>\n",
       "    <\/tr>\n",
       "    <tr>\n",
       "      <th>1996<\/th>\n",
       "      <td>Akram El Sallaly<\/td>\n",
       "      <td>25.0<\/td>\n",
       "      <td>1997<\/td>\n",
       "    <\/tr>\n",
       "    <tr>\n",
       "      <th>1997<\/th>\n",
       "      <td>Matt Ponchet<\/td>\n",
       "      <td>18.0<\/td>\n",
       "      <td>1998<\/td>\n",
       "    <\/tr>\n",
       "  <\/tbody>\n",
       "<\/table>\n",
       "<p>1998 rows × 3 columns<\/p>\n",
       "<\/div>"
      ]
     },
     "metadata":{
      
     },
     "output_type":"display_data"
    }
   ],
   "metadata":{
    "datalore":{
     "node_id":"lK0Z9jVeYG35ay46FkbHgL",
     "type":"CODE",
     "hide_input_from_viewers":false,
     "hide_output_from_viewers":false,
     "report_properties":{
      "rowId":"Kc6mxHmRLXom1ootWDgklG"
     }
    }
   }
  },
  {
   "cell_type":"code",
   "source":[
    "# Para ver cuanto % de correlación hay entre las dos columnas vamos a hacer un merge de los dos dataframes.\n",
    "\n",
    "df_merge = pd.merge(Best1stServePointsWon, df_ranking, on='Player')\n",
    "df_merge"
   ],
   "execution_count":78,
   "outputs":[
    {
     "data":{
      "text\/html":[
       "<div>\n",
       "<style scoped>\n",
       "    .dataframe tbody tr th:only-of-type {\n",
       "        vertical-align: middle;\n",
       "    }\n",
       "\n",
       "    .dataframe tbody tr th {\n",
       "        vertical-align: top;\n",
       "    }\n",
       "\n",
       "    .dataframe thead th {\n",
       "        text-align: right;\n",
       "    }\n",
       "<\/style>\n",
       "<table border=\"1\" class=\"dataframe\">\n",
       "  <thead>\n",
       "    <tr style=\"text-align: right;\">\n",
       "      <th><\/th>\n",
       "      <th>Player<\/th>\n",
       "      <th>%1stServePointsWon<\/th>\n",
       "      <th>Rank_x<\/th>\n",
       "      <th>Age<\/th>\n",
       "      <th>Rank_y<\/th>\n",
       "    <\/tr>\n",
       "  <\/thead>\n",
       "  <tbody>\n",
       "    <tr>\n",
       "      <th>0<\/th>\n",
       "      <td>John Isner<\/td>\n",
       "      <td>79.800003<\/td>\n",
       "      <td>1<\/td>\n",
       "      <td>37.0<\/td>\n",
       "      <td>46<\/td>\n",
       "    <\/tr>\n",
       "    <tr>\n",
       "      <th>1<\/th>\n",
       "      <td>Hubert Hurkacz<\/td>\n",
       "      <td>79.199997<\/td>\n",
       "      <td>2<\/td>\n",
       "      <td>26.0<\/td>\n",
       "      <td>9<\/td>\n",
       "    <\/tr>\n",
       "    <tr>\n",
       "      <th>2<\/th>\n",
       "      <td>Matteo Berrettini<\/td>\n",
       "      <td>79.599998<\/td>\n",
       "      <td>3<\/td>\n",
       "      <td>26.0<\/td>\n",
       "      <td>23<\/td>\n",
       "    <\/tr>\n",
       "    <tr>\n",
       "      <th>3<\/th>\n",
       "      <td>Novak Djokovic<\/td>\n",
       "      <td>77.199997<\/td>\n",
       "      <td>4<\/td>\n",
       "      <td>35.0<\/td>\n",
       "      <td>2<\/td>\n",
       "    <\/tr>\n",
       "    <tr>\n",
       "      <th>4<\/th>\n",
       "      <td>Ben Shelton<\/td>\n",
       "      <td>79.300003<\/td>\n",
       "      <td>5<\/td>\n",
       "      <td>20.0<\/td>\n",
       "      <td>39<\/td>\n",
       "    <\/tr>\n",
       "    <tr>\n",
       "      <th>5<\/th>\n",
       "      <td>Stefanos Tsitsipas<\/td>\n",
       "      <td>76.500000<\/td>\n",
       "      <td>6<\/td>\n",
       "      <td>24.0<\/td>\n",
       "      <td>3<\/td>\n",
       "    <\/tr>\n",
       "    <tr>\n",
       "      <th>6<\/th>\n",
       "      <td>Maxime Cressy<\/td>\n",
       "      <td>79.800003<\/td>\n",
       "      <td>7<\/td>\n",
       "      <td>25.0<\/td>\n",
       "      <td>37<\/td>\n",
       "    <\/tr>\n",
       "    <tr>\n",
       "      <th>7<\/th>\n",
       "      <td>Felix Auger-Aliassime<\/td>\n",
       "      <td>77.500000<\/td>\n",
       "      <td>8<\/td>\n",
       "      <td>22.0<\/td>\n",
       "      <td>6<\/td>\n",
       "    <\/tr>\n",
       "    <tr>\n",
       "      <th>8<\/th>\n",
       "      <td>Taylor Fritz<\/td>\n",
       "      <td>77.099998<\/td>\n",
       "      <td>9<\/td>\n",
       "      <td>25.0<\/td>\n",
       "      <td>10<\/td>\n",
       "    <\/tr>\n",
       "    <tr>\n",
       "      <th>9<\/th>\n",
       "      <td>Marc-Andrea Huesler<\/td>\n",
       "      <td>76.000000<\/td>\n",
       "      <td>10<\/td>\n",
       "      <td>26.0<\/td>\n",
       "      <td>47<\/td>\n",
       "    <\/tr>\n",
       "    <tr>\n",
       "      <th>10<\/th>\n",
       "      <td>Daniil Medvedev<\/td>\n",
       "      <td>75.400002<\/td>\n",
       "      <td>11<\/td>\n",
       "      <td>27.0<\/td>\n",
       "      <td>5<\/td>\n",
       "    <\/tr>\n",
       "    <tr>\n",
       "      <th>11<\/th>\n",
       "      <td>Andrey Rublev<\/td>\n",
       "      <td>76.099998<\/td>\n",
       "      <td>12<\/td>\n",
       "      <td>25.0<\/td>\n",
       "      <td>7<\/td>\n",
       "    <\/tr>\n",
       "    <tr>\n",
       "      <th>12<\/th>\n",
       "      <td>Grigor Dimitrov<\/td>\n",
       "      <td>76.199997<\/td>\n",
       "      <td>13<\/td>\n",
       "      <td>31.0<\/td>\n",
       "      <td>27<\/td>\n",
       "    <\/tr>\n",
       "    <tr>\n",
       "      <th>13<\/th>\n",
       "      <td>Stan Wawrinka<\/td>\n",
       "      <td>75.699997<\/td>\n",
       "      <td>14<\/td>\n",
       "      <td>37.0<\/td>\n",
       "      <td>87<\/td>\n",
       "    <\/tr>\n",
       "    <tr>\n",
       "      <th>14<\/th>\n",
       "      <td>Denis Shapovalov<\/td>\n",
       "      <td>75.500000<\/td>\n",
       "      <td>15<\/td>\n",
       "      <td>23.0<\/td>\n",
       "      <td>30<\/td>\n",
       "    <\/tr>\n",
       "    <tr>\n",
       "      <th>15<\/th>\n",
       "      <td>Oscar Otte<\/td>\n",
       "      <td>77.000000<\/td>\n",
       "      <td>16<\/td>\n",
       "      <td>29.0<\/td>\n",
       "      <td>85<\/td>\n",
       "    <\/tr>\n",
       "    <tr>\n",
       "      <th>16<\/th>\n",
       "      <td>Alexander Bublik<\/td>\n",
       "      <td>78.000000<\/td>\n",
       "      <td>17<\/td>\n",
       "      <td>25.0<\/td>\n",
       "      <td>48<\/td>\n",
       "    <\/tr>\n",
       "  <\/tbody>\n",
       "<\/table>\n",
       "<\/div>"
      ]
     },
     "metadata":{
      
     },
     "output_type":"display_data"
    }
   ],
   "metadata":{
    "datalore":{
     "node_id":"xA9bBWrgnGm5bQGdiDHWEN",
     "type":"CODE",
     "hide_input_from_viewers":false,
     "hide_output_from_viewers":false,
     "report_properties":{
      "rowId":"ZpmvOUV59ZMJyr837vsQfm"
     }
    }
   }
  },
  {
   "cell_type":"code",
   "source":[
    "# Nos quedamos solo con aquellos que estan entre los 10 primeros en el df_merge.\n",
    "\n",
    "Best_players_1st_serve = df_merge[df_merge['Rank_y'] <= 10]\n",
    "Best_players_1st_serve"
   ],
   "execution_count":79,
   "outputs":[
    {
     "data":{
      "text\/html":[
       "<div>\n",
       "<style scoped>\n",
       "    .dataframe tbody tr th:only-of-type {\n",
       "        vertical-align: middle;\n",
       "    }\n",
       "\n",
       "    .dataframe tbody tr th {\n",
       "        vertical-align: top;\n",
       "    }\n",
       "\n",
       "    .dataframe thead th {\n",
       "        text-align: right;\n",
       "    }\n",
       "<\/style>\n",
       "<table border=\"1\" class=\"dataframe\">\n",
       "  <thead>\n",
       "    <tr style=\"text-align: right;\">\n",
       "      <th><\/th>\n",
       "      <th>Player<\/th>\n",
       "      <th>%1stServePointsWon<\/th>\n",
       "      <th>Rank_x<\/th>\n",
       "      <th>Age<\/th>\n",
       "      <th>Rank_y<\/th>\n",
       "    <\/tr>\n",
       "  <\/thead>\n",
       "  <tbody>\n",
       "    <tr>\n",
       "      <th>1<\/th>\n",
       "      <td>Hubert Hurkacz<\/td>\n",
       "      <td>79.199997<\/td>\n",
       "      <td>2<\/td>\n",
       "      <td>26.0<\/td>\n",
       "      <td>9<\/td>\n",
       "    <\/tr>\n",
       "    <tr>\n",
       "      <th>3<\/th>\n",
       "      <td>Novak Djokovic<\/td>\n",
       "      <td>77.199997<\/td>\n",
       "      <td>4<\/td>\n",
       "      <td>35.0<\/td>\n",
       "      <td>2<\/td>\n",
       "    <\/tr>\n",
       "    <tr>\n",
       "      <th>5<\/th>\n",
       "      <td>Stefanos Tsitsipas<\/td>\n",
       "      <td>76.500000<\/td>\n",
       "      <td>6<\/td>\n",
       "      <td>24.0<\/td>\n",
       "      <td>3<\/td>\n",
       "    <\/tr>\n",
       "    <tr>\n",
       "      <th>7<\/th>\n",
       "      <td>Felix Auger-Aliassime<\/td>\n",
       "      <td>77.500000<\/td>\n",
       "      <td>8<\/td>\n",
       "      <td>22.0<\/td>\n",
       "      <td>6<\/td>\n",
       "    <\/tr>\n",
       "    <tr>\n",
       "      <th>8<\/th>\n",
       "      <td>Taylor Fritz<\/td>\n",
       "      <td>77.099998<\/td>\n",
       "      <td>9<\/td>\n",
       "      <td>25.0<\/td>\n",
       "      <td>10<\/td>\n",
       "    <\/tr>\n",
       "    <tr>\n",
       "      <th>10<\/th>\n",
       "      <td>Daniil Medvedev<\/td>\n",
       "      <td>75.400002<\/td>\n",
       "      <td>11<\/td>\n",
       "      <td>27.0<\/td>\n",
       "      <td>5<\/td>\n",
       "    <\/tr>\n",
       "    <tr>\n",
       "      <th>11<\/th>\n",
       "      <td>Andrey Rublev<\/td>\n",
       "      <td>76.099998<\/td>\n",
       "      <td>12<\/td>\n",
       "      <td>25.0<\/td>\n",
       "      <td>7<\/td>\n",
       "    <\/tr>\n",
       "  <\/tbody>\n",
       "<\/table>\n",
       "<\/div>"
      ]
     },
     "metadata":{
      
     },
     "output_type":"display_data"
    }
   ],
   "metadata":{
    "datalore":{
     "node_id":"CLYoVrbWQJGS3ZRBkeKX3h",
     "type":"CODE",
     "hide_input_from_viewers":false,
     "hide_output_from_viewers":false,
     "report_properties":{
      "rowId":"wTqeEp8DpxeShxR9yiB2dp"
     }
    }
   }
  },
  {
   "cell_type":"code",
   "source":[
    "### Ya sabemos cuantos jugadores hay en el top 10 del dataframe Best1stServePointsWon que estan en el top 10 del ranking de los jugadores. Vamos a ver el % de coincidencia.\n",
    "\n",
    "correlacion_1st_serve_won = Best_players_1st_serve['Rank_x'].corr(Best_players_1st_serve['Rank_y'])\n",
    "print('La correlación entre el ranking de los jugadores y el %1st Serve Points Won es del: ', correlacion_1st_serve_won)"
   ],
   "execution_count":80,
   "outputs":[
    {
     "name":"stdout",
     "text":[
      "La correlación entre el ranking de los jugadores y el %1st Serve Points Won es del:  0.1397889227658605\n"
     ],
     "output_type":"stream"
    }
   ],
   "metadata":{
    "datalore":{
     "node_id":"818IdkknE1K8Cm95DDKYmI",
     "type":"CODE",
     "hide_input_from_viewers":false,
     "hide_output_from_viewers":false,
     "report_properties":{
      "rowId":"wLgsfaG9z4w1vgezTkQZ3e"
     }
    }
   }
  },
  {
   "cell_type":"code",
   "source":[
    "## 1.2 Vamos a ver la correlación de BestReturnGamesWon con el el ranking de los jugadores de df_ranking.\n",
    "\n",
    "# Lo primero que hacemos es añadir la columna ranking a BestReturnGamesWon para poder compararla con el ranking de los jugadores.\n",
    "\n",
    "BestReturnGamesWon = BestReturnGamesWon.reset_index(drop=True)\n",
    "BestReturnGamesWon['Rank'] = BestReturnGamesWon.index + 1\n",
    "BestReturnGamesWon"
   ],
   "execution_count":81,
   "outputs":[
    {
     "data":{
      "text\/html":[
       "<div>\n",
       "<style scoped>\n",
       "    .dataframe tbody tr th:only-of-type {\n",
       "        vertical-align: middle;\n",
       "    }\n",
       "\n",
       "    .dataframe tbody tr th {\n",
       "        vertical-align: top;\n",
       "    }\n",
       "\n",
       "    .dataframe thead th {\n",
       "        text-align: right;\n",
       "    }\n",
       "<\/style>\n",
       "<table border=\"1\" class=\"dataframe\">\n",
       "  <thead>\n",
       "    <tr style=\"text-align: right;\">\n",
       "      <th><\/th>\n",
       "      <th>Player<\/th>\n",
       "      <th>%Return Games Won<\/th>\n",
       "      <th>Rank<\/th>\n",
       "    <\/tr>\n",
       "  <\/thead>\n",
       "  <tbody>\n",
       "    <tr>\n",
       "      <th>0<\/th>\n",
       "      <td>Novak Djokovic<\/td>\n",
       "      <td>29.299999<\/td>\n",
       "      <td>1<\/td>\n",
       "    <\/tr>\n",
       "    <tr>\n",
       "      <th>1<\/th>\n",
       "      <td>Daniil Medvedev<\/td>\n",
       "      <td>30.600000<\/td>\n",
       "      <td>2<\/td>\n",
       "    <\/tr>\n",
       "    <tr>\n",
       "      <th>2<\/th>\n",
       "      <td>Carlos Alcaraz<\/td>\n",
       "      <td>31.400000<\/td>\n",
       "      <td>3<\/td>\n",
       "    <\/tr>\n",
       "    <tr>\n",
       "      <th>3<\/th>\n",
       "      <td>Jack Draper<\/td>\n",
       "      <td>25.400000<\/td>\n",
       "      <td>4<\/td>\n",
       "    <\/tr>\n",
       "    <tr>\n",
       "      <th>4<\/th>\n",
       "      <td>Jannik Sinner<\/td>\n",
       "      <td>27.700001<\/td>\n",
       "      <td>5<\/td>\n",
       "    <\/tr>\n",
       "    <tr>\n",
       "      <th>5<\/th>\n",
       "      <td>Cameron Norrie<\/td>\n",
       "      <td>27.000000<\/td>\n",
       "      <td>6<\/td>\n",
       "    <\/tr>\n",
       "    <tr>\n",
       "      <th>6<\/th>\n",
       "      <td>Lorenzo Musetti<\/td>\n",
       "      <td>25.400000<\/td>\n",
       "      <td>7<\/td>\n",
       "    <\/tr>\n",
       "    <tr>\n",
       "      <th>7<\/th>\n",
       "      <td>Mackenzie Mcdonald<\/td>\n",
       "      <td>25.299999<\/td>\n",
       "      <td>8<\/td>\n",
       "    <\/tr>\n",
       "    <tr>\n",
       "      <th>8<\/th>\n",
       "      <td>Alejandro Davidovich Fokina<\/td>\n",
       "      <td>27.700001<\/td>\n",
       "      <td>9<\/td>\n",
       "    <\/tr>\n",
       "    <tr>\n",
       "      <th>9<\/th>\n",
       "      <td>Alex De Minaur<\/td>\n",
       "      <td>29.400000<\/td>\n",
       "      <td>10<\/td>\n",
       "    <\/tr>\n",
       "    <tr>\n",
       "      <th>10<\/th>\n",
       "      <td>Mikael Ymer<\/td>\n",
       "      <td>29.299999<\/td>\n",
       "      <td>11<\/td>\n",
       "    <\/tr>\n",
       "    <tr>\n",
       "      <th>11<\/th>\n",
       "      <td>Francisco Cerundolo<\/td>\n",
       "      <td>26.000000<\/td>\n",
       "      <td>12<\/td>\n",
       "    <\/tr>\n",
       "    <tr>\n",
       "      <th>12<\/th>\n",
       "      <td>David Goffin<\/td>\n",
       "      <td>25.900000<\/td>\n",
       "      <td>13<\/td>\n",
       "    <\/tr>\n",
       "    <tr>\n",
       "      <th>13<\/th>\n",
       "      <td>Federico Coria<\/td>\n",
       "      <td>28.299999<\/td>\n",
       "      <td>14<\/td>\n",
       "    <\/tr>\n",
       "    <tr>\n",
       "      <th>14<\/th>\n",
       "      <td>Jaume Munar<\/td>\n",
       "      <td>25.400000<\/td>\n",
       "      <td>15<\/td>\n",
       "    <\/tr>\n",
       "    <tr>\n",
       "      <th>15<\/th>\n",
       "      <td>Bernabe Zapata Miralles<\/td>\n",
       "      <td>31.000000<\/td>\n",
       "      <td>16<\/td>\n",
       "    <\/tr>\n",
       "    <tr>\n",
       "      <th>16<\/th>\n",
       "      <td>Diego Schwartzman<\/td>\n",
       "      <td>27.700001<\/td>\n",
       "      <td>17<\/td>\n",
       "    <\/tr>\n",
       "  <\/tbody>\n",
       "<\/table>\n",
       "<\/div>"
      ]
     },
     "metadata":{
      
     },
     "output_type":"display_data"
    }
   ],
   "metadata":{
    "datalore":{
     "node_id":"MA5TD1dqSG62cHjteKnDFL",
     "type":"CODE",
     "hide_input_from_viewers":false,
     "hide_output_from_viewers":false,
     "report_properties":{
      "rowId":"StKlp40U24KzoJB1BIBf1e"
     }
    }
   }
  },
  {
   "cell_type":"code",
   "source":[
    "# Vamos a ver la correlación de BestReturnGamesWon con el el ranking de los jugadores de df_ranking viendo si coincide en el ranking de cada jugador en ambos dataframes.\n",
    "\n",
    "df_ranking = df_ranking.reset_index(drop=True)\n",
    "df_ranking['Rank'] = df_ranking.index + 1\n",
    "df_ranking"
   ],
   "execution_count":82,
   "outputs":[
    {
     "data":{
      "text\/html":[
       "<div>\n",
       "<style scoped>\n",
       "    .dataframe tbody tr th:only-of-type {\n",
       "        vertical-align: middle;\n",
       "    }\n",
       "\n",
       "    .dataframe tbody tr th {\n",
       "        vertical-align: top;\n",
       "    }\n",
       "\n",
       "    .dataframe thead th {\n",
       "        text-align: right;\n",
       "    }\n",
       "<\/style>\n",
       "<table border=\"1\" class=\"dataframe\">\n",
       "  <thead>\n",
       "    <tr style=\"text-align: right;\">\n",
       "      <th><\/th>\n",
       "      <th>Player<\/th>\n",
       "      <th>Age<\/th>\n",
       "      <th>Rank<\/th>\n",
       "    <\/tr>\n",
       "  <\/thead>\n",
       "  <tbody>\n",
       "    <tr>\n",
       "      <th>0<\/th>\n",
       "      <td>Carlos Alcaraz<\/td>\n",
       "      <td>19.0<\/td>\n",
       "      <td>1<\/td>\n",
       "    <\/tr>\n",
       "    <tr>\n",
       "      <th>1<\/th>\n",
       "      <td>Novak Djokovic<\/td>\n",
       "      <td>35.0<\/td>\n",
       "      <td>2<\/td>\n",
       "    <\/tr>\n",
       "    <tr>\n",
       "      <th>2<\/th>\n",
       "      <td>Stefanos Tsitsipas<\/td>\n",
       "      <td>24.0<\/td>\n",
       "      <td>3<\/td>\n",
       "    <\/tr>\n",
       "    <tr>\n",
       "      <th>3<\/th>\n",
       "      <td>Casper Ruud<\/td>\n",
       "      <td>24.0<\/td>\n",
       "      <td>4<\/td>\n",
       "    <\/tr>\n",
       "    <tr>\n",
       "      <th>4<\/th>\n",
       "      <td>Daniil Medvedev<\/td>\n",
       "      <td>27.0<\/td>\n",
       "      <td>5<\/td>\n",
       "    <\/tr>\n",
       "    <tr>\n",
       "      <th>...<\/th>\n",
       "      <td>...<\/td>\n",
       "      <td>...<\/td>\n",
       "      <td>...<\/td>\n",
       "    <\/tr>\n",
       "    <tr>\n",
       "      <th>1993<\/th>\n",
       "      <td>Stefan Vujic<\/td>\n",
       "      <td>24.0<\/td>\n",
       "      <td>1994<\/td>\n",
       "    <\/tr>\n",
       "    <tr>\n",
       "      <th>1994<\/th>\n",
       "      <td>Raffael Schaer<\/td>\n",
       "      <td>20.0<\/td>\n",
       "      <td>1995<\/td>\n",
       "    <\/tr>\n",
       "    <tr>\n",
       "      <th>1995<\/th>\n",
       "      <td>Biagio Gramaticopolo<\/td>\n",
       "      <td>20.0<\/td>\n",
       "      <td>1996<\/td>\n",
       "    <\/tr>\n",
       "    <tr>\n",
       "      <th>1996<\/th>\n",
       "      <td>Akram El Sallaly<\/td>\n",
       "      <td>25.0<\/td>\n",
       "      <td>1997<\/td>\n",
       "    <\/tr>\n",
       "    <tr>\n",
       "      <th>1997<\/th>\n",
       "      <td>Matt Ponchet<\/td>\n",
       "      <td>18.0<\/td>\n",
       "      <td>1998<\/td>\n",
       "    <\/tr>\n",
       "  <\/tbody>\n",
       "<\/table>\n",
       "<p>1998 rows × 3 columns<\/p>\n",
       "<\/div>"
      ]
     },
     "metadata":{
      
     },
     "output_type":"display_data"
    }
   ],
   "metadata":{
    "datalore":{
     "node_id":"m1DBW2QJ0gVmHAgWMCqITZ",
     "type":"CODE",
     "hide_input_from_viewers":false,
     "hide_output_from_viewers":false,
     "report_properties":{
      "rowId":"PmzMmX0zaiogpTaSphw4kX"
     }
    }
   }
  },
  {
   "cell_type":"code",
   "source":[
    "# Para ver cuanto % de correlación hay entre las dos columnas vamos a hacer un merge de los dos dataframes.\n",
    "\n",
    "df_merge = pd.merge(BestReturnGamesWon, df_ranking, on='Player')\n",
    "df_merge"
   ],
   "execution_count":83,
   "outputs":[
    {
     "data":{
      "text\/html":[
       "<div>\n",
       "<style scoped>\n",
       "    .dataframe tbody tr th:only-of-type {\n",
       "        vertical-align: middle;\n",
       "    }\n",
       "\n",
       "    .dataframe tbody tr th {\n",
       "        vertical-align: top;\n",
       "    }\n",
       "\n",
       "    .dataframe thead th {\n",
       "        text-align: right;\n",
       "    }\n",
       "<\/style>\n",
       "<table border=\"1\" class=\"dataframe\">\n",
       "  <thead>\n",
       "    <tr style=\"text-align: right;\">\n",
       "      <th><\/th>\n",
       "      <th>Player<\/th>\n",
       "      <th>%Return Games Won<\/th>\n",
       "      <th>Rank_x<\/th>\n",
       "      <th>Age<\/th>\n",
       "      <th>Rank_y<\/th>\n",
       "    <\/tr>\n",
       "  <\/thead>\n",
       "  <tbody>\n",
       "    <tr>\n",
       "      <th>0<\/th>\n",
       "      <td>Novak Djokovic<\/td>\n",
       "      <td>29.299999<\/td>\n",
       "      <td>1<\/td>\n",
       "      <td>35.0<\/td>\n",
       "      <td>2<\/td>\n",
       "    <\/tr>\n",
       "    <tr>\n",
       "      <th>1<\/th>\n",
       "      <td>Daniil Medvedev<\/td>\n",
       "      <td>30.600000<\/td>\n",
       "      <td>2<\/td>\n",
       "      <td>27.0<\/td>\n",
       "      <td>5<\/td>\n",
       "    <\/tr>\n",
       "    <tr>\n",
       "      <th>2<\/th>\n",
       "      <td>Carlos Alcaraz<\/td>\n",
       "      <td>31.400000<\/td>\n",
       "      <td>3<\/td>\n",
       "      <td>19.0<\/td>\n",
       "      <td>1<\/td>\n",
       "    <\/tr>\n",
       "    <tr>\n",
       "      <th>3<\/th>\n",
       "      <td>Jack Draper<\/td>\n",
       "      <td>25.400000<\/td>\n",
       "      <td>4<\/td>\n",
       "      <td>21.0<\/td>\n",
       "      <td>43<\/td>\n",
       "    <\/tr>\n",
       "    <tr>\n",
       "      <th>4<\/th>\n",
       "      <td>Jannik Sinner<\/td>\n",
       "      <td>27.700001<\/td>\n",
       "      <td>5<\/td>\n",
       "      <td>21.0<\/td>\n",
       "      <td>11<\/td>\n",
       "    <\/tr>\n",
       "    <tr>\n",
       "      <th>5<\/th>\n",
       "      <td>Cameron Norrie<\/td>\n",
       "      <td>27.000000<\/td>\n",
       "      <td>6<\/td>\n",
       "      <td>27.0<\/td>\n",
       "      <td>12<\/td>\n",
       "    <\/tr>\n",
       "    <tr>\n",
       "      <th>6<\/th>\n",
       "      <td>Lorenzo Musetti<\/td>\n",
       "      <td>25.400000<\/td>\n",
       "      <td>7<\/td>\n",
       "      <td>21.0<\/td>\n",
       "      <td>21<\/td>\n",
       "    <\/tr>\n",
       "    <tr>\n",
       "      <th>7<\/th>\n",
       "      <td>Mackenzie Mcdonald<\/td>\n",
       "      <td>25.299999<\/td>\n",
       "      <td>8<\/td>\n",
       "      <td>27.0<\/td>\n",
       "      <td>55<\/td>\n",
       "    <\/tr>\n",
       "    <tr>\n",
       "      <th>8<\/th>\n",
       "      <td>Alejandro Davidovich Fokina<\/td>\n",
       "      <td>27.700001<\/td>\n",
       "      <td>9<\/td>\n",
       "      <td>23.0<\/td>\n",
       "      <td>25<\/td>\n",
       "    <\/tr>\n",
       "    <tr>\n",
       "      <th>9<\/th>\n",
       "      <td>Alex De Minaur<\/td>\n",
       "      <td>29.400000<\/td>\n",
       "      <td>10<\/td>\n",
       "      <td>24.0<\/td>\n",
       "      <td>18<\/td>\n",
       "    <\/tr>\n",
       "    <tr>\n",
       "      <th>10<\/th>\n",
       "      <td>Mikael Ymer<\/td>\n",
       "      <td>29.299999<\/td>\n",
       "      <td>11<\/td>\n",
       "      <td>24.0<\/td>\n",
       "      <td>53<\/td>\n",
       "    <\/tr>\n",
       "    <tr>\n",
       "      <th>11<\/th>\n",
       "      <td>Francisco Cerundolo<\/td>\n",
       "      <td>26.000000<\/td>\n",
       "      <td>12<\/td>\n",
       "      <td>24.0<\/td>\n",
       "      <td>31<\/td>\n",
       "    <\/tr>\n",
       "    <tr>\n",
       "      <th>12<\/th>\n",
       "      <td>David Goffin<\/td>\n",
       "      <td>25.900000<\/td>\n",
       "      <td>13<\/td>\n",
       "      <td>32.0<\/td>\n",
       "      <td>42<\/td>\n",
       "    <\/tr>\n",
       "    <tr>\n",
       "      <th>13<\/th>\n",
       "      <td>Federico Coria<\/td>\n",
       "      <td>28.299999<\/td>\n",
       "      <td>14<\/td>\n",
       "      <td>31.0<\/td>\n",
       "      <td>67<\/td>\n",
       "    <\/tr>\n",
       "    <tr>\n",
       "      <th>14<\/th>\n",
       "      <td>Jaume Munar<\/td>\n",
       "      <td>25.400000<\/td>\n",
       "      <td>15<\/td>\n",
       "      <td>25.0<\/td>\n",
       "      <td>66<\/td>\n",
       "    <\/tr>\n",
       "    <tr>\n",
       "      <th>15<\/th>\n",
       "      <td>Bernabe Zapata Miralles<\/td>\n",
       "      <td>31.000000<\/td>\n",
       "      <td>16<\/td>\n",
       "      <td>26.0<\/td>\n",
       "      <td>41<\/td>\n",
       "    <\/tr>\n",
       "    <tr>\n",
       "      <th>16<\/th>\n",
       "      <td>Diego Schwartzman<\/td>\n",
       "      <td>27.700001<\/td>\n",
       "      <td>17<\/td>\n",
       "      <td>30.0<\/td>\n",
       "      <td>38<\/td>\n",
       "    <\/tr>\n",
       "  <\/tbody>\n",
       "<\/table>\n",
       "<\/div>"
      ]
     },
     "metadata":{
      
     },
     "output_type":"display_data"
    }
   ],
   "metadata":{
    "datalore":{
     "node_id":"73taLf2ZOhiUBlfNbMBL3T",
     "type":"CODE",
     "hide_input_from_viewers":false,
     "hide_output_from_viewers":false,
     "report_properties":{
      "rowId":"6oLqKZXNiPtwpA5jmncRCZ"
     }
    }
   }
  },
  {
   "cell_type":"code",
   "source":[
    "# Nos quedamos solo con aquellos que estan entre los 10 primeros en el df_merge.\n",
    "\n",
    "Best_players_return_games_won = df_merge[df_merge['Rank_y'] <= 10]\n",
    "Best_players_return_games_won"
   ],
   "execution_count":84,
   "outputs":[
    {
     "data":{
      "text\/html":[
       "<div>\n",
       "<style scoped>\n",
       "    .dataframe tbody tr th:only-of-type {\n",
       "        vertical-align: middle;\n",
       "    }\n",
       "\n",
       "    .dataframe tbody tr th {\n",
       "        vertical-align: top;\n",
       "    }\n",
       "\n",
       "    .dataframe thead th {\n",
       "        text-align: right;\n",
       "    }\n",
       "<\/style>\n",
       "<table border=\"1\" class=\"dataframe\">\n",
       "  <thead>\n",
       "    <tr style=\"text-align: right;\">\n",
       "      <th><\/th>\n",
       "      <th>Player<\/th>\n",
       "      <th>%Return Games Won<\/th>\n",
       "      <th>Rank_x<\/th>\n",
       "      <th>Age<\/th>\n",
       "      <th>Rank_y<\/th>\n",
       "    <\/tr>\n",
       "  <\/thead>\n",
       "  <tbody>\n",
       "    <tr>\n",
       "      <th>0<\/th>\n",
       "      <td>Novak Djokovic<\/td>\n",
       "      <td>29.299999<\/td>\n",
       "      <td>1<\/td>\n",
       "      <td>35.0<\/td>\n",
       "      <td>2<\/td>\n",
       "    <\/tr>\n",
       "    <tr>\n",
       "      <th>1<\/th>\n",
       "      <td>Daniil Medvedev<\/td>\n",
       "      <td>30.600000<\/td>\n",
       "      <td>2<\/td>\n",
       "      <td>27.0<\/td>\n",
       "      <td>5<\/td>\n",
       "    <\/tr>\n",
       "    <tr>\n",
       "      <th>2<\/th>\n",
       "      <td>Carlos Alcaraz<\/td>\n",
       "      <td>31.400000<\/td>\n",
       "      <td>3<\/td>\n",
       "      <td>19.0<\/td>\n",
       "      <td>1<\/td>\n",
       "    <\/tr>\n",
       "  <\/tbody>\n",
       "<\/table>\n",
       "<\/div>"
      ]
     },
     "metadata":{
      
     },
     "output_type":"display_data"
    }
   ],
   "metadata":{
    "datalore":{
     "node_id":"mfViNoh5OZYJD2no4Qeixq",
     "type":"CODE",
     "hide_input_from_viewers":false,
     "hide_output_from_viewers":false,
     "report_properties":{
      "rowId":"LYZ3txDAFcLe35o3KHgdAa"
     }
    }
   }
  },
  {
   "cell_type":"code",
   "source":[
    "### Ya sabemos cuantos jugadores hay en el top 10 del dataframe BestReturnGamesWon que estan en el top 10 del ranking de los jugadores. Vamos a ver el % de coincidencia.\n",
    "\n",
    "correlacion_return_games_won = Best_players_return_games_won['Rank_x'].corr(Best_players_return_games_won['Rank_y'])\n",
    "print('La correlación entre el ranking de los jugadores y el %Return Games Won es del: ', correlacion_return_games_won)"
   ],
   "execution_count":85,
   "outputs":[
    {
     "name":"stdout",
     "text":[
      "La correlación entre el ranking de los jugadores y el %Return Games Won es del:  -0.2401922307076307\n"
     ],
     "output_type":"stream"
    }
   ],
   "metadata":{
    "datalore":{
     "node_id":"DoCwzQkwER5CH0Ac4GJUPU",
     "type":"CODE",
     "hide_input_from_viewers":false,
     "hide_output_from_viewers":false,
     "report_properties":{
      "rowId":"OqPp4iW4rpg0NdVMM4ZJQW"
     }
    }
   }
  },
  {
   "cell_type":"code",
   "source":[
    "## 1.3 Vamos a ver la correlación de BestTieBreaks con el el ranking de los jugadores de df_ranking.\n",
    "\n",
    "# Lo primero que hacemos es añadir la columna ranking a BestTieBreaks para poder compararla con el ranking de los jugadores.\n",
    "\n",
    "BestTieBreaks = BestTieBreaks.reset_index(drop=True)\n",
    "BestTieBreaks['Rank'] = BestTieBreaks.index + 1\n",
    "BestTieBreaks"
   ],
   "execution_count":86,
   "outputs":[
    {
     "data":{
      "text\/html":[
       "<div>\n",
       "<style scoped>\n",
       "    .dataframe tbody tr th:only-of-type {\n",
       "        vertical-align: middle;\n",
       "    }\n",
       "\n",
       "    .dataframe tbody tr th {\n",
       "        vertical-align: top;\n",
       "    }\n",
       "\n",
       "    .dataframe thead th {\n",
       "        text-align: right;\n",
       "    }\n",
       "<\/style>\n",
       "<table border=\"1\" class=\"dataframe\">\n",
       "  <thead>\n",
       "    <tr style=\"text-align: right;\">\n",
       "      <th><\/th>\n",
       "      <th>Player<\/th>\n",
       "      <th>%TieBreaks Won<\/th>\n",
       "      <th>Rank<\/th>\n",
       "    <\/tr>\n",
       "  <\/thead>\n",
       "  <tbody>\n",
       "    <tr>\n",
       "      <th>0<\/th>\n",
       "      <td>John Isner<\/td>\n",
       "      <td>71.099998<\/td>\n",
       "      <td>1<\/td>\n",
       "    <\/tr>\n",
       "    <tr>\n",
       "      <th>1<\/th>\n",
       "      <td>Novak Djokovic<\/td>\n",
       "      <td>80.000000<\/td>\n",
       "      <td>2<\/td>\n",
       "    <\/tr>\n",
       "    <tr>\n",
       "      <th>2<\/th>\n",
       "      <td>Taylor Fritz<\/td>\n",
       "      <td>58.500000<\/td>\n",
       "      <td>3<\/td>\n",
       "    <\/tr>\n",
       "    <tr>\n",
       "      <th>3<\/th>\n",
       "      <td>Casper Ruud<\/td>\n",
       "      <td>61.000000<\/td>\n",
       "      <td>4<\/td>\n",
       "    <\/tr>\n",
       "    <tr>\n",
       "      <th>4<\/th>\n",
       "      <td>Borna Coric<\/td>\n",
       "      <td>66.699997<\/td>\n",
       "      <td>5<\/td>\n",
       "    <\/tr>\n",
       "    <tr>\n",
       "      <th>5<\/th>\n",
       "      <td>Holger Rune<\/td>\n",
       "      <td>63.599998<\/td>\n",
       "      <td>6<\/td>\n",
       "    <\/tr>\n",
       "    <tr>\n",
       "      <th>6<\/th>\n",
       "      <td>Alexander Zverev<\/td>\n",
       "      <td>78.599998<\/td>\n",
       "      <td>7<\/td>\n",
       "    <\/tr>\n",
       "    <tr>\n",
       "      <th>7<\/th>\n",
       "      <td>Andrey Rublev<\/td>\n",
       "      <td>61.500000<\/td>\n",
       "      <td>8<\/td>\n",
       "    <\/tr>\n",
       "    <tr>\n",
       "      <th>8<\/th>\n",
       "      <td>Frances Tiafoe<\/td>\n",
       "      <td>66.699997<\/td>\n",
       "      <td>9<\/td>\n",
       "    <\/tr>\n",
       "    <tr>\n",
       "      <th>9<\/th>\n",
       "      <td>Jannik Sinner<\/td>\n",
       "      <td>68.199997<\/td>\n",
       "      <td>10<\/td>\n",
       "    <\/tr>\n",
       "    <tr>\n",
       "      <th>10<\/th>\n",
       "      <td>Sebastian Korda<\/td>\n",
       "      <td>60.700001<\/td>\n",
       "      <td>11<\/td>\n",
       "    <\/tr>\n",
       "    <tr>\n",
       "      <th>11<\/th>\n",
       "      <td>Cameron Norrie<\/td>\n",
       "      <td>61.500000<\/td>\n",
       "      <td>12<\/td>\n",
       "    <\/tr>\n",
       "    <tr>\n",
       "      <th>12<\/th>\n",
       "      <td>Andy Murray<\/td>\n",
       "      <td>61.900002<\/td>\n",
       "      <td>13<\/td>\n",
       "    <\/tr>\n",
       "    <tr>\n",
       "      <th>13<\/th>\n",
       "      <td>Dominic Thiem<\/td>\n",
       "      <td>68.199997<\/td>\n",
       "      <td>14<\/td>\n",
       "    <\/tr>\n",
       "    <tr>\n",
       "      <th>14<\/th>\n",
       "      <td>Emil Ruusuvuori<\/td>\n",
       "      <td>61.099998<\/td>\n",
       "      <td>15<\/td>\n",
       "    <\/tr>\n",
       "    <tr>\n",
       "      <th>15<\/th>\n",
       "      <td>Alex Molcan<\/td>\n",
       "      <td>58.799999<\/td>\n",
       "      <td>16<\/td>\n",
       "    <\/tr>\n",
       "    <tr>\n",
       "      <th>16<\/th>\n",
       "      <td>Botic Van De Zandschulp<\/td>\n",
       "      <td>68.199997<\/td>\n",
       "      <td>17<\/td>\n",
       "    <\/tr>\n",
       "  <\/tbody>\n",
       "<\/table>\n",
       "<\/div>"
      ]
     },
     "metadata":{
      
     },
     "output_type":"display_data"
    }
   ],
   "metadata":{
    "datalore":{
     "node_id":"L26hVDPFrIR2eLCnqochBT",
     "type":"CODE",
     "hide_input_from_viewers":false,
     "hide_output_from_viewers":false,
     "report_properties":{
      "rowId":"x2JdMpEA79YYQTPVvqE0lf"
     }
    }
   }
  },
  {
   "cell_type":"code",
   "source":[
    "### Vamos a ver la correlación de BestTieBreaks con el el ranking de los jugadores de df_ranking viendo si coincide en el ranking de cada jugador en ambos dataframes.\n",
    "\n",
    "df_ranking = df_ranking.reset_index(drop=True)\n",
    "df_ranking['Rank'] = df_ranking.index + 1\n",
    "df_ranking"
   ],
   "execution_count":87,
   "outputs":[
    {
     "data":{
      "text\/html":[
       "<div>\n",
       "<style scoped>\n",
       "    .dataframe tbody tr th:only-of-type {\n",
       "        vertical-align: middle;\n",
       "    }\n",
       "\n",
       "    .dataframe tbody tr th {\n",
       "        vertical-align: top;\n",
       "    }\n",
       "\n",
       "    .dataframe thead th {\n",
       "        text-align: right;\n",
       "    }\n",
       "<\/style>\n",
       "<table border=\"1\" class=\"dataframe\">\n",
       "  <thead>\n",
       "    <tr style=\"text-align: right;\">\n",
       "      <th><\/th>\n",
       "      <th>Player<\/th>\n",
       "      <th>Age<\/th>\n",
       "      <th>Rank<\/th>\n",
       "    <\/tr>\n",
       "  <\/thead>\n",
       "  <tbody>\n",
       "    <tr>\n",
       "      <th>0<\/th>\n",
       "      <td>Carlos Alcaraz<\/td>\n",
       "      <td>19.0<\/td>\n",
       "      <td>1<\/td>\n",
       "    <\/tr>\n",
       "    <tr>\n",
       "      <th>1<\/th>\n",
       "      <td>Novak Djokovic<\/td>\n",
       "      <td>35.0<\/td>\n",
       "      <td>2<\/td>\n",
       "    <\/tr>\n",
       "    <tr>\n",
       "      <th>2<\/th>\n",
       "      <td>Stefanos Tsitsipas<\/td>\n",
       "      <td>24.0<\/td>\n",
       "      <td>3<\/td>\n",
       "    <\/tr>\n",
       "    <tr>\n",
       "      <th>3<\/th>\n",
       "      <td>Casper Ruud<\/td>\n",
       "      <td>24.0<\/td>\n",
       "      <td>4<\/td>\n",
       "    <\/tr>\n",
       "    <tr>\n",
       "      <th>4<\/th>\n",
       "      <td>Daniil Medvedev<\/td>\n",
       "      <td>27.0<\/td>\n",
       "      <td>5<\/td>\n",
       "    <\/tr>\n",
       "    <tr>\n",
       "      <th>...<\/th>\n",
       "      <td>...<\/td>\n",
       "      <td>...<\/td>\n",
       "      <td>...<\/td>\n",
       "    <\/tr>\n",
       "    <tr>\n",
       "      <th>1993<\/th>\n",
       "      <td>Stefan Vujic<\/td>\n",
       "      <td>24.0<\/td>\n",
       "      <td>1994<\/td>\n",
       "    <\/tr>\n",
       "    <tr>\n",
       "      <th>1994<\/th>\n",
       "      <td>Raffael Schaer<\/td>\n",
       "      <td>20.0<\/td>\n",
       "      <td>1995<\/td>\n",
       "    <\/tr>\n",
       "    <tr>\n",
       "      <th>1995<\/th>\n",
       "      <td>Biagio Gramaticopolo<\/td>\n",
       "      <td>20.0<\/td>\n",
       "      <td>1996<\/td>\n",
       "    <\/tr>\n",
       "    <tr>\n",
       "      <th>1996<\/th>\n",
       "      <td>Akram El Sallaly<\/td>\n",
       "      <td>25.0<\/td>\n",
       "      <td>1997<\/td>\n",
       "    <\/tr>\n",
       "    <tr>\n",
       "      <th>1997<\/th>\n",
       "      <td>Matt Ponchet<\/td>\n",
       "      <td>18.0<\/td>\n",
       "      <td>1998<\/td>\n",
       "    <\/tr>\n",
       "  <\/tbody>\n",
       "<\/table>\n",
       "<p>1998 rows × 3 columns<\/p>\n",
       "<\/div>"
      ]
     },
     "metadata":{
      
     },
     "output_type":"display_data"
    }
   ],
   "metadata":{
    "datalore":{
     "node_id":"18fg77zIg6bXmCuP3Oc9uu",
     "type":"CODE",
     "hide_input_from_viewers":false,
     "hide_output_from_viewers":false,
     "report_properties":{
      "rowId":"r5iTOTSTkPxdDLa6m4qC0Q"
     }
    }
   }
  },
  {
   "cell_type":"code",
   "source":[
    "### Para ver cuanto % de correlación hay entre las dos columnas vamos a hacer un merge de los dos dataframes.\n",
    "\n",
    "df_merge = pd.merge(BestTieBreaks, df_ranking, on='Player')\n",
    "df_merge"
   ],
   "execution_count":88,
   "outputs":[
    {
     "data":{
      "text\/html":[
       "<div>\n",
       "<style scoped>\n",
       "    .dataframe tbody tr th:only-of-type {\n",
       "        vertical-align: middle;\n",
       "    }\n",
       "\n",
       "    .dataframe tbody tr th {\n",
       "        vertical-align: top;\n",
       "    }\n",
       "\n",
       "    .dataframe thead th {\n",
       "        text-align: right;\n",
       "    }\n",
       "<\/style>\n",
       "<table border=\"1\" class=\"dataframe\">\n",
       "  <thead>\n",
       "    <tr style=\"text-align: right;\">\n",
       "      <th><\/th>\n",
       "      <th>Player<\/th>\n",
       "      <th>%TieBreaks Won<\/th>\n",
       "      <th>Rank_x<\/th>\n",
       "      <th>Age<\/th>\n",
       "      <th>Rank_y<\/th>\n",
       "    <\/tr>\n",
       "  <\/thead>\n",
       "  <tbody>\n",
       "    <tr>\n",
       "      <th>0<\/th>\n",
       "      <td>John Isner<\/td>\n",
       "      <td>71.099998<\/td>\n",
       "      <td>1<\/td>\n",
       "      <td>37.0<\/td>\n",
       "      <td>46<\/td>\n",
       "    <\/tr>\n",
       "    <tr>\n",
       "      <th>1<\/th>\n",
       "      <td>Novak Djokovic<\/td>\n",
       "      <td>80.000000<\/td>\n",
       "      <td>2<\/td>\n",
       "      <td>35.0<\/td>\n",
       "      <td>2<\/td>\n",
       "    <\/tr>\n",
       "    <tr>\n",
       "      <th>2<\/th>\n",
       "      <td>Taylor Fritz<\/td>\n",
       "      <td>58.500000<\/td>\n",
       "      <td>3<\/td>\n",
       "      <td>25.0<\/td>\n",
       "      <td>10<\/td>\n",
       "    <\/tr>\n",
       "    <tr>\n",
       "      <th>3<\/th>\n",
       "      <td>Casper Ruud<\/td>\n",
       "      <td>61.000000<\/td>\n",
       "      <td>4<\/td>\n",
       "      <td>24.0<\/td>\n",
       "      <td>4<\/td>\n",
       "    <\/tr>\n",
       "    <tr>\n",
       "      <th>4<\/th>\n",
       "      <td>Borna Coric<\/td>\n",
       "      <td>66.699997<\/td>\n",
       "      <td>5<\/td>\n",
       "      <td>26.0<\/td>\n",
       "      <td>20<\/td>\n",
       "    <\/tr>\n",
       "    <tr>\n",
       "      <th>5<\/th>\n",
       "      <td>Holger Rune<\/td>\n",
       "      <td>63.599998<\/td>\n",
       "      <td>6<\/td>\n",
       "      <td>19.0<\/td>\n",
       "      <td>8<\/td>\n",
       "    <\/tr>\n",
       "    <tr>\n",
       "      <th>6<\/th>\n",
       "      <td>Alexander Zverev<\/td>\n",
       "      <td>78.599998<\/td>\n",
       "      <td>7<\/td>\n",
       "      <td>25.0<\/td>\n",
       "      <td>15<\/td>\n",
       "    <\/tr>\n",
       "    <tr>\n",
       "      <th>7<\/th>\n",
       "      <td>Andrey Rublev<\/td>\n",
       "      <td>61.500000<\/td>\n",
       "      <td>8<\/td>\n",
       "      <td>25.0<\/td>\n",
       "      <td>7<\/td>\n",
       "    <\/tr>\n",
       "    <tr>\n",
       "      <th>8<\/th>\n",
       "      <td>Frances Tiafoe<\/td>\n",
       "      <td>66.699997<\/td>\n",
       "      <td>9<\/td>\n",
       "      <td>25.0<\/td>\n",
       "      <td>14<\/td>\n",
       "    <\/tr>\n",
       "    <tr>\n",
       "      <th>9<\/th>\n",
       "      <td>Jannik Sinner<\/td>\n",
       "      <td>68.199997<\/td>\n",
       "      <td>10<\/td>\n",
       "      <td>21.0<\/td>\n",
       "      <td>11<\/td>\n",
       "    <\/tr>\n",
       "    <tr>\n",
       "      <th>10<\/th>\n",
       "      <td>Sebastian Korda<\/td>\n",
       "      <td>60.700001<\/td>\n",
       "      <td>11<\/td>\n",
       "      <td>22.0<\/td>\n",
       "      <td>26<\/td>\n",
       "    <\/tr>\n",
       "    <tr>\n",
       "      <th>11<\/th>\n",
       "      <td>Cameron Norrie<\/td>\n",
       "      <td>61.500000<\/td>\n",
       "      <td>12<\/td>\n",
       "      <td>27.0<\/td>\n",
       "      <td>12<\/td>\n",
       "    <\/tr>\n",
       "    <tr>\n",
       "      <th>12<\/th>\n",
       "      <td>Andy Murray<\/td>\n",
       "      <td>61.900002<\/td>\n",
       "      <td>13<\/td>\n",
       "      <td>35.0<\/td>\n",
       "      <td>52<\/td>\n",
       "    <\/tr>\n",
       "    <tr>\n",
       "      <th>13<\/th>\n",
       "      <td>Dominic Thiem<\/td>\n",
       "      <td>68.199997<\/td>\n",
       "      <td>14<\/td>\n",
       "      <td>29.0<\/td>\n",
       "      <td>106<\/td>\n",
       "    <\/tr>\n",
       "    <tr>\n",
       "      <th>14<\/th>\n",
       "      <td>Emil Ruusuvuori<\/td>\n",
       "      <td>61.099998<\/td>\n",
       "      <td>15<\/td>\n",
       "      <td>23.0<\/td>\n",
       "      <td>54<\/td>\n",
       "    <\/tr>\n",
       "    <tr>\n",
       "      <th>15<\/th>\n",
       "      <td>Alex Molcan<\/td>\n",
       "      <td>58.799999<\/td>\n",
       "      <td>16<\/td>\n",
       "      <td>25.0<\/td>\n",
       "      <td>56<\/td>\n",
       "    <\/tr>\n",
       "    <tr>\n",
       "      <th>16<\/th>\n",
       "      <td>Botic Van De Zandschulp<\/td>\n",
       "      <td>68.199997<\/td>\n",
       "      <td>17<\/td>\n",
       "      <td>27.0<\/td>\n",
       "      <td>32<\/td>\n",
       "    <\/tr>\n",
       "  <\/tbody>\n",
       "<\/table>\n",
       "<\/div>"
      ]
     },
     "metadata":{
      
     },
     "output_type":"display_data"
    }
   ],
   "metadata":{
    "datalore":{
     "node_id":"6qiwOLUQ6ygxZLTAJmzFJx",
     "type":"CODE",
     "hide_input_from_viewers":false,
     "hide_output_from_viewers":false,
     "report_properties":{
      "rowId":"YBrncujO9nKPjV1n6qM8Qr"
     }
    }
   }
  },
  {
   "cell_type":"code",
   "source":[
    "### Nos quedamos solo con aquellos que estan entre los 10 primeros en el df_merge.\n",
    "\n",
    "Best_players_tie_breaks = df_merge[df_merge['Rank_y'] <= 10]\n",
    "Best_players_tie_breaks"
   ],
   "execution_count":89,
   "outputs":[
    {
     "data":{
      "text\/html":[
       "<div>\n",
       "<style scoped>\n",
       "    .dataframe tbody tr th:only-of-type {\n",
       "        vertical-align: middle;\n",
       "    }\n",
       "\n",
       "    .dataframe tbody tr th {\n",
       "        vertical-align: top;\n",
       "    }\n",
       "\n",
       "    .dataframe thead th {\n",
       "        text-align: right;\n",
       "    }\n",
       "<\/style>\n",
       "<table border=\"1\" class=\"dataframe\">\n",
       "  <thead>\n",
       "    <tr style=\"text-align: right;\">\n",
       "      <th><\/th>\n",
       "      <th>Player<\/th>\n",
       "      <th>%TieBreaks Won<\/th>\n",
       "      <th>Rank_x<\/th>\n",
       "      <th>Age<\/th>\n",
       "      <th>Rank_y<\/th>\n",
       "    <\/tr>\n",
       "  <\/thead>\n",
       "  <tbody>\n",
       "    <tr>\n",
       "      <th>1<\/th>\n",
       "      <td>Novak Djokovic<\/td>\n",
       "      <td>80.000000<\/td>\n",
       "      <td>2<\/td>\n",
       "      <td>35.0<\/td>\n",
       "      <td>2<\/td>\n",
       "    <\/tr>\n",
       "    <tr>\n",
       "      <th>2<\/th>\n",
       "      <td>Taylor Fritz<\/td>\n",
       "      <td>58.500000<\/td>\n",
       "      <td>3<\/td>\n",
       "      <td>25.0<\/td>\n",
       "      <td>10<\/td>\n",
       "    <\/tr>\n",
       "    <tr>\n",
       "      <th>3<\/th>\n",
       "      <td>Casper Ruud<\/td>\n",
       "      <td>61.000000<\/td>\n",
       "      <td>4<\/td>\n",
       "      <td>24.0<\/td>\n",
       "      <td>4<\/td>\n",
       "    <\/tr>\n",
       "    <tr>\n",
       "      <th>5<\/th>\n",
       "      <td>Holger Rune<\/td>\n",
       "      <td>63.599998<\/td>\n",
       "      <td>6<\/td>\n",
       "      <td>19.0<\/td>\n",
       "      <td>8<\/td>\n",
       "    <\/tr>\n",
       "    <tr>\n",
       "      <th>7<\/th>\n",
       "      <td>Andrey Rublev<\/td>\n",
       "      <td>61.500000<\/td>\n",
       "      <td>8<\/td>\n",
       "      <td>25.0<\/td>\n",
       "      <td>7<\/td>\n",
       "    <\/tr>\n",
       "  <\/tbody>\n",
       "<\/table>\n",
       "<\/div>"
      ]
     },
     "metadata":{
      
     },
     "output_type":"display_data"
    }
   ],
   "metadata":{
    "datalore":{
     "node_id":"5YpasGTS1rO2y3QWe7JMaU",
     "type":"CODE",
     "hide_input_from_viewers":false,
     "hide_output_from_viewers":false,
     "report_properties":{
      "rowId":"O3QouaybYLUnELiCHXyJNz"
     }
    }
   }
  },
  {
   "cell_type":"code",
   "source":[
    "### Ya sabemos cuantos jugadores hay en el top 10 del dataframe BestTieBreaks que estan en el top 10 del ranking de los jugadores. Vamos a ver el % de coincidencia.\n",
    "\n",
    "correlacion_tie_breaks = Best_players_tie_breaks['Rank_x'].corr(Best_players_tie_breaks['Rank_y'])\n",
    "print('La correlación entre el ranking de los jugadores y el %Tie Breaks Won es del: ', correlacion_tie_breaks)"
   ],
   "execution_count":90,
   "outputs":[
    {
     "name":"stdout",
     "text":[
      "La correlación entre el ranking de los jugadores y el %Tie Breaks Won es del:  0.3705363143382948\n"
     ],
     "output_type":"stream"
    }
   ],
   "metadata":{
    "datalore":{
     "node_id":"cy9E1HnqIE5zRL4FgPl591",
     "type":"CODE",
     "hide_input_from_viewers":false,
     "hide_output_from_viewers":false,
     "report_properties":{
      "rowId":"ASmo6dP0utcimBubCPgFzr"
     }
    }
   }
  },
  {
   "cell_type":"code",
   "source":[
    "## 1.4 Vamos a ver la correlación de BestDecidingSetWon con el el ranking de los jugadores de df_ranking.\n",
    "\n",
    "# Lo primero que hacemos es añadir la columna ranking a BestDecidingSetWon para poder compararla con el ranking de los jugadores.\n",
    "\n",
    "BestDecidingSetWon = BestDecidingSetWon.reset_index(drop=True)\n",
    "BestDecidingSetWon['Rank'] = BestDecidingSetWon.index + 1\n",
    "BestDecidingSetWon"
   ],
   "execution_count":91,
   "outputs":[
    {
     "data":{
      "text\/html":[
       "<div>\n",
       "<style scoped>\n",
       "    .dataframe tbody tr th:only-of-type {\n",
       "        vertical-align: middle;\n",
       "    }\n",
       "\n",
       "    .dataframe tbody tr th {\n",
       "        vertical-align: top;\n",
       "    }\n",
       "\n",
       "    .dataframe thead th {\n",
       "        text-align: right;\n",
       "    }\n",
       "<\/style>\n",
       "<table border=\"1\" class=\"dataframe\">\n",
       "  <thead>\n",
       "    <tr style=\"text-align: right;\">\n",
       "      <th><\/th>\n",
       "      <th>Player<\/th>\n",
       "      <th>%Deciding Sets Won<\/th>\n",
       "      <th>Rank<\/th>\n",
       "    <\/tr>\n",
       "  <\/thead>\n",
       "  <tbody>\n",
       "    <tr>\n",
       "      <th>0<\/th>\n",
       "      <td>Hubert Hurkacz<\/td>\n",
       "      <td>69.000000<\/td>\n",
       "      <td>1<\/td>\n",
       "    <\/tr>\n",
       "    <tr>\n",
       "      <th>1<\/th>\n",
       "      <td>Novak Djokovic<\/td>\n",
       "      <td>63.599998<\/td>\n",
       "      <td>2<\/td>\n",
       "    <\/tr>\n",
       "    <tr>\n",
       "      <th>2<\/th>\n",
       "      <td>Stefanos Tsitsipas<\/td>\n",
       "      <td>73.099998<\/td>\n",
       "      <td>3<\/td>\n",
       "    <\/tr>\n",
       "    <tr>\n",
       "      <th>3<\/th>\n",
       "      <td>Felix Auger-Aliassime<\/td>\n",
       "      <td>66.699997<\/td>\n",
       "      <td>4<\/td>\n",
       "    <\/tr>\n",
       "    <tr>\n",
       "      <th>4<\/th>\n",
       "      <td>Carlos Alcaraz<\/td>\n",
       "      <td>73.900002<\/td>\n",
       "      <td>5<\/td>\n",
       "    <\/tr>\n",
       "    <tr>\n",
       "      <th>5<\/th>\n",
       "      <td>Andrey Rublev<\/td>\n",
       "      <td>65.199997<\/td>\n",
       "      <td>6<\/td>\n",
       "    <\/tr>\n",
       "    <tr>\n",
       "      <th>6<\/th>\n",
       "      <td>Karen Khachanov<\/td>\n",
       "      <td>64.699997<\/td>\n",
       "      <td>7<\/td>\n",
       "    <\/tr>\n",
       "    <tr>\n",
       "      <th>7<\/th>\n",
       "      <td>Arthur Rinderknech<\/td>\n",
       "      <td>75.000000<\/td>\n",
       "      <td>8<\/td>\n",
       "    <\/tr>\n",
       "    <tr>\n",
       "      <th>8<\/th>\n",
       "      <td>Jannik Sinner<\/td>\n",
       "      <td>63.599998<\/td>\n",
       "      <td>9<\/td>\n",
       "    <\/tr>\n",
       "    <tr>\n",
       "      <th>9<\/th>\n",
       "      <td>Cameron Norrie<\/td>\n",
       "      <td>71.000000<\/td>\n",
       "      <td>10<\/td>\n",
       "    <\/tr>\n",
       "    <tr>\n",
       "      <th>10<\/th>\n",
       "      <td>Yoshihito Nishioka<\/td>\n",
       "      <td>75.000000<\/td>\n",
       "      <td>11<\/td>\n",
       "    <\/tr>\n",
       "    <tr>\n",
       "      <th>11<\/th>\n",
       "      <td>Andy Murray<\/td>\n",
       "      <td>70.599998<\/td>\n",
       "      <td>12<\/td>\n",
       "    <\/tr>\n",
       "    <tr>\n",
       "      <th>12<\/th>\n",
       "      <td>Filip Krajinovic<\/td>\n",
       "      <td>75.000000<\/td>\n",
       "      <td>13<\/td>\n",
       "    <\/tr>\n",
       "    <tr>\n",
       "      <th>13<\/th>\n",
       "      <td>Richard Gasquet<\/td>\n",
       "      <td>64.699997<\/td>\n",
       "      <td>14<\/td>\n",
       "    <\/tr>\n",
       "    <tr>\n",
       "      <th>14<\/th>\n",
       "      <td>Cristian Garin<\/td>\n",
       "      <td>83.300003<\/td>\n",
       "      <td>15<\/td>\n",
       "    <\/tr>\n",
       "    <tr>\n",
       "      <th>15<\/th>\n",
       "      <td>Bernabe Zapata Miralles<\/td>\n",
       "      <td>63.599998<\/td>\n",
       "      <td>16<\/td>\n",
       "    <\/tr>\n",
       "    <tr>\n",
       "      <th>16<\/th>\n",
       "      <td>Diego Schwartzman<\/td>\n",
       "      <td>69.199997<\/td>\n",
       "      <td>17<\/td>\n",
       "    <\/tr>\n",
       "  <\/tbody>\n",
       "<\/table>\n",
       "<\/div>"
      ]
     },
     "metadata":{
      
     },
     "output_type":"display_data"
    }
   ],
   "metadata":{
    "datalore":{
     "node_id":"mdkB6C9mNwcGQrSgM5dzw3",
     "type":"CODE",
     "hide_input_from_viewers":false,
     "hide_output_from_viewers":false,
     "report_properties":{
      "rowId":"GJnOJusl8106qKWu7G7wdP"
     }
    }
   }
  },
  {
   "cell_type":"code",
   "source":[
    "### Vamos a ver la correlación de BestDecidingSetWon con el el ranking de los jugadores de df_ranking viendo si coincide en el ranking de cada jugador en ambos dataframes.\n",
    "\n",
    "df_ranking = df_ranking.reset_index(drop=True)\n",
    "df_ranking['Rank'] = df_ranking.index + 1\n",
    "df_ranking"
   ],
   "execution_count":92,
   "outputs":[
    {
     "data":{
      "text\/html":[
       "<div>\n",
       "<style scoped>\n",
       "    .dataframe tbody tr th:only-of-type {\n",
       "        vertical-align: middle;\n",
       "    }\n",
       "\n",
       "    .dataframe tbody tr th {\n",
       "        vertical-align: top;\n",
       "    }\n",
       "\n",
       "    .dataframe thead th {\n",
       "        text-align: right;\n",
       "    }\n",
       "<\/style>\n",
       "<table border=\"1\" class=\"dataframe\">\n",
       "  <thead>\n",
       "    <tr style=\"text-align: right;\">\n",
       "      <th><\/th>\n",
       "      <th>Player<\/th>\n",
       "      <th>Age<\/th>\n",
       "      <th>Rank<\/th>\n",
       "    <\/tr>\n",
       "  <\/thead>\n",
       "  <tbody>\n",
       "    <tr>\n",
       "      <th>0<\/th>\n",
       "      <td>Carlos Alcaraz<\/td>\n",
       "      <td>19.0<\/td>\n",
       "      <td>1<\/td>\n",
       "    <\/tr>\n",
       "    <tr>\n",
       "      <th>1<\/th>\n",
       "      <td>Novak Djokovic<\/td>\n",
       "      <td>35.0<\/td>\n",
       "      <td>2<\/td>\n",
       "    <\/tr>\n",
       "    <tr>\n",
       "      <th>2<\/th>\n",
       "      <td>Stefanos Tsitsipas<\/td>\n",
       "      <td>24.0<\/td>\n",
       "      <td>3<\/td>\n",
       "    <\/tr>\n",
       "    <tr>\n",
       "      <th>3<\/th>\n",
       "      <td>Casper Ruud<\/td>\n",
       "      <td>24.0<\/td>\n",
       "      <td>4<\/td>\n",
       "    <\/tr>\n",
       "    <tr>\n",
       "      <th>4<\/th>\n",
       "      <td>Daniil Medvedev<\/td>\n",
       "      <td>27.0<\/td>\n",
       "      <td>5<\/td>\n",
       "    <\/tr>\n",
       "    <tr>\n",
       "      <th>...<\/th>\n",
       "      <td>...<\/td>\n",
       "      <td>...<\/td>\n",
       "      <td>...<\/td>\n",
       "    <\/tr>\n",
       "    <tr>\n",
       "      <th>1993<\/th>\n",
       "      <td>Stefan Vujic<\/td>\n",
       "      <td>24.0<\/td>\n",
       "      <td>1994<\/td>\n",
       "    <\/tr>\n",
       "    <tr>\n",
       "      <th>1994<\/th>\n",
       "      <td>Raffael Schaer<\/td>\n",
       "      <td>20.0<\/td>\n",
       "      <td>1995<\/td>\n",
       "    <\/tr>\n",
       "    <tr>\n",
       "      <th>1995<\/th>\n",
       "      <td>Biagio Gramaticopolo<\/td>\n",
       "      <td>20.0<\/td>\n",
       "      <td>1996<\/td>\n",
       "    <\/tr>\n",
       "    <tr>\n",
       "      <th>1996<\/th>\n",
       "      <td>Akram El Sallaly<\/td>\n",
       "      <td>25.0<\/td>\n",
       "      <td>1997<\/td>\n",
       "    <\/tr>\n",
       "    <tr>\n",
       "      <th>1997<\/th>\n",
       "      <td>Matt Ponchet<\/td>\n",
       "      <td>18.0<\/td>\n",
       "      <td>1998<\/td>\n",
       "    <\/tr>\n",
       "  <\/tbody>\n",
       "<\/table>\n",
       "<p>1998 rows × 3 columns<\/p>\n",
       "<\/div>"
      ]
     },
     "metadata":{
      
     },
     "output_type":"display_data"
    }
   ],
   "metadata":{
    "datalore":{
     "node_id":"AGy9Byx5eJ4Svcl34Stu67",
     "type":"CODE",
     "hide_input_from_viewers":false,
     "hide_output_from_viewers":false,
     "report_properties":{
      "rowId":"j3Z1z6d8GNSW3iLOE6NgR8"
     }
    }
   }
  },
  {
   "cell_type":"code",
   "source":[
    "### Para ver cuanto % de correlación hay entre las dos columnas vamos a hacer un merge de los dos dataframes.\n",
    "\n",
    "df_merge = pd.merge(BestDecidingSetWon, df_ranking, on='Player')\n",
    "df_merge"
   ],
   "execution_count":93,
   "outputs":[
    {
     "data":{
      "text\/html":[
       "<div>\n",
       "<style scoped>\n",
       "    .dataframe tbody tr th:only-of-type {\n",
       "        vertical-align: middle;\n",
       "    }\n",
       "\n",
       "    .dataframe tbody tr th {\n",
       "        vertical-align: top;\n",
       "    }\n",
       "\n",
       "    .dataframe thead th {\n",
       "        text-align: right;\n",
       "    }\n",
       "<\/style>\n",
       "<table border=\"1\" class=\"dataframe\">\n",
       "  <thead>\n",
       "    <tr style=\"text-align: right;\">\n",
       "      <th><\/th>\n",
       "      <th>Player<\/th>\n",
       "      <th>%Deciding Sets Won<\/th>\n",
       "      <th>Rank_x<\/th>\n",
       "      <th>Age<\/th>\n",
       "      <th>Rank_y<\/th>\n",
       "    <\/tr>\n",
       "  <\/thead>\n",
       "  <tbody>\n",
       "    <tr>\n",
       "      <th>0<\/th>\n",
       "      <td>Hubert Hurkacz<\/td>\n",
       "      <td>69.000000<\/td>\n",
       "      <td>1<\/td>\n",
       "      <td>26.0<\/td>\n",
       "      <td>9<\/td>\n",
       "    <\/tr>\n",
       "    <tr>\n",
       "      <th>1<\/th>\n",
       "      <td>Novak Djokovic<\/td>\n",
       "      <td>63.599998<\/td>\n",
       "      <td>2<\/td>\n",
       "      <td>35.0<\/td>\n",
       "      <td>2<\/td>\n",
       "    <\/tr>\n",
       "    <tr>\n",
       "      <th>2<\/th>\n",
       "      <td>Stefanos Tsitsipas<\/td>\n",
       "      <td>73.099998<\/td>\n",
       "      <td>3<\/td>\n",
       "      <td>24.0<\/td>\n",
       "      <td>3<\/td>\n",
       "    <\/tr>\n",
       "    <tr>\n",
       "      <th>3<\/th>\n",
       "      <td>Felix Auger-Aliassime<\/td>\n",
       "      <td>66.699997<\/td>\n",
       "      <td>4<\/td>\n",
       "      <td>22.0<\/td>\n",
       "      <td>6<\/td>\n",
       "    <\/tr>\n",
       "    <tr>\n",
       "      <th>4<\/th>\n",
       "      <td>Carlos Alcaraz<\/td>\n",
       "      <td>73.900002<\/td>\n",
       "      <td>5<\/td>\n",
       "      <td>19.0<\/td>\n",
       "      <td>1<\/td>\n",
       "    <\/tr>\n",
       "    <tr>\n",
       "      <th>5<\/th>\n",
       "      <td>Andrey Rublev<\/td>\n",
       "      <td>65.199997<\/td>\n",
       "      <td>6<\/td>\n",
       "      <td>25.0<\/td>\n",
       "      <td>7<\/td>\n",
       "    <\/tr>\n",
       "    <tr>\n",
       "      <th>6<\/th>\n",
       "      <td>Karen Khachanov<\/td>\n",
       "      <td>64.699997<\/td>\n",
       "      <td>7<\/td>\n",
       "      <td>26.0<\/td>\n",
       "      <td>16<\/td>\n",
       "    <\/tr>\n",
       "    <tr>\n",
       "      <th>7<\/th>\n",
       "      <td>Arthur Rinderknech<\/td>\n",
       "      <td>75.000000<\/td>\n",
       "      <td>8<\/td>\n",
       "      <td>27.0<\/td>\n",
       "      <td>72<\/td>\n",
       "    <\/tr>\n",
       "    <tr>\n",
       "      <th>8<\/th>\n",
       "      <td>Jannik Sinner<\/td>\n",
       "      <td>63.599998<\/td>\n",
       "      <td>9<\/td>\n",
       "      <td>21.0<\/td>\n",
       "      <td>11<\/td>\n",
       "    <\/tr>\n",
       "    <tr>\n",
       "      <th>9<\/th>\n",
       "      <td>Cameron Norrie<\/td>\n",
       "      <td>71.000000<\/td>\n",
       "      <td>10<\/td>\n",
       "      <td>27.0<\/td>\n",
       "      <td>12<\/td>\n",
       "    <\/tr>\n",
       "    <tr>\n",
       "      <th>10<\/th>\n",
       "      <td>Yoshihito Nishioka<\/td>\n",
       "      <td>75.000000<\/td>\n",
       "      <td>11<\/td>\n",
       "      <td>27.0<\/td>\n",
       "      <td>34<\/td>\n",
       "    <\/tr>\n",
       "    <tr>\n",
       "      <th>11<\/th>\n",
       "      <td>Andy Murray<\/td>\n",
       "      <td>70.599998<\/td>\n",
       "      <td>12<\/td>\n",
       "      <td>35.0<\/td>\n",
       "      <td>52<\/td>\n",
       "    <\/tr>\n",
       "    <tr>\n",
       "      <th>12<\/th>\n",
       "      <td>Filip Krajinovic<\/td>\n",
       "      <td>75.000000<\/td>\n",
       "      <td>13<\/td>\n",
       "      <td>31.0<\/td>\n",
       "      <td>77<\/td>\n",
       "    <\/tr>\n",
       "    <tr>\n",
       "      <th>13<\/th>\n",
       "      <td>Richard Gasquet<\/td>\n",
       "      <td>64.699997<\/td>\n",
       "      <td>14<\/td>\n",
       "      <td>36.0<\/td>\n",
       "      <td>40<\/td>\n",
       "    <\/tr>\n",
       "    <tr>\n",
       "      <th>14<\/th>\n",
       "      <td>Cristian Garin<\/td>\n",
       "      <td>83.300003<\/td>\n",
       "      <td>15<\/td>\n",
       "      <td>26.0<\/td>\n",
       "      <td>82<\/td>\n",
       "    <\/tr>\n",
       "    <tr>\n",
       "      <th>15<\/th>\n",
       "      <td>Bernabe Zapata Miralles<\/td>\n",
       "      <td>63.599998<\/td>\n",
       "      <td>16<\/td>\n",
       "      <td>26.0<\/td>\n",
       "      <td>41<\/td>\n",
       "    <\/tr>\n",
       "    <tr>\n",
       "      <th>16<\/th>\n",
       "      <td>Diego Schwartzman<\/td>\n",
       "      <td>69.199997<\/td>\n",
       "      <td>17<\/td>\n",
       "      <td>30.0<\/td>\n",
       "      <td>38<\/td>\n",
       "    <\/tr>\n",
       "  <\/tbody>\n",
       "<\/table>\n",
       "<\/div>"
      ]
     },
     "metadata":{
      
     },
     "output_type":"display_data"
    }
   ],
   "metadata":{
    "datalore":{
     "node_id":"EaczhRIiGSnuw3ZqRl1dE6",
     "type":"CODE",
     "hide_input_from_viewers":false,
     "hide_output_from_viewers":false,
     "report_properties":{
      "rowId":"cUvfDYWAskdVCxD2mhxdT6"
     }
    }
   }
  },
  {
   "cell_type":"code",
   "source":[
    "### Nos quedamos solo con aquellos que estan entre los 10 primeros en el df_merge.\n",
    "\n",
    "Best_players_deciding_set_won = df_merge[df_merge['Rank_y'] <= 10]\n",
    "Best_players_deciding_set_won"
   ],
   "execution_count":94,
   "outputs":[
    {
     "data":{
      "text\/html":[
       "<div>\n",
       "<style scoped>\n",
       "    .dataframe tbody tr th:only-of-type {\n",
       "        vertical-align: middle;\n",
       "    }\n",
       "\n",
       "    .dataframe tbody tr th {\n",
       "        vertical-align: top;\n",
       "    }\n",
       "\n",
       "    .dataframe thead th {\n",
       "        text-align: right;\n",
       "    }\n",
       "<\/style>\n",
       "<table border=\"1\" class=\"dataframe\">\n",
       "  <thead>\n",
       "    <tr style=\"text-align: right;\">\n",
       "      <th><\/th>\n",
       "      <th>Player<\/th>\n",
       "      <th>%Deciding Sets Won<\/th>\n",
       "      <th>Rank_x<\/th>\n",
       "      <th>Age<\/th>\n",
       "      <th>Rank_y<\/th>\n",
       "    <\/tr>\n",
       "  <\/thead>\n",
       "  <tbody>\n",
       "    <tr>\n",
       "      <th>0<\/th>\n",
       "      <td>Hubert Hurkacz<\/td>\n",
       "      <td>69.000000<\/td>\n",
       "      <td>1<\/td>\n",
       "      <td>26.0<\/td>\n",
       "      <td>9<\/td>\n",
       "    <\/tr>\n",
       "    <tr>\n",
       "      <th>1<\/th>\n",
       "      <td>Novak Djokovic<\/td>\n",
       "      <td>63.599998<\/td>\n",
       "      <td>2<\/td>\n",
       "      <td>35.0<\/td>\n",
       "      <td>2<\/td>\n",
       "    <\/tr>\n",
       "    <tr>\n",
       "      <th>2<\/th>\n",
       "      <td>Stefanos Tsitsipas<\/td>\n",
       "      <td>73.099998<\/td>\n",
       "      <td>3<\/td>\n",
       "      <td>24.0<\/td>\n",
       "      <td>3<\/td>\n",
       "    <\/tr>\n",
       "    <tr>\n",
       "      <th>3<\/th>\n",
       "      <td>Felix Auger-Aliassime<\/td>\n",
       "      <td>66.699997<\/td>\n",
       "      <td>4<\/td>\n",
       "      <td>22.0<\/td>\n",
       "      <td>6<\/td>\n",
       "    <\/tr>\n",
       "    <tr>\n",
       "      <th>4<\/th>\n",
       "      <td>Carlos Alcaraz<\/td>\n",
       "      <td>73.900002<\/td>\n",
       "      <td>5<\/td>\n",
       "      <td>19.0<\/td>\n",
       "      <td>1<\/td>\n",
       "    <\/tr>\n",
       "    <tr>\n",
       "      <th>5<\/th>\n",
       "      <td>Andrey Rublev<\/td>\n",
       "      <td>65.199997<\/td>\n",
       "      <td>6<\/td>\n",
       "      <td>25.0<\/td>\n",
       "      <td>7<\/td>\n",
       "    <\/tr>\n",
       "  <\/tbody>\n",
       "<\/table>\n",
       "<\/div>"
      ]
     },
     "metadata":{
      
     },
     "output_type":"display_data"
    }
   ],
   "metadata":{
    "datalore":{
     "node_id":"WGRUgn5fReDRhsCpHWrQ2C",
     "type":"CODE",
     "hide_input_from_viewers":false,
     "hide_output_from_viewers":false,
     "report_properties":{
      "rowId":"6VMDKfO9MzuWCxTUPMs6vi"
     }
    }
   }
  },
  {
   "cell_type":"code",
   "source":[
    "### Ya sabemos cuantos jugadores hay en el top 10 del dataframe BestDecidingSetWon que estan en el top 10 del ranking de los jugadores. Vamos a ver el % de coincidencia.\n",
    "\n",
    "correlacion_deciding_set_won = Best_players_deciding_set_won['Rank_x'].corr(Best_players_deciding_set_won['Rank_y'])\n",
    "print('La correlación entre el ranking de los jugadores y el %Deciding Set Won es del: ', correlacion_deciding_set_won)"
   ],
   "execution_count":95,
   "outputs":[
    {
     "name":"stdout",
     "text":[
      "La correlación entre el ranking de los jugadores y el %Deciding Set Won es del:  -0.17016911869528195\n"
     ],
     "output_type":"stream"
    }
   ],
   "metadata":{
    "datalore":{
     "node_id":"hqKMDjfrSUX8kYkssnBXOn",
     "type":"CODE",
     "hide_input_from_viewers":false,
     "hide_output_from_viewers":false,
     "report_properties":{
      "rowId":"DyaocpJkdIvUVvogf1sb9b"
     }
    }
   }
  },
  {
   "cell_type":"code",
   "source":[
    "### Vamos a visualizar todas las correlaciones en un mismo gráfico plotly express.\n",
    "\n",
    "# Todas las correlaciones\n",
    "\n",
    "correlaciones = [correlacion_1st_serve_won, correlacion_return_games_won, correlacion_tie_breaks, correlacion_deciding_set_won]\n",
    "\n",
    "# Nombres de las correlaciones\n",
    "\n",
    "nombres = ['1st Serve Points Won', 'Return Games Won', 'Tie Breaks Won', 'Deciding Set Won']\n",
    "\n",
    "# Creamos un dataframe con los datos\n",
    "\n",
    "df_correlaciones = pd.DataFrame({'Correlaciones': correlaciones, 'Nombres': nombres})\n",
    "\n",
    "# Creamos el gráfico\n",
    "\n",
    "fig = px.bar(df_correlaciones, x='Nombres', y='Correlaciones', color='Correlaciones', color_continuous_scale='Bluered_r')\n",
    "fig.show()"
   ],
   "execution_count":96,
   "outputs":[
    {
     "data":{
      "application\/vnd.plotly.v1+json":{
       "data":[
        {
         "alignmentgroup":"True",
         "hovertemplate":"Nombres=%{x}<br>Correlaciones=%{marker.color}<extra><\/extra>",
         "legendgroup":"",
         "marker":{
          "color":[
           0.1397889227658605,
           -0.2401922307076307,
           0.3705363143382948,
           -0.17016911869528195
          ],
          "coloraxis":"coloraxis",
          "pattern":{
           "shape":""
          }
         },
         "name":"",
         "offsetgroup":"",
         "orientation":"v",
         "showlegend":false,
         "textposition":"auto",
         "x":[
          "1st Serve Points Won",
          "Return Games Won",
          "Tie Breaks Won",
          "Deciding Set Won"
         ],
         "xaxis":"x",
         "y":[
          0.1397889227658605,
          -0.2401922307076307,
          0.3705363143382948,
          -0.17016911869528195
         ],
         "yaxis":"y",
         "type":"bar"
        }
       ],
       "layout":{
        "template":{
         "data":{
          "bar":[
           {
            "error_x":{
             "color":"#2a3f5f"
            },
            "error_y":{
             "color":"#2a3f5f"
            },
            "marker":{
             "line":{
              "color":"#E5ECF6",
              "width":0.5
             },
             "pattern":{
              "fillmode":"overlay",
              "size":10,
              "solidity":0.2
             }
            },
            "type":"bar"
           }
          ],
          "barpolar":[
           {
            "marker":{
             "line":{
              "color":"#E5ECF6",
              "width":0.5
             },
             "pattern":{
              "fillmode":"overlay",
              "size":10,
              "solidity":0.2
             }
            },
            "type":"barpolar"
           }
          ],
          "carpet":[
           {
            "aaxis":{
             "endlinecolor":"#2a3f5f",
             "gridcolor":"white",
             "linecolor":"white",
             "minorgridcolor":"white",
             "startlinecolor":"#2a3f5f"
            },
            "baxis":{
             "endlinecolor":"#2a3f5f",
             "gridcolor":"white",
             "linecolor":"white",
             "minorgridcolor":"white",
             "startlinecolor":"#2a3f5f"
            },
            "type":"carpet"
           }
          ],
          "choropleth":[
           {
            "colorbar":{
             "outlinewidth":0,
             "ticks":""
            },
            "type":"choropleth"
           }
          ],
          "contour":[
           {
            "colorbar":{
             "outlinewidth":0,
             "ticks":""
            },
            "colorscale":[
             [
              0,
              "#0d0887"
             ],
             [
              0.1111111111111111,
              "#46039f"
             ],
             [
              0.2222222222222222,
              "#7201a8"
             ],
             [
              0.3333333333333333,
              "#9c179e"
             ],
             [
              0.4444444444444444,
              "#bd3786"
             ],
             [
              0.5555555555555556,
              "#d8576b"
             ],
             [
              0.6666666666666666,
              "#ed7953"
             ],
             [
              0.7777777777777778,
              "#fb9f3a"
             ],
             [
              0.8888888888888888,
              "#fdca26"
             ],
             [
              1,
              "#f0f921"
             ]
            ],
            "type":"contour"
           }
          ],
          "contourcarpet":[
           {
            "colorbar":{
             "outlinewidth":0,
             "ticks":""
            },
            "type":"contourcarpet"
           }
          ],
          "heatmap":[
           {
            "colorbar":{
             "outlinewidth":0,
             "ticks":""
            },
            "colorscale":[
             [
              0,
              "#0d0887"
             ],
             [
              0.1111111111111111,
              "#46039f"
             ],
             [
              0.2222222222222222,
              "#7201a8"
             ],
             [
              0.3333333333333333,
              "#9c179e"
             ],
             [
              0.4444444444444444,
              "#bd3786"
             ],
             [
              0.5555555555555556,
              "#d8576b"
             ],
             [
              0.6666666666666666,
              "#ed7953"
             ],
             [
              0.7777777777777778,
              "#fb9f3a"
             ],
             [
              0.8888888888888888,
              "#fdca26"
             ],
             [
              1,
              "#f0f921"
             ]
            ],
            "type":"heatmap"
           }
          ],
          "heatmapgl":[
           {
            "colorbar":{
             "outlinewidth":0,
             "ticks":""
            },
            "colorscale":[
             [
              0,
              "#0d0887"
             ],
             [
              0.1111111111111111,
              "#46039f"
             ],
             [
              0.2222222222222222,
              "#7201a8"
             ],
             [
              0.3333333333333333,
              "#9c179e"
             ],
             [
              0.4444444444444444,
              "#bd3786"
             ],
             [
              0.5555555555555556,
              "#d8576b"
             ],
             [
              0.6666666666666666,
              "#ed7953"
             ],
             [
              0.7777777777777778,
              "#fb9f3a"
             ],
             [
              0.8888888888888888,
              "#fdca26"
             ],
             [
              1,
              "#f0f921"
             ]
            ],
            "type":"heatmapgl"
           }
          ],
          "histogram":[
           {
            "marker":{
             "pattern":{
              "fillmode":"overlay",
              "size":10,
              "solidity":0.2
             }
            },
            "type":"histogram"
           }
          ],
          "histogram2d":[
           {
            "colorbar":{
             "outlinewidth":0,
             "ticks":""
            },
            "colorscale":[
             [
              0,
              "#0d0887"
             ],
             [
              0.1111111111111111,
              "#46039f"
             ],
             [
              0.2222222222222222,
              "#7201a8"
             ],
             [
              0.3333333333333333,
              "#9c179e"
             ],
             [
              0.4444444444444444,
              "#bd3786"
             ],
             [
              0.5555555555555556,
              "#d8576b"
             ],
             [
              0.6666666666666666,
              "#ed7953"
             ],
             [
              0.7777777777777778,
              "#fb9f3a"
             ],
             [
              0.8888888888888888,
              "#fdca26"
             ],
             [
              1,
              "#f0f921"
             ]
            ],
            "type":"histogram2d"
           }
          ],
          "histogram2dcontour":[
           {
            "colorbar":{
             "outlinewidth":0,
             "ticks":""
            },
            "colorscale":[
             [
              0,
              "#0d0887"
             ],
             [
              0.1111111111111111,
              "#46039f"
             ],
             [
              0.2222222222222222,
              "#7201a8"
             ],
             [
              0.3333333333333333,
              "#9c179e"
             ],
             [
              0.4444444444444444,
              "#bd3786"
             ],
             [
              0.5555555555555556,
              "#d8576b"
             ],
             [
              0.6666666666666666,
              "#ed7953"
             ],
             [
              0.7777777777777778,
              "#fb9f3a"
             ],
             [
              0.8888888888888888,
              "#fdca26"
             ],
             [
              1,
              "#f0f921"
             ]
            ],
            "type":"histogram2dcontour"
           }
          ],
          "mesh3d":[
           {
            "colorbar":{
             "outlinewidth":0,
             "ticks":""
            },
            "type":"mesh3d"
           }
          ],
          "parcoords":[
           {
            "line":{
             "colorbar":{
              "outlinewidth":0,
              "ticks":""
             }
            },
            "type":"parcoords"
           }
          ],
          "pie":[
           {
            "automargin":true,
            "type":"pie"
           }
          ],
          "scatter":[
           {
            "marker":{
             "colorbar":{
              "outlinewidth":0,
              "ticks":""
             }
            },
            "type":"scatter"
           }
          ],
          "scatter3d":[
           {
            "line":{
             "colorbar":{
              "outlinewidth":0,
              "ticks":""
             }
            },
            "marker":{
             "colorbar":{
              "outlinewidth":0,
              "ticks":""
             }
            },
            "type":"scatter3d"
           }
          ],
          "scattercarpet":[
           {
            "marker":{
             "colorbar":{
              "outlinewidth":0,
              "ticks":""
             }
            },
            "type":"scattercarpet"
           }
          ],
          "scattergeo":[
           {
            "marker":{
             "colorbar":{
              "outlinewidth":0,
              "ticks":""
             }
            },
            "type":"scattergeo"
           }
          ],
          "scattergl":[
           {
            "marker":{
             "colorbar":{
              "outlinewidth":0,
              "ticks":""
             }
            },
            "type":"scattergl"
           }
          ],
          "scattermapbox":[
           {
            "marker":{
             "colorbar":{
              "outlinewidth":0,
              "ticks":""
             }
            },
            "type":"scattermapbox"
           }
          ],
          "scatterpolar":[
           {
            "marker":{
             "colorbar":{
              "outlinewidth":0,
              "ticks":""
             }
            },
            "type":"scatterpolar"
           }
          ],
          "scatterpolargl":[
           {
            "marker":{
             "colorbar":{
              "outlinewidth":0,
              "ticks":""
             }
            },
            "type":"scatterpolargl"
           }
          ],
          "scatterternary":[
           {
            "marker":{
             "colorbar":{
              "outlinewidth":0,
              "ticks":""
             }
            },
            "type":"scatterternary"
           }
          ],
          "surface":[
           {
            "colorbar":{
             "outlinewidth":0,
             "ticks":""
            },
            "colorscale":[
             [
              0,
              "#0d0887"
             ],
             [
              0.1111111111111111,
              "#46039f"
             ],
             [
              0.2222222222222222,
              "#7201a8"
             ],
             [
              0.3333333333333333,
              "#9c179e"
             ],
             [
              0.4444444444444444,
              "#bd3786"
             ],
             [
              0.5555555555555556,
              "#d8576b"
             ],
             [
              0.6666666666666666,
              "#ed7953"
             ],
             [
              0.7777777777777778,
              "#fb9f3a"
             ],
             [
              0.8888888888888888,
              "#fdca26"
             ],
             [
              1,
              "#f0f921"
             ]
            ],
            "type":"surface"
           }
          ],
          "table":[
           {
            "cells":{
             "fill":{
              "color":"#EBF0F8"
             },
             "line":{
              "color":"white"
             }
            },
            "header":{
             "fill":{
              "color":"#C8D4E3"
             },
             "line":{
              "color":"white"
             }
            },
            "type":"table"
           }
          ]
         },
         "layout":{
          "annotationdefaults":{
           "arrowcolor":"#2a3f5f",
           "arrowhead":0,
           "arrowwidth":1
          },
          "autotypenumbers":"strict",
          "coloraxis":{
           "colorbar":{
            "outlinewidth":0,
            "ticks":""
           }
          },
          "colorscale":{
           "diverging":[
            [
             0,
             "#8e0152"
            ],
            [
             0.1,
             "#c51b7d"
            ],
            [
             0.2,
             "#de77ae"
            ],
            [
             0.3,
             "#f1b6da"
            ],
            [
             0.4,
             "#fde0ef"
            ],
            [
             0.5,
             "#f7f7f7"
            ],
            [
             0.6,
             "#e6f5d0"
            ],
            [
             0.7,
             "#b8e186"
            ],
            [
             0.8,
             "#7fbc41"
            ],
            [
             0.9,
             "#4d9221"
            ],
            [
             1,
             "#276419"
            ]
           ],
           "sequential":[
            [
             0,
             "#0d0887"
            ],
            [
             0.1111111111111111,
             "#46039f"
            ],
            [
             0.2222222222222222,
             "#7201a8"
            ],
            [
             0.3333333333333333,
             "#9c179e"
            ],
            [
             0.4444444444444444,
             "#bd3786"
            ],
            [
             0.5555555555555556,
             "#d8576b"
            ],
            [
             0.6666666666666666,
             "#ed7953"
            ],
            [
             0.7777777777777778,
             "#fb9f3a"
            ],
            [
             0.8888888888888888,
             "#fdca26"
            ],
            [
             1,
             "#f0f921"
            ]
           ],
           "sequentialminus":[
            [
             0,
             "#0d0887"
            ],
            [
             0.1111111111111111,
             "#46039f"
            ],
            [
             0.2222222222222222,
             "#7201a8"
            ],
            [
             0.3333333333333333,
             "#9c179e"
            ],
            [
             0.4444444444444444,
             "#bd3786"
            ],
            [
             0.5555555555555556,
             "#d8576b"
            ],
            [
             0.6666666666666666,
             "#ed7953"
            ],
            [
             0.7777777777777778,
             "#fb9f3a"
            ],
            [
             0.8888888888888888,
             "#fdca26"
            ],
            [
             1,
             "#f0f921"
            ]
           ]
          },
          "colorway":[
           "#636efa",
           "#EF553B",
           "#00cc96",
           "#ab63fa",
           "#FFA15A",
           "#19d3f3",
           "#FF6692",
           "#B6E880",
           "#FF97FF",
           "#FECB52"
          ],
          "font":{
           "color":"#2a3f5f"
          },
          "geo":{
           "bgcolor":"white",
           "lakecolor":"white",
           "landcolor":"#E5ECF6",
           "showlakes":true,
           "showland":true,
           "subunitcolor":"white"
          },
          "hoverlabel":{
           "align":"left"
          },
          "hovermode":"closest",
          "mapbox":{
           "style":"light"
          },
          "paper_bgcolor":"white",
          "plot_bgcolor":"#E5ECF6",
          "polar":{
           "angularaxis":{
            "gridcolor":"white",
            "linecolor":"white",
            "ticks":""
           },
           "bgcolor":"#E5ECF6",
           "radialaxis":{
            "gridcolor":"white",
            "linecolor":"white",
            "ticks":""
           }
          },
          "scene":{
           "xaxis":{
            "backgroundcolor":"#E5ECF6",
            "gridcolor":"white",
            "gridwidth":2,
            "linecolor":"white",
            "showbackground":true,
            "ticks":"",
            "zerolinecolor":"white"
           },
           "yaxis":{
            "backgroundcolor":"#E5ECF6",
            "gridcolor":"white",
            "gridwidth":2,
            "linecolor":"white",
            "showbackground":true,
            "ticks":"",
            "zerolinecolor":"white"
           },
           "zaxis":{
            "backgroundcolor":"#E5ECF6",
            "gridcolor":"white",
            "gridwidth":2,
            "linecolor":"white",
            "showbackground":true,
            "ticks":"",
            "zerolinecolor":"white"
           }
          },
          "shapedefaults":{
           "line":{
            "color":"#2a3f5f"
           }
          },
          "ternary":{
           "aaxis":{
            "gridcolor":"white",
            "linecolor":"white",
            "ticks":""
           },
           "baxis":{
            "gridcolor":"white",
            "linecolor":"white",
            "ticks":""
           },
           "bgcolor":"#E5ECF6",
           "caxis":{
            "gridcolor":"white",
            "linecolor":"white",
            "ticks":""
           }
          },
          "title":{
           "x":0.05
          },
          "xaxis":{
           "automargin":true,
           "gridcolor":"white",
           "linecolor":"white",
           "ticks":"",
           "title":{
            "standoff":15
           },
           "zerolinecolor":"white",
           "zerolinewidth":2
          },
          "yaxis":{
           "automargin":true,
           "gridcolor":"white",
           "linecolor":"white",
           "ticks":"",
           "title":{
            "standoff":15
           },
           "zerolinecolor":"white",
           "zerolinewidth":2
          }
         }
        },
        "xaxis":{
         "anchor":"y",
         "domain":[
          0,
          1
         ],
         "title":{
          "text":"Nombres"
         }
        },
        "yaxis":{
         "anchor":"x",
         "domain":[
          0,
          1
         ],
         "title":{
          "text":"Correlaciones"
         }
        },
        "coloraxis":{
         "colorbar":{
          "title":{
           "text":"Correlaciones"
          }
         },
         "colorscale":[
          [
           0,
           "rgb(255,0,0)"
          ],
          [
           1,
           "rgb(0,0,255)"
          ]
         ]
        },
        "legend":{
         "tracegroupgap":0
        },
        "margin":{
         "t":60
        },
        "barmode":"relative"
       },
       "config":{
        "plotlyServerURL":"https:\/\/plot.ly"
       }
      }
     },
     "metadata":{
      
     },
     "output_type":"display_data"
    }
   ],
   "metadata":{
    "datalore":{
     "node_id":"ZxY7V52ewKbeLocFCeW8UX",
     "type":"CODE",
     "hide_input_from_viewers":false,
     "hide_output_from_viewers":false,
     "report_properties":{
      "rowId":"oisJBKJBLqMe3WTAF3EnWL"
     }
    }
   }
  },
  {
   "cell_type":"code",
   "source":[
    "## 2. Vamos a ver que jugadores coincide que estan en todas las listas de los mejores jugadores de cada categoría.\n",
    "\n",
    "# Vamos a ver que jugadores estan en todas las listas de los mejores jugadores de cada categoría.\n",
    "\n",
    "# Creamos una lista con los nombres de los jugadores de cada dataframe\n",
    "\n",
    "lista_1st_serve_won = Best1stServePointsWon['Player'].tolist()\n",
    "lista_return_games_won = BestReturnGamesWon['Player'].tolist()\n",
    "lista_tie_breaks = BestTieBreaks['Player'].tolist()\n",
    "lista_deciding_set_won = BestDecidingSetWon['Player'].tolist()\n",
    "\n",
    "# Creamos una lista con los nombres de los jugadores que estan en todas las listas\n",
    "\n",
    "lista_jugadores = []\n",
    "\n",
    "for jugador in lista_1st_serve_won:\n",
    "    if jugador in lista_return_games_won and jugador in lista_tie_breaks and jugador in lista_deciding_set_won:\n",
    "        lista_jugadores.append(jugador)\n",
    "\n",
    "print('Los jugadores que estan en todas las listas son: ', lista_jugadores)"
   ],
   "execution_count":97,
   "outputs":[
    {
     "name":"stdout",
     "text":[
      "Los jugadores que estan en todas las listas son:  ['Novak Djokovic']\n"
     ],
     "output_type":"stream"
    }
   ],
   "metadata":{
    "datalore":{
     "node_id":"C4pFzLFjLKWFRk0JIjptZB",
     "type":"CODE",
     "hide_input_from_viewers":false,
     "hide_output_from_viewers":false,
     "report_properties":{
      "rowId":"n0e861NO5RRwRtjJTP4TmG"
     }
    }
   }
  },
  {
   "cell_type":"code",
   "source":[
    "## 3. Vamos a ver cuanto influye la edad en el ranking de los jugadores que correlacion tiene con el ranking de los jugadores.\n",
    "\n",
    "# Vamos a ver cuanto influye la edad en el ranking de los jugadores que correlacion tiene con el ranking de los jugadores.\n",
    "\n",
    "edad_ranking = df_ranking[['Player', 'Age', 'Rank']]\n",
    "edad_ranking"
   ],
   "execution_count":98,
   "outputs":[
    {
     "data":{
      "text\/html":[
       "<div>\n",
       "<style scoped>\n",
       "    .dataframe tbody tr th:only-of-type {\n",
       "        vertical-align: middle;\n",
       "    }\n",
       "\n",
       "    .dataframe tbody tr th {\n",
       "        vertical-align: top;\n",
       "    }\n",
       "\n",
       "    .dataframe thead th {\n",
       "        text-align: right;\n",
       "    }\n",
       "<\/style>\n",
       "<table border=\"1\" class=\"dataframe\">\n",
       "  <thead>\n",
       "    <tr style=\"text-align: right;\">\n",
       "      <th><\/th>\n",
       "      <th>Player<\/th>\n",
       "      <th>Age<\/th>\n",
       "      <th>Rank<\/th>\n",
       "    <\/tr>\n",
       "  <\/thead>\n",
       "  <tbody>\n",
       "    <tr>\n",
       "      <th>0<\/th>\n",
       "      <td>Carlos Alcaraz<\/td>\n",
       "      <td>19.0<\/td>\n",
       "      <td>1<\/td>\n",
       "    <\/tr>\n",
       "    <tr>\n",
       "      <th>1<\/th>\n",
       "      <td>Novak Djokovic<\/td>\n",
       "      <td>35.0<\/td>\n",
       "      <td>2<\/td>\n",
       "    <\/tr>\n",
       "    <tr>\n",
       "      <th>2<\/th>\n",
       "      <td>Stefanos Tsitsipas<\/td>\n",
       "      <td>24.0<\/td>\n",
       "      <td>3<\/td>\n",
       "    <\/tr>\n",
       "    <tr>\n",
       "      <th>3<\/th>\n",
       "      <td>Casper Ruud<\/td>\n",
       "      <td>24.0<\/td>\n",
       "      <td>4<\/td>\n",
       "    <\/tr>\n",
       "    <tr>\n",
       "      <th>4<\/th>\n",
       "      <td>Daniil Medvedev<\/td>\n",
       "      <td>27.0<\/td>\n",
       "      <td>5<\/td>\n",
       "    <\/tr>\n",
       "    <tr>\n",
       "      <th>...<\/th>\n",
       "      <td>...<\/td>\n",
       "      <td>...<\/td>\n",
       "      <td>...<\/td>\n",
       "    <\/tr>\n",
       "    <tr>\n",
       "      <th>1993<\/th>\n",
       "      <td>Stefan Vujic<\/td>\n",
       "      <td>24.0<\/td>\n",
       "      <td>1994<\/td>\n",
       "    <\/tr>\n",
       "    <tr>\n",
       "      <th>1994<\/th>\n",
       "      <td>Raffael Schaer<\/td>\n",
       "      <td>20.0<\/td>\n",
       "      <td>1995<\/td>\n",
       "    <\/tr>\n",
       "    <tr>\n",
       "      <th>1995<\/th>\n",
       "      <td>Biagio Gramaticopolo<\/td>\n",
       "      <td>20.0<\/td>\n",
       "      <td>1996<\/td>\n",
       "    <\/tr>\n",
       "    <tr>\n",
       "      <th>1996<\/th>\n",
       "      <td>Akram El Sallaly<\/td>\n",
       "      <td>25.0<\/td>\n",
       "      <td>1997<\/td>\n",
       "    <\/tr>\n",
       "    <tr>\n",
       "      <th>1997<\/th>\n",
       "      <td>Matt Ponchet<\/td>\n",
       "      <td>18.0<\/td>\n",
       "      <td>1998<\/td>\n",
       "    <\/tr>\n",
       "  <\/tbody>\n",
       "<\/table>\n",
       "<p>1998 rows × 3 columns<\/p>\n",
       "<\/div>"
      ]
     },
     "metadata":{
      
     },
     "output_type":"display_data"
    }
   ],
   "metadata":{
    "datalore":{
     "node_id":"nbB9c9AVkXbJEC20bYNLde",
     "type":"CODE",
     "hide_input_from_viewers":false,
     "hide_output_from_viewers":false,
     "report_properties":{
      "rowId":"GjIyGvd9YfAjAjdSuLszSQ"
     }
    }
   }
  },
  {
   "cell_type":"code",
   "source":[
    "### Vamos a ver la correlación de la edad con el ranking de los jugadores.\n",
    "\n",
    "correlacion_edad_ranking = edad_ranking['Age'].corr(edad_ranking['Rank'])\n",
    "print('La correlación entre la edad y el ranking de los jugadores es del: ', correlacion_edad_ranking)"
   ],
   "execution_count":99,
   "outputs":[
    {
     "name":"stdout",
     "text":[
      "La correlación entre la edad y el ranking de los jugadores es del:  -0.34703253784632143\n"
     ],
     "output_type":"stream"
    }
   ],
   "metadata":{
    "datalore":{
     "node_id":"ot2gjXPjDMvABCbFR6vAeq",
     "type":"CODE",
     "hide_input_from_viewers":false,
     "hide_output_from_viewers":false,
     "report_properties":{
      "rowId":"yrllXOdGDNbF1H7YfLt44K"
     }
    }
   }
  },
  {
   "cell_type":"code",
   "source":[
    "### Vamos a ver la correlación de la edad con el ranking de los jugadores en un gráfico plotly.\n",
    "\n",
    "fig = px.scatter(edad_ranking, x='Age', y='Rank', color='Rank', color_continuous_scale='Bluered_r')\n",
    "fig.show()"
   ],
   "execution_count":100,
   "outputs":[
    {
     "data":{
      "application\/vnd.plotly.v1+json":{
       "data":[
        {
         "hovertemplate":"Age=%{x}<br>Rank=%{marker.color}<extra><\/extra>",
         "legendgroup":"",
         "marker":{
          "color":[
           1,
           2,
           3,
           4,
           5,
           6,
           7,
           8,
           9,
           10,
           11,
           12,
           13,
           14,
           15,
           16,
           17,
           18,
           19,
           20,
           21,
           22,
           23,
           24,
           25,
           26,
           27,
           28,
           29,
           30,
           31,
           32,
           33,
           34,
           35,
           36,
           37,
           38,
           39,
           40,
           41,
           42,
           43,
           44,
           45,
           46,
           47,
           48,
           49,
           50,
           51,
           52,
           53,
           54,
           55,
           56,
           57,
           58,
           59,
           60,
           61,
           62,
           63,
           64,
           65,
           66,
           67,
           68,
           69,
           70,
           71,
           72,
           73,
           74,
           75,
           76,
           77,
           78,
           79,
           80,
           81,
           82,
           83,
           84,
           85,
           86,
           87,
           88,
           89,
           90,
           91,
           92,
           93,
           94,
           95,
           96,
           97,
           98,
           99,
           100,
           101,
           102,
           103,
           104,
           105,
           106,
           107,
           108,
           109,
           110,
           111,
           112,
           113,
           114,
           115,
           116,
           117,
           118,
           119,
           120,
           121,
           122,
           123,
           124,
           125,
           126,
           127,
           128,
           129,
           130,
           131,
           132,
           133,
           134,
           135,
           136,
           137,
           138,
           139,
           140,
           141,
           142,
           143,
           144,
           145,
           146,
           147,
           148,
           149,
           150,
           151,
           152,
           153,
           154,
           155,
           156,
           157,
           158,
           159,
           160,
           161,
           162,
           163,
           164,
           165,
           166,
           167,
           168,
           169,
           170,
           171,
           172,
           173,
           174,
           175,
           176,
           177,
           178,
           179,
           180,
           181,
           182,
           183,
           184,
           185,
           186,
           187,
           188,
           189,
           190,
           191,
           192,
           193,
           194,
           195,
           196,
           197,
           198,
           199,
           200,
           201,
           202,
           203,
           204,
           205,
           206,
           207,
           208,
           209,
           210,
           211,
           212,
           213,
           214,
           215,
           216,
           217,
           218,
           219,
           220,
           221,
           222,
           223,
           224,
           225,
           226,
           227,
           228,
           229,
           230,
           231,
           232,
           233,
           234,
           235,
           236,
           237,
           238,
           239,
           240,
           241,
           242,
           243,
           244,
           245,
           246,
           247,
           248,
           249,
           250,
           251,
           252,
           253,
           254,
           255,
           256,
           257,
           258,
           259,
           260,
           261,
           262,
           263,
           264,
           265,
           266,
           267,
           268,
           269,
           270,
           271,
           272,
           273,
           274,
           275,
           276,
           277,
           278,
           279,
           280,
           281,
           282,
           283,
           284,
           285,
           286,
           287,
           288,
           289,
           290,
           291,
           292,
           293,
           294,
           295,
           296,
           297,
           298,
           299,
           300,
           301,
           302,
           303,
           304,
           305,
           306,
           307,
           308,
           309,
           310,
           311,
           312,
           313,
           314,
           315,
           316,
           317,
           318,
           319,
           320,
           321,
           322,
           323,
           324,
           325,
           326,
           327,
           328,
           329,
           330,
           331,
           332,
           333,
           334,
           335,
           336,
           337,
           338,
           339,
           340,
           341,
           342,
           343,
           344,
           345,
           346,
           347,
           348,
           349,
           350,
           351,
           352,
           353,
           354,
           355,
           356,
           357,
           358,
           359,
           360,
           361,
           362,
           363,
           364,
           365,
           366,
           367,
           368,
           369,
           370,
           371,
           372,
           373,
           374,
           375,
           376,
           377,
           378,
           379,
           380,
           381,
           382,
           383,
           384,
           385,
           386,
           387,
           388,
           389,
           390,
           391,
           392,
           393,
           394,
           395,
           396,
           397,
           398,
           399,
           400,
           401,
           402,
           403,
           404,
           405,
           406,
           407,
           408,
           409,
           410,
           411,
           412,
           413,
           414,
           415,
           416,
           417,
           418,
           419,
           420,
           421,
           422,
           423,
           424,
           425,
           426,
           427,
           428,
           429,
           430,
           431,
           432,
           433,
           434,
           435,
           436,
           437,
           438,
           439,
           440,
           441,
           442,
           443,
           444,
           445,
           446,
           447,
           448,
           449,
           450,
           451,
           452,
           453,
           454,
           455,
           456,
           457,
           458,
           459,
           460,
           461,
           462,
           463,
           464,
           465,
           466,
           467,
           468,
           469,
           470,
           471,
           472,
           473,
           474,
           475,
           476,
           477,
           478,
           479,
           480,
           481,
           482,
           483,
           484,
           485,
           486,
           487,
           488,
           489,
           490,
           491,
           492,
           493,
           494,
           495,
           496,
           497,
           498,
           499,
           500,
           501,
           502,
           503,
           504,
           505,
           506,
           507,
           508,
           509,
           510,
           511,
           512,
           513,
           514,
           515,
           516,
           517,
           518,
           519,
           520,
           521,
           522,
           523,
           524,
           525,
           526,
           527,
           528,
           529,
           530,
           531,
           532,
           533,
           534,
           535,
           536,
           537,
           538,
           539,
           540,
           541,
           542,
           543,
           544,
           545,
           546,
           547,
           548,
           549,
           550,
           551,
           552,
           553,
           554,
           555,
           556,
           557,
           558,
           559,
           560,
           561,
           562,
           563,
           564,
           565,
           566,
           567,
           568,
           569,
           570,
           571,
           572,
           573,
           574,
           575,
           576,
           577,
           578,
           579,
           580,
           581,
           582,
           583,
           584,
           585,
           586,
           587,
           588,
           589,
           590,
           591,
           592,
           593,
           594,
           595,
           596,
           597,
           598,
           599,
           600,
           601,
           602,
           603,
           604,
           605,
           606,
           607,
           608,
           609,
           610,
           611,
           612,
           613,
           614,
           615,
           616,
           617,
           618,
           619,
           620,
           621,
           622,
           623,
           624,
           625,
           626,
           627,
           628,
           629,
           630,
           631,
           632,
           633,
           634,
           635,
           636,
           637,
           638,
           639,
           640,
           641,
           642,
           643,
           644,
           645,
           646,
           647,
           648,
           649,
           650,
           651,
           652,
           653,
           654,
           655,
           656,
           657,
           658,
           659,
           660,
           661,
           662,
           663,
           664,
           665,
           666,
           667,
           668,
           669,
           670,
           671,
           672,
           673,
           674,
           675,
           676,
           677,
           678,
           679,
           680,
           681,
           682,
           683,
           684,
           685,
           686,
           687,
           688,
           689,
           690,
           691,
           692,
           693,
           694,
           695,
           696,
           697,
           698,
           699,
           700,
           701,
           702,
           703,
           704,
           705,
           706,
           707,
           708,
           709,
           710,
           711,
           712,
           713,
           714,
           715,
           716,
           717,
           718,
           719,
           720,
           721,
           722,
           723,
           724,
           725,
           726,
           727,
           728,
           729,
           730,
           731,
           732,
           733,
           734,
           735,
           736,
           737,
           738,
           739,
           740,
           741,
           742,
           743,
           744,
           745,
           746,
           747,
           748,
           749,
           750,
           751,
           752,
           753,
           754,
           755,
           756,
           757,
           758,
           759,
           760,
           761,
           762,
           763,
           764,
           765,
           766,
           767,
           768,
           769,
           770,
           771,
           772,
           773,
           774,
           775,
           776,
           777,
           778,
           779,
           780,
           781,
           782,
           783,
           784,
           785,
           786,
           787,
           788,
           789,
           790,
           791,
           792,
           793,
           794,
           795,
           796,
           797,
           798,
           799,
           800,
           801,
           802,
           803,
           804,
           805,
           806,
           807,
           808,
           809,
           810,
           811,
           812,
           813,
           814,
           815,
           816,
           817,
           818,
           819,
           820,
           821,
           822,
           823,
           824,
           825,
           826,
           827,
           828,
           829,
           830,
           831,
           832,
           833,
           834,
           835,
           836,
           837,
           838,
           839,
           840,
           841,
           842,
           843,
           844,
           845,
           846,
           847,
           848,
           849,
           850,
           851,
           852,
           853,
           854,
           855,
           856,
           857,
           858,
           859,
           860,
           861,
           862,
           863,
           864,
           865,
           866,
           867,
           868,
           869,
           870,
           871,
           872,
           873,
           874,
           875,
           876,
           877,
           878,
           879,
           880,
           881,
           882,
           883,
           884,
           885,
           886,
           887,
           888,
           889,
           890,
           891,
           892,
           893,
           894,
           895,
           896,
           897,
           898,
           899,
           900,
           901,
           902,
           903,
           904,
           905,
           906,
           907,
           908,
           909,
           910,
           911,
           912,
           913,
           914,
           915,
           916,
           917,
           918,
           919,
           920,
           921,
           922,
           923,
           924,
           925,
           926,
           927,
           928,
           929,
           930,
           931,
           932,
           933,
           934,
           935,
           936,
           937,
           938,
           939,
           940,
           941,
           942,
           943,
           944,
           945,
           946,
           947,
           948,
           949,
           950,
           951,
           952,
           953,
           954,
           955,
           956,
           957,
           958,
           959,
           960,
           961,
           962,
           963,
           964,
           965,
           966,
           967,
           968,
           969,
           970,
           971,
           972,
           973,
           974,
           975,
           976,
           977,
           978,
           979,
           980,
           981,
           982,
           983,
           984,
           985,
           986,
           987,
           988,
           989,
           990,
           991,
           992,
           993,
           994,
           995,
           996,
           997,
           998,
           999,
           1000,
           1001,
           1002,
           1003,
           1004,
           1005,
           1006,
           1007,
           1008,
           1009,
           1010,
           1011,
           1012,
           1013,
           1014,
           1015,
           1016,
           1017,
           1018,
           1019,
           1020,
           1021,
           1022,
           1023,
           1024,
           1025,
           1026,
           1027,
           1028,
           1029,
           1030,
           1031,
           1032,
           1033,
           1034,
           1035,
           1036,
           1037,
           1038,
           1039,
           1040,
           1041,
           1042,
           1043,
           1044,
           1045,
           1046,
           1047,
           1048,
           1049,
           1050,
           1051,
           1052,
           1053,
           1054,
           1055,
           1056,
           1057,
           1058,
           1059,
           1060,
           1061,
           1062,
           1063,
           1064,
           1065,
           1066,
           1067,
           1068,
           1069,
           1070,
           1071,
           1072,
           1073,
           1074,
           1075,
           1076,
           1077,
           1078,
           1079,
           1080,
           1081,
           1082,
           1083,
           1084,
           1085,
           1086,
           1087,
           1088,
           1089,
           1090,
           1091,
           1092,
           1093,
           1094,
           1095,
           1096,
           1097,
           1098,
           1099,
           1100,
           1101,
           1102,
           1103,
           1104,
           1105,
           1106,
           1107,
           1108,
           1109,
           1110,
           1111,
           1112,
           1113,
           1114,
           1115,
           1116,
           1117,
           1118,
           1119,
           1120,
           1121,
           1122,
           1123,
           1124,
           1125,
           1126,
           1127,
           1128,
           1129,
           1130,
           1131,
           1132,
           1133,
           1134,
           1135,
           1136,
           1137,
           1138,
           1139,
           1140,
           1141,
           1142,
           1143,
           1144,
           1145,
           1146,
           1147,
           1148,
           1149,
           1150,
           1151,
           1152,
           1153,
           1154,
           1155,
           1156,
           1157,
           1158,
           1159,
           1160,
           1161,
           1162,
           1163,
           1164,
           1165,
           1166,
           1167,
           1168,
           1169,
           1170,
           1171,
           1172,
           1173,
           1174,
           1175,
           1176,
           1177,
           1178,
           1179,
           1180,
           1181,
           1182,
           1183,
           1184,
           1185,
           1186,
           1187,
           1188,
           1189,
           1190,
           1191,
           1192,
           1193,
           1194,
           1195,
           1196,
           1197,
           1198,
           1199,
           1200,
           1201,
           1202,
           1203,
           1204,
           1205,
           1206,
           1207,
           1208,
           1209,
           1210,
           1211,
           1212,
           1213,
           1214,
           1215,
           1216,
           1217,
           1218,
           1219,
           1220,
           1221,
           1222,
           1223,
           1224,
           1225,
           1226,
           1227,
           1228,
           1229,
           1230,
           1231,
           1232,
           1233,
           1234,
           1235,
           1236,
           1237,
           1238,
           1239,
           1240,
           1241,
           1242,
           1243,
           1244,
           1245,
           1246,
           1247,
           1248,
           1249,
           1250,
           1251,
           1252,
           1253,
           1254,
           1255,
           1256,
           1257,
           1258,
           1259,
           1260,
           1261,
           1262,
           1263,
           1264,
           1265,
           1266,
           1267,
           1268,
           1269,
           1270,
           1271,
           1272,
           1273,
           1274,
           1275,
           1276,
           1277,
           1278,
           1279,
           1280,
           1281,
           1282,
           1283,
           1284,
           1285,
           1286,
           1287,
           1288,
           1289,
           1290,
           1291,
           1292,
           1293,
           1294,
           1295,
           1296,
           1297,
           1298,
           1299,
           1300,
           1301,
           1302,
           1303,
           1304,
           1305,
           1306,
           1307,
           1308,
           1309,
           1310,
           1311,
           1312,
           1313,
           1314,
           1315,
           1316,
           1317,
           1318,
           1319,
           1320,
           1321,
           1322,
           1323,
           1324,
           1325,
           1326,
           1327,
           1328,
           1329,
           1330,
           1331,
           1332,
           1333,
           1334,
           1335,
           1336,
           1337,
           1338,
           1339,
           1340,
           1341,
           1342,
           1343,
           1344,
           1345,
           1346,
           1347,
           1348,
           1349,
           1350,
           1351,
           1352,
           1353,
           1354,
           1355,
           1356,
           1357,
           1358,
           1359,
           1360,
           1361,
           1362,
           1363,
           1364,
           1365,
           1366,
           1367,
           1368,
           1369,
           1370,
           1371,
           1372,
           1373,
           1374,
           1375,
           1376,
           1377,
           1378,
           1379,
           1380,
           1381,
           1382,
           1383,
           1384,
           1385,
           1386,
           1387,
           1388,
           1389,
           1390,
           1391,
           1392,
           1393,
           1394,
           1395,
           1396,
           1397,
           1398,
           1399,
           1400,
           1401,
           1402,
           1403,
           1404,
           1405,
           1406,
           1407,
           1408,
           1409,
           1410,
           1411,
           1412,
           1413,
           1414,
           1415,
           1416,
           1417,
           1418,
           1419,
           1420,
           1421,
           1422,
           1423,
           1424,
           1425,
           1426,
           1427,
           1428,
           1429,
           1430,
           1431,
           1432,
           1433,
           1434,
           1435,
           1436,
           1437,
           1438,
           1439,
           1440,
           1441,
           1442,
           1443,
           1444,
           1445,
           1446,
           1447,
           1448,
           1449,
           1450,
           1451,
           1452,
           1453,
           1454,
           1455,
           1456,
           1457,
           1458,
           1459,
           1460,
           1461,
           1462,
           1463,
           1464,
           1465,
           1466,
           1467,
           1468,
           1469,
           1470,
           1471,
           1472,
           1473,
           1474,
           1475,
           1476,
           1477,
           1478,
           1479,
           1480,
           1481,
           1482,
           1483,
           1484,
           1485,
           1486,
           1487,
           1488,
           1489,
           1490,
           1491,
           1492,
           1493,
           1494,
           1495,
           1496,
           1497,
           1498,
           1499,
           1500,
           1501,
           1502,
           1503,
           1504,
           1505,
           1506,
           1507,
           1508,
           1509,
           1510,
           1511,
           1512,
           1513,
           1514,
           1515,
           1516,
           1517,
           1518,
           1519,
           1520,
           1521,
           1522,
           1523,
           1524,
           1525,
           1526,
           1527,
           1528,
           1529,
           1530,
           1531,
           1532,
           1533,
           1534,
           1535,
           1536,
           1537,
           1538,
           1539,
           1540,
           1541,
           1542,
           1543,
           1544,
           1545,
           1546,
           1547,
           1548,
           1549,
           1550,
           1551,
           1552,
           1553,
           1554,
           1555,
           1556,
           1557,
           1558,
           1559,
           1560,
           1561,
           1562,
           1563,
           1564,
           1565,
           1566,
           1567,
           1568,
           1569,
           1570,
           1571,
           1572,
           1573,
           1574,
           1575,
           1576,
           1577,
           1578,
           1579,
           1580,
           1581,
           1582,
           1583,
           1584,
           1585,
           1586,
           1587,
           1588,
           1589,
           1590,
           1591,
           1592,
           1593,
           1594,
           1595,
           1596,
           1597,
           1598,
           1599,
           1600,
           1601,
           1602,
           1603,
           1604,
           1605,
           1606,
           1607,
           1608,
           1609,
           1610,
           1611,
           1612,
           1613,
           1614,
           1615,
           1616,
           1617,
           1618,
           1619,
           1620,
           1621,
           1622,
           1623,
           1624,
           1625,
           1626,
           1627,
           1628,
           1629,
           1630,
           1631,
           1632,
           1633,
           1634,
           1635,
           1636,
           1637,
           1638,
           1639,
           1640,
           1641,
           1642,
           1643,
           1644,
           1645,
           1646,
           1647,
           1648,
           1649,
           1650,
           1651,
           1652,
           1653,
           1654,
           1655,
           1656,
           1657,
           1658,
           1659,
           1660,
           1661,
           1662,
           1663,
           1664,
           1665,
           1666,
           1667,
           1668,
           1669,
           1670,
           1671,
           1672,
           1673,
           1674,
           1675,
           1676,
           1677,
           1678,
           1679,
           1680,
           1681,
           1682,
           1683,
           1684,
           1685,
           1686,
           1687,
           1688,
           1689,
           1690,
           1691,
           1692,
           1693,
           1694,
           1695,
           1696,
           1697,
           1698,
           1699,
           1700,
           1701,
           1702,
           1703,
           1704,
           1705,
           1706,
           1707,
           1708,
           1709,
           1710,
           1711,
           1712,
           1713,
           1714,
           1715,
           1716,
           1717,
           1718,
           1719,
           1720,
           1721,
           1722,
           1723,
           1724,
           1725,
           1726,
           1727,
           1728,
           1729,
           1730,
           1731,
           1732,
           1733,
           1734,
           1735,
           1736,
           1737,
           1738,
           1739,
           1740,
           1741,
           1742,
           1743,
           1744,
           1745,
           1746,
           1747,
           1748,
           1749,
           1750,
           1751,
           1752,
           1753,
           1754,
           1755,
           1756,
           1757,
           1758,
           1759,
           1760,
           1761,
           1762,
           1763,
           1764,
           1765,
           1766,
           1767,
           1768,
           1769,
           1770,
           1771,
           1772,
           1773,
           1774,
           1775,
           1776,
           1777,
           1778,
           1779,
           1780,
           1781,
           1782,
           1783,
           1784,
           1785,
           1786,
           1787,
           1788,
           1789,
           1790,
           1791,
           1792,
           1793,
           1794,
           1795,
           1796,
           1797,
           1798,
           1799,
           1800,
           1801,
           1802,
           1803,
           1804,
           1805,
           1806,
           1807,
           1808,
           1809,
           1810,
           1811,
           1812,
           1813,
           1814,
           1815,
           1816,
           1817,
           1818,
           1819,
           1820,
           1821,
           1822,
           1823,
           1824,
           1825,
           1826,
           1827,
           1828,
           1829,
           1830,
           1831,
           1832,
           1833,
           1834,
           1835,
           1836,
           1837,
           1838,
           1839,
           1840,
           1841,
           1842,
           1843,
           1844,
           1845,
           1846,
           1847,
           1848,
           1849,
           1850,
           1851,
           1852,
           1853,
           1854,
           1855,
           1856,
           1857,
           1858,
           1859,
           1860,
           1861,
           1862,
           1863,
           1864,
           1865,
           1866,
           1867,
           1868,
           1869,
           1870,
           1871,
           1872,
           1873,
           1874,
           1875,
           1876,
           1877,
           1878,
           1879,
           1880,
           1881,
           1882,
           1883,
           1884,
           1885,
           1886,
           1887,
           1888,
           1889,
           1890,
           1891,
           1892,
           1893,
           1894,
           1895,
           1896,
           1897,
           1898,
           1899,
           1900,
           1901,
           1902,
           1903,
           1904,
           1905,
           1906,
           1907,
           1908,
           1909,
           1910,
           1911,
           1912,
           1913,
           1914,
           1915,
           1916,
           1917,
           1918,
           1919,
           1920,
           1921,
           1922,
           1923,
           1924,
           1925,
           1926,
           1927,
           1928,
           1929,
           1930,
           1931,
           1932,
           1933,
           1934,
           1935,
           1936,
           1937,
           1938,
           1939,
           1940,
           1941,
           1942,
           1943,
           1944,
           1945,
           1946,
           1947,
           1948,
           1949,
           1950,
           1951,
           1952,
           1953,
           1954,
           1955,
           1956,
           1957,
           1958,
           1959,
           1960,
           1961,
           1962,
           1963,
           1964,
           1965,
           1966,
           1967,
           1968,
           1969,
           1970,
           1971,
           1972,
           1973,
           1974,
           1975,
           1976,
           1977,
           1978,
           1979,
           1980,
           1981,
           1982,
           1983,
           1984,
           1985,
           1986,
           1987,
           1988,
           1989,
           1990,
           1991,
           1992,
           1993,
           1994,
           1995,
           1996,
           1997,
           1998
          ],
          "coloraxis":"coloraxis",
          "symbol":"circle"
         },
         "mode":"markers",
         "name":"",
         "showlegend":false,
         "x":[
          19,
          35,
          24,
          24,
          27,
          22,
          25,
          19,
          26,
          25,
          21,
          27,
          36,
          25,
          25,
          26,
          31,
          24,
          25,
          26,
          21,
          34,
          26,
          27,
          23,
          22,
          31,
          34,
          32,
          23,
          24,
          27,
          22,
          27,
          23,
          26,
          25,
          30,
          20,
          36,
          26,
          32,
          21,
          21,
          21,
          37,
          26,
          25,
          26,
          24,
          35,
          35,
          24,
          23,
          27,
          25,
          27,
          27,
          27,
          30,
          22,
          34,
          27,
          23,
          29,
          25,
          31,
          26,
          23,
          29,
          29,
          27,
          23,
          31,
          25,
          32,
          31,
          24,
          26,
          29,
          28,
          26,
          28,
          29,
          29,
          28,
          37,
          27,
          26,
          25,
          35,
          26,
          23,
          26,
          30,
          31,
          30,
          22,
          24,
          33,
          22,
          24,
          32,
          25,
          21,
          29,
          29,
          18,
          18,
          33,
          29,
          31,
          25,
          24,
          22,
          22,
          24,
          20,
          26,
          27,
          25,
          30,
          24,
          21,
          22,
          21,
          23,
          23,
          26,
          19,
          23,
          31,
          32,
          31,
          23,
          25,
          26,
          25,
          21,
          21,
          24,
          29,
          22,
          27,
          25,
          26,
          27,
          21,
          26,
          21,
          27,
          33,
          30,
          30,
          22,
          33,
          27,
          32,
          28,
          24,
          29,
          25,
          22,
          25,
          25,
          29,
          23,
          26,
          24,
          33,
          20,
          28,
          21,
          26,
          26,
          29,
          20,
          26,
          32,
          31,
          18,
          21,
          25,
          25,
          23,
          28,
          20,
          25,
          29,
          38,
          31,
          19,
          24,
          28,
          30,
          31,
          21,
          29,
          21,
          30,
          33,
          27,
          30,
          30,
          24,
          23,
          25,
          26,
          26,
          24,
          39,
          21,
          24,
          34,
          29,
          24,
          22,
          20,
          31,
          26,
          27,
          32,
          20,
          22,
          29,
          23,
          33,
          28,
          26,
          20,
          27,
          25,
          28,
          21,
          32,
          29,
          22,
          24,
          31,
          25,
          26,
          23,
          23,
          23,
          26,
          21,
          37,
          31,
          26,
          25,
          21,
          23,
          21,
          28,
          21,
          25,
          24,
          23,
          20,
          22,
          32,
          28,
          23,
          21,
          22,
          21,
          27,
          34,
          35,
          21,
          19,
          25,
          22,
          29,
          35,
          28,
          19,
          37,
          27,
          36,
          19,
          32,
          23,
          21,
          25,
          30,
          28,
          30,
          37,
          23,
          24,
          21,
          24,
          21,
          22,
          22,
          29,
          22,
          30,
          25,
          22,
          32,
          24,
          31,
          20,
          26,
          29,
          31,
          25,
          28,
          32,
          18,
          24,
          25,
          24,
          24,
          27,
          32,
          30,
          28,
          25,
          24,
          20,
          30,
          28,
          22,
          35,
          24,
          22,
          26,
          24,
          23,
          31,
          26,
          22,
          33,
          19,
          22,
          31,
          24,
          28,
          23,
          22,
          20,
          24,
          26,
          22,
          35,
          25,
          33,
          24,
          25,
          24,
          27,
          19,
          22,
          24,
          20,
          21,
          26,
          32,
          22,
          29,
          35,
          31,
          23,
          20,
          34,
          24,
          33,
          25,
          27,
          28,
          25,
          26,
          24,
          32,
          25,
          24,
          30,
          17,
          31,
          30,
          30,
          29,
          29,
          28,
          19,
          25,
          17,
          29,
          26,
          27,
          28,
          25,
          35,
          23,
          21,
          21,
          21,
          26,
          26,
          23,
          25,
          24,
          23,
          24,
          22,
          27,
          23,
          28,
          20,
          29,
          24,
          22,
          28,
          32,
          28,
          20,
          20,
          24,
          32,
          22,
          25,
          32,
          19,
          25,
          28,
          26,
          26,
          33,
          29,
          20,
          30,
          30,
          21,
          23,
          21,
          19,
          21,
          37,
          24,
          24,
          32,
          20,
          30,
          31,
          25,
          31,
          30,
          28,
          23,
          39,
          25,
          21,
          24,
          24,
          35,
          29,
          21,
          24,
          26,
          26,
          24,
          27,
          25,
          34,
          18,
          19,
          22,
          28,
          19,
          22,
          20,
          18,
          33,
          19,
          23,
          22,
          22,
          29,
          24,
          29,
          24,
          28,
          33,
          24,
          26,
          20,
          25,
          23,
          22,
          29,
          20,
          25,
          25,
          18,
          23,
          20,
          19,
          null,
          null,
          17,
          20,
          39,
          30,
          23,
          19,
          19,
          26,
          30,
          21,
          20,
          24,
          25,
          23,
          18,
          25,
          24,
          29,
          19,
          28,
          22,
          26,
          27,
          35,
          19,
          22,
          22,
          32,
          20,
          26,
          28,
          35,
          31,
          23,
          24,
          20,
          23,
          27,
          20,
          21,
          22,
          20,
          31,
          28,
          30,
          23,
          23,
          29,
          27,
          22,
          29,
          24,
          24,
          21,
          20,
          26,
          33,
          27,
          30,
          22,
          24,
          20,
          32,
          21,
          21,
          22,
          27,
          23,
          23,
          33,
          19,
          21,
          38,
          24,
          25,
          25,
          23,
          20,
          22,
          18,
          32,
          21,
          41,
          23,
          27,
          26,
          22,
          25,
          28,
          18,
          30,
          26,
          26,
          24,
          19,
          29,
          21,
          24,
          31,
          21,
          26,
          25,
          22,
          27,
          23,
          33,
          26,
          19,
          25,
          18,
          23,
          22,
          20,
          21,
          28,
          27,
          22,
          21,
          26,
          25,
          23,
          26,
          20,
          21,
          29,
          19,
          19,
          22,
          29,
          21,
          36,
          24,
          27,
          26,
          27,
          25,
          32,
          21,
          23,
          24,
          27,
          36,
          32,
          22,
          26,
          19,
          22,
          24,
          24,
          21,
          24,
          24,
          23,
          21,
          32,
          25,
          18,
          24,
          19,
          25,
          22,
          28,
          22,
          20,
          28,
          24,
          21,
          29,
          22,
          21,
          28,
          18,
          21,
          23,
          27,
          22,
          20,
          24,
          22,
          24,
          26,
          23,
          23,
          22,
          25,
          29,
          36,
          18,
          29,
          23,
          20,
          18,
          25,
          21,
          27,
          18,
          23,
          21,
          34,
          21,
          18,
          21,
          18,
          23,
          23,
          25,
          25,
          20,
          28,
          29,
          18,
          21,
          27,
          24,
          27,
          29,
          23,
          23,
          19,
          25,
          24,
          27,
          28,
          26,
          18,
          26,
          23,
          24,
          26,
          24,
          22,
          22,
          26,
          27,
          35,
          36,
          20,
          20,
          25,
          19,
          22,
          24,
          34,
          21,
          18,
          20,
          23,
          23,
          20,
          26,
          23,
          27,
          22,
          26,
          25,
          23,
          29,
          18,
          18,
          29,
          23,
          24,
          21,
          24,
          24,
          24,
          20,
          24,
          20,
          29,
          32,
          21,
          21,
          21,
          18,
          24,
          23,
          24,
          21,
          39,
          30,
          18,
          22,
          17,
          27,
          24,
          29,
          23,
          19,
          24,
          24,
          22,
          21,
          24,
          25,
          30,
          20,
          24,
          19,
          18,
          19,
          19,
          30,
          24,
          22,
          29,
          22,
          25,
          26,
          23,
          24,
          25,
          34,
          31,
          18,
          22,
          21,
          28,
          19,
          23,
          20,
          21,
          34,
          30,
          18,
          24,
          27,
          22,
          30,
          20,
          29,
          16,
          20,
          25,
          22,
          21,
          28,
          24,
          27,
          20,
          25,
          36,
          25,
          25,
          20,
          22,
          26,
          30,
          22,
          22,
          22,
          23,
          24,
          21,
          32,
          23,
          17,
          21,
          25,
          32,
          31,
          22,
          26,
          27,
          20,
          18,
          23,
          21,
          18,
          28,
          25,
          24,
          24,
          23,
          25,
          24,
          22,
          19,
          22,
          22,
          22,
          25,
          27,
          23,
          22,
          26,
          24,
          33,
          23,
          35,
          24,
          26,
          22,
          28,
          24,
          21,
          21,
          24,
          32,
          24,
          24,
          25,
          28,
          26,
          null,
          31,
          24,
          27,
          27,
          19,
          22,
          22,
          28,
          25,
          19,
          32,
          20,
          28,
          24,
          17,
          18,
          20,
          27,
          25,
          25,
          32,
          21,
          20,
          35,
          29,
          28,
          23,
          21,
          24,
          28,
          25,
          21,
          20,
          27,
          23,
          34,
          22,
          17,
          23,
          21,
          20,
          25,
          18,
          24,
          20,
          18,
          22,
          27,
          18,
          25,
          22,
          21,
          21,
          22,
          23,
          24,
          18,
          35,
          24,
          22,
          26,
          19,
          28,
          24,
          22,
          22,
          34,
          19,
          17,
          20,
          25,
          23,
          19,
          22,
          20,
          21,
          25,
          22,
          27,
          20,
          18,
          21,
          22,
          20,
          23,
          26,
          23,
          22,
          23,
          25,
          19,
          23,
          26,
          22,
          25,
          null,
          null,
          20,
          28,
          26,
          22,
          26,
          26,
          33,
          25,
          24,
          21,
          21,
          25,
          25,
          30,
          27,
          19,
          23,
          36,
          29,
          33,
          26,
          35,
          32,
          23,
          27,
          20,
          23,
          19,
          32,
          23,
          22,
          19,
          24,
          18,
          19,
          26,
          19,
          26,
          24,
          24,
          20,
          24,
          25,
          28,
          23,
          26,
          26,
          26,
          21,
          25,
          26,
          23,
          20,
          20,
          21,
          25,
          27,
          35,
          31,
          25,
          22,
          17,
          19,
          19,
          24,
          23,
          22,
          20,
          19,
          16,
          25,
          34,
          35,
          21,
          23,
          30,
          25,
          24,
          21,
          24,
          23,
          24,
          20,
          33,
          21,
          18,
          21,
          25,
          22,
          20,
          29,
          22,
          28,
          31,
          24,
          32,
          26,
          27,
          18,
          24,
          24,
          28,
          17,
          24,
          23,
          22,
          23,
          22,
          27,
          26,
          19,
          22,
          24,
          24,
          21,
          22,
          35,
          25,
          21,
          32,
          27,
          18,
          22,
          20,
          16,
          25,
          18,
          23,
          28,
          24,
          28,
          29,
          23,
          24,
          18,
          22,
          20,
          21,
          26,
          18,
          22,
          26,
          20,
          19,
          22,
          25,
          24,
          26,
          22,
          25,
          25,
          30,
          20,
          26,
          20,
          25,
          23,
          18,
          23,
          20,
          27,
          35,
          21,
          21,
          18,
          26,
          21,
          24,
          19,
          26,
          24,
          29,
          35,
          23,
          18,
          33,
          25,
          29,
          20,
          23,
          25,
          22,
          19,
          21,
          24,
          23,
          23,
          26,
          22,
          31,
          20,
          27,
          23,
          24,
          23,
          18,
          20,
          21,
          26,
          19,
          23,
          21,
          20,
          22,
          22,
          19,
          25,
          28,
          24,
          21,
          20,
          21,
          30,
          29,
          30,
          24,
          22,
          35,
          18,
          18,
          17,
          19,
          26,
          18,
          19,
          21,
          22,
          20,
          19,
          21,
          33,
          29,
          27,
          23,
          20,
          27,
          17,
          18,
          20,
          18,
          20,
          null,
          20,
          23,
          22,
          24,
          19,
          23,
          19,
          20,
          24,
          22,
          22,
          19,
          19,
          20,
          21,
          22,
          18,
          26,
          null,
          26,
          19,
          25,
          22,
          22,
          33,
          null,
          17,
          22,
          30,
          23,
          22,
          21,
          18,
          27,
          23,
          25,
          29,
          28,
          28,
          20,
          21,
          21,
          19,
          20,
          21,
          20,
          20,
          22,
          22,
          24,
          25,
          22,
          19,
          24,
          21,
          21,
          21,
          20,
          22,
          22,
          26,
          23,
          19,
          23,
          19,
          18,
          21,
          18,
          18,
          19,
          21,
          27,
          27,
          22,
          26,
          22,
          24,
          22,
          31,
          18,
          26,
          35,
          22,
          22,
          21,
          20,
          21,
          21,
          28,
          22,
          25,
          25,
          25,
          19,
          32,
          25,
          19,
          25,
          21,
          25,
          19,
          22,
          19,
          19,
          29,
          22,
          21,
          22,
          27,
          22,
          18,
          24,
          21,
          24,
          18,
          23,
          27,
          20,
          22,
          24,
          20,
          30,
          24,
          18,
          24,
          26,
          19,
          null,
          16,
          38,
          21,
          22,
          20,
          21,
          21,
          21,
          24,
          18,
          19,
          27,
          22,
          null,
          25,
          27,
          19,
          19,
          31,
          21,
          29,
          21,
          22,
          30,
          18,
          27,
          23,
          22,
          29,
          25,
          21,
          31,
          22,
          22,
          19,
          22,
          23,
          21,
          23,
          19,
          25,
          24,
          24,
          28,
          24,
          21,
          20,
          20,
          17,
          22,
          25,
          22,
          19,
          23,
          26,
          19,
          19,
          18,
          23,
          27,
          21,
          23,
          24,
          17,
          23,
          19,
          19,
          20,
          25,
          18,
          23,
          26,
          27,
          27,
          18,
          null,
          30,
          27,
          17,
          22,
          27,
          23,
          25,
          29,
          30,
          35,
          31,
          25,
          42,
          37,
          27,
          29,
          34,
          31,
          24,
          24,
          28,
          16,
          25,
          26,
          22,
          19,
          27,
          20,
          21,
          20,
          25,
          24,
          18,
          21,
          22,
          37,
          22,
          22,
          23,
          18,
          22,
          18,
          22,
          24,
          24,
          21,
          20,
          23,
          21,
          21,
          24,
          19,
          18,
          21,
          null,
          null,
          20,
          21,
          24,
          18,
          24,
          21,
          30,
          21,
          20,
          18,
          20,
          20,
          22,
          22,
          19,
          33,
          22,
          21,
          17,
          24,
          26,
          20,
          19,
          20,
          20,
          20,
          25,
          19,
          20,
          18,
          44,
          25,
          22,
          17,
          23,
          17,
          25,
          24,
          24,
          19,
          23,
          28,
          19,
          23,
          26,
          18,
          24,
          18,
          19,
          20,
          24,
          20,
          24,
          30,
          20,
          27,
          25,
          20,
          23,
          23,
          18,
          null,
          23,
          24,
          27,
          23,
          19,
          23,
          23,
          19,
          16,
          22,
          19,
          25,
          23,
          19,
          17,
          29,
          17,
          18,
          19,
          21,
          22,
          27,
          21,
          25,
          29,
          21,
          21,
          24,
          19,
          21,
          20,
          18,
          20,
          23,
          21,
          18,
          21,
          24,
          26,
          24,
          19,
          31,
          22,
          23,
          21,
          26,
          23,
          22,
          27,
          19,
          20,
          24,
          19,
          19,
          24,
          24,
          19,
          21,
          25,
          20,
          21,
          18,
          22,
          30,
          25,
          20,
          17,
          23,
          20,
          23,
          29,
          19,
          19,
          21,
          22,
          21,
          25,
          15,
          20,
          20,
          19,
          21,
          19,
          17,
          24,
          26,
          26,
          18,
          22,
          28,
          22,
          30,
          19,
          19,
          23,
          29,
          21,
          22,
          20,
          24,
          21,
          32,
          null,
          null,
          22,
          26,
          21,
          18,
          20,
          19,
          19,
          17,
          23,
          23,
          20,
          20,
          18,
          28,
          21,
          28,
          23,
          23,
          26,
          18,
          18,
          19,
          22,
          20,
          23,
          21,
          19,
          20,
          17,
          24,
          18,
          20,
          21,
          21,
          20,
          21,
          21,
          22,
          25,
          17,
          16,
          35,
          17,
          30,
          17,
          21,
          25,
          22,
          18,
          19,
          19,
          18,
          19,
          22,
          15,
          16,
          15,
          23,
          28,
          21,
          22,
          18,
          23,
          22,
          20,
          23,
          18,
          24,
          18,
          17,
          17,
          25,
          20,
          25,
          22,
          17,
          16,
          18,
          19,
          20,
          18,
          20,
          21,
          19,
          21,
          22,
          21,
          21,
          20,
          25,
          25,
          23,
          22,
          19,
          21,
          19,
          25,
          19,
          24,
          21,
          19,
          19,
          21,
          26,
          22,
          22,
          18,
          22,
          16,
          25,
          18,
          23,
          18,
          15,
          19,
          32,
          24,
          23,
          17,
          27,
          29,
          21,
          18,
          17,
          20,
          20,
          24,
          21,
          21,
          20,
          18,
          17,
          24,
          26,
          19,
          21,
          26,
          24,
          20,
          18,
          23,
          22,
          21,
          25,
          20,
          32,
          19,
          23,
          20,
          21,
          24,
          18,
          18,
          16,
          20,
          19,
          22,
          26,
          21,
          17,
          null,
          23,
          18,
          19,
          23,
          19,
          21,
          19,
          20,
          21,
          19,
          27,
          20,
          23,
          27,
          22,
          20,
          20,
          19,
          32,
          33,
          25,
          25,
          21,
          23,
          26,
          20,
          21,
          22,
          21,
          19,
          20,
          25,
          22,
          19,
          25,
          19,
          19,
          21,
          22,
          22,
          21,
          18,
          19,
          22,
          26,
          21,
          16,
          29,
          16,
          23,
          24,
          18,
          20,
          28,
          19,
          23,
          24,
          18,
          20,
          21,
          19,
          21,
          22,
          27,
          20,
          29,
          32,
          17,
          27,
          20,
          18,
          21,
          23,
          23,
          19,
          23,
          26,
          21,
          21,
          21,
          22,
          26,
          18,
          22,
          21,
          21,
          18,
          21,
          20,
          21,
          23,
          27,
          20,
          20,
          19,
          19,
          19,
          null,
          20,
          22,
          19,
          19,
          23,
          20,
          28,
          21,
          20,
          22,
          21,
          19,
          22,
          24,
          21,
          18,
          27,
          24,
          25,
          17,
          20,
          24,
          19,
          25,
          23,
          22,
          28,
          26,
          32,
          23,
          26,
          21,
          22,
          30,
          23,
          22,
          22,
          19,
          23,
          21,
          22,
          24,
          24,
          21,
          17,
          18,
          19,
          19,
          18,
          20,
          22,
          19,
          19,
          19,
          19,
          21,
          28,
          19,
          24,
          19,
          21,
          25,
          24,
          20,
          20,
          25,
          18
         ],
         "xaxis":"x",
         "y":[
          1,
          2,
          3,
          4,
          5,
          6,
          7,
          8,
          9,
          10,
          11,
          12,
          13,
          14,
          15,
          16,
          17,
          18,
          19,
          20,
          21,
          22,
          23,
          24,
          25,
          26,
          27,
          28,
          29,
          30,
          31,
          32,
          33,
          34,
          35,
          36,
          37,
          38,
          39,
          40,
          41,
          42,
          43,
          44,
          45,
          46,
          47,
          48,
          49,
          50,
          51,
          52,
          53,
          54,
          55,
          56,
          57,
          58,
          59,
          60,
          61,
          62,
          63,
          64,
          65,
          66,
          67,
          68,
          69,
          70,
          71,
          72,
          73,
          74,
          75,
          76,
          77,
          78,
          79,
          80,
          81,
          82,
          83,
          84,
          85,
          86,
          87,
          88,
          89,
          90,
          91,
          92,
          93,
          94,
          95,
          96,
          97,
          98,
          99,
          100,
          101,
          102,
          103,
          104,
          105,
          106,
          107,
          108,
          109,
          110,
          111,
          112,
          113,
          114,
          115,
          116,
          117,
          118,
          119,
          120,
          121,
          122,
          123,
          124,
          125,
          126,
          127,
          128,
          129,
          130,
          131,
          132,
          133,
          134,
          135,
          136,
          137,
          138,
          139,
          140,
          141,
          142,
          143,
          144,
          145,
          146,
          147,
          148,
          149,
          150,
          151,
          152,
          153,
          154,
          155,
          156,
          157,
          158,
          159,
          160,
          161,
          162,
          163,
          164,
          165,
          166,
          167,
          168,
          169,
          170,
          171,
          172,
          173,
          174,
          175,
          176,
          177,
          178,
          179,
          180,
          181,
          182,
          183,
          184,
          185,
          186,
          187,
          188,
          189,
          190,
          191,
          192,
          193,
          194,
          195,
          196,
          197,
          198,
          199,
          200,
          201,
          202,
          203,
          204,
          205,
          206,
          207,
          208,
          209,
          210,
          211,
          212,
          213,
          214,
          215,
          216,
          217,
          218,
          219,
          220,
          221,
          222,
          223,
          224,
          225,
          226,
          227,
          228,
          229,
          230,
          231,
          232,
          233,
          234,
          235,
          236,
          237,
          238,
          239,
          240,
          241,
          242,
          243,
          244,
          245,
          246,
          247,
          248,
          249,
          250,
          251,
          252,
          253,
          254,
          255,
          256,
          257,
          258,
          259,
          260,
          261,
          262,
          263,
          264,
          265,
          266,
          267,
          268,
          269,
          270,
          271,
          272,
          273,
          274,
          275,
          276,
          277,
          278,
          279,
          280,
          281,
          282,
          283,
          284,
          285,
          286,
          287,
          288,
          289,
          290,
          291,
          292,
          293,
          294,
          295,
          296,
          297,
          298,
          299,
          300,
          301,
          302,
          303,
          304,
          305,
          306,
          307,
          308,
          309,
          310,
          311,
          312,
          313,
          314,
          315,
          316,
          317,
          318,
          319,
          320,
          321,
          322,
          323,
          324,
          325,
          326,
          327,
          328,
          329,
          330,
          331,
          332,
          333,
          334,
          335,
          336,
          337,
          338,
          339,
          340,
          341,
          342,
          343,
          344,
          345,
          346,
          347,
          348,
          349,
          350,
          351,
          352,
          353,
          354,
          355,
          356,
          357,
          358,
          359,
          360,
          361,
          362,
          363,
          364,
          365,
          366,
          367,
          368,
          369,
          370,
          371,
          372,
          373,
          374,
          375,
          376,
          377,
          378,
          379,
          380,
          381,
          382,
          383,
          384,
          385,
          386,
          387,
          388,
          389,
          390,
          391,
          392,
          393,
          394,
          395,
          396,
          397,
          398,
          399,
          400,
          401,
          402,
          403,
          404,
          405,
          406,
          407,
          408,
          409,
          410,
          411,
          412,
          413,
          414,
          415,
          416,
          417,
          418,
          419,
          420,
          421,
          422,
          423,
          424,
          425,
          426,
          427,
          428,
          429,
          430,
          431,
          432,
          433,
          434,
          435,
          436,
          437,
          438,
          439,
          440,
          441,
          442,
          443,
          444,
          445,
          446,
          447,
          448,
          449,
          450,
          451,
          452,
          453,
          454,
          455,
          456,
          457,
          458,
          459,
          460,
          461,
          462,
          463,
          464,
          465,
          466,
          467,
          468,
          469,
          470,
          471,
          472,
          473,
          474,
          475,
          476,
          477,
          478,
          479,
          480,
          481,
          482,
          483,
          484,
          485,
          486,
          487,
          488,
          489,
          490,
          491,
          492,
          493,
          494,
          495,
          496,
          497,
          498,
          499,
          500,
          501,
          502,
          503,
          504,
          505,
          506,
          507,
          508,
          509,
          510,
          511,
          512,
          513,
          514,
          515,
          516,
          517,
          518,
          519,
          520,
          521,
          522,
          523,
          524,
          525,
          526,
          527,
          528,
          529,
          530,
          531,
          532,
          533,
          534,
          535,
          536,
          537,
          538,
          539,
          540,
          541,
          542,
          543,
          544,
          545,
          546,
          547,
          548,
          549,
          550,
          551,
          552,
          553,
          554,
          555,
          556,
          557,
          558,
          559,
          560,
          561,
          562,
          563,
          564,
          565,
          566,
          567,
          568,
          569,
          570,
          571,
          572,
          573,
          574,
          575,
          576,
          577,
          578,
          579,
          580,
          581,
          582,
          583,
          584,
          585,
          586,
          587,
          588,
          589,
          590,
          591,
          592,
          593,
          594,
          595,
          596,
          597,
          598,
          599,
          600,
          601,
          602,
          603,
          604,
          605,
          606,
          607,
          608,
          609,
          610,
          611,
          612,
          613,
          614,
          615,
          616,
          617,
          618,
          619,
          620,
          621,
          622,
          623,
          624,
          625,
          626,
          627,
          628,
          629,
          630,
          631,
          632,
          633,
          634,
          635,
          636,
          637,
          638,
          639,
          640,
          641,
          642,
          643,
          644,
          645,
          646,
          647,
          648,
          649,
          650,
          651,
          652,
          653,
          654,
          655,
          656,
          657,
          658,
          659,
          660,
          661,
          662,
          663,
          664,
          665,
          666,
          667,
          668,
          669,
          670,
          671,
          672,
          673,
          674,
          675,
          676,
          677,
          678,
          679,
          680,
          681,
          682,
          683,
          684,
          685,
          686,
          687,
          688,
          689,
          690,
          691,
          692,
          693,
          694,
          695,
          696,
          697,
          698,
          699,
          700,
          701,
          702,
          703,
          704,
          705,
          706,
          707,
          708,
          709,
          710,
          711,
          712,
          713,
          714,
          715,
          716,
          717,
          718,
          719,
          720,
          721,
          722,
          723,
          724,
          725,
          726,
          727,
          728,
          729,
          730,
          731,
          732,
          733,
          734,
          735,
          736,
          737,
          738,
          739,
          740,
          741,
          742,
          743,
          744,
          745,
          746,
          747,
          748,
          749,
          750,
          751,
          752,
          753,
          754,
          755,
          756,
          757,
          758,
          759,
          760,
          761,
          762,
          763,
          764,
          765,
          766,
          767,
          768,
          769,
          770,
          771,
          772,
          773,
          774,
          775,
          776,
          777,
          778,
          779,
          780,
          781,
          782,
          783,
          784,
          785,
          786,
          787,
          788,
          789,
          790,
          791,
          792,
          793,
          794,
          795,
          796,
          797,
          798,
          799,
          800,
          801,
          802,
          803,
          804,
          805,
          806,
          807,
          808,
          809,
          810,
          811,
          812,
          813,
          814,
          815,
          816,
          817,
          818,
          819,
          820,
          821,
          822,
          823,
          824,
          825,
          826,
          827,
          828,
          829,
          830,
          831,
          832,
          833,
          834,
          835,
          836,
          837,
          838,
          839,
          840,
          841,
          842,
          843,
          844,
          845,
          846,
          847,
          848,
          849,
          850,
          851,
          852,
          853,
          854,
          855,
          856,
          857,
          858,
          859,
          860,
          861,
          862,
          863,
          864,
          865,
          866,
          867,
          868,
          869,
          870,
          871,
          872,
          873,
          874,
          875,
          876,
          877,
          878,
          879,
          880,
          881,
          882,
          883,
          884,
          885,
          886,
          887,
          888,
          889,
          890,
          891,
          892,
          893,
          894,
          895,
          896,
          897,
          898,
          899,
          900,
          901,
          902,
          903,
          904,
          905,
          906,
          907,
          908,
          909,
          910,
          911,
          912,
          913,
          914,
          915,
          916,
          917,
          918,
          919,
          920,
          921,
          922,
          923,
          924,
          925,
          926,
          927,
          928,
          929,
          930,
          931,
          932,
          933,
          934,
          935,
          936,
          937,
          938,
          939,
          940,
          941,
          942,
          943,
          944,
          945,
          946,
          947,
          948,
          949,
          950,
          951,
          952,
          953,
          954,
          955,
          956,
          957,
          958,
          959,
          960,
          961,
          962,
          963,
          964,
          965,
          966,
          967,
          968,
          969,
          970,
          971,
          972,
          973,
          974,
          975,
          976,
          977,
          978,
          979,
          980,
          981,
          982,
          983,
          984,
          985,
          986,
          987,
          988,
          989,
          990,
          991,
          992,
          993,
          994,
          995,
          996,
          997,
          998,
          999,
          1000,
          1001,
          1002,
          1003,
          1004,
          1005,
          1006,
          1007,
          1008,
          1009,
          1010,
          1011,
          1012,
          1013,
          1014,
          1015,
          1016,
          1017,
          1018,
          1019,
          1020,
          1021,
          1022,
          1023,
          1024,
          1025,
          1026,
          1027,
          1028,
          1029,
          1030,
          1031,
          1032,
          1033,
          1034,
          1035,
          1036,
          1037,
          1038,
          1039,
          1040,
          1041,
          1042,
          1043,
          1044,
          1045,
          1046,
          1047,
          1048,
          1049,
          1050,
          1051,
          1052,
          1053,
          1054,
          1055,
          1056,
          1057,
          1058,
          1059,
          1060,
          1061,
          1062,
          1063,
          1064,
          1065,
          1066,
          1067,
          1068,
          1069,
          1070,
          1071,
          1072,
          1073,
          1074,
          1075,
          1076,
          1077,
          1078,
          1079,
          1080,
          1081,
          1082,
          1083,
          1084,
          1085,
          1086,
          1087,
          1088,
          1089,
          1090,
          1091,
          1092,
          1093,
          1094,
          1095,
          1096,
          1097,
          1098,
          1099,
          1100,
          1101,
          1102,
          1103,
          1104,
          1105,
          1106,
          1107,
          1108,
          1109,
          1110,
          1111,
          1112,
          1113,
          1114,
          1115,
          1116,
          1117,
          1118,
          1119,
          1120,
          1121,
          1122,
          1123,
          1124,
          1125,
          1126,
          1127,
          1128,
          1129,
          1130,
          1131,
          1132,
          1133,
          1134,
          1135,
          1136,
          1137,
          1138,
          1139,
          1140,
          1141,
          1142,
          1143,
          1144,
          1145,
          1146,
          1147,
          1148,
          1149,
          1150,
          1151,
          1152,
          1153,
          1154,
          1155,
          1156,
          1157,
          1158,
          1159,
          1160,
          1161,
          1162,
          1163,
          1164,
          1165,
          1166,
          1167,
          1168,
          1169,
          1170,
          1171,
          1172,
          1173,
          1174,
          1175,
          1176,
          1177,
          1178,
          1179,
          1180,
          1181,
          1182,
          1183,
          1184,
          1185,
          1186,
          1187,
          1188,
          1189,
          1190,
          1191,
          1192,
          1193,
          1194,
          1195,
          1196,
          1197,
          1198,
          1199,
          1200,
          1201,
          1202,
          1203,
          1204,
          1205,
          1206,
          1207,
          1208,
          1209,
          1210,
          1211,
          1212,
          1213,
          1214,
          1215,
          1216,
          1217,
          1218,
          1219,
          1220,
          1221,
          1222,
          1223,
          1224,
          1225,
          1226,
          1227,
          1228,
          1229,
          1230,
          1231,
          1232,
          1233,
          1234,
          1235,
          1236,
          1237,
          1238,
          1239,
          1240,
          1241,
          1242,
          1243,
          1244,
          1245,
          1246,
          1247,
          1248,
          1249,
          1250,
          1251,
          1252,
          1253,
          1254,
          1255,
          1256,
          1257,
          1258,
          1259,
          1260,
          1261,
          1262,
          1263,
          1264,
          1265,
          1266,
          1267,
          1268,
          1269,
          1270,
          1271,
          1272,
          1273,
          1274,
          1275,
          1276,
          1277,
          1278,
          1279,
          1280,
          1281,
          1282,
          1283,
          1284,
          1285,
          1286,
          1287,
          1288,
          1289,
          1290,
          1291,
          1292,
          1293,
          1294,
          1295,
          1296,
          1297,
          1298,
          1299,
          1300,
          1301,
          1302,
          1303,
          1304,
          1305,
          1306,
          1307,
          1308,
          1309,
          1310,
          1311,
          1312,
          1313,
          1314,
          1315,
          1316,
          1317,
          1318,
          1319,
          1320,
          1321,
          1322,
          1323,
          1324,
          1325,
          1326,
          1327,
          1328,
          1329,
          1330,
          1331,
          1332,
          1333,
          1334,
          1335,
          1336,
          1337,
          1338,
          1339,
          1340,
          1341,
          1342,
          1343,
          1344,
          1345,
          1346,
          1347,
          1348,
          1349,
          1350,
          1351,
          1352,
          1353,
          1354,
          1355,
          1356,
          1357,
          1358,
          1359,
          1360,
          1361,
          1362,
          1363,
          1364,
          1365,
          1366,
          1367,
          1368,
          1369,
          1370,
          1371,
          1372,
          1373,
          1374,
          1375,
          1376,
          1377,
          1378,
          1379,
          1380,
          1381,
          1382,
          1383,
          1384,
          1385,
          1386,
          1387,
          1388,
          1389,
          1390,
          1391,
          1392,
          1393,
          1394,
          1395,
          1396,
          1397,
          1398,
          1399,
          1400,
          1401,
          1402,
          1403,
          1404,
          1405,
          1406,
          1407,
          1408,
          1409,
          1410,
          1411,
          1412,
          1413,
          1414,
          1415,
          1416,
          1417,
          1418,
          1419,
          1420,
          1421,
          1422,
          1423,
          1424,
          1425,
          1426,
          1427,
          1428,
          1429,
          1430,
          1431,
          1432,
          1433,
          1434,
          1435,
          1436,
          1437,
          1438,
          1439,
          1440,
          1441,
          1442,
          1443,
          1444,
          1445,
          1446,
          1447,
          1448,
          1449,
          1450,
          1451,
          1452,
          1453,
          1454,
          1455,
          1456,
          1457,
          1458,
          1459,
          1460,
          1461,
          1462,
          1463,
          1464,
          1465,
          1466,
          1467,
          1468,
          1469,
          1470,
          1471,
          1472,
          1473,
          1474,
          1475,
          1476,
          1477,
          1478,
          1479,
          1480,
          1481,
          1482,
          1483,
          1484,
          1485,
          1486,
          1487,
          1488,
          1489,
          1490,
          1491,
          1492,
          1493,
          1494,
          1495,
          1496,
          1497,
          1498,
          1499,
          1500,
          1501,
          1502,
          1503,
          1504,
          1505,
          1506,
          1507,
          1508,
          1509,
          1510,
          1511,
          1512,
          1513,
          1514,
          1515,
          1516,
          1517,
          1518,
          1519,
          1520,
          1521,
          1522,
          1523,
          1524,
          1525,
          1526,
          1527,
          1528,
          1529,
          1530,
          1531,
          1532,
          1533,
          1534,
          1535,
          1536,
          1537,
          1538,
          1539,
          1540,
          1541,
          1542,
          1543,
          1544,
          1545,
          1546,
          1547,
          1548,
          1549,
          1550,
          1551,
          1552,
          1553,
          1554,
          1555,
          1556,
          1557,
          1558,
          1559,
          1560,
          1561,
          1562,
          1563,
          1564,
          1565,
          1566,
          1567,
          1568,
          1569,
          1570,
          1571,
          1572,
          1573,
          1574,
          1575,
          1576,
          1577,
          1578,
          1579,
          1580,
          1581,
          1582,
          1583,
          1584,
          1585,
          1586,
          1587,
          1588,
          1589,
          1590,
          1591,
          1592,
          1593,
          1594,
          1595,
          1596,
          1597,
          1598,
          1599,
          1600,
          1601,
          1602,
          1603,
          1604,
          1605,
          1606,
          1607,
          1608,
          1609,
          1610,
          1611,
          1612,
          1613,
          1614,
          1615,
          1616,
          1617,
          1618,
          1619,
          1620,
          1621,
          1622,
          1623,
          1624,
          1625,
          1626,
          1627,
          1628,
          1629,
          1630,
          1631,
          1632,
          1633,
          1634,
          1635,
          1636,
          1637,
          1638,
          1639,
          1640,
          1641,
          1642,
          1643,
          1644,
          1645,
          1646,
          1647,
          1648,
          1649,
          1650,
          1651,
          1652,
          1653,
          1654,
          1655,
          1656,
          1657,
          1658,
          1659,
          1660,
          1661,
          1662,
          1663,
          1664,
          1665,
          1666,
          1667,
          1668,
          1669,
          1670,
          1671,
          1672,
          1673,
          1674,
          1675,
          1676,
          1677,
          1678,
          1679,
          1680,
          1681,
          1682,
          1683,
          1684,
          1685,
          1686,
          1687,
          1688,
          1689,
          1690,
          1691,
          1692,
          1693,
          1694,
          1695,
          1696,
          1697,
          1698,
          1699,
          1700,
          1701,
          1702,
          1703,
          1704,
          1705,
          1706,
          1707,
          1708,
          1709,
          1710,
          1711,
          1712,
          1713,
          1714,
          1715,
          1716,
          1717,
          1718,
          1719,
          1720,
          1721,
          1722,
          1723,
          1724,
          1725,
          1726,
          1727,
          1728,
          1729,
          1730,
          1731,
          1732,
          1733,
          1734,
          1735,
          1736,
          1737,
          1738,
          1739,
          1740,
          1741,
          1742,
          1743,
          1744,
          1745,
          1746,
          1747,
          1748,
          1749,
          1750,
          1751,
          1752,
          1753,
          1754,
          1755,
          1756,
          1757,
          1758,
          1759,
          1760,
          1761,
          1762,
          1763,
          1764,
          1765,
          1766,
          1767,
          1768,
          1769,
          1770,
          1771,
          1772,
          1773,
          1774,
          1775,
          1776,
          1777,
          1778,
          1779,
          1780,
          1781,
          1782,
          1783,
          1784,
          1785,
          1786,
          1787,
          1788,
          1789,
          1790,
          1791,
          1792,
          1793,
          1794,
          1795,
          1796,
          1797,
          1798,
          1799,
          1800,
          1801,
          1802,
          1803,
          1804,
          1805,
          1806,
          1807,
          1808,
          1809,
          1810,
          1811,
          1812,
          1813,
          1814,
          1815,
          1816,
          1817,
          1818,
          1819,
          1820,
          1821,
          1822,
          1823,
          1824,
          1825,
          1826,
          1827,
          1828,
          1829,
          1830,
          1831,
          1832,
          1833,
          1834,
          1835,
          1836,
          1837,
          1838,
          1839,
          1840,
          1841,
          1842,
          1843,
          1844,
          1845,
          1846,
          1847,
          1848,
          1849,
          1850,
          1851,
          1852,
          1853,
          1854,
          1855,
          1856,
          1857,
          1858,
          1859,
          1860,
          1861,
          1862,
          1863,
          1864,
          1865,
          1866,
          1867,
          1868,
          1869,
          1870,
          1871,
          1872,
          1873,
          1874,
          1875,
          1876,
          1877,
          1878,
          1879,
          1880,
          1881,
          1882,
          1883,
          1884,
          1885,
          1886,
          1887,
          1888,
          1889,
          1890,
          1891,
          1892,
          1893,
          1894,
          1895,
          1896,
          1897,
          1898,
          1899,
          1900,
          1901,
          1902,
          1903,
          1904,
          1905,
          1906,
          1907,
          1908,
          1909,
          1910,
          1911,
          1912,
          1913,
          1914,
          1915,
          1916,
          1917,
          1918,
          1919,
          1920,
          1921,
          1922,
          1923,
          1924,
          1925,
          1926,
          1927,
          1928,
          1929,
          1930,
          1931,
          1932,
          1933,
          1934,
          1935,
          1936,
          1937,
          1938,
          1939,
          1940,
          1941,
          1942,
          1943,
          1944,
          1945,
          1946,
          1947,
          1948,
          1949,
          1950,
          1951,
          1952,
          1953,
          1954,
          1955,
          1956,
          1957,
          1958,
          1959,
          1960,
          1961,
          1962,
          1963,
          1964,
          1965,
          1966,
          1967,
          1968,
          1969,
          1970,
          1971,
          1972,
          1973,
          1974,
          1975,
          1976,
          1977,
          1978,
          1979,
          1980,
          1981,
          1982,
          1983,
          1984,
          1985,
          1986,
          1987,
          1988,
          1989,
          1990,
          1991,
          1992,
          1993,
          1994,
          1995,
          1996,
          1997,
          1998
         ],
         "yaxis":"y",
         "type":"scattergl"
        }
       ],
       "layout":{
        "template":{
         "data":{
          "bar":[
           {
            "error_x":{
             "color":"#2a3f5f"
            },
            "error_y":{
             "color":"#2a3f5f"
            },
            "marker":{
             "line":{
              "color":"#E5ECF6",
              "width":0.5
             },
             "pattern":{
              "fillmode":"overlay",
              "size":10,
              "solidity":0.2
             }
            },
            "type":"bar"
           }
          ],
          "barpolar":[
           {
            "marker":{
             "line":{
              "color":"#E5ECF6",
              "width":0.5
             },
             "pattern":{
              "fillmode":"overlay",
              "size":10,
              "solidity":0.2
             }
            },
            "type":"barpolar"
           }
          ],
          "carpet":[
           {
            "aaxis":{
             "endlinecolor":"#2a3f5f",
             "gridcolor":"white",
             "linecolor":"white",
             "minorgridcolor":"white",
             "startlinecolor":"#2a3f5f"
            },
            "baxis":{
             "endlinecolor":"#2a3f5f",
             "gridcolor":"white",
             "linecolor":"white",
             "minorgridcolor":"white",
             "startlinecolor":"#2a3f5f"
            },
            "type":"carpet"
           }
          ],
          "choropleth":[
           {
            "colorbar":{
             "outlinewidth":0,
             "ticks":""
            },
            "type":"choropleth"
           }
          ],
          "contour":[
           {
            "colorbar":{
             "outlinewidth":0,
             "ticks":""
            },
            "colorscale":[
             [
              0,
              "#0d0887"
             ],
             [
              0.1111111111111111,
              "#46039f"
             ],
             [
              0.2222222222222222,
              "#7201a8"
             ],
             [
              0.3333333333333333,
              "#9c179e"
             ],
             [
              0.4444444444444444,
              "#bd3786"
             ],
             [
              0.5555555555555556,
              "#d8576b"
             ],
             [
              0.6666666666666666,
              "#ed7953"
             ],
             [
              0.7777777777777778,
              "#fb9f3a"
             ],
             [
              0.8888888888888888,
              "#fdca26"
             ],
             [
              1,
              "#f0f921"
             ]
            ],
            "type":"contour"
           }
          ],
          "contourcarpet":[
           {
            "colorbar":{
             "outlinewidth":0,
             "ticks":""
            },
            "type":"contourcarpet"
           }
          ],
          "heatmap":[
           {
            "colorbar":{
             "outlinewidth":0,
             "ticks":""
            },
            "colorscale":[
             [
              0,
              "#0d0887"
             ],
             [
              0.1111111111111111,
              "#46039f"
             ],
             [
              0.2222222222222222,
              "#7201a8"
             ],
             [
              0.3333333333333333,
              "#9c179e"
             ],
             [
              0.4444444444444444,
              "#bd3786"
             ],
             [
              0.5555555555555556,
              "#d8576b"
             ],
             [
              0.6666666666666666,
              "#ed7953"
             ],
             [
              0.7777777777777778,
              "#fb9f3a"
             ],
             [
              0.8888888888888888,
              "#fdca26"
             ],
             [
              1,
              "#f0f921"
             ]
            ],
            "type":"heatmap"
           }
          ],
          "heatmapgl":[
           {
            "colorbar":{
             "outlinewidth":0,
             "ticks":""
            },
            "colorscale":[
             [
              0,
              "#0d0887"
             ],
             [
              0.1111111111111111,
              "#46039f"
             ],
             [
              0.2222222222222222,
              "#7201a8"
             ],
             [
              0.3333333333333333,
              "#9c179e"
             ],
             [
              0.4444444444444444,
              "#bd3786"
             ],
             [
              0.5555555555555556,
              "#d8576b"
             ],
             [
              0.6666666666666666,
              "#ed7953"
             ],
             [
              0.7777777777777778,
              "#fb9f3a"
             ],
             [
              0.8888888888888888,
              "#fdca26"
             ],
             [
              1,
              "#f0f921"
             ]
            ],
            "type":"heatmapgl"
           }
          ],
          "histogram":[
           {
            "marker":{
             "pattern":{
              "fillmode":"overlay",
              "size":10,
              "solidity":0.2
             }
            },
            "type":"histogram"
           }
          ],
          "histogram2d":[
           {
            "colorbar":{
             "outlinewidth":0,
             "ticks":""
            },
            "colorscale":[
             [
              0,
              "#0d0887"
             ],
             [
              0.1111111111111111,
              "#46039f"
             ],
             [
              0.2222222222222222,
              "#7201a8"
             ],
             [
              0.3333333333333333,
              "#9c179e"
             ],
             [
              0.4444444444444444,
              "#bd3786"
             ],
             [
              0.5555555555555556,
              "#d8576b"
             ],
             [
              0.6666666666666666,
              "#ed7953"
             ],
             [
              0.7777777777777778,
              "#fb9f3a"
             ],
             [
              0.8888888888888888,
              "#fdca26"
             ],
             [
              1,
              "#f0f921"
             ]
            ],
            "type":"histogram2d"
           }
          ],
          "histogram2dcontour":[
           {
            "colorbar":{
             "outlinewidth":0,
             "ticks":""
            },
            "colorscale":[
             [
              0,
              "#0d0887"
             ],
             [
              0.1111111111111111,
              "#46039f"
             ],
             [
              0.2222222222222222,
              "#7201a8"
             ],
             [
              0.3333333333333333,
              "#9c179e"
             ],
             [
              0.4444444444444444,
              "#bd3786"
             ],
             [
              0.5555555555555556,
              "#d8576b"
             ],
             [
              0.6666666666666666,
              "#ed7953"
             ],
             [
              0.7777777777777778,
              "#fb9f3a"
             ],
             [
              0.8888888888888888,
              "#fdca26"
             ],
             [
              1,
              "#f0f921"
             ]
            ],
            "type":"histogram2dcontour"
           }
          ],
          "mesh3d":[
           {
            "colorbar":{
             "outlinewidth":0,
             "ticks":""
            },
            "type":"mesh3d"
           }
          ],
          "parcoords":[
           {
            "line":{
             "colorbar":{
              "outlinewidth":0,
              "ticks":""
             }
            },
            "type":"parcoords"
           }
          ],
          "pie":[
           {
            "automargin":true,
            "type":"pie"
           }
          ],
          "scatter":[
           {
            "marker":{
             "colorbar":{
              "outlinewidth":0,
              "ticks":""
             }
            },
            "type":"scatter"
           }
          ],
          "scatter3d":[
           {
            "line":{
             "colorbar":{
              "outlinewidth":0,
              "ticks":""
             }
            },
            "marker":{
             "colorbar":{
              "outlinewidth":0,
              "ticks":""
             }
            },
            "type":"scatter3d"
           }
          ],
          "scattercarpet":[
           {
            "marker":{
             "colorbar":{
              "outlinewidth":0,
              "ticks":""
             }
            },
            "type":"scattercarpet"
           }
          ],
          "scattergeo":[
           {
            "marker":{
             "colorbar":{
              "outlinewidth":0,
              "ticks":""
             }
            },
            "type":"scattergeo"
           }
          ],
          "scattergl":[
           {
            "marker":{
             "colorbar":{
              "outlinewidth":0,
              "ticks":""
             }
            },
            "type":"scattergl"
           }
          ],
          "scattermapbox":[
           {
            "marker":{
             "colorbar":{
              "outlinewidth":0,
              "ticks":""
             }
            },
            "type":"scattermapbox"
           }
          ],
          "scatterpolar":[
           {
            "marker":{
             "colorbar":{
              "outlinewidth":0,
              "ticks":""
             }
            },
            "type":"scatterpolar"
           }
          ],
          "scatterpolargl":[
           {
            "marker":{
             "colorbar":{
              "outlinewidth":0,
              "ticks":""
             }
            },
            "type":"scatterpolargl"
           }
          ],
          "scatterternary":[
           {
            "marker":{
             "colorbar":{
              "outlinewidth":0,
              "ticks":""
             }
            },
            "type":"scatterternary"
           }
          ],
          "surface":[
           {
            "colorbar":{
             "outlinewidth":0,
             "ticks":""
            },
            "colorscale":[
             [
              0,
              "#0d0887"
             ],
             [
              0.1111111111111111,
              "#46039f"
             ],
             [
              0.2222222222222222,
              "#7201a8"
             ],
             [
              0.3333333333333333,
              "#9c179e"
             ],
             [
              0.4444444444444444,
              "#bd3786"
             ],
             [
              0.5555555555555556,
              "#d8576b"
             ],
             [
              0.6666666666666666,
              "#ed7953"
             ],
             [
              0.7777777777777778,
              "#fb9f3a"
             ],
             [
              0.8888888888888888,
              "#fdca26"
             ],
             [
              1,
              "#f0f921"
             ]
            ],
            "type":"surface"
           }
          ],
          "table":[
           {
            "cells":{
             "fill":{
              "color":"#EBF0F8"
             },
             "line":{
              "color":"white"
             }
            },
            "header":{
             "fill":{
              "color":"#C8D4E3"
             },
             "line":{
              "color":"white"
             }
            },
            "type":"table"
           }
          ]
         },
         "layout":{
          "annotationdefaults":{
           "arrowcolor":"#2a3f5f",
           "arrowhead":0,
           "arrowwidth":1
          },
          "autotypenumbers":"strict",
          "coloraxis":{
           "colorbar":{
            "outlinewidth":0,
            "ticks":""
           }
          },
          "colorscale":{
           "diverging":[
            [
             0,
             "#8e0152"
            ],
            [
             0.1,
             "#c51b7d"
            ],
            [
             0.2,
             "#de77ae"
            ],
            [
             0.3,
             "#f1b6da"
            ],
            [
             0.4,
             "#fde0ef"
            ],
            [
             0.5,
             "#f7f7f7"
            ],
            [
             0.6,
             "#e6f5d0"
            ],
            [
             0.7,
             "#b8e186"
            ],
            [
             0.8,
             "#7fbc41"
            ],
            [
             0.9,
             "#4d9221"
            ],
            [
             1,
             "#276419"
            ]
           ],
           "sequential":[
            [
             0,
             "#0d0887"
            ],
            [
             0.1111111111111111,
             "#46039f"
            ],
            [
             0.2222222222222222,
             "#7201a8"
            ],
            [
             0.3333333333333333,
             "#9c179e"
            ],
            [
             0.4444444444444444,
             "#bd3786"
            ],
            [
             0.5555555555555556,
             "#d8576b"
            ],
            [
             0.6666666666666666,
             "#ed7953"
            ],
            [
             0.7777777777777778,
             "#fb9f3a"
            ],
            [
             0.8888888888888888,
             "#fdca26"
            ],
            [
             1,
             "#f0f921"
            ]
           ],
           "sequentialminus":[
            [
             0,
             "#0d0887"
            ],
            [
             0.1111111111111111,
             "#46039f"
            ],
            [
             0.2222222222222222,
             "#7201a8"
            ],
            [
             0.3333333333333333,
             "#9c179e"
            ],
            [
             0.4444444444444444,
             "#bd3786"
            ],
            [
             0.5555555555555556,
             "#d8576b"
            ],
            [
             0.6666666666666666,
             "#ed7953"
            ],
            [
             0.7777777777777778,
             "#fb9f3a"
            ],
            [
             0.8888888888888888,
             "#fdca26"
            ],
            [
             1,
             "#f0f921"
            ]
           ]
          },
          "colorway":[
           "#636efa",
           "#EF553B",
           "#00cc96",
           "#ab63fa",
           "#FFA15A",
           "#19d3f3",
           "#FF6692",
           "#B6E880",
           "#FF97FF",
           "#FECB52"
          ],
          "font":{
           "color":"#2a3f5f"
          },
          "geo":{
           "bgcolor":"white",
           "lakecolor":"white",
           "landcolor":"#E5ECF6",
           "showlakes":true,
           "showland":true,
           "subunitcolor":"white"
          },
          "hoverlabel":{
           "align":"left"
          },
          "hovermode":"closest",
          "mapbox":{
           "style":"light"
          },
          "paper_bgcolor":"white",
          "plot_bgcolor":"#E5ECF6",
          "polar":{
           "angularaxis":{
            "gridcolor":"white",
            "linecolor":"white",
            "ticks":""
           },
           "bgcolor":"#E5ECF6",
           "radialaxis":{
            "gridcolor":"white",
            "linecolor":"white",
            "ticks":""
           }
          },
          "scene":{
           "xaxis":{
            "backgroundcolor":"#E5ECF6",
            "gridcolor":"white",
            "gridwidth":2,
            "linecolor":"white",
            "showbackground":true,
            "ticks":"",
            "zerolinecolor":"white"
           },
           "yaxis":{
            "backgroundcolor":"#E5ECF6",
            "gridcolor":"white",
            "gridwidth":2,
            "linecolor":"white",
            "showbackground":true,
            "ticks":"",
            "zerolinecolor":"white"
           },
           "zaxis":{
            "backgroundcolor":"#E5ECF6",
            "gridcolor":"white",
            "gridwidth":2,
            "linecolor":"white",
            "showbackground":true,
            "ticks":"",
            "zerolinecolor":"white"
           }
          },
          "shapedefaults":{
           "line":{
            "color":"#2a3f5f"
           }
          },
          "ternary":{
           "aaxis":{
            "gridcolor":"white",
            "linecolor":"white",
            "ticks":""
           },
           "baxis":{
            "gridcolor":"white",
            "linecolor":"white",
            "ticks":""
           },
           "bgcolor":"#E5ECF6",
           "caxis":{
            "gridcolor":"white",
            "linecolor":"white",
            "ticks":""
           }
          },
          "title":{
           "x":0.05
          },
          "xaxis":{
           "automargin":true,
           "gridcolor":"white",
           "linecolor":"white",
           "ticks":"",
           "title":{
            "standoff":15
           },
           "zerolinecolor":"white",
           "zerolinewidth":2
          },
          "yaxis":{
           "automargin":true,
           "gridcolor":"white",
           "linecolor":"white",
           "ticks":"",
           "title":{
            "standoff":15
           },
           "zerolinecolor":"white",
           "zerolinewidth":2
          }
         }
        },
        "xaxis":{
         "anchor":"y",
         "domain":[
          0,
          1
         ],
         "title":{
          "text":"Age"
         }
        },
        "yaxis":{
         "anchor":"x",
         "domain":[
          0,
          1
         ],
         "title":{
          "text":"Rank"
         }
        },
        "coloraxis":{
         "colorbar":{
          "title":{
           "text":"Rank"
          }
         },
         "colorscale":[
          [
           0,
           "rgb(255,0,0)"
          ],
          [
           1,
           "rgb(0,0,255)"
          ]
         ]
        },
        "legend":{
         "tracegroupgap":0
        },
        "margin":{
         "t":60
        }
       },
       "config":{
        "plotlyServerURL":"https:\/\/plot.ly"
       }
      }
     },
     "metadata":{
      
     },
     "output_type":"display_data"
    }
   ],
   "metadata":{
    "datalore":{
     "node_id":"o7FX0EAvpNArtmmWPBtZus",
     "type":"CODE",
     "hide_input_from_viewers":false,
     "hide_output_from_viewers":false,
     "report_properties":{
      "rowId":"izlOecmnzCxCUZDaNFdf6s"
     }
    }
   }
  },
  {
   "cell_type":"markdown",
   "source":[
    "# 3. Conclusiones\n",
    "\n",
    "## - Feature que mas influye en el ranking de los jugadores es el % Tie Breaks Won con un 38%.\n",
    "\n",
    "## - El jugador mas completo y que esta en todas las listas es Novak Djokovic.\n",
    "\n",
    "## - La edad influye en el ranking de los jugadores ya que la correlación es del 34% a favor de los mas jovenes."
   ],
   "attachments":{
    
   },
   "metadata":{
    "datalore":{
     "node_id":"JZ2D2HPF6rmxjDpwiCO4zV",
     "type":"MD",
     "hide_input_from_viewers":false,
     "hide_output_from_viewers":false,
     "report_properties":{
      "rowId":"tUALE8Zj4eqD9KjWO61L9D"
     }
    }
   }
  },
  {
   "cell_type":"markdown",
   "source":[
    "# STATS DE LOS JUGADORES:\n",
    "\n",
    "Hemos creado una app que nos permite seleccionar directamente que estadistica queremos visualizar y que jugador."
   ],
   "attachments":{
    
   },
   "metadata":{
    "datalore":{
     "node_id":"RPjmKf1bZjrwYRcWpoGnNG",
     "type":"MD",
     "hide_input_from_viewers":false,
     "hide_output_from_viewers":false,
     "report_properties":{
      "rowId":"G61nwiAJCTytIsel6mCuTx"
     }
    }
   }
  },
  {
   "cell_type":"code",
   "source":[
    "# En df_stats tenemos los datos de los jugadores que nos interesan para hacer el analisis.\n",
    "\n",
    "df_stats = df[['Player', '%1stServePointsWon', '%2ndServePointsWon', '%ServiceGamesWon', '%1st Serve Return Points Won', '%2nd Serve Return Points Won', '%Return Games Won', '%Breaks Points Converted', '%BreaksPointsSaved', '%TieBreaks Won', '%AvgWinLoss']].copy()\n",
    "df_stats.loc[:, '%AvgWinLoss'] = df_stats['%AvgWinLoss'] * 100\n",
    "df_stats"
   ],
   "execution_count":101,
   "outputs":[
    {
     "data":{
      "text\/html":[
       "<div>\n",
       "<style scoped>\n",
       "    .dataframe tbody tr th:only-of-type {\n",
       "        vertical-align: middle;\n",
       "    }\n",
       "\n",
       "    .dataframe tbody tr th {\n",
       "        vertical-align: top;\n",
       "    }\n",
       "\n",
       "    .dataframe thead th {\n",
       "        text-align: right;\n",
       "    }\n",
       "<\/style>\n",
       "<table border=\"1\" class=\"dataframe\">\n",
       "  <thead>\n",
       "    <tr style=\"text-align: right;\">\n",
       "      <th><\/th>\n",
       "      <th>Player<\/th>\n",
       "      <th>%1stServePointsWon<\/th>\n",
       "      <th>%2ndServePointsWon<\/th>\n",
       "      <th>%ServiceGamesWon<\/th>\n",
       "      <th>%1st Serve Return Points Won<\/th>\n",
       "      <th>%2nd Serve Return Points Won<\/th>\n",
       "      <th>%Return Games Won<\/th>\n",
       "      <th>%Breaks Points Converted<\/th>\n",
       "      <th>%BreaksPointsSaved<\/th>\n",
       "      <th>%TieBreaks Won<\/th>\n",
       "      <th>%AvgWinLoss<\/th>\n",
       "    <\/tr>\n",
       "  <\/thead>\n",
       "  <tbody>\n",
       "    <tr>\n",
       "      <th>0<\/th>\n",
       "      <td>John Isner<\/td>\n",
       "      <td>79.800003<\/td>\n",
       "      <td>52.700001<\/td>\n",
       "      <td>90.199997<\/td>\n",
       "      <td>20.900000<\/td>\n",
       "      <td>40.000000<\/td>\n",
       "      <td>7.100000<\/td>\n",
       "      <td>25.799999<\/td>\n",
       "      <td>69.300003<\/td>\n",
       "      <td>71.099998<\/td>\n",
       "      <td>44.400002<\/td>\n",
       "    <\/tr>\n",
       "    <tr>\n",
       "      <th>1<\/th>\n",
       "      <td>Hubert Hurkacz<\/td>\n",
       "      <td>79.199997<\/td>\n",
       "      <td>54.900002<\/td>\n",
       "      <td>89.900002<\/td>\n",
       "      <td>27.200001<\/td>\n",
       "      <td>46.599998<\/td>\n",
       "      <td>16.500000<\/td>\n",
       "      <td>35.000000<\/td>\n",
       "      <td>67.699997<\/td>\n",
       "      <td>54.700001<\/td>\n",
       "      <td>68.400002<\/td>\n",
       "    <\/tr>\n",
       "    <tr>\n",
       "      <th>2<\/th>\n",
       "      <td>Matteo Berrettini<\/td>\n",
       "      <td>79.599998<\/td>\n",
       "      <td>52.000000<\/td>\n",
       "      <td>88.500000<\/td>\n",
       "      <td>29.500000<\/td>\n",
       "      <td>45.700001<\/td>\n",
       "      <td>18.799999<\/td>\n",
       "      <td>35.799999<\/td>\n",
       "      <td>67.099998<\/td>\n",
       "      <td>50.000000<\/td>\n",
       "      <td>50.000000<\/td>\n",
       "    <\/tr>\n",
       "    <tr>\n",
       "      <th>3<\/th>\n",
       "      <td>Novak Djokovic<\/td>\n",
       "      <td>77.199997<\/td>\n",
       "      <td>57.000000<\/td>\n",
       "      <td>88.699997<\/td>\n",
       "      <td>33.500000<\/td>\n",
       "      <td>55.900002<\/td>\n",
       "      <td>29.299999<\/td>\n",
       "      <td>41.799999<\/td>\n",
       "      <td>64.300003<\/td>\n",
       "      <td>80.000000<\/td>\n",
       "      <td>93.800003<\/td>\n",
       "    <\/tr>\n",
       "    <tr>\n",
       "      <th>4<\/th>\n",
       "      <td>Ben Shelton<\/td>\n",
       "      <td>79.300003<\/td>\n",
       "      <td>55.900002<\/td>\n",
       "      <td>89.400002<\/td>\n",
       "      <td>23.799999<\/td>\n",
       "      <td>42.099998<\/td>\n",
       "      <td>13.300000<\/td>\n",
       "      <td>39.299999<\/td>\n",
       "      <td>70.500000<\/td>\n",
       "      <td>56.299999<\/td>\n",
       "      <td>54.500000<\/td>\n",
       "    <\/tr>\n",
       "    <tr>\n",
       "      <th>...<\/th>\n",
       "      <td>...<\/td>\n",
       "      <td>...<\/td>\n",
       "      <td>...<\/td>\n",
       "      <td>...<\/td>\n",
       "      <td>...<\/td>\n",
       "      <td>...<\/td>\n",
       "      <td>...<\/td>\n",
       "      <td>...<\/td>\n",
       "      <td>...<\/td>\n",
       "      <td>...<\/td>\n",
       "      <td>...<\/td>\n",
       "    <\/tr>\n",
       "    <tr>\n",
       "      <th>63<\/th>\n",
       "      <td>Joao Sousa<\/td>\n",
       "      <td>67.199997<\/td>\n",
       "      <td>47.200001<\/td>\n",
       "      <td>71.500000<\/td>\n",
       "      <td>29.900000<\/td>\n",
       "      <td>48.200001<\/td>\n",
       "      <td>19.799999<\/td>\n",
       "      <td>34.599998<\/td>\n",
       "      <td>56.000000<\/td>\n",
       "      <td>26.700001<\/td>\n",
       "      <td>20.000000<\/td>\n",
       "    <\/tr>\n",
       "    <tr>\n",
       "      <th>64<\/th>\n",
       "      <td>Federico Coria<\/td>\n",
       "      <td>63.099998<\/td>\n",
       "      <td>48.900002<\/td>\n",
       "      <td>67.800003<\/td>\n",
       "      <td>34.099998<\/td>\n",
       "      <td>50.799999<\/td>\n",
       "      <td>28.299999<\/td>\n",
       "      <td>43.599998<\/td>\n",
       "      <td>52.500000<\/td>\n",
       "      <td>22.200001<\/td>\n",
       "      <td>36.399998<\/td>\n",
       "    <\/tr>\n",
       "    <tr>\n",
       "      <th>65<\/th>\n",
       "      <td>Jaume Munar<\/td>\n",
       "      <td>66.900002<\/td>\n",
       "      <td>44.599998<\/td>\n",
       "      <td>69.300003<\/td>\n",
       "      <td>33.799999<\/td>\n",
       "      <td>47.700001<\/td>\n",
       "      <td>25.400000<\/td>\n",
       "      <td>41.500000<\/td>\n",
       "      <td>54.700001<\/td>\n",
       "      <td>33.299999<\/td>\n",
       "      <td>36.399998<\/td>\n",
       "    <\/tr>\n",
       "    <tr>\n",
       "      <th>66<\/th>\n",
       "      <td>Bernabe Zapata Miralles<\/td>\n",
       "      <td>63.500000<\/td>\n",
       "      <td>48.000000<\/td>\n",
       "      <td>67.900002<\/td>\n",
       "      <td>34.200001<\/td>\n",
       "      <td>52.299999<\/td>\n",
       "      <td>31.000000<\/td>\n",
       "      <td>47.799999<\/td>\n",
       "      <td>52.799999<\/td>\n",
       "      <td>10.000000<\/td>\n",
       "      <td>53.799999<\/td>\n",
       "    <\/tr>\n",
       "    <tr>\n",
       "      <th>67<\/th>\n",
       "      <td>Diego Schwartzman<\/td>\n",
       "      <td>61.799999<\/td>\n",
       "      <td>47.700001<\/td>\n",
       "      <td>67.500000<\/td>\n",
       "      <td>33.200001<\/td>\n",
       "      <td>52.400002<\/td>\n",
       "      <td>27.700001<\/td>\n",
       "      <td>41.799999<\/td>\n",
       "      <td>58.700001<\/td>\n",
       "      <td>36.799999<\/td>\n",
       "      <td>22.200001<\/td>\n",
       "    <\/tr>\n",
       "  <\/tbody>\n",
       "<\/table>\n",
       "<p>68 rows × 11 columns<\/p>\n",
       "<\/div>"
      ]
     },
     "metadata":{
      
     },
     "output_type":"display_data"
    }
   ],
   "metadata":{
    "datalore":{
     "node_id":"sID4lH3pSSxjkP6lUXmGWG",
     "type":"CODE",
     "hide_input_from_viewers":true,
     "hide_output_from_viewers":true
    }
   }
  },
  {
   "cell_type":"code",
   "source":[
    "\n",
    "app = JupyterDash(__name__)\n",
    "\n",
    "app.layout = html.Div([\n",
    "    dcc.Dropdown(\n",
    "        id='dropdown-stat',\n",
    "        options=[{'label': i, 'value': i} for i in df_stats.columns],\n",
    "        value='%1stServePointsWon'\n",
    "    ),\n",
    "    dcc.Dropdown(\n",
    "        id='dropdown-player',\n",
    "        options=[{'label': player, 'value': player} for player in df_stats['Player'].unique()],\n",
    "        value=None,\n",
    "        multi=True\n",
    "    ),\n",
    "    dcc.Graph(id='graph')\n",
    "])\n",
    "\n",
    "@app.callback(\n",
    "    dash.dependencies.Output('graph', 'figure'),\n",
    "    [dash.dependencies.Input('dropdown-stat', 'value'),\n",
    "     dash.dependencies.Input('dropdown-player', 'value')])\n",
    "def update_graph(dropdown_stat_value, dropdown_player_value):\n",
    "    dff = df_stats\n",
    "\n",
    "    if dropdown_player_value:\n",
    "        dff = dff[dff['Player'].isin(dropdown_player_value)]\n",
    "\n",
    "    return px.scatter(dff, x='Player', y=dropdown_stat_value, color=dropdown_stat_value, size=dropdown_stat_value, hover_data=['Player', dropdown_stat_value])\n",
    "\n",
    "app.run_server(mode='inline')"
   ],
   "execution_count":102,
   "outputs":[
    {
     "name":"stdout",
     "text":[
      "Dash is running on http:\/\/127.0.0.1:8050\/\n",
      "\n"
     ],
     "output_type":"stream"
    },
    {
     "data":{
      "text\/html":[
       "\n",
       "        <iframe\n",
       "            width=\"100%\"\n",
       "            height=\"650\"\n",
       "            src=\"http:\/\/127.0.0.1:8050\/\"\n",
       "            frameborder=\"0\"\n",
       "            allowfullscreen\n",
       "            \n",
       "        ><\/iframe>\n",
       "        "
      ]
     },
     "metadata":{
      
     },
     "output_type":"display_data"
    }
   ],
   "metadata":{
    "datalore":{
     "node_id":"QCrZq2G31ipW55SzsEIkZX",
     "type":"CODE",
     "hide_input_from_viewers":true,
     "hide_output_from_viewers":true
    }
   }
  },
  {
   "cell_type":"code",
   "source":[
    "# Dicccionario con los datos de los jugadores para uso AIRTable.\n",
    "\n",
    "jugadores = {}\n",
    "\n",
    "for jugador in df_stats['Player'].unique():\n",
    "    jugadores[jugador] = {}\n",
    "    for stat in df_stats.columns[1:]:\n",
    "        jugadores[jugador][stat] = df_stats[df_stats['Player'] == jugador][stat].values[0]\n",
    "jugadores"
   ],
   "execution_count":103,
   "outputs":[
    {
     "data":{
      "text\/plain":[
       "{'John Isner': {'%1stServePointsWon': 79.8,\n",
       "  '%2ndServePointsWon': 52.7,\n",
       "  '%ServiceGamesWon': 90.2,\n",
       "  '%1st Serve Return Points Won': 20.9,\n",
       "  '%2nd Serve Return Points Won': 40.0,\n",
       "  '%Return Games Won': 7.1,\n",
       "  '%Breaks Points Converted': 25.8,\n",
       "  '%BreaksPointsSaved': 69.3,\n",
       "  '%TieBreaks Won': 71.1,\n",
       "  '%AvgWinLoss': 44.4},\n",
       " 'Hubert Hurkacz': {'%1stServePointsWon': 79.2,\n",
       "  '%2ndServePointsWon': 54.9,\n",
       "  '%ServiceGamesWon': 89.9,\n",
       "  '%1st Serve Return Points Won': 27.2,\n",
       "  '%2nd Serve Return Points Won': 46.6,\n",
       "  '%Return Games Won': 16.5,\n",
       "  '%Breaks Points Converted': 35.0,\n",
       "  '%BreaksPointsSaved': 67.7,\n",
       "  '%TieBreaks Won': 54.7,\n",
       "  '%AvgWinLoss': 68.4},\n",
       " 'Matteo Berrettini': {'%1stServePointsWon': 79.6,\n",
       "  '%2ndServePointsWon': 52.0,\n",
       "  '%ServiceGamesWon': 88.5,\n",
       "  '%1st Serve Return Points Won': 29.5,\n",
       "  '%2nd Serve Return Points Won': 45.7,\n",
       "  '%Return Games Won': 18.8,\n",
       "  '%Breaks Points Converted': 35.8,\n",
       "  '%BreaksPointsSaved': 67.1,\n",
       "  '%TieBreaks Won': 50.0,\n",
       "  '%AvgWinLoss': 50.0},\n",
       " 'Novak Djokovic': {'%1stServePointsWon': 77.2,\n",
       "  '%2ndServePointsWon': 57.0,\n",
       "  '%ServiceGamesWon': 88.7,\n",
       "  '%1st Serve Return Points Won': 33.5,\n",
       "  '%2nd Serve Return Points Won': 55.9,\n",
       "  '%Return Games Won': 29.3,\n",
       "  '%Breaks Points Converted': 41.8,\n",
       "  '%BreaksPointsSaved': 64.3,\n",
       "  '%TieBreaks Won': 80.0,\n",
       "  '%AvgWinLoss': 93.8},\n",
       " 'Ben Shelton': {'%1stServePointsWon': 79.3,\n",
       "  '%2ndServePointsWon': 55.9,\n",
       "  '%ServiceGamesWon': 89.4,\n",
       "  '%1st Serve Return Points Won': 23.8,\n",
       "  '%2nd Serve Return Points Won': 42.1,\n",
       "  '%Return Games Won': 13.3,\n",
       "  '%Breaks Points Converted': 39.3,\n",
       "  '%BreaksPointsSaved': 70.5,\n",
       "  '%TieBreaks Won': 56.3,\n",
       "  '%AvgWinLoss': 54.5},\n",
       " 'Stefanos Tsitsipas': {'%1stServePointsWon': 76.5,\n",
       "  '%2ndServePointsWon': 55.1,\n",
       "  '%ServiceGamesWon': 86.8,\n",
       "  '%1st Serve Return Points Won': 28.3,\n",
       "  '%2nd Serve Return Points Won': 50.2,\n",
       "  '%Return Games Won': 21.4,\n",
       "  '%Breaks Points Converted': 41.8,\n",
       "  '%BreaksPointsSaved': 66.0,\n",
       "  '%TieBreaks Won': 56.8,\n",
       "  '%AvgWinLoss': 81.3},\n",
       " 'Maxime Cressy': {'%1stServePointsWon': 79.8,\n",
       "  '%2ndServePointsWon': 53.1,\n",
       "  '%ServiceGamesWon': 88.6,\n",
       "  '%1st Serve Return Points Won': 23.0,\n",
       "  '%2nd Serve Return Points Won': 40.9,\n",
       "  '%Return Games Won': 12.2,\n",
       "  '%Breaks Points Converted': 39.3,\n",
       "  '%BreaksPointsSaved': 64.3,\n",
       "  '%TieBreaks Won': 35.7,\n",
       "  '%AvgWinLoss': 50.0},\n",
       " 'Felix Auger-Aliassime': {'%1stServePointsWon': 77.5,\n",
       "  '%2ndServePointsWon': 50.6,\n",
       "  '%ServiceGamesWon': 86.5,\n",
       "  '%1st Serve Return Points Won': 30.7,\n",
       "  '%2nd Serve Return Points Won': 47.6,\n",
       "  '%Return Games Won': 20.8,\n",
       "  '%Breaks Points Converted': 37.5,\n",
       "  '%BreaksPointsSaved': 66.6,\n",
       "  '%TieBreaks Won': 52.4,\n",
       "  '%AvgWinLoss': 64.700005},\n",
       " 'Taylor Fritz': {'%1stServePointsWon': 77.1,\n",
       "  '%2ndServePointsWon': 53.0,\n",
       "  '%ServiceGamesWon': 85.5,\n",
       "  '%1st Serve Return Points Won': 27.9,\n",
       "  '%2nd Serve Return Points Won': 52.2,\n",
       "  '%Return Games Won': 21.9,\n",
       "  '%Breaks Points Converted': 40.2,\n",
       "  '%BreaksPointsSaved': 63.0,\n",
       "  '%TieBreaks Won': 58.5,\n",
       "  '%AvgWinLoss': 77.3},\n",
       " 'Casper Ruud': {'%1stServePointsWon': 74.0,\n",
       "  '%2ndServePointsWon': 55.2,\n",
       "  '%ServiceGamesWon': 84.6,\n",
       "  '%1st Serve Return Points Won': 28.7,\n",
       "  '%2nd Serve Return Points Won': 50.0,\n",
       "  '%Return Games Won': 22.1,\n",
       "  '%Breaks Points Converted': 37.9,\n",
       "  '%BreaksPointsSaved': 62.2,\n",
       "  '%TieBreaks Won': 61.0,\n",
       "  '%AvgWinLoss': 44.4},\n",
       " 'Marc-Andrea Huesler': {'%1stServePointsWon': 76.0,\n",
       "  '%2ndServePointsWon': 53.0,\n",
       "  '%ServiceGamesWon': 85.0,\n",
       "  '%1st Serve Return Points Won': 23.3,\n",
       "  '%2nd Serve Return Points Won': 44.9,\n",
       "  '%Return Games Won': 12.8,\n",
       "  '%Breaks Points Converted': 42.9,\n",
       "  '%BreaksPointsSaved': 60.4,\n",
       "  '%TieBreaks Won': 55.6,\n",
       "  '%AvgWinLoss': 46.2},\n",
       " 'Daniil Medvedev': {'%1stServePointsWon': 75.4,\n",
       "  '%2ndServePointsWon': 51.4,\n",
       "  '%ServiceGamesWon': 86.0,\n",
       "  '%1st Serve Return Points Won': 32.8,\n",
       "  '%2nd Serve Return Points Won': 55.2,\n",
       "  '%Return Games Won': 30.6,\n",
       "  '%Breaks Points Converted': 46.0,\n",
       "  '%BreaksPointsSaved': 68.5,\n",
       "  '%TieBreaks Won': 56.0,\n",
       "  '%AvgWinLoss': 88.9},\n",
       " 'Borna Coric': {'%1stServePointsWon': 74.3,\n",
       "  '%2ndServePointsWon': 54.5,\n",
       "  '%ServiceGamesWon': 83.3,\n",
       "  '%1st Serve Return Points Won': 25.8,\n",
       "  '%2nd Serve Return Points Won': 48.9,\n",
       "  '%Return Games Won': 15.6,\n",
       "  '%Breaks Points Converted': 32.1,\n",
       "  '%BreaksPointsSaved': 59.5,\n",
       "  '%TieBreaks Won': 66.7,\n",
       "  '%AvgWinLoss': 58.3},\n",
       " 'Lorenzo Sonego': {'%1stServePointsWon': 73.5,\n",
       "  '%2ndServePointsWon': 51.0,\n",
       "  '%ServiceGamesWon': 82.9,\n",
       "  '%1st Serve Return Points Won': 27.4,\n",
       "  '%2nd Serve Return Points Won': 45.5,\n",
       "  '%Return Games Won': 17.2,\n",
       "  '%Breaks Points Converted': 42.7,\n",
       "  '%BreaksPointsSaved': 59.5,\n",
       "  '%TieBreaks Won': 50.0,\n",
       "  '%AvgWinLoss': 38.5},\n",
       " 'Holger Rune': {'%1stServePointsWon': 72.6,\n",
       "  '%2ndServePointsWon': 55.1,\n",
       "  '%ServiceGamesWon': 85.1,\n",
       "  '%1st Serve Return Points Won': 29.6,\n",
       "  '%2nd Serve Return Points Won': 50.7,\n",
       "  '%Return Games Won': 23.1,\n",
       "  '%Breaks Points Converted': 40.9,\n",
       "  '%BreaksPointsSaved': 65.9,\n",
       "  '%TieBreaks Won': 63.6,\n",
       "  '%AvgWinLoss': 66.7},\n",
       " 'Carlos Alcaraz': {'%1stServePointsWon': 71.9,\n",
       "  '%2ndServePointsWon': 55.3,\n",
       "  '%ServiceGamesWon': 84.4,\n",
       "  '%1st Serve Return Points Won': 34.4,\n",
       "  '%2nd Serve Return Points Won': 53.5,\n",
       "  '%Return Games Won': 31.4,\n",
       "  '%Breaks Points Converted': 41.3,\n",
       "  '%BreaksPointsSaved': 64.7,\n",
       "  '%TieBreaks Won': 55.9,\n",
       "  '%AvgWinLoss': 93.3},\n",
       " 'Alexander Zverev': {'%1stServePointsWon': 73.8,\n",
       "  '%2ndServePointsWon': 47.6,\n",
       "  '%ServiceGamesWon': 82.0,\n",
       "  '%1st Serve Return Points Won': 30.6,\n",
       "  '%2nd Serve Return Points Won': 50.0,\n",
       "  '%Return Games Won': 22.6,\n",
       "  '%Breaks Points Converted': 38.6,\n",
       "  '%BreaksPointsSaved': 58.3,\n",
       "  '%TieBreaks Won': 78.6,\n",
       "  '%AvgWinLoss': 50.0},\n",
       " 'Tallon Griekspoor': {'%1stServePointsWon': 73.9,\n",
       "  '%2ndServePointsWon': 51.8,\n",
       "  '%ServiceGamesWon': 83.2,\n",
       "  '%1st Serve Return Points Won': 25.6,\n",
       "  '%2nd Serve Return Points Won': 46.9,\n",
       "  '%Return Games Won': 14.8,\n",
       "  '%Breaks Points Converted': 34.2,\n",
       "  '%BreaksPointsSaved': 61.4,\n",
       "  '%TieBreaks Won': 57.7,\n",
       "  '%AvgWinLoss': 72.2},\n",
       " 'Andrey Rublev': {'%1stServePointsWon': 76.1,\n",
       "  '%2ndServePointsWon': 50.4,\n",
       "  '%ServiceGamesWon': 83.9,\n",
       "  '%1st Serve Return Points Won': 29.9,\n",
       "  '%2nd Serve Return Points Won': 49.3,\n",
       "  '%Return Games Won': 21.2,\n",
       "  '%Breaks Points Converted': 38.9,\n",
       "  '%BreaksPointsSaved': 62.2,\n",
       "  '%TieBreaks Won': 61.5,\n",
       "  '%AvgWinLoss': 61.1},\n",
       " 'Grigor Dimitrov': {'%1stServePointsWon': 76.2,\n",
       "  '%2ndServePointsWon': 51.3,\n",
       "  '%ServiceGamesWon': 82.6,\n",
       "  '%1st Serve Return Points Won': 29.2,\n",
       "  '%2nd Serve Return Points Won': 50.4,\n",
       "  '%Return Games Won': 23.2,\n",
       "  '%Breaks Points Converted': 39.9,\n",
       "  '%BreaksPointsSaved': 61.2,\n",
       "  '%TieBreaks Won': 42.9,\n",
       "  '%AvgWinLoss': 58.3},\n",
       " 'Roberto Bautista Agut': {'%1stServePointsWon': 70.7,\n",
       "  '%2ndServePointsWon': 55.1,\n",
       "  '%ServiceGamesWon': 82.1,\n",
       "  '%1st Serve Return Points Won': 29.2,\n",
       "  '%2nd Serve Return Points Won': 52.6,\n",
       "  '%Return Games Won': 23.7,\n",
       "  '%Breaks Points Converted': 36.9,\n",
       "  '%BreaksPointsSaved': 61.9,\n",
       "  '%TieBreaks Won': 44.0,\n",
       "  '%AvgWinLoss': 53.3},\n",
       " 'Jack Draper': {'%1stServePointsWon': 75.2,\n",
       "  '%2ndServePointsWon': 51.8,\n",
       "  '%ServiceGamesWon': 84.1,\n",
       "  '%1st Serve Return Points Won': 28.7,\n",
       "  '%2nd Serve Return Points Won': 53.0,\n",
       "  '%Return Games Won': 25.4,\n",
       "  '%Breaks Points Converted': 39.7,\n",
       "  '%BreaksPointsSaved': 70.8,\n",
       "  '%TieBreaks Won': 45.0,\n",
       "  '%AvgWinLoss': 63.6},\n",
       " 'Karen Khachanov': {'%1stServePointsWon': 72.5,\n",
       "  '%2ndServePointsWon': 52.1,\n",
       "  '%ServiceGamesWon': 81.6,\n",
       "  '%1st Serve Return Points Won': 29.1,\n",
       "  '%2nd Serve Return Points Won': 49.3,\n",
       "  '%Return Games Won': 22.0,\n",
       "  '%Breaks Points Converted': 42.8,\n",
       "  '%BreaksPointsSaved': 64.9,\n",
       "  '%TieBreaks Won': 50.0,\n",
       "  '%AvgWinLoss': 64.3},\n",
       " 'Arthur Rinderknech': {'%1stServePointsWon': 73.3,\n",
       "  '%2ndServePointsWon': 48.0,\n",
       "  '%ServiceGamesWon': 82.9,\n",
       "  '%1st Serve Return Points Won': 23.9,\n",
       "  '%2nd Serve Return Points Won': 43.8,\n",
       "  '%Return Games Won': 12.5,\n",
       "  '%Breaks Points Converted': 35.6,\n",
       "  '%BreaksPointsSaved': 64.3,\n",
       "  '%TieBreaks Won': 38.9,\n",
       "  '%AvgWinLoss': 25.0},\n",
       " 'Frances Tiafoe': {'%1stServePointsWon': 74.5,\n",
       "  '%2ndServePointsWon': 52.8,\n",
       "  '%ServiceGamesWon': 83.4,\n",
       "  '%1st Serve Return Points Won': 27.4,\n",
       "  '%2nd Serve Return Points Won': 50.1,\n",
       "  '%Return Games Won': 20.3,\n",
       "  '%Breaks Points Converted': 37.9,\n",
       "  '%BreaksPointsSaved': 67.1,\n",
       "  '%TieBreaks Won': 66.7,\n",
       "  '%AvgWinLoss': 77.8},\n",
       " 'Benjamin Bonzi': {'%1stServePointsWon': 73.2,\n",
       "  '%2ndServePointsWon': 52.7,\n",
       "  '%ServiceGamesWon': 83.2,\n",
       "  '%1st Serve Return Points Won': 26.1,\n",
       "  '%2nd Serve Return Points Won': 49.2,\n",
       "  '%Return Games Won': 18.8,\n",
       "  '%Breaks Points Converted': 37.4,\n",
       "  '%BreaksPointsSaved': 65.3,\n",
       "  '%TieBreaks Won': 44.8,\n",
       "  '%AvgWinLoss': 58.8},\n",
       " 'Stan Wawrinka': {'%1stServePointsWon': 75.7,\n",
       "  '%2ndServePointsWon': 51.9,\n",
       "  '%ServiceGamesWon': 81.5,\n",
       "  '%1st Serve Return Points Won': 27.1,\n",
       "  '%2nd Serve Return Points Won': 45.3,\n",
       "  '%Return Games Won': 17.2,\n",
       "  '%Breaks Points Converted': 36.9,\n",
       "  '%BreaksPointsSaved': 66.1,\n",
       "  '%TieBreaks Won': 42.9,\n",
       "  '%AvgWinLoss': 60.000004},\n",
       " 'Jannik Sinner': {'%1stServePointsWon': 74.6,\n",
       "  '%2ndServePointsWon': 53.4,\n",
       "  '%ServiceGamesWon': 83.2,\n",
       "  '%1st Serve Return Points Won': 33.1,\n",
       "  '%2nd Serve Return Points Won': 53.2,\n",
       "  '%Return Games Won': 27.7,\n",
       "  '%Breaks Points Converted': 43.3,\n",
       "  '%BreaksPointsSaved': 63.5,\n",
       "  '%TieBreaks Won': 68.2,\n",
       "  '%AvgWinLoss': 80.0},\n",
       " 'Adrian Mannarino': {'%1stServePointsWon': 71.4,\n",
       "  '%2ndServePointsWon': 55.7,\n",
       "  '%ServiceGamesWon': 80.8,\n",
       "  '%1st Serve Return Points Won': 28.0,\n",
       "  '%2nd Serve Return Points Won': 50.8,\n",
       "  '%Return Games Won': 20.4,\n",
       "  '%Breaks Points Converted': 37.7,\n",
       "  '%BreaksPointsSaved': 54.7,\n",
       "  '%TieBreaks Won': 50.0,\n",
       "  '%AvgWinLoss': 56.300003},\n",
       " 'Denis Shapovalov': {'%1stServePointsWon': 75.5,\n",
       "  '%2ndServePointsWon': 50.7,\n",
       "  '%ServiceGamesWon': 82.3,\n",
       "  '%1st Serve Return Points Won': 28.3,\n",
       "  '%2nd Serve Return Points Won': 49.0,\n",
       "  '%Return Games Won': 20.9,\n",
       "  '%Breaks Points Converted': 37.6,\n",
       "  '%BreaksPointsSaved': 62.1,\n",
       "  '%TieBreaks Won': 45.8,\n",
       "  '%AvgWinLoss': 45.5},\n",
       " 'Sebastian Korda': {'%1stServePointsWon': 71.8,\n",
       "  '%2ndServePointsWon': 51.4,\n",
       "  '%ServiceGamesWon': 81.5,\n",
       "  '%1st Serve Return Points Won': 31.0,\n",
       "  '%2nd Serve Return Points Won': 50.5,\n",
       "  '%Return Games Won': 25.1,\n",
       "  '%Breaks Points Converted': 43.4,\n",
       "  '%BreaksPointsSaved': 63.1,\n",
       "  '%TieBreaks Won': 60.7,\n",
       "  '%AvgWinLoss': 80.0},\n",
       " 'Cameron Norrie': {'%1stServePointsWon': 72.0,\n",
       "  '%2ndServePointsWon': 50.9,\n",
       "  '%ServiceGamesWon': 80.9,\n",
       "  '%1st Serve Return Points Won': 31.9,\n",
       "  '%2nd Serve Return Points Won': 52.2,\n",
       "  '%Return Games Won': 27.0,\n",
       "  '%Breaks Points Converted': 41.2,\n",
       "  '%BreaksPointsSaved': 61.7,\n",
       "  '%TieBreaks Won': 61.5,\n",
       "  '%AvgWinLoss': 84.0},\n",
       " 'Oscar Otte': {'%1stServePointsWon': 77.0,\n",
       "  '%2ndServePointsWon': 50.2,\n",
       "  '%ServiceGamesWon': 82.0,\n",
       "  '%1st Serve Return Points Won': 27.9,\n",
       "  '%2nd Serve Return Points Won': 46.3,\n",
       "  '%Return Games Won': 17.9,\n",
       "  '%Breaks Points Converted': 37.4,\n",
       "  '%BreaksPointsSaved': 67.1,\n",
       "  '%TieBreaks Won': 52.0,\n",
       "  '%AvgWinLoss': 30.000002},\n",
       " 'J.J. Wolf': {'%1stServePointsWon': 74.0,\n",
       "  '%2ndServePointsWon': 50.1,\n",
       "  '%ServiceGamesWon': 80.2,\n",
       "  '%1st Serve Return Points Won': 29.0,\n",
       "  '%2nd Serve Return Points Won': 48.3,\n",
       "  '%Return Games Won': 21.1,\n",
       "  '%Breaks Points Converted': 41.7,\n",
       "  '%BreaksPointsSaved': 63.3,\n",
       "  '%TieBreaks Won': 53.8,\n",
       "  '%AvgWinLoss': 57.1},\n",
       " 'Lorenzo Musetti': {'%1stServePointsWon': 69.8,\n",
       "  '%2ndServePointsWon': 53.8,\n",
       "  '%ServiceGamesWon': 78.6,\n",
       "  '%1st Serve Return Points Won': 30.8,\n",
       "  '%2nd Serve Return Points Won': 51.6,\n",
       "  '%Return Games Won': 25.4,\n",
       "  '%Breaks Points Converted': 46.2,\n",
       "  '%BreaksPointsSaved': 55.3,\n",
       "  '%TieBreaks Won': 44.8,\n",
       "  '%AvgWinLoss': 45.5},\n",
       " 'Laslo Djere': {'%1stServePointsWon': 72.6,\n",
       "  '%2ndServePointsWon': 51.2,\n",
       "  '%ServiceGamesWon': 81.8,\n",
       "  '%1st Serve Return Points Won': 27.2,\n",
       "  '%2nd Serve Return Points Won': 48.0,\n",
       "  '%Return Games Won': 21.0,\n",
       "  '%Breaks Points Converted': 40.1,\n",
       "  '%BreaksPointsSaved': 65.7,\n",
       "  '%TieBreaks Won': 29.6,\n",
       "  '%AvgWinLoss': 56.300003},\n",
       " 'Sebastian Baez': {'%1stServePointsWon': 65.6,\n",
       "  '%2ndServePointsWon': 54.1,\n",
       "  '%ServiceGamesWon': 76.9,\n",
       "  '%1st Serve Return Points Won': 31.6,\n",
       "  '%2nd Serve Return Points Won': 50.3,\n",
       "  '%Return Games Won': 24.4,\n",
       "  '%Breaks Points Converted': 39.3,\n",
       "  '%BreaksPointsSaved': 56.0,\n",
       "  '%TieBreaks Won': 20.0,\n",
       "  '%AvgWinLoss': 56.300003},\n",
       " 'Yoshihito Nishioka': {'%1stServePointsWon': 65.3,\n",
       "  '%2ndServePointsWon': 56.9,\n",
       "  '%ServiceGamesWon': 78.3,\n",
       "  '%1st Serve Return Points Won': 27.3,\n",
       "  '%2nd Serve Return Points Won': 55.1,\n",
       "  '%Return Games Won': 24.5,\n",
       "  '%Breaks Points Converted': 41.6,\n",
       "  '%BreaksPointsSaved': 60.7,\n",
       "  '%TieBreaks Won': 52.4,\n",
       "  '%AvgWinLoss': 61.5},\n",
       " 'Tommy Paul': {'%1stServePointsWon': 71.1,\n",
       "  '%2ndServePointsWon': 51.4,\n",
       "  '%ServiceGamesWon': 80.2,\n",
       "  '%1st Serve Return Points Won': 30.2,\n",
       "  '%2nd Serve Return Points Won': 51.2,\n",
       "  '%Return Games Won': 23.9,\n",
       "  '%Breaks Points Converted': 37.1,\n",
       "  '%BreaksPointsSaved': 62.4,\n",
       "  '%TieBreaks Won': 51.9,\n",
       "  '%AvgWinLoss': 73.7},\n",
       " 'Andy Murray': {'%1stServePointsWon': 72.9,\n",
       "  '%2ndServePointsWon': 50.1,\n",
       "  '%ServiceGamesWon': 80.1,\n",
       "  '%1st Serve Return Points Won': 29.1,\n",
       "  '%2nd Serve Return Points Won': 54.0,\n",
       "  '%Return Games Won': 23.7,\n",
       "  '%Breaks Points Converted': 39.8,\n",
       "  '%BreaksPointsSaved': 60.7,\n",
       "  '%TieBreaks Won': 61.9,\n",
       "  '%AvgWinLoss': 66.7},\n",
       " 'Jiri Lehecka': {'%1stServePointsWon': 69.6,\n",
       "  '%2ndServePointsWon': 51.9,\n",
       "  '%ServiceGamesWon': 79.0,\n",
       "  '%1st Serve Return Points Won': 27.8,\n",
       "  '%2nd Serve Return Points Won': 46.1,\n",
       "  '%Return Games Won': 18.8,\n",
       "  '%Breaks Points Converted': 40.4,\n",
       "  '%BreaksPointsSaved': 62.1,\n",
       "  '%TieBreaks Won': 56.5,\n",
       "  '%AvgWinLoss': 66.7},\n",
       " 'Alexander Bublik': {'%1stServePointsWon': 78.0,\n",
       "  '%2ndServePointsWon': 44.1,\n",
       "  '%ServiceGamesWon': 80.5,\n",
       "  '%1st Serve Return Points Won': 28.4,\n",
       "  '%2nd Serve Return Points Won': 45.9,\n",
       "  '%Return Games Won': 18.2,\n",
       "  '%Breaks Points Converted': 43.2,\n",
       "  '%BreaksPointsSaved': 59.2,\n",
       "  '%TieBreaks Won': 40.9,\n",
       "  '%AvgWinLoss': 26.699999},\n",
       " 'Miomir Kecmanovic': {'%1stServePointsWon': 69.0,\n",
       "  '%2ndServePointsWon': 53.8,\n",
       "  '%ServiceGamesWon': 77.7,\n",
       "  '%1st Serve Return Points Won': 29.2,\n",
       "  '%2nd Serve Return Points Won': 53.1,\n",
       "  '%Return Games Won': 23.0,\n",
       "  '%Breaks Points Converted': 40.9,\n",
       "  '%BreaksPointsSaved': 59.4,\n",
       "  '%TieBreaks Won': 52.4,\n",
       "  '%AvgWinLoss': 50.0},\n",
       " 'Mackenzie Mcdonald': {'%1stServePointsWon': 68.3,\n",
       "  '%2ndServePointsWon': 51.1,\n",
       "  '%ServiceGamesWon': 77.3,\n",
       "  '%1st Serve Return Points Won': 31.4,\n",
       "  '%2nd Serve Return Points Won': 50.8,\n",
       "  '%Return Games Won': 25.3,\n",
       "  '%Breaks Points Converted': 41.6,\n",
       "  '%BreaksPointsSaved': 59.8,\n",
       "  '%TieBreaks Won': 40.9,\n",
       "  '%AvgWinLoss': 63.200005},\n",
       " 'Dominic Thiem': {'%1stServePointsWon': 68.5,\n",
       "  '%2ndServePointsWon': 53.4,\n",
       "  '%ServiceGamesWon': 77.8,\n",
       "  '%1st Serve Return Points Won': 28.7,\n",
       "  '%2nd Serve Return Points Won': 46.6,\n",
       "  '%Return Games Won': 17.5,\n",
       "  '%Breaks Points Converted': 38.6,\n",
       "  '%BreaksPointsSaved': 57.4,\n",
       "  '%TieBreaks Won': 68.2,\n",
       "  '%AvgWinLoss': 12.5},\n",
       " 'Marcos Giron': {'%1stServePointsWon': 68.8,\n",
       "  '%2ndServePointsWon': 52.7,\n",
       "  '%ServiceGamesWon': 76.3,\n",
       "  '%1st Serve Return Points Won': 27.9,\n",
       "  '%2nd Serve Return Points Won': 46.0,\n",
       "  '%Return Games Won': 17.6,\n",
       "  '%Breaks Points Converted': 37.6,\n",
       "  '%BreaksPointsSaved': 55.0,\n",
       "  '%TieBreaks Won': 42.1,\n",
       "  '%AvgWinLoss': 53.3},\n",
       " 'Daniel Evans': {'%1stServePointsWon': 71.1,\n",
       "  '%2ndServePointsWon': 50.0,\n",
       "  '%ServiceGamesWon': 77.3,\n",
       "  '%1st Serve Return Points Won': 30.3,\n",
       "  '%2nd Serve Return Points Won': 51.2,\n",
       "  '%Return Games Won': 24.0,\n",
       "  '%Breaks Points Converted': 42.1,\n",
       "  '%BreaksPointsSaved': 61.4,\n",
       "  '%TieBreaks Won': 40.0,\n",
       "  '%AvgWinLoss': 27.3},\n",
       " 'Filip Krajinovic': {'%1stServePointsWon': 68.5,\n",
       "  '%2ndServePointsWon': 51.2,\n",
       "  '%ServiceGamesWon': 76.6,\n",
       "  '%1st Serve Return Points Won': 26.5,\n",
       "  '%2nd Serve Return Points Won': 49.4,\n",
       "  '%Return Games Won': 19.0,\n",
       "  '%Breaks Points Converted': 42.0,\n",
       "  '%BreaksPointsSaved': 59.5,\n",
       "  '%TieBreaks Won': 50.0,\n",
       "  '%AvgWinLoss': 33.3},\n",
       " 'Emil Ruusuvuori': {'%1stServePointsWon': 69.6,\n",
       "  '%2ndServePointsWon': 49.8,\n",
       "  '%ServiceGamesWon': 76.5,\n",
       "  '%1st Serve Return Points Won': 30.0,\n",
       "  '%2nd Serve Return Points Won': 52.1,\n",
       "  '%Return Games Won': 23.1,\n",
       "  '%Breaks Points Converted': 39.3,\n",
       "  '%BreaksPointsSaved': 58.8,\n",
       "  '%TieBreaks Won': 61.1,\n",
       "  '%AvgWinLoss': 46.7},\n",
       " 'Soonwoo Kwon': {'%1stServePointsWon': 70.9,\n",
       "  '%2ndServePointsWon': 50.7,\n",
       "  '%ServiceGamesWon': 77.6,\n",
       "  '%1st Serve Return Points Won': 27.3,\n",
       "  '%2nd Serve Return Points Won': 50.8,\n",
       "  '%Return Games Won': 20.0,\n",
       "  '%Breaks Points Converted': 39.4,\n",
       "  '%BreaksPointsSaved': 58.3,\n",
       "  '%TieBreaks Won': 58.3,\n",
       "  '%AvgWinLoss': 58.3},\n",
       " 'Albert Ramos-Vinolas': {'%1stServePointsWon': 66.9,\n",
       "  '%2ndServePointsWon': 51.6,\n",
       "  '%ServiceGamesWon': 75.5,\n",
       "  '%1st Serve Return Points Won': 28.3,\n",
       "  '%2nd Serve Return Points Won': 50.1,\n",
       "  '%Return Games Won': 21.1,\n",
       "  '%Breaks Points Converted': 40.0,\n",
       "  '%BreaksPointsSaved': 64.2,\n",
       "  '%TieBreaks Won': 35.0,\n",
       "  '%AvgWinLoss': 30.8},\n",
       " 'Richard Gasquet': {'%1stServePointsWon': 71.3,\n",
       "  '%2ndServePointsWon': 50.7,\n",
       "  '%ServiceGamesWon': 78.0,\n",
       "  '%1st Serve Return Points Won': 28.7,\n",
       "  '%2nd Serve Return Points Won': 51.1,\n",
       "  '%Return Games Won': 22.8,\n",
       "  '%Breaks Points Converted': 40.2,\n",
       "  '%BreaksPointsSaved': 60.3,\n",
       "  '%TieBreaks Won': 50.0,\n",
       "  '%AvgWinLoss': 53.8},\n",
       " 'Alejandro Davidovich Fokina': {'%1stServePointsWon': 65.8,\n",
       "  '%2ndServePointsWon': 51.9,\n",
       "  '%ServiceGamesWon': 74.7,\n",
       "  '%1st Serve Return Points Won': 32.0,\n",
       "  '%2nd Serve Return Points Won': 51.2,\n",
       "  '%Return Games Won': 27.7,\n",
       "  '%Breaks Points Converted': 41.9,\n",
       "  '%BreaksPointsSaved': 57.6,\n",
       "  '%TieBreaks Won': 36.8,\n",
       "  '%AvgWinLoss': 58.8},\n",
       " 'Alex Molcan': {'%1stServePointsWon': 67.3,\n",
       "  '%2ndServePointsWon': 52.5,\n",
       "  '%ServiceGamesWon': 75.2,\n",
       "  '%1st Serve Return Points Won': 28.9,\n",
       "  '%2nd Serve Return Points Won': 51.6,\n",
       "  '%Return Games Won': 23.2,\n",
       "  '%Breaks Points Converted': 40.5,\n",
       "  '%BreaksPointsSaved': 58.5,\n",
       "  '%TieBreaks Won': 58.8,\n",
       "  '%AvgWinLoss': 33.3},\n",
       " 'Dusan Lajovic': {'%1stServePointsWon': 65.9,\n",
       "  '%2ndServePointsWon': 50.7,\n",
       "  '%ServiceGamesWon': 73.6,\n",
       "  '%1st Serve Return Points Won': 29.7,\n",
       "  '%2nd Serve Return Points Won': 49.8,\n",
       "  '%Return Games Won': 21.1,\n",
       "  '%Breaks Points Converted': 35.8,\n",
       "  '%BreaksPointsSaved': 58.2,\n",
       "  '%TieBreaks Won': 58.3,\n",
       "  '%AvgWinLoss': 58.3},\n",
       " 'Botic Van De Zandschulp': {'%1stServePointsWon': 70.4,\n",
       "  '%2ndServePointsWon': 46.3,\n",
       "  '%ServiceGamesWon': 75.3,\n",
       "  '%1st Serve Return Points Won': 31.9,\n",
       "  '%2nd Serve Return Points Won': 49.7,\n",
       "  '%Return Games Won': 24.5,\n",
       "  '%Breaks Points Converted': 40.8,\n",
       "  '%BreaksPointsSaved': 61.8,\n",
       "  '%TieBreaks Won': 68.2,\n",
       "  '%AvgWinLoss': 53.8},\n",
       " 'Alex De Minaur': {'%1stServePointsWon': 69.7,\n",
       "  '%2ndServePointsWon': 50.8,\n",
       "  '%ServiceGamesWon': 77.6,\n",
       "  '%1st Serve Return Points Won': 33.7,\n",
       "  '%2nd Serve Return Points Won': 53.0,\n",
       "  '%Return Games Won': 29.4,\n",
       "  '%Breaks Points Converted': 43.3,\n",
       "  '%BreaksPointsSaved': 61.3,\n",
       "  '%TieBreaks Won': 52.6,\n",
       "  '%AvgWinLoss': 70.6},\n",
       " 'Mikael Ymer': {'%1stServePointsWon': 63.5,\n",
       "  '%2ndServePointsWon': 50.3,\n",
       "  '%ServiceGamesWon': 71.4,\n",
       "  '%1st Serve Return Points Won': 34.9,\n",
       "  '%2nd Serve Return Points Won': 51.0,\n",
       "  '%Return Games Won': 29.3,\n",
       "  '%Breaks Points Converted': 41.6,\n",
       "  '%BreaksPointsSaved': 54.4,\n",
       "  '%TieBreaks Won': 30.8,\n",
       "  '%AvgWinLoss': 42.899998},\n",
       " 'Francisco Cerundolo': {'%1stServePointsWon': 67.0,\n",
       "  '%2ndServePointsWon': 49.4,\n",
       "  '%ServiceGamesWon': 74.8,\n",
       "  '%1st Serve Return Points Won': 32.9,\n",
       "  '%2nd Serve Return Points Won': 51.1,\n",
       "  '%Return Games Won': 26.0,\n",
       "  '%Breaks Points Converted': 39.8,\n",
       "  '%BreaksPointsSaved': 61.7,\n",
       "  '%TieBreaks Won': 57.1,\n",
       "  '%AvgWinLoss': 50.0},\n",
       " 'David Goffin': {'%1stServePointsWon': 70.1,\n",
       "  '%2ndServePointsWon': 49.1,\n",
       "  '%ServiceGamesWon': 74.2,\n",
       "  '%1st Serve Return Points Won': 32.3,\n",
       "  '%2nd Serve Return Points Won': 49.8,\n",
       "  '%Return Games Won': 25.9,\n",
       "  '%Breaks Points Converted': 40.3,\n",
       "  '%BreaksPointsSaved': 60.1,\n",
       "  '%TieBreaks Won': 44.4,\n",
       "  '%AvgWinLoss': 44.4},\n",
       " 'Aslan Karatsev': {'%1stServePointsWon': 69.4,\n",
       "  '%2ndServePointsWon': 48.6,\n",
       "  '%ServiceGamesWon': 74.3,\n",
       "  '%1st Serve Return Points Won': 29.5,\n",
       "  '%2nd Serve Return Points Won': 47.8,\n",
       "  '%Return Games Won': 20.4,\n",
       "  '%Breaks Points Converted': 42.4,\n",
       "  '%BreaksPointsSaved': 56.9,\n",
       "  '%TieBreaks Won': 44.4,\n",
       "  '%AvgWinLoss': 37.5},\n",
       " 'Cristian Garin': {'%1stServePointsWon': 66.6,\n",
       "  '%2ndServePointsWon': 48.5,\n",
       "  '%ServiceGamesWon': 71.9,\n",
       "  '%1st Serve Return Points Won': 31.2,\n",
       "  '%2nd Serve Return Points Won': 48.2,\n",
       "  '%Return Games Won': 24.2,\n",
       "  '%Breaks Points Converted': 37.9,\n",
       "  '%BreaksPointsSaved': 59.2,\n",
       "  '%TieBreaks Won': 45.5,\n",
       "  '%AvgWinLoss': 50.0},\n",
       " 'Pedro Martinez': {'%1stServePointsWon': 63.7,\n",
       "  '%2ndServePointsWon': 50.2,\n",
       "  '%ServiceGamesWon': 70.6,\n",
       "  '%1st Serve Return Points Won': 28.8,\n",
       "  '%2nd Serve Return Points Won': 51.3,\n",
       "  '%Return Games Won': 21.9,\n",
       "  '%Breaks Points Converted': 36.0,\n",
       "  '%BreaksPointsSaved': 59.1,\n",
       "  '%TieBreaks Won': 38.9,\n",
       "  '%AvgWinLoss': 36.399998},\n",
       " 'Joao Sousa': {'%1stServePointsWon': 67.2,\n",
       "  '%2ndServePointsWon': 47.2,\n",
       "  '%ServiceGamesWon': 71.5,\n",
       "  '%1st Serve Return Points Won': 29.9,\n",
       "  '%2nd Serve Return Points Won': 48.2,\n",
       "  '%Return Games Won': 19.8,\n",
       "  '%Breaks Points Converted': 34.6,\n",
       "  '%BreaksPointsSaved': 56.0,\n",
       "  '%TieBreaks Won': 26.7,\n",
       "  '%AvgWinLoss': 20.0},\n",
       " 'Federico Coria': {'%1stServePointsWon': 63.1,\n",
       "  '%2ndServePointsWon': 48.9,\n",
       "  '%ServiceGamesWon': 67.8,\n",
       "  '%1st Serve Return Points Won': 34.1,\n",
       "  '%2nd Serve Return Points Won': 50.8,\n",
       "  '%Return Games Won': 28.3,\n",
       "  '%Breaks Points Converted': 43.6,\n",
       "  '%BreaksPointsSaved': 52.5,\n",
       "  '%TieBreaks Won': 22.2,\n",
       "  '%AvgWinLoss': 36.399998},\n",
       " 'Jaume Munar': {'%1stServePointsWon': 66.9,\n",
       "  '%2ndServePointsWon': 44.6,\n",
       "  '%ServiceGamesWon': 69.3,\n",
       "  '%1st Serve Return Points Won': 33.8,\n",
       "  '%2nd Serve Return Points Won': 47.7,\n",
       "  '%Return Games Won': 25.4,\n",
       "  '%Breaks Points Converted': 41.5,\n",
       "  '%BreaksPointsSaved': 54.7,\n",
       "  '%TieBreaks Won': 33.3,\n",
       "  '%AvgWinLoss': 36.399998},\n",
       " 'Bernabe Zapata Miralles': {'%1stServePointsWon': 63.5,\n",
       "  '%2ndServePointsWon': 48.0,\n",
       "  '%ServiceGamesWon': 67.9,\n",
       "  '%1st Serve Return Points Won': 34.2,\n",
       "  '%2nd Serve Return Points Won': 52.3,\n",
       "  '%Return Games Won': 31.0,\n",
       "  '%Breaks Points Converted': 47.8,\n",
       "  '%BreaksPointsSaved': 52.8,\n",
       "  '%TieBreaks Won': 10.0,\n",
       "  '%AvgWinLoss': 53.8},\n",
       " 'Diego Schwartzman': {'%1stServePointsWon': 61.8,\n",
       "  '%2ndServePointsWon': 47.7,\n",
       "  '%ServiceGamesWon': 67.5,\n",
       "  '%1st Serve Return Points Won': 33.2,\n",
       "  '%2nd Serve Return Points Won': 52.4,\n",
       "  '%Return Games Won': 27.7,\n",
       "  '%Breaks Points Converted': 41.8,\n",
       "  '%BreaksPointsSaved': 58.7,\n",
       "  '%TieBreaks Won': 36.8,\n",
       "  '%AvgWinLoss': 22.2}}"
      ]
     },
     "metadata":{
      
     },
     "output_type":"display_data"
    }
   ],
   "metadata":{
    "datalore":{
     "node_id":"7d6ZGyLNL0gBuEd4JmVIgQ",
     "type":"CODE",
     "hide_input_from_viewers":true,
     "hide_output_from_viewers":true
    }
   }
  },
  {
   "cell_type":"code",
   "source":[
    "## Creamos una funcion que nos de todas las estadisticas de un jugador en concreto en un grafico plotly express con forma radial.\n",
    "\n",
    "def grafico_estadisticas(df_stats, jugador):\n",
    "    df_stats_jugador = df_stats[df_stats['Player'] == jugador]\n",
    "    df_stats_jugador = df_stats_jugador.drop(['Player'], axis=1)\n",
    "    df_stats_jugador = df_stats_jugador.transpose()\n",
    "    df_stats_jugador = df_stats_jugador.reset_index()\n",
    "    df_stats_jugador.columns = ['Estadisticas', 'Valor']\n",
    "    fig = px.line_polar(df_stats_jugador, r='Valor', theta='Estadisticas', line_close=True)\n",
    "    fig.show()"
   ],
   "execution_count":104,
   "outputs":[
    
   ],
   "metadata":{
    "datalore":{
     "node_id":"jTs8LBBTfHwVCUHutBMLLK",
     "type":"CODE",
     "hide_input_from_viewers":true,
     "hide_output_from_viewers":true
    }
   }
  },
  {
   "cell_type":"code",
   "source":[
    "grafico_estadisticas(df_stats, 'Carlos Alcaraz')"
   ],
   "execution_count":105,
   "outputs":[
    {
     "data":{
      "application\/vnd.plotly.v1+json":{
       "data":[
        {
         "hovertemplate":"Valor=%{r}<br>Estadisticas=%{theta}<extra><\/extra>",
         "legendgroup":"",
         "line":{
          "color":"#636efa",
          "dash":"solid"
         },
         "marker":{
          "symbol":"circle"
         },
         "mode":"lines",
         "name":"",
         "r":[
          71.9000015258789,
          55.29999923706055,
          84.4000015258789,
          34.400001525878906,
          53.5,
          31.399999618530273,
          41.29999923706055,
          64.69999694824219,
          55.900001525878906,
          93.30000305175781,
          71.9000015258789
         ],
         "showlegend":false,
         "subplot":"polar",
         "theta":[
          "%1stServePointsWon",
          "%2ndServePointsWon",
          "%ServiceGamesWon",
          "%1st Serve Return Points Won",
          "%2nd Serve Return Points Won",
          "%Return Games Won",
          "%Breaks Points Converted",
          "%BreaksPointsSaved",
          "%TieBreaks Won",
          "%AvgWinLoss",
          "%1stServePointsWon"
         ],
         "type":"scatterpolar"
        }
       ],
       "layout":{
        "template":{
         "data":{
          "bar":[
           {
            "error_x":{
             "color":"#2a3f5f"
            },
            "error_y":{
             "color":"#2a3f5f"
            },
            "marker":{
             "line":{
              "color":"#E5ECF6",
              "width":0.5
             },
             "pattern":{
              "fillmode":"overlay",
              "size":10,
              "solidity":0.2
             }
            },
            "type":"bar"
           }
          ],
          "barpolar":[
           {
            "marker":{
             "line":{
              "color":"#E5ECF6",
              "width":0.5
             },
             "pattern":{
              "fillmode":"overlay",
              "size":10,
              "solidity":0.2
             }
            },
            "type":"barpolar"
           }
          ],
          "carpet":[
           {
            "aaxis":{
             "endlinecolor":"#2a3f5f",
             "gridcolor":"white",
             "linecolor":"white",
             "minorgridcolor":"white",
             "startlinecolor":"#2a3f5f"
            },
            "baxis":{
             "endlinecolor":"#2a3f5f",
             "gridcolor":"white",
             "linecolor":"white",
             "minorgridcolor":"white",
             "startlinecolor":"#2a3f5f"
            },
            "type":"carpet"
           }
          ],
          "choropleth":[
           {
            "colorbar":{
             "outlinewidth":0,
             "ticks":""
            },
            "type":"choropleth"
           }
          ],
          "contour":[
           {
            "colorbar":{
             "outlinewidth":0,
             "ticks":""
            },
            "colorscale":[
             [
              0,
              "#0d0887"
             ],
             [
              0.1111111111111111,
              "#46039f"
             ],
             [
              0.2222222222222222,
              "#7201a8"
             ],
             [
              0.3333333333333333,
              "#9c179e"
             ],
             [
              0.4444444444444444,
              "#bd3786"
             ],
             [
              0.5555555555555556,
              "#d8576b"
             ],
             [
              0.6666666666666666,
              "#ed7953"
             ],
             [
              0.7777777777777778,
              "#fb9f3a"
             ],
             [
              0.8888888888888888,
              "#fdca26"
             ],
             [
              1,
              "#f0f921"
             ]
            ],
            "type":"contour"
           }
          ],
          "contourcarpet":[
           {
            "colorbar":{
             "outlinewidth":0,
             "ticks":""
            },
            "type":"contourcarpet"
           }
          ],
          "heatmap":[
           {
            "colorbar":{
             "outlinewidth":0,
             "ticks":""
            },
            "colorscale":[
             [
              0,
              "#0d0887"
             ],
             [
              0.1111111111111111,
              "#46039f"
             ],
             [
              0.2222222222222222,
              "#7201a8"
             ],
             [
              0.3333333333333333,
              "#9c179e"
             ],
             [
              0.4444444444444444,
              "#bd3786"
             ],
             [
              0.5555555555555556,
              "#d8576b"
             ],
             [
              0.6666666666666666,
              "#ed7953"
             ],
             [
              0.7777777777777778,
              "#fb9f3a"
             ],
             [
              0.8888888888888888,
              "#fdca26"
             ],
             [
              1,
              "#f0f921"
             ]
            ],
            "type":"heatmap"
           }
          ],
          "heatmapgl":[
           {
            "colorbar":{
             "outlinewidth":0,
             "ticks":""
            },
            "colorscale":[
             [
              0,
              "#0d0887"
             ],
             [
              0.1111111111111111,
              "#46039f"
             ],
             [
              0.2222222222222222,
              "#7201a8"
             ],
             [
              0.3333333333333333,
              "#9c179e"
             ],
             [
              0.4444444444444444,
              "#bd3786"
             ],
             [
              0.5555555555555556,
              "#d8576b"
             ],
             [
              0.6666666666666666,
              "#ed7953"
             ],
             [
              0.7777777777777778,
              "#fb9f3a"
             ],
             [
              0.8888888888888888,
              "#fdca26"
             ],
             [
              1,
              "#f0f921"
             ]
            ],
            "type":"heatmapgl"
           }
          ],
          "histogram":[
           {
            "marker":{
             "pattern":{
              "fillmode":"overlay",
              "size":10,
              "solidity":0.2
             }
            },
            "type":"histogram"
           }
          ],
          "histogram2d":[
           {
            "colorbar":{
             "outlinewidth":0,
             "ticks":""
            },
            "colorscale":[
             [
              0,
              "#0d0887"
             ],
             [
              0.1111111111111111,
              "#46039f"
             ],
             [
              0.2222222222222222,
              "#7201a8"
             ],
             [
              0.3333333333333333,
              "#9c179e"
             ],
             [
              0.4444444444444444,
              "#bd3786"
             ],
             [
              0.5555555555555556,
              "#d8576b"
             ],
             [
              0.6666666666666666,
              "#ed7953"
             ],
             [
              0.7777777777777778,
              "#fb9f3a"
             ],
             [
              0.8888888888888888,
              "#fdca26"
             ],
             [
              1,
              "#f0f921"
             ]
            ],
            "type":"histogram2d"
           }
          ],
          "histogram2dcontour":[
           {
            "colorbar":{
             "outlinewidth":0,
             "ticks":""
            },
            "colorscale":[
             [
              0,
              "#0d0887"
             ],
             [
              0.1111111111111111,
              "#46039f"
             ],
             [
              0.2222222222222222,
              "#7201a8"
             ],
             [
              0.3333333333333333,
              "#9c179e"
             ],
             [
              0.4444444444444444,
              "#bd3786"
             ],
             [
              0.5555555555555556,
              "#d8576b"
             ],
             [
              0.6666666666666666,
              "#ed7953"
             ],
             [
              0.7777777777777778,
              "#fb9f3a"
             ],
             [
              0.8888888888888888,
              "#fdca26"
             ],
             [
              1,
              "#f0f921"
             ]
            ],
            "type":"histogram2dcontour"
           }
          ],
          "mesh3d":[
           {
            "colorbar":{
             "outlinewidth":0,
             "ticks":""
            },
            "type":"mesh3d"
           }
          ],
          "parcoords":[
           {
            "line":{
             "colorbar":{
              "outlinewidth":0,
              "ticks":""
             }
            },
            "type":"parcoords"
           }
          ],
          "pie":[
           {
            "automargin":true,
            "type":"pie"
           }
          ],
          "scatter":[
           {
            "marker":{
             "colorbar":{
              "outlinewidth":0,
              "ticks":""
             }
            },
            "type":"scatter"
           }
          ],
          "scatter3d":[
           {
            "line":{
             "colorbar":{
              "outlinewidth":0,
              "ticks":""
             }
            },
            "marker":{
             "colorbar":{
              "outlinewidth":0,
              "ticks":""
             }
            },
            "type":"scatter3d"
           }
          ],
          "scattercarpet":[
           {
            "marker":{
             "colorbar":{
              "outlinewidth":0,
              "ticks":""
             }
            },
            "type":"scattercarpet"
           }
          ],
          "scattergeo":[
           {
            "marker":{
             "colorbar":{
              "outlinewidth":0,
              "ticks":""
             }
            },
            "type":"scattergeo"
           }
          ],
          "scattergl":[
           {
            "marker":{
             "colorbar":{
              "outlinewidth":0,
              "ticks":""
             }
            },
            "type":"scattergl"
           }
          ],
          "scattermapbox":[
           {
            "marker":{
             "colorbar":{
              "outlinewidth":0,
              "ticks":""
             }
            },
            "type":"scattermapbox"
           }
          ],
          "scatterpolar":[
           {
            "marker":{
             "colorbar":{
              "outlinewidth":0,
              "ticks":""
             }
            },
            "type":"scatterpolar"
           }
          ],
          "scatterpolargl":[
           {
            "marker":{
             "colorbar":{
              "outlinewidth":0,
              "ticks":""
             }
            },
            "type":"scatterpolargl"
           }
          ],
          "scatterternary":[
           {
            "marker":{
             "colorbar":{
              "outlinewidth":0,
              "ticks":""
             }
            },
            "type":"scatterternary"
           }
          ],
          "surface":[
           {
            "colorbar":{
             "outlinewidth":0,
             "ticks":""
            },
            "colorscale":[
             [
              0,
              "#0d0887"
             ],
             [
              0.1111111111111111,
              "#46039f"
             ],
             [
              0.2222222222222222,
              "#7201a8"
             ],
             [
              0.3333333333333333,
              "#9c179e"
             ],
             [
              0.4444444444444444,
              "#bd3786"
             ],
             [
              0.5555555555555556,
              "#d8576b"
             ],
             [
              0.6666666666666666,
              "#ed7953"
             ],
             [
              0.7777777777777778,
              "#fb9f3a"
             ],
             [
              0.8888888888888888,
              "#fdca26"
             ],
             [
              1,
              "#f0f921"
             ]
            ],
            "type":"surface"
           }
          ],
          "table":[
           {
            "cells":{
             "fill":{
              "color":"#EBF0F8"
             },
             "line":{
              "color":"white"
             }
            },
            "header":{
             "fill":{
              "color":"#C8D4E3"
             },
             "line":{
              "color":"white"
             }
            },
            "type":"table"
           }
          ]
         },
         "layout":{
          "annotationdefaults":{
           "arrowcolor":"#2a3f5f",
           "arrowhead":0,
           "arrowwidth":1
          },
          "autotypenumbers":"strict",
          "coloraxis":{
           "colorbar":{
            "outlinewidth":0,
            "ticks":""
           }
          },
          "colorscale":{
           "diverging":[
            [
             0,
             "#8e0152"
            ],
            [
             0.1,
             "#c51b7d"
            ],
            [
             0.2,
             "#de77ae"
            ],
            [
             0.3,
             "#f1b6da"
            ],
            [
             0.4,
             "#fde0ef"
            ],
            [
             0.5,
             "#f7f7f7"
            ],
            [
             0.6,
             "#e6f5d0"
            ],
            [
             0.7,
             "#b8e186"
            ],
            [
             0.8,
             "#7fbc41"
            ],
            [
             0.9,
             "#4d9221"
            ],
            [
             1,
             "#276419"
            ]
           ],
           "sequential":[
            [
             0,
             "#0d0887"
            ],
            [
             0.1111111111111111,
             "#46039f"
            ],
            [
             0.2222222222222222,
             "#7201a8"
            ],
            [
             0.3333333333333333,
             "#9c179e"
            ],
            [
             0.4444444444444444,
             "#bd3786"
            ],
            [
             0.5555555555555556,
             "#d8576b"
            ],
            [
             0.6666666666666666,
             "#ed7953"
            ],
            [
             0.7777777777777778,
             "#fb9f3a"
            ],
            [
             0.8888888888888888,
             "#fdca26"
            ],
            [
             1,
             "#f0f921"
            ]
           ],
           "sequentialminus":[
            [
             0,
             "#0d0887"
            ],
            [
             0.1111111111111111,
             "#46039f"
            ],
            [
             0.2222222222222222,
             "#7201a8"
            ],
            [
             0.3333333333333333,
             "#9c179e"
            ],
            [
             0.4444444444444444,
             "#bd3786"
            ],
            [
             0.5555555555555556,
             "#d8576b"
            ],
            [
             0.6666666666666666,
             "#ed7953"
            ],
            [
             0.7777777777777778,
             "#fb9f3a"
            ],
            [
             0.8888888888888888,
             "#fdca26"
            ],
            [
             1,
             "#f0f921"
            ]
           ]
          },
          "colorway":[
           "#636efa",
           "#EF553B",
           "#00cc96",
           "#ab63fa",
           "#FFA15A",
           "#19d3f3",
           "#FF6692",
           "#B6E880",
           "#FF97FF",
           "#FECB52"
          ],
          "font":{
           "color":"#2a3f5f"
          },
          "geo":{
           "bgcolor":"white",
           "lakecolor":"white",
           "landcolor":"#E5ECF6",
           "showlakes":true,
           "showland":true,
           "subunitcolor":"white"
          },
          "hoverlabel":{
           "align":"left"
          },
          "hovermode":"closest",
          "mapbox":{
           "style":"light"
          },
          "paper_bgcolor":"white",
          "plot_bgcolor":"#E5ECF6",
          "polar":{
           "angularaxis":{
            "gridcolor":"white",
            "linecolor":"white",
            "ticks":""
           },
           "bgcolor":"#E5ECF6",
           "radialaxis":{
            "gridcolor":"white",
            "linecolor":"white",
            "ticks":""
           }
          },
          "scene":{
           "xaxis":{
            "backgroundcolor":"#E5ECF6",
            "gridcolor":"white",
            "gridwidth":2,
            "linecolor":"white",
            "showbackground":true,
            "ticks":"",
            "zerolinecolor":"white"
           },
           "yaxis":{
            "backgroundcolor":"#E5ECF6",
            "gridcolor":"white",
            "gridwidth":2,
            "linecolor":"white",
            "showbackground":true,
            "ticks":"",
            "zerolinecolor":"white"
           },
           "zaxis":{
            "backgroundcolor":"#E5ECF6",
            "gridcolor":"white",
            "gridwidth":2,
            "linecolor":"white",
            "showbackground":true,
            "ticks":"",
            "zerolinecolor":"white"
           }
          },
          "shapedefaults":{
           "line":{
            "color":"#2a3f5f"
           }
          },
          "ternary":{
           "aaxis":{
            "gridcolor":"white",
            "linecolor":"white",
            "ticks":""
           },
           "baxis":{
            "gridcolor":"white",
            "linecolor":"white",
            "ticks":""
           },
           "bgcolor":"#E5ECF6",
           "caxis":{
            "gridcolor":"white",
            "linecolor":"white",
            "ticks":""
           }
          },
          "title":{
           "x":0.05
          },
          "xaxis":{
           "automargin":true,
           "gridcolor":"white",
           "linecolor":"white",
           "ticks":"",
           "title":{
            "standoff":15
           },
           "zerolinecolor":"white",
           "zerolinewidth":2
          },
          "yaxis":{
           "automargin":true,
           "gridcolor":"white",
           "linecolor":"white",
           "ticks":"",
           "title":{
            "standoff":15
           },
           "zerolinecolor":"white",
           "zerolinewidth":2
          }
         }
        },
        "polar":{
         "domain":{
          "x":[
           0,
           1
          ],
          "y":[
           0,
           1
          ]
         },
         "angularaxis":{
          "direction":"clockwise",
          "rotation":90
         }
        },
        "legend":{
         "tracegroupgap":0
        },
        "margin":{
         "t":60
        }
       },
       "config":{
        "plotlyServerURL":"https:\/\/plot.ly"
       }
      }
     },
     "metadata":{
      
     },
     "output_type":"display_data"
    }
   ],
   "metadata":{
    "datalore":{
     "node_id":"TlxuBWNuqEeluFHI802mK2",
     "type":"CODE",
     "hide_input_from_viewers":true,
     "hide_output_from_viewers":true
    }
   }
  },
  {
   "cell_type":"markdown",
   "source":[
    "# EXPORTACION DE DATAFRAMES A CSV"
   ],
   "attachments":{
    
   },
   "metadata":{
    "datalore":{
     "node_id":"reR7Zpn8um28fUG7yOJUFn",
     "type":"MD",
     "hide_input_from_viewers":true,
     "hide_output_from_viewers":true
    }
   }
  },
  {
   "cell_type":"code",
   "source":[
    "# Crear el directorio 'data' si aún no existe\n",
    "data_directory = 'data'\n",
    "if not os.path.exists(data_directory):\n",
    "    os.makedirs(data_directory)\n",
    "\n",
    "# Guardar el DataFrame 'df' como un archivo CSV en el directorio 'data'\n",
    "csv_filename1 = 'mi_dataframe.csv'\n",
    "csv_filepath1 = os.path.join(data_directory, csv_filename1)\n",
    "df.to_csv(csv_filepath1, index=False)\n",
    "\n",
    "# Guardar el DataFrame 'df_stats' como un archivo CSV en el directorio 'data'\n",
    "csv_filename2 = 'mi_dataframe_stats.csv'\n",
    "csv_filepath2 = os.path.join(data_directory, csv_filename2)\n",
    "df_stats.to_csv(csv_filepath2, index=False)\n",
    "\n",
    "print(f'El DataFrame \"df\" ha sido guardado como un archivo CSV en: {csv_filepath1}')\n",
    "print(f'El DataFrame \"df_stats\" ha sido guardado como un archivo CSV en: {csv_filepath2}')"
   ],
   "execution_count":106,
   "outputs":[
    {
     "name":"stdout",
     "text":[
      "El DataFrame \"df\" ha sido guardado como un archivo CSV en: data\/mi_dataframe.csv\n",
      "El DataFrame \"df_stats\" ha sido guardado como un archivo CSV en: data\/mi_dataframe_stats.csv\n"
     ],
     "output_type":"stream"
    }
   ],
   "metadata":{
    "datalore":{
     "node_id":"Y2N30IMRXr6lpnVHk7xQ1I",
     "type":"CODE",
     "hide_input_from_viewers":true,
     "hide_output_from_viewers":true
    }
   }
  },
  {
   "cell_type":"code",
   "source":[
    "from pprint import pprint\n",
    "\n",
    "df1 = pd.read_csv(\"data\/jugadores_stats.csv\")\n",
    "\n",
    "datos_json = [{\"fields\" : df1.iloc[i, :].to_dict()} for i in range(df1.shape[0])]\n",
    "\n",
    "pprint(datos_json)"
   ],
   "execution_count":107,
   "outputs":[
    {
     "name":"stdout",
     "text":[
      "[{'fields': {'%1st Serve Return Points Won': 20.9,\n",
      "             '%1stServePointsWon': 79.8,\n",
      "             '%2nd Serve Return Points Won': 40.0,\n",
      "             '%2ndServePointsWon': 52.7,\n",
      "             '%AvgWinLoss': 44.4,\n",
      "             '%Breaks Points Converted': 25.8,\n",
      "             '%BreaksPointsSaved': 69.3,\n",
      "             '%Return Games Won': 7.1,\n",
      "             '%ServiceGamesWon': 90.2,\n",
      "             '%TieBreaks Won': 71.1,\n",
      "             'Player': 'John Isner'}},\n",
      " {'fields': {'%1st Serve Return Points Won': 27.2,\n",
      "             '%1stServePointsWon': 79.2,\n",
      "             '%2nd Serve Return Points Won': 46.6,\n",
      "             '%2ndServePointsWon': 54.9,\n",
      "             '%AvgWinLoss': 68.4,\n",
      "             '%Breaks Points Converted': 35.0,\n",
      "             '%BreaksPointsSaved': 67.7,\n",
      "             '%Return Games Won': 16.5,\n",
      "             '%ServiceGamesWon': 89.9,\n",
      "             '%TieBreaks Won': 54.7,\n",
      "             'Player': 'Hubert Hurkacz'}},\n",
      " {'fields': {'%1st Serve Return Points Won': 29.5,\n",
      "             '%1stServePointsWon': 79.6,\n",
      "             '%2nd Serve Return Points Won': 45.7,\n",
      "             '%2ndServePointsWon': 52.0,\n",
      "             '%AvgWinLoss': 50.0,\n",
      "             '%Breaks Points Converted': 35.8,\n",
      "             '%BreaksPointsSaved': 67.1,\n",
      "             '%Return Games Won': 18.8,\n",
      "             '%ServiceGamesWon': 88.5,\n",
      "             '%TieBreaks Won': 50.0,\n",
      "             'Player': 'Matteo Berrettini'}},\n",
      " {'fields': {'%1st Serve Return Points Won': 33.5,\n",
      "             '%1stServePointsWon': 77.2,\n",
      "             '%2nd Serve Return Points Won': 55.9,\n",
      "             '%2ndServePointsWon': 57.0,\n",
      "             '%AvgWinLoss': 93.8,\n",
      "             '%Breaks Points Converted': 41.8,\n",
      "             '%BreaksPointsSaved': 64.3,\n",
      "             '%Return Games Won': 29.3,\n",
      "             '%ServiceGamesWon': 88.7,\n",
      "             '%TieBreaks Won': 80.0,\n",
      "             'Player': 'Novak Djokovic'}},\n",
      " {'fields': {'%1st Serve Return Points Won': 23.8,\n",
      "             '%1stServePointsWon': 79.3,\n",
      "             '%2nd Serve Return Points Won': 42.1,\n",
      "             '%2ndServePointsWon': 55.9,\n",
      "             '%AvgWinLoss': 54.5,\n",
      "             '%Breaks Points Converted': 39.3,\n",
      "             '%BreaksPointsSaved': 70.5,\n",
      "             '%Return Games Won': 13.3,\n",
      "             '%ServiceGamesWon': 89.4,\n",
      "             '%TieBreaks Won': 56.3,\n",
      "             'Player': 'Ben Shelton'}},\n",
      " {'fields': {'%1st Serve Return Points Won': 28.3,\n",
      "             '%1stServePointsWon': 76.5,\n",
      "             '%2nd Serve Return Points Won': 50.2,\n",
      "             '%2ndServePointsWon': 55.1,\n",
      "             '%AvgWinLoss': 81.3,\n",
      "             '%Breaks Points Converted': 41.8,\n",
      "             '%BreaksPointsSaved': 66.0,\n",
      "             '%Return Games Won': 21.4,\n",
      "             '%ServiceGamesWon': 86.8,\n",
      "             '%TieBreaks Won': 56.8,\n",
      "             'Player': 'Stefanos Tsitsipas'}},\n",
      " {'fields': {'%1st Serve Return Points Won': 23.0,\n",
      "             '%1stServePointsWon': 79.8,\n",
      "             '%2nd Serve Return Points Won': 40.9,\n",
      "             '%2ndServePointsWon': 53.1,\n",
      "             '%AvgWinLoss': 50.0,\n",
      "             '%Breaks Points Converted': 39.3,\n",
      "             '%BreaksPointsSaved': 64.3,\n",
      "             '%Return Games Won': 12.2,\n",
      "             '%ServiceGamesWon': 88.6,\n",
      "             '%TieBreaks Won': 35.7,\n",
      "             'Player': 'Maxime Cressy'}},\n",
      " {'fields': {'%1st Serve Return Points Won': 30.7,\n",
      "             '%1stServePointsWon': 77.5,\n",
      "             '%2nd Serve Return Points Won': 47.6,\n",
      "             '%2ndServePointsWon': 50.6,\n",
      "             '%AvgWinLoss': 64.700005,\n",
      "             '%Breaks Points Converted': 37.5,\n",
      "             '%BreaksPointsSaved': 66.6,\n",
      "             '%Return Games Won': 20.8,\n",
      "             '%ServiceGamesWon': 86.5,\n",
      "             '%TieBreaks Won': 52.4,\n",
      "             'Player': 'Felix Auger-Aliassime'}},\n",
      " {'fields': {'%1st Serve Return Points Won': 27.9,\n",
      "             '%1stServePointsWon': 77.1,\n",
      "             '%2nd Serve Return Points Won': 52.2,\n",
      "             '%2ndServePointsWon': 53.0,\n",
      "             '%AvgWinLoss': 77.3,\n",
      "             '%Breaks Points Converted': 40.2,\n",
      "             '%BreaksPointsSaved': 63.0,\n",
      "             '%Return Games Won': 21.9,\n",
      "             '%ServiceGamesWon': 85.5,\n",
      "             '%TieBreaks Won': 58.5,\n",
      "             'Player': 'Taylor Fritz'}},\n",
      " {'fields': {'%1st Serve Return Points Won': 28.7,\n",
      "             '%1stServePointsWon': 74.0,\n",
      "             '%2nd Serve Return Points Won': 50.0,\n",
      "             '%2ndServePointsWon': 55.2,\n",
      "             '%AvgWinLoss': 44.4,\n",
      "             '%Breaks Points Converted': 37.9,\n",
      "             '%BreaksPointsSaved': 62.2,\n",
      "             '%Return Games Won': 22.1,\n",
      "             '%ServiceGamesWon': 84.6,\n",
      "             '%TieBreaks Won': 61.0,\n",
      "             'Player': 'Casper Ruud'}},\n",
      " {'fields': {'%1st Serve Return Points Won': 23.3,\n",
      "             '%1stServePointsWon': 76.0,\n",
      "             '%2nd Serve Return Points Won': 44.9,\n",
      "             '%2ndServePointsWon': 53.0,\n",
      "             '%AvgWinLoss': 46.2,\n",
      "             '%Breaks Points Converted': 42.9,\n",
      "             '%BreaksPointsSaved': 60.4,\n",
      "             '%Return Games Won': 12.8,\n",
      "             '%ServiceGamesWon': 85.0,\n",
      "             '%TieBreaks Won': 55.6,\n",
      "             'Player': 'Marc-Andrea Huesler'}},\n",
      " {'fields': {'%1st Serve Return Points Won': 32.8,\n",
      "             '%1stServePointsWon': 75.4,\n",
      "             '%2nd Serve Return Points Won': 55.2,\n",
      "             '%2ndServePointsWon': 51.4,\n",
      "             '%AvgWinLoss': 88.9,\n",
      "             '%Breaks Points Converted': 46.0,\n",
      "             '%BreaksPointsSaved': 68.5,\n",
      "             '%Return Games Won': 30.6,\n",
      "             '%ServiceGamesWon': 86.0,\n",
      "             '%TieBreaks Won': 56.0,\n",
      "             'Player': 'Daniil Medvedev'}},\n",
      " {'fields': {'%1st Serve Return Points Won': 25.8,\n",
      "             '%1stServePointsWon': 74.3,\n",
      "             '%2nd Serve Return Points Won': 48.9,\n",
      "             '%2ndServePointsWon': 54.5,\n",
      "             '%AvgWinLoss': 58.3,\n",
      "             '%Breaks Points Converted': 32.1,\n",
      "             '%BreaksPointsSaved': 59.5,\n",
      "             '%Return Games Won': 15.6,\n",
      "             '%ServiceGamesWon': 83.3,\n",
      "             '%TieBreaks Won': 66.7,\n",
      "             'Player': 'Borna Coric'}},\n",
      " {'fields': {'%1st Serve Return Points Won': 27.4,\n",
      "             '%1stServePointsWon': 73.5,\n",
      "             '%2nd Serve Return Points Won': 45.5,\n",
      "             '%2ndServePointsWon': 51.0,\n",
      "             '%AvgWinLoss': 38.5,\n",
      "             '%Breaks Points Converted': 42.7,\n",
      "             '%BreaksPointsSaved': 59.5,\n",
      "             '%Return Games Won': 17.2,\n",
      "             '%ServiceGamesWon': 82.9,\n",
      "             '%TieBreaks Won': 50.0,\n",
      "             'Player': 'Lorenzo Sonego'}},\n",
      " {'fields': {'%1st Serve Return Points Won': 29.6,\n",
      "             '%1stServePointsWon': 72.6,\n",
      "             '%2nd Serve Return Points Won': 50.7,\n",
      "             '%2ndServePointsWon': 55.1,\n",
      "             '%AvgWinLoss': 66.7,\n",
      "             '%Breaks Points Converted': 40.9,\n",
      "             '%BreaksPointsSaved': 65.9,\n",
      "             '%Return Games Won': 23.1,\n",
      "             '%ServiceGamesWon': 85.1,\n",
      "             '%TieBreaks Won': 63.6,\n",
      "             'Player': 'Holger Rune'}},\n",
      " {'fields': {'%1st Serve Return Points Won': 34.4,\n",
      "             '%1stServePointsWon': 71.9,\n",
      "             '%2nd Serve Return Points Won': 53.5,\n",
      "             '%2ndServePointsWon': 55.3,\n",
      "             '%AvgWinLoss': 93.3,\n",
      "             '%Breaks Points Converted': 41.3,\n",
      "             '%BreaksPointsSaved': 64.7,\n",
      "             '%Return Games Won': 31.4,\n",
      "             '%ServiceGamesWon': 84.4,\n",
      "             '%TieBreaks Won': 55.9,\n",
      "             'Player': 'Carlos Alcaraz'}},\n",
      " {'fields': {'%1st Serve Return Points Won': 30.6,\n",
      "             '%1stServePointsWon': 73.8,\n",
      "             '%2nd Serve Return Points Won': 50.0,\n",
      "             '%2ndServePointsWon': 47.6,\n",
      "             '%AvgWinLoss': 50.0,\n",
      "             '%Breaks Points Converted': 38.6,\n",
      "             '%BreaksPointsSaved': 58.3,\n",
      "             '%Return Games Won': 22.6,\n",
      "             '%ServiceGamesWon': 82.0,\n",
      "             '%TieBreaks Won': 78.6,\n",
      "             'Player': 'Alexander Zverev'}},\n",
      " {'fields': {'%1st Serve Return Points Won': 25.6,\n",
      "             '%1stServePointsWon': 73.9,\n",
      "             '%2nd Serve Return Points Won': 46.9,\n",
      "             '%2ndServePointsWon': 51.8,\n",
      "             '%AvgWinLoss': 72.2,\n",
      "             '%Breaks Points Converted': 34.2,\n",
      "             '%BreaksPointsSaved': 61.4,\n",
      "             '%Return Games Won': 14.8,\n",
      "             '%ServiceGamesWon': 83.2,\n",
      "             '%TieBreaks Won': 57.7,\n",
      "             'Player': 'Tallon Griekspoor'}},\n",
      " {'fields': {'%1st Serve Return Points Won': 29.9,\n",
      "             '%1stServePointsWon': 76.1,\n",
      "             '%2nd Serve Return Points Won': 49.3,\n",
      "             '%2ndServePointsWon': 50.4,\n",
      "             '%AvgWinLoss': 61.1,\n",
      "             '%Breaks Points Converted': 38.9,\n",
      "             '%BreaksPointsSaved': 62.2,\n",
      "             '%Return Games Won': 21.2,\n",
      "             '%ServiceGamesWon': 83.9,\n",
      "             '%TieBreaks Won': 61.5,\n",
      "             'Player': 'Andrey Rublev'}},\n",
      " {'fields': {'%1st Serve Return Points Won': 29.2,\n",
      "             '%1stServePointsWon': 76.2,\n",
      "             '%2nd Serve Return Points Won': 50.4,\n",
      "             '%2ndServePointsWon': 51.3,\n",
      "             '%AvgWinLoss': 58.3,\n",
      "             '%Breaks Points Converted': 39.9,\n",
      "             '%BreaksPointsSaved': 61.2,\n",
      "             '%Return Games Won': 23.2,\n",
      "             '%ServiceGamesWon': 82.6,\n",
      "             '%TieBreaks Won': 42.9,\n",
      "             'Player': 'Grigor Dimitrov'}},\n",
      " {'fields': {'%1st Serve Return Points Won': 29.2,\n",
      "             '%1stServePointsWon': 70.7,\n",
      "             '%2nd Serve Return Points Won': 52.6,\n",
      "             '%2ndServePointsWon': 55.1,\n",
      "             '%AvgWinLoss': 53.3,\n",
      "             '%Breaks Points Converted': 36.9,\n",
      "             '%BreaksPointsSaved': 61.9,\n",
      "             '%Return Games Won': 23.7,\n",
      "             '%ServiceGamesWon': 82.1,\n",
      "             '%TieBreaks Won': 44.0,\n",
      "             'Player': 'Roberto Bautista Agut'}},\n",
      " {'fields': {'%1st Serve Return Points Won': 28.7,\n",
      "             '%1stServePointsWon': 75.2,\n",
      "             '%2nd Serve Return Points Won': 53.0,\n",
      "             '%2ndServePointsWon': 51.8,\n",
      "             '%AvgWinLoss': 63.6,\n",
      "             '%Breaks Points Converted': 39.7,\n",
      "             '%BreaksPointsSaved': 70.8,\n",
      "             '%Return Games Won': 25.4,\n",
      "             '%ServiceGamesWon': 84.1,\n",
      "             '%TieBreaks Won': 45.0,\n",
      "             'Player': 'Jack Draper'}},\n",
      " {'fields': {'%1st Serve Return Points Won': 29.1,\n",
      "             '%1stServePointsWon': 72.5,\n",
      "             '%2nd Serve Return Points Won': 49.3,\n",
      "             '%2ndServePointsWon': 52.1,\n",
      "             '%AvgWinLoss': 64.3,\n",
      "             '%Breaks Points Converted': 42.8,\n",
      "             '%BreaksPointsSaved': 64.9,\n",
      "             '%Return Games Won': 22.0,\n",
      "             '%ServiceGamesWon': 81.6,\n",
      "             '%TieBreaks Won': 50.0,\n",
      "             'Player': 'Karen Khachanov'}},\n",
      " {'fields': {'%1st Serve Return Points Won': 23.9,\n",
      "             '%1stServePointsWon': 73.3,\n",
      "             '%2nd Serve Return Points Won': 43.8,\n",
      "             '%2ndServePointsWon': 48.0,\n",
      "             '%AvgWinLoss': 25.0,\n",
      "             '%Breaks Points Converted': 35.6,\n",
      "             '%BreaksPointsSaved': 64.3,\n",
      "             '%Return Games Won': 12.5,\n",
      "             '%ServiceGamesWon': 82.9,\n",
      "             '%TieBreaks Won': 38.9,\n",
      "             'Player': 'Arthur Rinderknech'}},\n",
      " {'fields': {'%1st Serve Return Points Won': 27.4,\n",
      "             '%1stServePointsWon': 74.5,\n",
      "             '%2nd Serve Return Points Won': 50.1,\n",
      "             '%2ndServePointsWon': 52.8,\n",
      "             '%AvgWinLoss': 77.8,\n",
      "             '%Breaks Points Converted': 37.9,\n",
      "             '%BreaksPointsSaved': 67.1,\n",
      "             '%Return Games Won': 20.3,\n",
      "             '%ServiceGamesWon': 83.4,\n",
      "             '%TieBreaks Won': 66.7,\n",
      "             'Player': 'Frances Tiafoe'}},\n",
      " {'fields': {'%1st Serve Return Points Won': 26.1,\n",
      "             '%1stServePointsWon': 73.2,\n",
      "             '%2nd Serve Return Points Won': 49.2,\n",
      "             '%2ndServePointsWon': 52.7,\n",
      "             '%AvgWinLoss': 58.8,\n",
      "             '%Breaks Points Converted': 37.4,\n",
      "             '%BreaksPointsSaved': 65.3,\n",
      "             '%Return Games Won': 18.8,\n",
      "             '%ServiceGamesWon': 83.2,\n",
      "             '%TieBreaks Won': 44.8,\n",
      "             'Player': 'Benjamin Bonzi'}},\n",
      " {'fields': {'%1st Serve Return Points Won': 27.1,\n",
      "             '%1stServePointsWon': 75.7,\n",
      "             '%2nd Serve Return Points Won': 45.3,\n",
      "             '%2ndServePointsWon': 51.9,\n",
      "             '%AvgWinLoss': 60.000004,\n",
      "             '%Breaks Points Converted': 36.9,\n",
      "             '%BreaksPointsSaved': 66.1,\n",
      "             '%Return Games Won': 17.2,\n",
      "             '%ServiceGamesWon': 81.5,\n",
      "             '%TieBreaks Won': 42.9,\n",
      "             'Player': 'Stan Wawrinka'}},\n",
      " {'fields': {'%1st Serve Return Points Won': 33.1,\n",
      "             '%1stServePointsWon': 74.6,\n",
      "             '%2nd Serve Return Points Won': 53.2,\n",
      "             '%2ndServePointsWon': 53.4,\n",
      "             '%AvgWinLoss': 80.0,\n",
      "             '%Breaks Points Converted': 43.3,\n",
      "             '%BreaksPointsSaved': 63.5,\n",
      "             '%Return Games Won': 27.7,\n",
      "             '%ServiceGamesWon': 83.2,\n",
      "             '%TieBreaks Won': 68.2,\n",
      "             'Player': 'Jannik Sinner'}},\n",
      " {'fields': {'%1st Serve Return Points Won': 28.0,\n",
      "             '%1stServePointsWon': 71.4,\n",
      "             '%2nd Serve Return Points Won': 50.8,\n",
      "             '%2ndServePointsWon': 55.7,\n",
      "             '%AvgWinLoss': 56.300003,\n",
      "             '%Breaks Points Converted': 37.7,\n",
      "             '%BreaksPointsSaved': 54.7,\n",
      "             '%Return Games Won': 20.4,\n",
      "             '%ServiceGamesWon': 80.8,\n",
      "             '%TieBreaks Won': 50.0,\n",
      "             'Player': 'Adrian Mannarino'}},\n",
      " {'fields': {'%1st Serve Return Points Won': 28.3,\n",
      "             '%1stServePointsWon': 75.5,\n",
      "             '%2nd Serve Return Points Won': 49.0,\n",
      "             '%2ndServePointsWon': 50.7,\n",
      "             '%AvgWinLoss': 45.5,\n",
      "             '%Breaks Points Converted': 37.6,\n",
      "             '%BreaksPointsSaved': 62.1,\n",
      "             '%Return Games Won': 20.9,\n",
      "             '%ServiceGamesWon': 82.3,\n",
      "             '%TieBreaks Won': 45.8,\n",
      "             'Player': 'Denis Shapovalov'}},\n",
      " {'fields': {'%1st Serve Return Points Won': 31.0,\n",
      "             '%1stServePointsWon': 71.8,\n",
      "             '%2nd Serve Return Points Won': 50.5,\n",
      "             '%2ndServePointsWon': 51.4,\n",
      "             '%AvgWinLoss': 80.0,\n",
      "             '%Breaks Points Converted': 43.4,\n",
      "             '%BreaksPointsSaved': 63.1,\n",
      "             '%Return Games Won': 25.1,\n",
      "             '%ServiceGamesWon': 81.5,\n",
      "             '%TieBreaks Won': 60.7,\n",
      "             'Player': 'Sebastian Korda'}},\n",
      " {'fields': {'%1st Serve Return Points Won': 31.9,\n",
      "             '%1stServePointsWon': 72.0,\n",
      "             '%2nd Serve Return Points Won': 52.2,\n",
      "             '%2ndServePointsWon': 50.9,\n",
      "             '%AvgWinLoss': 84.0,\n",
      "             '%Breaks Points Converted': 41.2,\n",
      "             '%BreaksPointsSaved': 61.7,\n",
      "             '%Return Games Won': 27.0,\n",
      "             '%ServiceGamesWon': 80.9,\n",
      "             '%TieBreaks Won': 61.5,\n",
      "             'Player': 'Cameron Norrie'}},\n",
      " {'fields': {'%1st Serve Return Points Won': 27.9,\n",
      "             '%1stServePointsWon': 77.0,\n",
      "             '%2nd Serve Return Points Won': 46.3,\n",
      "             '%2ndServePointsWon': 50.2,\n",
      "             '%AvgWinLoss': 30.000002,\n",
      "             '%Breaks Points Converted': 37.4,\n",
      "             '%BreaksPointsSaved': 67.1,\n",
      "             '%Return Games Won': 17.9,\n",
      "             '%ServiceGamesWon': 82.0,\n",
      "             '%TieBreaks Won': 52.0,\n",
      "             'Player': 'Oscar Otte'}},\n",
      " {'fields': {'%1st Serve Return Points Won': 29.0,\n",
      "             '%1stServePointsWon': 74.0,\n",
      "             '%2nd Serve Return Points Won': 48.3,\n",
      "             '%2ndServePointsWon': 50.1,\n",
      "             '%AvgWinLoss': 57.1,\n",
      "             '%Breaks Points Converted': 41.7,\n",
      "             '%BreaksPointsSaved': 63.3,\n",
      "             '%Return Games Won': 21.1,\n",
      "             '%ServiceGamesWon': 80.2,\n",
      "             '%TieBreaks Won': 53.8,\n",
      "             'Player': 'J.J. Wolf'}},\n",
      " {'fields': {'%1st Serve Return Points Won': 30.8,\n",
      "             '%1stServePointsWon': 69.8,\n",
      "             '%2nd Serve Return Points Won': 51.6,\n",
      "             '%2ndServePointsWon': 53.8,\n",
      "             '%AvgWinLoss': 45.5,\n",
      "             '%Breaks Points Converted': 46.2,\n",
      "             '%BreaksPointsSaved': 55.3,\n",
      "             '%Return Games Won': 25.4,\n",
      "             '%ServiceGamesWon': 78.6,\n",
      "             '%TieBreaks Won': 44.8,\n",
      "             'Player': 'Lorenzo Musetti'}},\n",
      " {'fields': {'%1st Serve Return Points Won': 27.2,\n",
      "             '%1stServePointsWon': 72.6,\n",
      "             '%2nd Serve Return Points Won': 48.0,\n",
      "             '%2ndServePointsWon': 51.2,\n",
      "             '%AvgWinLoss': 56.300003,\n",
      "             '%Breaks Points Converted': 40.1,\n",
      "             '%BreaksPointsSaved': 65.7,\n",
      "             '%Return Games Won': 21.0,\n",
      "             '%ServiceGamesWon': 81.8,\n",
      "             '%TieBreaks Won': 29.6,\n",
      "             'Player': 'Laslo Djere'}},\n",
      " {'fields': {'%1st Serve Return Points Won': 31.6,\n",
      "             '%1stServePointsWon': 65.6,\n",
      "             '%2nd Serve Return Points Won': 50.3,\n",
      "             '%2ndServePointsWon': 54.1,\n",
      "             '%AvgWinLoss': 56.300003,\n",
      "             '%Breaks Points Converted': 39.3,\n",
      "             '%BreaksPointsSaved': 56.0,\n",
      "             '%Return Games Won': 24.4,\n",
      "             '%ServiceGamesWon': 76.9,\n",
      "             '%TieBreaks Won': 20.0,\n",
      "             'Player': 'Sebastian Baez'}},\n",
      " {'fields': {'%1st Serve Return Points Won': 27.3,\n",
      "             '%1stServePointsWon': 65.3,\n",
      "             '%2nd Serve Return Points Won': 55.1,\n",
      "             '%2ndServePointsWon': 56.9,\n",
      "             '%AvgWinLoss': 61.5,\n",
      "             '%Breaks Points Converted': 41.6,\n",
      "             '%BreaksPointsSaved': 60.7,\n",
      "             '%Return Games Won': 24.5,\n",
      "             '%ServiceGamesWon': 78.3,\n",
      "             '%TieBreaks Won': 52.4,\n",
      "             'Player': 'Yoshihito Nishioka'}},\n",
      " {'fields': {'%1st Serve Return Points Won': 30.2,\n",
      "             '%1stServePointsWon': 71.1,\n",
      "             '%2nd Serve Return Points Won': 51.2,\n",
      "             '%2ndServePointsWon': 51.4,\n",
      "             '%AvgWinLoss': 73.7,\n",
      "             '%Breaks Points Converted': 37.1,\n",
      "             '%BreaksPointsSaved': 62.4,\n",
      "             '%Return Games Won': 23.9,\n",
      "             '%ServiceGamesWon': 80.2,\n",
      "             '%TieBreaks Won': 51.9,\n",
      "             'Player': 'Tommy Paul'}},\n",
      " {'fields': {'%1st Serve Return Points Won': 29.1,\n",
      "             '%1stServePointsWon': 72.9,\n",
      "             '%2nd Serve Return Points Won': 54.0,\n",
      "             '%2ndServePointsWon': 50.1,\n",
      "             '%AvgWinLoss': 66.7,\n",
      "             '%Breaks Points Converted': 39.8,\n",
      "             '%BreaksPointsSaved': 60.7,\n",
      "             '%Return Games Won': 23.7,\n",
      "             '%ServiceGamesWon': 80.1,\n",
      "             '%TieBreaks Won': 61.9,\n",
      "             'Player': 'Andy Murray'}},\n",
      " {'fields': {'%1st Serve Return Points Won': 27.8,\n",
      "             '%1stServePointsWon': 69.6,\n",
      "             '%2nd Serve Return Points Won': 46.1,\n",
      "             '%2ndServePointsWon': 51.9,\n",
      "             '%AvgWinLoss': 66.7,\n",
      "             '%Breaks Points Converted': 40.4,\n",
      "             '%BreaksPointsSaved': 62.1,\n",
      "             '%Return Games Won': 18.8,\n",
      "             '%ServiceGamesWon': 79.0,\n",
      "             '%TieBreaks Won': 56.5,\n",
      "             'Player': 'Jiri Lehecka'}},\n",
      " {'fields': {'%1st Serve Return Points Won': 28.4,\n",
      "             '%1stServePointsWon': 78.0,\n",
      "             '%2nd Serve Return Points Won': 45.9,\n",
      "             '%2ndServePointsWon': 44.1,\n",
      "             '%AvgWinLoss': 26.699999,\n",
      "             '%Breaks Points Converted': 43.2,\n",
      "             '%BreaksPointsSaved': 59.2,\n",
      "             '%Return Games Won': 18.2,\n",
      "             '%ServiceGamesWon': 80.5,\n",
      "             '%TieBreaks Won': 40.9,\n",
      "             'Player': 'Alexander Bublik'}},\n",
      " {'fields': {'%1st Serve Return Points Won': 29.2,\n",
      "             '%1stServePointsWon': 69.0,\n",
      "             '%2nd Serve Return Points Won': 53.1,\n",
      "             '%2ndServePointsWon': 53.8,\n",
      "             '%AvgWinLoss': 50.0,\n",
      "             '%Breaks Points Converted': 40.9,\n",
      "             '%BreaksPointsSaved': 59.4,\n",
      "             '%Return Games Won': 23.0,\n",
      "             '%ServiceGamesWon': 77.7,\n",
      "             '%TieBreaks Won': 52.4,\n",
      "             'Player': 'Miomir Kecmanovic'}},\n",
      " {'fields': {'%1st Serve Return Points Won': 31.4,\n",
      "             '%1stServePointsWon': 68.3,\n",
      "             '%2nd Serve Return Points Won': 50.8,\n",
      "             '%2ndServePointsWon': 51.1,\n",
      "             '%AvgWinLoss': 63.200005,\n",
      "             '%Breaks Points Converted': 41.6,\n",
      "             '%BreaksPointsSaved': 59.8,\n",
      "             '%Return Games Won': 25.3,\n",
      "             '%ServiceGamesWon': 77.3,\n",
      "             '%TieBreaks Won': 40.9,\n",
      "             'Player': 'Mackenzie Mcdonald'}},\n",
      " {'fields': {'%1st Serve Return Points Won': 28.7,\n",
      "             '%1stServePointsWon': 68.5,\n",
      "             '%2nd Serve Return Points Won': 46.6,\n",
      "             '%2ndServePointsWon': 53.4,\n",
      "             '%AvgWinLoss': 12.5,\n",
      "             '%Breaks Points Converted': 38.6,\n",
      "             '%BreaksPointsSaved': 57.4,\n",
      "             '%Return Games Won': 17.5,\n",
      "             '%ServiceGamesWon': 77.8,\n",
      "             '%TieBreaks Won': 68.2,\n",
      "             'Player': 'Dominic Thiem'}},\n",
      " {'fields': {'%1st Serve Return Points Won': 27.9,\n",
      "             '%1stServePointsWon': 68.8,\n",
      "             '%2nd Serve Return Points Won': 46.0,\n",
      "             '%2ndServePointsWon': 52.7,\n",
      "             '%AvgWinLoss': 53.3,\n",
      "             '%Breaks Points Converted': 37.6,\n",
      "             '%BreaksPointsSaved': 55.0,\n",
      "             '%Return Games Won': 17.6,\n",
      "             '%ServiceGamesWon': 76.3,\n",
      "             '%TieBreaks Won': 42.1,\n",
      "             'Player': 'Marcos Giron'}},\n",
      " {'fields': {'%1st Serve Return Points Won': 30.3,\n",
      "             '%1stServePointsWon': 71.1,\n",
      "             '%2nd Serve Return Points Won': 51.2,\n",
      "             '%2ndServePointsWon': 50.0,\n",
      "             '%AvgWinLoss': 27.3,\n",
      "             '%Breaks Points Converted': 42.1,\n",
      "             '%BreaksPointsSaved': 61.4,\n",
      "             '%Return Games Won': 24.0,\n",
      "             '%ServiceGamesWon': 77.3,\n",
      "             '%TieBreaks Won': 40.0,\n",
      "             'Player': 'Daniel Evans'}},\n",
      " {'fields': {'%1st Serve Return Points Won': 26.5,\n",
      "             '%1stServePointsWon': 68.5,\n",
      "             '%2nd Serve Return Points Won': 49.4,\n",
      "             '%2ndServePointsWon': 51.2,\n",
      "             '%AvgWinLoss': 33.3,\n",
      "             '%Breaks Points Converted': 42.0,\n",
      "             '%BreaksPointsSaved': 59.5,\n",
      "             '%Return Games Won': 19.0,\n",
      "             '%ServiceGamesWon': 76.6,\n",
      "             '%TieBreaks Won': 50.0,\n",
      "             'Player': 'Filip Krajinovic'}},\n",
      " {'fields': {'%1st Serve Return Points Won': 30.0,\n",
      "             '%1stServePointsWon': 69.6,\n",
      "             '%2nd Serve Return Points Won': 52.1,\n",
      "             '%2ndServePointsWon': 49.8,\n",
      "             '%AvgWinLoss': 46.7,\n",
      "             '%Breaks Points Converted': 39.3,\n",
      "             '%BreaksPointsSaved': 58.8,\n",
      "             '%Return Games Won': 23.1,\n",
      "             '%ServiceGamesWon': 76.5,\n",
      "             '%TieBreaks Won': 61.1,\n",
      "             'Player': 'Emil Ruusuvuori'}},\n",
      " {'fields': {'%1st Serve Return Points Won': 27.3,\n",
      "             '%1stServePointsWon': 70.9,\n",
      "             '%2nd Serve Return Points Won': 50.8,\n",
      "             '%2ndServePointsWon': 50.7,\n",
      "             '%AvgWinLoss': 58.3,\n",
      "             '%Breaks Points Converted': 39.4,\n",
      "             '%BreaksPointsSaved': 58.3,\n",
      "             '%Return Games Won': 20.0,\n",
      "             '%ServiceGamesWon': 77.6,\n",
      "             '%TieBreaks Won': 58.3,\n",
      "             'Player': 'Soonwoo Kwon'}},\n",
      " {'fields': {'%1st Serve Return Points Won': 28.3,\n",
      "             '%1stServePointsWon': 66.9,\n",
      "             '%2nd Serve Return Points Won': 50.1,\n",
      "             '%2ndServePointsWon': 51.6,\n",
      "             '%AvgWinLoss': 30.8,\n",
      "             '%Breaks Points Converted': 40.0,\n",
      "             '%BreaksPointsSaved': 64.2,\n",
      "             '%Return Games Won': 21.1,\n",
      "             '%ServiceGamesWon': 75.5,\n",
      "             '%TieBreaks Won': 35.0,\n",
      "             'Player': 'Albert Ramos-Vinolas'}},\n",
      " {'fields': {'%1st Serve Return Points Won': 28.7,\n",
      "             '%1stServePointsWon': 71.3,\n",
      "             '%2nd Serve Return Points Won': 51.1,\n",
      "             '%2ndServePointsWon': 50.7,\n",
      "             '%AvgWinLoss': 53.8,\n",
      "             '%Breaks Points Converted': 40.2,\n",
      "             '%BreaksPointsSaved': 60.3,\n",
      "             '%Return Games Won': 22.8,\n",
      "             '%ServiceGamesWon': 78.0,\n",
      "             '%TieBreaks Won': 50.0,\n",
      "             'Player': 'Richard Gasquet'}},\n",
      " {'fields': {'%1st Serve Return Points Won': 32.0,\n",
      "             '%1stServePointsWon': 65.8,\n",
      "             '%2nd Serve Return Points Won': 51.2,\n",
      "             '%2ndServePointsWon': 51.9,\n",
      "             '%AvgWinLoss': 58.8,\n",
      "             '%Breaks Points Converted': 41.9,\n",
      "             '%BreaksPointsSaved': 57.6,\n",
      "             '%Return Games Won': 27.7,\n",
      "             '%ServiceGamesWon': 74.7,\n",
      "             '%TieBreaks Won': 36.8,\n",
      "             'Player': 'Alejandro Davidovich Fokina'}},\n",
      " {'fields': {'%1st Serve Return Points Won': 28.9,\n",
      "             '%1stServePointsWon': 67.3,\n",
      "             '%2nd Serve Return Points Won': 51.6,\n",
      "             '%2ndServePointsWon': 52.5,\n",
      "             '%AvgWinLoss': 33.3,\n",
      "             '%Breaks Points Converted': 40.5,\n",
      "             '%BreaksPointsSaved': 58.5,\n",
      "             '%Return Games Won': 23.2,\n",
      "             '%ServiceGamesWon': 75.2,\n",
      "             '%TieBreaks Won': 58.8,\n",
      "             'Player': 'Alex Molcan'}},\n",
      " {'fields': {'%1st Serve Return Points Won': 29.7,\n",
      "             '%1stServePointsWon': 65.9,\n",
      "             '%2nd Serve Return Points Won': 49.8,\n",
      "             '%2ndServePointsWon': 50.7,\n",
      "             '%AvgWinLoss': 58.3,\n",
      "             '%Breaks Points Converted': 35.8,\n",
      "             '%BreaksPointsSaved': 58.2,\n",
      "             '%Return Games Won': 21.1,\n",
      "             '%ServiceGamesWon': 73.6,\n",
      "             '%TieBreaks Won': 58.3,\n",
      "             'Player': 'Dusan Lajovic'}},\n",
      " {'fields': {'%1st Serve Return Points Won': 31.9,\n",
      "             '%1stServePointsWon': 70.4,\n",
      "             '%2nd Serve Return Points Won': 49.7,\n",
      "             '%2ndServePointsWon': 46.3,\n",
      "             '%AvgWinLoss': 53.8,\n",
      "             '%Breaks Points Converted': 40.8,\n",
      "             '%BreaksPointsSaved': 61.8,\n",
      "             '%Return Games Won': 24.5,\n",
      "             '%ServiceGamesWon': 75.3,\n",
      "             '%TieBreaks Won': 68.2,\n",
      "             'Player': 'Botic Van De Zandschulp'}},\n",
      " {'fields': {'%1st Serve Return Points Won': 33.7,\n",
      "             '%1stServePointsWon': 69.7,\n",
      "             '%2nd Serve Return Points Won': 53.0,\n",
      "             '%2ndServePointsWon': 50.8,\n",
      "             '%AvgWinLoss': 70.6,\n",
      "             '%Breaks Points Converted': 43.3,\n",
      "             '%BreaksPointsSaved': 61.3,\n",
      "             '%Return Games Won': 29.4,\n",
      "             '%ServiceGamesWon': 77.6,\n",
      "             '%TieBreaks Won': 52.6,\n",
      "             'Player': 'Alex De Minaur'}},\n",
      " {'fields': {'%1st Serve Return Points Won': 34.9,\n",
      "             '%1stServePointsWon': 63.5,\n",
      "             '%2nd Serve Return Points Won': 51.0,\n",
      "             '%2ndServePointsWon': 50.3,\n",
      "             '%AvgWinLoss': 42.899998,\n",
      "             '%Breaks Points Converted': 41.6,\n",
      "             '%BreaksPointsSaved': 54.4,\n",
      "             '%Return Games Won': 29.3,\n",
      "             '%ServiceGamesWon': 71.4,\n",
      "             '%TieBreaks Won': 30.8,\n",
      "             'Player': 'Mikael Ymer'}},\n",
      " {'fields': {'%1st Serve Return Points Won': 32.9,\n",
      "             '%1stServePointsWon': 67.0,\n",
      "             '%2nd Serve Return Points Won': 51.1,\n",
      "             '%2ndServePointsWon': 49.4,\n",
      "             '%AvgWinLoss': 50.0,\n",
      "             '%Breaks Points Converted': 39.8,\n",
      "             '%BreaksPointsSaved': 61.7,\n",
      "             '%Return Games Won': 26.0,\n",
      "             '%ServiceGamesWon': 74.8,\n",
      "             '%TieBreaks Won': 57.1,\n",
      "             'Player': 'Francisco Cerundolo'}},\n",
      " {'fields': {'%1st Serve Return Points Won': 32.3,\n",
      "             '%1stServePointsWon': 70.1,\n",
      "             '%2nd Serve Return Points Won': 49.8,\n",
      "             '%2ndServePointsWon': 49.1,\n",
      "             '%AvgWinLoss': 44.4,\n",
      "             '%Breaks Points Converted': 40.3,\n",
      "             '%BreaksPointsSaved': 60.1,\n",
      "             '%Return Games Won': 25.9,\n",
      "             '%ServiceGamesWon': 74.2,\n",
      "             '%TieBreaks Won': 44.4,\n",
      "             'Player': 'David Goffin'}},\n",
      " {'fields': {'%1st Serve Return Points Won': 29.5,\n",
      "             '%1stServePointsWon': 69.4,\n",
      "             '%2nd Serve Return Points Won': 47.8,\n",
      "             '%2ndServePointsWon': 48.6,\n",
      "             '%AvgWinLoss': 37.5,\n",
      "             '%Breaks Points Converted': 42.4,\n",
      "             '%BreaksPointsSaved': 56.9,\n",
      "             '%Return Games Won': 20.4,\n",
      "             '%ServiceGamesWon': 74.3,\n",
      "             '%TieBreaks Won': 44.4,\n",
      "             'Player': 'Aslan Karatsev'}},\n",
      " {'fields': {'%1st Serve Return Points Won': 31.2,\n",
      "             '%1stServePointsWon': 66.6,\n",
      "             '%2nd Serve Return Points Won': 48.2,\n",
      "             '%2ndServePointsWon': 48.5,\n",
      "             '%AvgWinLoss': 50.0,\n",
      "             '%Breaks Points Converted': 37.9,\n",
      "             '%BreaksPointsSaved': 59.2,\n",
      "             '%Return Games Won': 24.2,\n",
      "             '%ServiceGamesWon': 71.9,\n",
      "             '%TieBreaks Won': 45.5,\n",
      "             'Player': 'Cristian Garin'}},\n",
      " {'fields': {'%1st Serve Return Points Won': 28.8,\n",
      "             '%1stServePointsWon': 63.7,\n",
      "             '%2nd Serve Return Points Won': 51.3,\n",
      "             '%2ndServePointsWon': 50.2,\n",
      "             '%AvgWinLoss': 36.399998,\n",
      "             '%Breaks Points Converted': 36.0,\n",
      "             '%BreaksPointsSaved': 59.1,\n",
      "             '%Return Games Won': 21.9,\n",
      "             '%ServiceGamesWon': 70.6,\n",
      "             '%TieBreaks Won': 38.9,\n",
      "             'Player': 'Pedro Martinez'}},\n",
      " {'fields': {'%1st Serve Return Points Won': 29.9,\n",
      "             '%1stServePointsWon': 67.2,\n",
      "             '%2nd Serve Return Points Won': 48.2,\n",
      "             '%2ndServePointsWon': 47.2,\n",
      "             '%AvgWinLoss': 20.0,\n",
      "             '%Breaks Points Converted': 34.6,\n",
      "             '%BreaksPointsSaved': 56.0,\n",
      "             '%Return Games Won': 19.8,\n",
      "             '%ServiceGamesWon': 71.5,\n",
      "             '%TieBreaks Won': 26.7,\n",
      "             'Player': 'Joao Sousa'}},\n",
      " {'fields': {'%1st Serve Return Points Won': 34.1,\n",
      "             '%1stServePointsWon': 63.1,\n",
      "             '%2nd Serve Return Points Won': 50.8,\n",
      "             '%2ndServePointsWon': 48.9,\n",
      "             '%AvgWinLoss': 36.399998,\n",
      "             '%Breaks Points Converted': 43.6,\n",
      "             '%BreaksPointsSaved': 52.5,\n",
      "             '%Return Games Won': 28.3,\n",
      "             '%ServiceGamesWon': 67.8,\n",
      "             '%TieBreaks Won': 22.2,\n",
      "             'Player': 'Federico Coria'}},\n",
      " {'fields': {'%1st Serve Return Points Won': 33.8,\n",
      "             '%1stServePointsWon': 66.9,\n",
      "             '%2nd Serve Return Points Won': 47.7,\n",
      "             '%2ndServePointsWon': 44.6,\n",
      "             '%AvgWinLoss': 36.399998,\n",
      "             '%Breaks Points Converted': 41.5,\n",
      "             '%BreaksPointsSaved': 54.7,\n",
      "             '%Return Games Won': 25.4,\n",
      "             '%ServiceGamesWon': 69.3,\n",
      "             '%TieBreaks Won': 33.3,\n",
      "             'Player': 'Jaume Munar'}},\n",
      " {'fields': {'%1st Serve Return Points Won': 34.2,\n",
      "             '%1stServePointsWon': 63.5,\n",
      "             '%2nd Serve Return Points Won': 52.3,\n",
      "             '%2ndServePointsWon': 48.0,\n",
      "             '%AvgWinLoss': 53.8,\n",
      "             '%Breaks Points Converted': 47.8,\n",
      "             '%BreaksPointsSaved': 52.8,\n",
      "             '%Return Games Won': 31.0,\n",
      "             '%ServiceGamesWon': 67.9,\n",
      "             '%TieBreaks Won': 10.0,\n",
      "             'Player': 'Bernabe Zapata Miralles'}},\n",
      " {'fields': {'%1st Serve Return Points Won': 33.2,\n",
      "             '%1stServePointsWon': 61.8,\n",
      "             '%2nd Serve Return Points Won': 52.4,\n",
      "             '%2ndServePointsWon': 47.7,\n",
      "             '%AvgWinLoss': 22.2,\n",
      "             '%Breaks Points Converted': 41.8,\n",
      "             '%BreaksPointsSaved': 58.7,\n",
      "             '%Return Games Won': 27.7,\n",
      "             '%ServiceGamesWon': 67.5,\n",
      "             '%TieBreaks Won': 36.8,\n",
      "             'Player': 'Diego Schwartzman'}}]\n"
     ],
     "output_type":"stream"
    }
   ],
   "metadata":{
    "datalore":{
     "node_id":"AIlAWE7eJ4lfyS7E0doTAr",
     "type":"CODE",
     "hide_input_from_viewers":true,
     "hide_output_from_viewers":true
    }
   }
  },
  {
   "cell_type":"markdown",
   "source":[
    "# AIRTABLE"
   ],
   "attachments":{
    
   },
   "metadata":{
    "datalore":{
     "node_id":"1LJU7dsEJg04uHEpNUykVI",
     "type":"MD",
     "hide_input_from_viewers":true,
     "hide_output_from_viewers":true
    }
   }
  },
  {
   "cell_type":"code",
   "source":[
    "## Aquí subimos el CSV de \"Jugadores_Stats\" al AirTable\n",
    "\n",
    "import pandas as pd\n",
    "import requests\n",
    "from time import sleep\n",
    "\n",
    "api_key = 'keyYi4pqtDY1i4WKF'\n",
    "base_id = 'appsQqpaUzcR1S1Fh'\n",
    "table_id = 'tblf65891zddbPvVq'  # Reemplaza los espacios con %20 para la URL\n",
    "files = ['jugadores_stats.csv']\n",
    "\n",
    "headers = {\"Authorization\": f\"Bearer {api_key}\",\n",
    "           \"Content-Type\" : \"application\/json\"}\n",
    "\n",
    "def subir_datos_a_airtable(files, base_id, table_id, headers):\n",
    "\n",
    "    endpoint = f\"https:\/\/api.airtable.com\/v0\/{base_id}\/{table_id}\"\n",
    "\n",
    "    for file_name in files:\n",
    "\n",
    "        df = pd.read_csv('data\/' + file_name)\n",
    "\n",
    "        datos_json = [{\"fields\" : df.iloc[i, :].to_dict()} for i in range(df.shape[0])]\n",
    "\n",
    "        # Divide los registros en lotes y los sube a Airtable\n",
    "        batch_size = 10\n",
    "        \n",
    "        for i in range(0, df.shape[0], batch_size):\n",
    "    \n",
    "            data = {\"records\" : datos_json[i : i + batch_size]}\n",
    "            \n",
    "            response = requests.post(url = endpoint, json = data, headers = headers) # POST\n",
    "\n",
    "            print(response.status_code)  # Comprobamos que está correcto. Si sale 200 \n",
    "            \n",
    "            sleep(0.5)\n",
    "\n",
    "\n",
    "# Llama a la función para subir los datos a Airtable\n",
    "subir_datos_a_airtable(files = files, base_id = base_id, table_id = table_id, headers = headers)\n",
    "\n",
    "\n",
    "\n"
   ],
   "execution_count":108,
   "outputs":[
    {
     "name":"stdout",
     "text":[
      "200\n",
      "200\n",
      "200\n",
      "200\n",
      "200\n",
      "200\n",
      "200\n"
     ],
     "output_type":"stream"
    }
   ],
   "metadata":{
    "datalore":{
     "node_id":"23T4MgOpkNX2u9vIozOUaj",
     "type":"CODE",
     "hide_input_from_viewers":true,
     "hide_output_from_viewers":true
    }
   }
  },
  {
   "cell_type":"code",
   "source":[
    "## Con este código conseguimos descargar los datos de cien en cien de Airtable y posteriormente unirlos y convertirlos a DataFrame\n",
    "\n",
    "params = {\"offset\" : None}\n",
    "\n",
    "df_airtable = pd.DataFrame()\n",
    "\n",
    "endpoint = f\"https:\/\/api.airtable.com\/v0\/{base_id}\/{table_id}\"\n",
    "\n",
    "while params.get(\"offset\") != None or df_airtable.shape[0] == 0:\n",
    "    \n",
    "    response = requests.get(url = endpoint, headers = headers, params = params)\n",
    "    \n",
    "    print(response.url)\n",
    "    \n",
    "    print(f\"response: {response.status_code}\") # Comprobamos que está todo correcto. Si sale 200.\n",
    "    \n",
    "    params[\"offset\"] = response.json().get(\"offset\")\n",
    "    \n",
    "    print(params.get(\"offset\"))\n",
    "    \n",
    "    df_airtable = pd.concat([df_airtable, pd.json_normalize(response.json()[\"records\"])], ignore_index = True)\n",
    "    \n",
    "    sleep(0.5)\n",
    "    \n",
    "df_airtable.shape[0]"
   ],
   "execution_count":109,
   "outputs":[
    {
     "name":"stdout",
     "text":[
      "https:\/\/api.airtable.com\/v0\/appsQqpaUzcR1S1Fh\/tblf65891zddbPvVq\n",
      "response: 200\n",
      "itr3yOO3ADCB0lXMu\/recjKu2MTt8y3sa2M\n",
      "https:\/\/api.airtable.com\/v0\/appsQqpaUzcR1S1Fh\/tblf65891zddbPvVq?offset=itr3yOO3ADCB0lXMu%2FrecjKu2MTt8y3sa2M\n",
      "response: 200\n",
      "None\n"
     ],
     "output_type":"stream"
    },
    {
     "data":{
      "text\/plain":[
       "136"
      ]
     },
     "metadata":{
      
     },
     "output_type":"display_data"
    }
   ],
   "metadata":{
    "datalore":{
     "node_id":"Oe3tUj1iNk9M1YFAR5UfcH",
     "type":"CODE",
     "hide_input_from_viewers":true,
     "hide_output_from_viewers":true
    }
   }
  },
  {
   "cell_type":"code",
   "source":[
    "## Aquí lo convertimos a DataFrame\n",
    "\n",
    "df_airtable.columns = [x.split(\".\")[1] if \".\" in x else x for x in df_airtable.columns]\n",
    "\n",
    "df_airtable"
   ],
   "execution_count":110,
   "outputs":[
    {
     "data":{
      "text\/html":[
       "<div>\n",
       "<style scoped>\n",
       "    .dataframe tbody tr th:only-of-type {\n",
       "        vertical-align: middle;\n",
       "    }\n",
       "\n",
       "    .dataframe tbody tr th {\n",
       "        vertical-align: top;\n",
       "    }\n",
       "\n",
       "    .dataframe thead th {\n",
       "        text-align: right;\n",
       "    }\n",
       "<\/style>\n",
       "<table border=\"1\" class=\"dataframe\">\n",
       "  <thead>\n",
       "    <tr style=\"text-align: right;\">\n",
       "      <th><\/th>\n",
       "      <th>id<\/th>\n",
       "      <th>createdTime<\/th>\n",
       "      <th>Player<\/th>\n",
       "      <th>%1stServePointsWon<\/th>\n",
       "      <th>%2ndServePointsWon<\/th>\n",
       "      <th>%ServiceGamesWon<\/th>\n",
       "      <th>%1st Serve Return Points Won<\/th>\n",
       "      <th>%Return Games Won<\/th>\n",
       "      <th>%Breaks Points Converted<\/th>\n",
       "      <th>%BreaksPointsSaved<\/th>\n",
       "      <th>%TieBreaks Won<\/th>\n",
       "      <th>%AvgWinLoss<\/th>\n",
       "      <th>%2nd Serve Return Points Won<\/th>\n",
       "    <\/tr>\n",
       "  <\/thead>\n",
       "  <tbody>\n",
       "    <tr>\n",
       "      <th>0<\/th>\n",
       "      <td>rec0AvOBbLtrxxbZr<\/td>\n",
       "      <td>2023-04-09T10:00:30.000Z<\/td>\n",
       "      <td>Diego Schwartzman<\/td>\n",
       "      <td>61.8<\/td>\n",
       "      <td>47.7<\/td>\n",
       "      <td>67.5<\/td>\n",
       "      <td>33.2<\/td>\n",
       "      <td>27.7<\/td>\n",
       "      <td>41.8<\/td>\n",
       "      <td>58.7<\/td>\n",
       "      <td>36.8<\/td>\n",
       "      <td>22.200000<\/td>\n",
       "      <td>52.4<\/td>\n",
       "    <\/tr>\n",
       "    <tr>\n",
       "      <th>1<\/th>\n",
       "      <td>rec0NJMUmdocIXwgv<\/td>\n",
       "      <td>2023-04-09T09:51:00.000Z<\/td>\n",
       "      <td>Holger Rune<\/td>\n",
       "      <td>72.6<\/td>\n",
       "      <td>55.1<\/td>\n",
       "      <td>85.1<\/td>\n",
       "      <td>29.6<\/td>\n",
       "      <td>23.1<\/td>\n",
       "      <td>40.9<\/td>\n",
       "      <td>65.9<\/td>\n",
       "      <td>63.6<\/td>\n",
       "      <td>66.700000<\/td>\n",
       "      <td>50.7<\/td>\n",
       "    <\/tr>\n",
       "    <tr>\n",
       "      <th>2<\/th>\n",
       "      <td>rec1FhhjDw2b8jUSM<\/td>\n",
       "      <td>2023-04-09T09:51:01.000Z<\/td>\n",
       "      <td>Adrian Mannarino<\/td>\n",
       "      <td>71.4<\/td>\n",
       "      <td>55.7<\/td>\n",
       "      <td>80.8<\/td>\n",
       "      <td>28.0<\/td>\n",
       "      <td>20.4<\/td>\n",
       "      <td>37.7<\/td>\n",
       "      <td>54.7<\/td>\n",
       "      <td>50.0<\/td>\n",
       "      <td>56.300003<\/td>\n",
       "      <td>50.8<\/td>\n",
       "    <\/tr>\n",
       "    <tr>\n",
       "      <th>3<\/th>\n",
       "      <td>rec1iXnLhXKD8Wn6l<\/td>\n",
       "      <td>2023-04-09T10:00:26.000Z<\/td>\n",
       "      <td>Laslo Djere<\/td>\n",
       "      <td>72.6<\/td>\n",
       "      <td>51.2<\/td>\n",
       "      <td>81.8<\/td>\n",
       "      <td>27.2<\/td>\n",
       "      <td>21.0<\/td>\n",
       "      <td>40.1<\/td>\n",
       "      <td>65.7<\/td>\n",
       "      <td>29.6<\/td>\n",
       "      <td>56.300003<\/td>\n",
       "      <td>48.0<\/td>\n",
       "    <\/tr>\n",
       "    <tr>\n",
       "      <th>4<\/th>\n",
       "      <td>rec1jQHk7qb2Om2kW<\/td>\n",
       "      <td>2023-04-09T10:00:24.000Z<\/td>\n",
       "      <td>Daniil Medvedev<\/td>\n",
       "      <td>75.4<\/td>\n",
       "      <td>51.4<\/td>\n",
       "      <td>86.0<\/td>\n",
       "      <td>32.8<\/td>\n",
       "      <td>30.6<\/td>\n",
       "      <td>46.0<\/td>\n",
       "      <td>68.5<\/td>\n",
       "      <td>56.0<\/td>\n",
       "      <td>88.900000<\/td>\n",
       "      <td>55.2<\/td>\n",
       "    <\/tr>\n",
       "    <tr>\n",
       "      <th>...<\/th>\n",
       "      <td>...<\/td>\n",
       "      <td>...<\/td>\n",
       "      <td>...<\/td>\n",
       "      <td>...<\/td>\n",
       "      <td>...<\/td>\n",
       "      <td>...<\/td>\n",
       "      <td>...<\/td>\n",
       "      <td>...<\/td>\n",
       "      <td>...<\/td>\n",
       "      <td>...<\/td>\n",
       "      <td>...<\/td>\n",
       "      <td>...<\/td>\n",
       "      <td>...<\/td>\n",
       "    <\/tr>\n",
       "    <tr>\n",
       "      <th>131<\/th>\n",
       "      <td>recxPv190Vv7a6uf7<\/td>\n",
       "      <td>2023-04-09T10:00:23.000Z<\/td>\n",
       "      <td>Matteo Berrettini<\/td>\n",
       "      <td>79.6<\/td>\n",
       "      <td>52.0<\/td>\n",
       "      <td>88.5<\/td>\n",
       "      <td>29.5<\/td>\n",
       "      <td>18.8<\/td>\n",
       "      <td>35.8<\/td>\n",
       "      <td>67.1<\/td>\n",
       "      <td>50.0<\/td>\n",
       "      <td>50.000000<\/td>\n",
       "      <td>45.7<\/td>\n",
       "    <\/tr>\n",
       "    <tr>\n",
       "      <th>132<\/th>\n",
       "      <td>recyyZwam6zxFDKVD<\/td>\n",
       "      <td>2023-04-09T09:51:04.000Z<\/td>\n",
       "      <td>Alex De Minaur<\/td>\n",
       "      <td>69.7<\/td>\n",
       "      <td>50.8<\/td>\n",
       "      <td>77.6<\/td>\n",
       "      <td>33.7<\/td>\n",
       "      <td>29.4<\/td>\n",
       "      <td>43.3<\/td>\n",
       "      <td>61.3<\/td>\n",
       "      <td>52.6<\/td>\n",
       "      <td>70.600000<\/td>\n",
       "      <td>53.0<\/td>\n",
       "    <\/tr>\n",
       "    <tr>\n",
       "      <th>133<\/th>\n",
       "      <td>reczMaEhJWpquRbps<\/td>\n",
       "      <td>2023-04-09T09:51:05.000Z<\/td>\n",
       "      <td>Joao Sousa<\/td>\n",
       "      <td>67.2<\/td>\n",
       "      <td>47.2<\/td>\n",
       "      <td>71.5<\/td>\n",
       "      <td>29.9<\/td>\n",
       "      <td>19.8<\/td>\n",
       "      <td>34.6<\/td>\n",
       "      <td>56.0<\/td>\n",
       "      <td>26.7<\/td>\n",
       "      <td>20.000000<\/td>\n",
       "      <td>48.2<\/td>\n",
       "    <\/tr>\n",
       "    <tr>\n",
       "      <th>134<\/th>\n",
       "      <td>reczMfr5ABjcZIlvV<\/td>\n",
       "      <td>2023-04-09T09:51:04.000Z<\/td>\n",
       "      <td>Richard Gasquet<\/td>\n",
       "      <td>71.3<\/td>\n",
       "      <td>50.7<\/td>\n",
       "      <td>78.0<\/td>\n",
       "      <td>28.7<\/td>\n",
       "      <td>22.8<\/td>\n",
       "      <td>40.2<\/td>\n",
       "      <td>60.3<\/td>\n",
       "      <td>50.0<\/td>\n",
       "      <td>53.800000<\/td>\n",
       "      <td>51.1<\/td>\n",
       "    <\/tr>\n",
       "    <tr>\n",
       "      <th>135<\/th>\n",
       "      <td>reczavJTickiKixT2<\/td>\n",
       "      <td>2023-04-09T10:00:28.000Z<\/td>\n",
       "      <td>Dusan Lajovic<\/td>\n",
       "      <td>65.9<\/td>\n",
       "      <td>50.7<\/td>\n",
       "      <td>73.6<\/td>\n",
       "      <td>29.7<\/td>\n",
       "      <td>21.1<\/td>\n",
       "      <td>35.8<\/td>\n",
       "      <td>58.2<\/td>\n",
       "      <td>58.3<\/td>\n",
       "      <td>58.300000<\/td>\n",
       "      <td>49.8<\/td>\n",
       "    <\/tr>\n",
       "  <\/tbody>\n",
       "<\/table>\n",
       "<p>136 rows × 13 columns<\/p>\n",
       "<\/div>"
      ]
     },
     "metadata":{
      
     },
     "output_type":"display_data"
    }
   ],
   "metadata":{
    "datalore":{
     "node_id":"ydNC7tn72Mo21qXMlgIPwt",
     "type":"CODE",
     "hide_input_from_viewers":true,
     "hide_output_from_viewers":true
    }
   }
  }
 ],
 "metadata":{
  "kernelspec":{
   "display_name":"Python",
   "language":"python",
   "name":"python"
  },
  "datalore":{
   "computation_mode":"REACTIVE",
   "package_manager":"pip",
   "base_environment":"default",
   "packages":[
    {
     "name":"folium",
     "source":"PIP"
    },
    {
     "name":"plotly-express",
     "source":"PIP"
    },
    {
     "name":"goo",
     "source":"PIP"
    },
    {
     "name":"airtable",
     "source":"PIP"
    },
    {
     "name":"mlx.warnings",
     "source":"PIP"
    },
    {
     "name":"warnings-plugin",
     "source":"PIP"
    },
    {
     "name":"jupyter-dash",
     "source":"PIP"
    }
   ],
   "report_row_ids":[
    "DFflCFQtXb7ay7TV179h8A",
    "K4eRAYu7YYvO860BS0soXJ",
    "caYZDtezvz9OzzVoCAd1BK",
    "OyrWR8qznoxvNvKlIDoOLF",
    "D0T21rw2NHNa5c0pFrUuw4",
    "t3oNNTYo7byINUPi4ags1u",
    "S6VpapV4dEIrT7tYkKHJut",
    "L2qtSERZOGODqvpOhA5ndy",
    "n5hkjzslL9l1gaSG17syZP",
    "GHVW55oaKux9gL3c7aN3AY",
    "N8muKZzdxXuGTwt69UZhOB",
    "nBFuoUH0Ud6ES0DxSmfzFz",
    "IoUNqV9VOmx8Zam6SzrvxS",
    "XZPR3233FuGNRv4gPr9ILt",
    "wNJnpm0cQ3KhzyK1demfKM",
    "Uk1WDQREUZZtFNBtnLns57",
    "z4K02Cb9oYayr3jac8RCKh",
    "X3kYuKoc54B5yH71zODeAa",
    "HaW2co9gZ8MlIIH6ElA9tU",
    "rFMv0cdoC7Htbvlbf01clk",
    "fCbZa6HepdcUScsycFtlfx",
    "rBUUkvk8irKxP8aRwamsUD",
    "Saaag6LfO6lJASrdpHJU7X",
    "HKQhcLdQ6kz7hoOIBcsOGN",
    "Nxncmbh36LaY9IoFdOl0du",
    "qySXcRGhw2ft1LT2QvokgD",
    "jHYWUl0eXQL3D6PCUjxlLM",
    "pmcUI0rMo9peocwLU0l5Qh",
    "8KIik5A0wIowobWdBC5ZGI",
    "32wffgPXMVuM4vdpN3StCq",
    "RubKzexScxmAVWoGGZI8da",
    "798SJfomKnnSAKDBwzyOQo",
    "FaDGIvqKrEwfWMtkrsWnTg",
    "S6zJ70PaAwAZ7bDbSMWYz0",
    "CViMfPuLtNRCngAaJRtuam",
    "0tpfjHZMcgKOTRYzB3GU3i",
    "gJdTjHjS64gCzFaVrv99UF",
    "FTGpdXox9r0qY0HA4FqeN4",
    "XpD8AALX4tFDrCDQg38nW3",
    "VqeMTKypnLskxgknHiDnGN",
    "TVPkEx4S0sd3Kqiii6lI4A",
    "Mdxm6kW5e9aqBuuHyxNTDe",
    "7yKt12NoPoruLgspgDU6Kt",
    "kVcaJw19oBME2Dttsgp8mR",
    "CijAGA9wP0Bn01XLNf201J",
    "XnzZMGw3BEI4uDhuuhpN0M",
    "ejkMGkOoSUcZMdSWObiOIh",
    "V5LYZeBwkv8k4jGodgMM2V",
    "chvKG5KHTf59IDx4XULN1O",
    "vyL5ZvUg7p6xMuqkaJt6Cf",
    "XoqeyErdmDLEKhkmbin5Q6",
    "HQ71vUZheVrA7DCUdSYdmK",
    "eVqNHcUGGiHQVE88fVfiD7",
    "oQ5aNaN9jtgzldTEwR5lLS",
    "jmy6lY2H2NpJO52yxDJAaS",
    "LJ0qZcBbwUtRajyn2FTUaJ",
    "tPXziQ9hh9sy0ThvupNLfE",
    "dNGSLtI514kYMmdFlaW3Bz",
    "H3UkuZwCh6UglGCrcQFSFH",
    "ND8NqhLvUCx1UyMZkjH0AW",
    "dyFGTCEfNnWatIR5Ji0W0A",
    "kMJVWJCMbcKmTSQ35CpcEU",
    "oJ5kTgSWj4Ycgq2HnBP8tS",
    "yvCLscyzfbN51hJuy1PHnX",
    "zuIJqaMD7fcaKvZIDawteM",
    "Uo9zUsMCSQHWphs9CnypT8",
    "BzT7MhktcQICaAMvww7kBY",
    "AYobaahaQAAlpg7EJ9liCj",
    "KKz7QFzeHX8IsYkUiPJafP",
    "UiEtf8Z1gApg1yxLTf2vFz",
    "aHNh7n6EdPD47dIEEt9ayV",
    "FOXXK64zfEinMU7dEHXqoJ",
    "q5tPsnNAdoOuxf196Ka2BF",
    "itcOiiR0ErMWVvkQBTz1qu",
    "spAU1i0zXlfmNK8s1cWXln",
    "oMooZ8UfhP1rlAA6rraJOr",
    "0qK4fvRDarXtlz4FwKnoGy",
    "0pbaGSVKUhYPVnYKMIqCvH",
    "0RAOJ4Kd9QhrgsjlTwYvXq",
    "NG8qgFhLbr5ONIYoo7Pq1A",
    "2GPoauDGcahc40xCfPtA0A",
    "1p5duUYPygmefZwSVavLX8",
    "zdc1R4oJCu8avYPVRGS9UM",
    "Ql6PjQHMrWW5O8Nf376Tdh",
    "mPoOx4etmZloX8O8tdiDUc",
    "s7OIoPlGMsjVVn66K2bzM0",
    "Kc6mxHmRLXom1ootWDgklG",
    "ZpmvOUV59ZMJyr837vsQfm",
    "wTqeEp8DpxeShxR9yiB2dp",
    "wLgsfaG9z4w1vgezTkQZ3e",
    "StKlp40U24KzoJB1BIBf1e",
    "PmzMmX0zaiogpTaSphw4kX",
    "6oLqKZXNiPtwpA5jmncRCZ",
    "LYZ3txDAFcLe35o3KHgdAa",
    "OqPp4iW4rpg0NdVMM4ZJQW",
    "x2JdMpEA79YYQTPVvqE0lf",
    "r5iTOTSTkPxdDLa6m4qC0Q",
    "YBrncujO9nKPjV1n6qM8Qr",
    "O3QouaybYLUnELiCHXyJNz",
    "ASmo6dP0utcimBubCPgFzr",
    "GJnOJusl8106qKWu7G7wdP",
    "j3Z1z6d8GNSW3iLOE6NgR8",
    "cUvfDYWAskdVCxD2mhxdT6",
    "6VMDKfO9MzuWCxTUPMs6vi",
    "DyaocpJkdIvUVvogf1sb9b",
    "oisJBKJBLqMe3WTAF3EnWL",
    "n0e861NO5RRwRtjJTP4TmG",
    "GjIyGvd9YfAjAjdSuLszSQ",
    "yrllXOdGDNbF1H7YfLt44K",
    "izlOecmnzCxCUZDaNFdf6s",
    "tUALE8Zj4eqD9KjWO61L9D",
    "G61nwiAJCTytIsel6mCuTx",
    "IdXEvUxyOgdSFlYO3ph7Jj",
    "Gj4MVxLFyWuC943eAM1zIT",
    "dIfQCR9ZNMhL5smmhAUZaL",
    "ZFf0jFZTfldQyyrW6Src2c",
    "g5ozFTwx6gQ6vIBCq2yRTL",
    "LQlbJ0Kac6ZShooUJGYnaw",
    "LPyJvnfYXyQUb6n5hgdQn7",
    "takaoAHT4cSaPG62caWwnN",
    "yMgcx0HAcoabDWeKP7y7zI"
   ],
   "version":2
  }
 },
 "nbformat":4,
 "nbformat_minor":4
}